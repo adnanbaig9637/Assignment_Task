{
 "cells": [
  {
   "cell_type": "markdown",
   "id": "89ffda57",
   "metadata": {},
   "source": [
    "1. Write a function called \"add_numbers\" that takes two integers as input and returns their sum.\n",
    "\n",
    "2. Write a function called \"multiply_numbers\" that takes two integers as input and returns their product.\n",
    "\n",
    "3. Write a function called \"calculate_average\" that takes a list of numbers as input and returns the average of thosenumbers.\n",
    "\n",
    "4. Write a function called \"is_even\" that takes an integer as input and returns True if the number is even, and False otherwise.\n",
    "\n",
    "5. Write a function called \"reverse_string\" that takes a string as input and returns the reverse of that string.\n",
    "\n",
    "6. Write a function called \"count_vowels\" that takes a string as input and returns the number of vowels (a, e, i, o, u) in that string.\n",
    "\n",
    "7. Write a function called \"find_max\" that takes a list of numbers as input and returns the maximum value in that list.\n",
    "\n",
    "8. Write a function called \"find_min\" that takes a list of numbers as input and returns the minimum value in that list."
   ]
  },
  {
   "cell_type": "markdown",
   "id": "e71b4aed",
   "metadata": {},
   "source": [
    "1. Write a function called \"add_numbers\" that takes two integers as input and returns their sum."
   ]
  },
  {
   "cell_type": "code",
   "execution_count": 1,
   "id": "98649b86",
   "metadata": {},
   "outputs": [],
   "source": [
    "def add_numbers(a,b):\n",
    "    print(a+b)"
   ]
  },
  {
   "cell_type": "code",
   "execution_count": 2,
   "id": "8acb0584",
   "metadata": {},
   "outputs": [
    {
     "name": "stdout",
     "output_type": "stream",
     "text": [
      "Enter a value : 50\n",
      "Enter b value : 30\n",
      "80\n"
     ]
    }
   ],
   "source": [
    "a = int(input(\"Enter a value : \"))\n",
    "b = int(input(\"Enter b value : \"))\n",
    "add_numbers(a,b)"
   ]
  },
  {
   "cell_type": "markdown",
   "id": "e305754f",
   "metadata": {},
   "source": [
    "2. Write a function called \"multiply_numbers\" that takes two integers as input and returns their product."
   ]
  },
  {
   "cell_type": "code",
   "execution_count": 3,
   "id": "0ed56365",
   "metadata": {},
   "outputs": [],
   "source": [
    "def multiply_numbers(x,y):\n",
    "    print(x*y)"
   ]
  },
  {
   "cell_type": "code",
   "execution_count": 4,
   "id": "9293d26c",
   "metadata": {},
   "outputs": [
    {
     "name": "stdout",
     "output_type": "stream",
     "text": [
      "Enter a value : 20\n",
      "Enter b value : 3\n",
      "60\n"
     ]
    }
   ],
   "source": [
    "x = int(input(\"Enter a value : \"))\n",
    "y = int(input(\"Enter b value : \"))\n",
    "multiply_numbers(x,y)"
   ]
  },
  {
   "cell_type": "markdown",
   "id": "c3e851ee",
   "metadata": {},
   "source": [
    "3. Write a function called \"calculate_average\" that takes a list of numbers as input and returns the average of thosenumbers."
   ]
  },
  {
   "cell_type": "code",
   "execution_count": 28,
   "id": "717b3f5f",
   "metadata": {},
   "outputs": [
    {
     "name": "stdout",
     "output_type": "stream",
     "text": [
      "30.0\n"
     ]
    }
   ],
   "source": [
    "listt = [10,20,30,40,50]\n",
    "def calculate_average(x,y):\n",
    "    print(x/y)\n",
    "calculate_average(x = sum(listt),y = len(listt))"
   ]
  },
  {
   "cell_type": "markdown",
   "id": "2fa16822",
   "metadata": {},
   "source": [
    "4. Write a function called \"is_even\" that takes an integer as input and returns True if the number is even, and False otherwise."
   ]
  },
  {
   "cell_type": "code",
   "execution_count": 6,
   "id": "3e09e2ff",
   "metadata": {},
   "outputs": [],
   "source": [
    "def is_even(a):\n",
    "    if a%2==0 :\n",
    "        print(True)\n",
    "    else:\n",
    "        print(False)"
   ]
  },
  {
   "cell_type": "code",
   "execution_count": 9,
   "id": "fa22d9f9",
   "metadata": {},
   "outputs": [
    {
     "name": "stdout",
     "output_type": "stream",
     "text": [
      "Enter a number : 10\n",
      "True\n"
     ]
    }
   ],
   "source": [
    "a = int(input(\"Enter a number : \"))\n",
    "is_even(a)"
   ]
  },
  {
   "cell_type": "markdown",
   "id": "1c9cde55",
   "metadata": {},
   "source": [
    "5. Write a function called \"reverse_string\" that takes a string as input and returns the reverse of that string."
   ]
  },
  {
   "cell_type": "code",
   "execution_count": 3,
   "id": "f51f62b0",
   "metadata": {},
   "outputs": [],
   "source": [
    "def reverse_string(string):\n",
    "    for i in range(-1,-len(string)-1,-1):\n",
    "        print(string[i])"
   ]
  },
  {
   "cell_type": "code",
   "execution_count": 4,
   "id": "1818a99a",
   "metadata": {},
   "outputs": [
    {
     "name": "stdout",
     "output_type": "stream",
     "text": [
      "Enter a string : Innomatics Research Labs\n",
      "s\n",
      "b\n",
      "a\n",
      "L\n",
      " \n",
      "h\n",
      "c\n",
      "r\n",
      "a\n",
      "e\n",
      "s\n",
      "e\n",
      "R\n",
      " \n",
      "s\n",
      "c\n",
      "i\n",
      "t\n",
      "a\n",
      "m\n",
      "o\n",
      "n\n",
      "n\n",
      "I\n"
     ]
    }
   ],
   "source": [
    "string = input(\"Enter a string : \")\n",
    "reverse_string(string)"
   ]
  },
  {
   "cell_type": "code",
   "execution_count": 5,
   "id": "dd0d240c",
   "metadata": {},
   "outputs": [],
   "source": [
    "def reverse_string(string):\n",
    "    print(string[-1::-1])"
   ]
  },
  {
   "cell_type": "code",
   "execution_count": 6,
   "id": "fe0d0af6",
   "metadata": {},
   "outputs": [
    {
     "name": "stdout",
     "output_type": "stream",
     "text": [
      "Enter a string : adnan baig\n",
      "giab nanda\n"
     ]
    }
   ],
   "source": [
    "string = input(\"Enter a string : \")\n",
    "reverse_string(string)"
   ]
  },
  {
   "cell_type": "markdown",
   "id": "a93d52df",
   "metadata": {},
   "source": [
    "6. Write a function called \"count_vowels\" that takes a string as input and returns the number of vowels (a, e, i, o, u) in that string."
   ]
  },
  {
   "cell_type": "code",
   "execution_count": 22,
   "id": "47acb0b1",
   "metadata": {},
   "outputs": [],
   "source": [
    "def count_vowels(string):\n",
    "    \n",
    "    vowels = \"a\",\"e\",\"i\",\"o\",\"u\"\n",
    "    vo = 0\n",
    "    while string:\n",
    "        for i in string:\n",
    "            if i in vowels:\n",
    "                vo = vo+1\n",
    "            elif string == \" \":\n",
    "                continue\n",
    "\n",
    "        string = False\n",
    "    print(vo)"
   ]
  },
  {
   "cell_type": "code",
   "execution_count": 23,
   "id": "4f26a767",
   "metadata": {},
   "outputs": [
    {
     "name": "stdout",
     "output_type": "stream",
     "text": [
      "Enter any string : innomatics research labs\n",
      "8\n"
     ]
    }
   ],
   "source": [
    "string = input(\"Enter any string : \")\n",
    "count_vowels(string)"
   ]
  },
  {
   "cell_type": "markdown",
   "id": "8925a4a9",
   "metadata": {},
   "source": [
    "7. Write a function called \"find_max\" that takes a list of numbers as input and returns the maximum value in that list."
   ]
  },
  {
   "cell_type": "code",
   "execution_count": 18,
   "id": "0f0875ca",
   "metadata": {},
   "outputs": [],
   "source": [
    "def find_max(x):\n",
    "    print(\"Maximum number is : \",max(x) )"
   ]
  },
  {
   "cell_type": "code",
   "execution_count": 19,
   "id": "0fc46b87",
   "metadata": {},
   "outputs": [
    {
     "name": "stdout",
     "output_type": "stream",
     "text": [
      "Maximum number is :  90\n"
     ]
    }
   ],
   "source": [
    "x = [20,30,55,60,85,90]\n",
    "find_max(x)"
   ]
  },
  {
   "cell_type": "markdown",
   "id": "a6b5fd7d",
   "metadata": {},
   "source": [
    "8. Write a function called \"find_min\" that takes a list of numbers as input and returns the minimum value in that list."
   ]
  },
  {
   "cell_type": "code",
   "execution_count": 21,
   "id": "ce73c2a4",
   "metadata": {},
   "outputs": [
    {
     "name": "stdout",
     "output_type": "stream",
     "text": [
      "minimum number is:   20\n"
     ]
    }
   ],
   "source": [
    "def find_min(x):\n",
    "    print(\"minimum number is:  \", min(x))\n",
    "x = [20,30,55,60,85,90]\n",
    "find_min(x)"
   ]
  },
  {
   "cell_type": "code",
   "execution_count": null,
   "id": "152abc96",
   "metadata": {},
   "outputs": [],
   "source": []
  }
 ],
 "metadata": {
  "kernelspec": {
   "display_name": "Python 3 (ipykernel)",
   "language": "python",
   "name": "python3"
  },
  "language_info": {
   "codemirror_mode": {
    "name": "ipython",
    "version": 3
   },
   "file_extension": ".py",
   "mimetype": "text/x-python",
   "name": "python",
   "nbconvert_exporter": "python",
   "pygments_lexer": "ipython3",
   "version": "3.11.4"
  }
 },
 "nbformat": 4,
 "nbformat_minor": 5
}
