{
 "cells": [
  {
   "cell_type": "markdown",
   "id": "fd99fb02",
   "metadata": {},
   "source": [
    "**Task 1**:\n",
    "1. Load the file 'about_python.txt'into your jupyter notebook.\n",
    "    a. Correct wrong statements about python fatures\n",
    "    b. How many charactaers present in the data\n",
    "    c. How many times 'Python' word is repeated.\n",
    "    d. after correcting all ..print complete valid features of the python.\n",
    "    \n",
    "**Task2**:\n",
    "\n",
    "2. Create a file 'File.txt'which expalains python file handling whatever you have learnt today(creating,reading,wring and appending...etc) in detail.That reaload the saved file(i.e File.txt) to jupyter notebook."
   ]
  },
  {
   "cell_type": "markdown",
   "id": "971f5326",
   "metadata": {},
   "source": [
    "**Task 1**:\n",
    "* 1. Load the file 'about_python.txt'into your jupyter notebook.\n",
    "    * a. Correct wrong statements about python fatures\n",
    "    * b. How many charactaers present in the data\n",
    "    * c. How many times 'Python' word is repeated.\n",
    "    * d. after correcting all ..print complete valid features of the python."
   ]
  },
  {
   "cell_type": "code",
   "execution_count": 63,
   "id": "80cb7803",
   "metadata": {},
   "outputs": [],
   "source": [
    "file = open(r\"C:\\Users\\User\\Downloads\\about_python.txt\")   #Loading the file           "
   ]
  },
  {
   "cell_type": "code",
   "execution_count": 61,
   "id": "d2b23057",
   "metadata": {},
   "outputs": [
    {
     "name": "stdout",
     "output_type": "stream",
     "text": [
      "Python supports object-oriented programming (OOP) concepts.\n",
      "Python is a compiled language.\n",
      "Python has a rich ecosystem of third-party libraries.\n",
      "Python is a paid programming language\n",
      "Python uses indentation for code block structuring.\n",
      "Python is statically Typed Language\n",
      "Python only supports double quotes for string literals.\n",
      "Python can only be used for web development.\n",
      "Python was created by Elon Musk.\n"
     ]
    }
   ],
   "source": [
    "print(file.read())                 "
   ]
  },
  {
   "cell_type": "code",
   "execution_count": 64,
   "id": "bc6f72bf",
   "metadata": {},
   "outputs": [],
   "source": [
    "repl = file.read()                   #Correcting statements"
   ]
  },
  {
   "cell_type": "code",
   "execution_count": 71,
   "id": "1def60f2",
   "metadata": {},
   "outputs": [],
   "source": [
    "new1 = repl.replace('compiled','interpreted')\n",
    "new2 = new1.replace('paid','free')\n",
    "new3 = new2.replace('statically','dynamically')\n",
    "new4 = new3.replace('only supports double quotes','supports single/double/tripple quotes')\n",
    "new5 = new4.replace('can only','can')\n",
    "new6 = new5.replace('Elon Musk','Guido Van Rossum')"
   ]
  },
  {
   "cell_type": "code",
   "execution_count": 68,
   "id": "82c6b41d",
   "metadata": {},
   "outputs": [
    {
     "name": "stdout",
     "output_type": "stream",
     "text": [
      "420\n"
     ]
    }
   ],
   "source": [
    "print(len(new6))               #Character present in the data"
   ]
  },
  {
   "cell_type": "code",
   "execution_count": 69,
   "id": "0a961ee4",
   "metadata": {},
   "outputs": [
    {
     "name": "stdout",
     "output_type": "stream",
     "text": [
      "9\n"
     ]
    }
   ],
   "source": [
    "print(new6.count('Python'))      #Count of python in data"
   ]
  },
  {
   "cell_type": "code",
   "execution_count": 72,
   "id": "36257614",
   "metadata": {},
   "outputs": [
    {
     "name": "stdout",
     "output_type": "stream",
     "text": [
      "Python supports object-oriented programming (OOP) concepts.\n",
      "Python is a interpreted language.\n",
      "Python has a rich ecosystem of third-party libraries.\n",
      "Python is a free programming language\n",
      "Python uses indentation for code block structuring.\n",
      "Python is dynamically Typed Language\n",
      "Python supports single/double/tripple quotes for string literals.\n",
      "Python can be used for web development.\n",
      "Python was created by Guido Van Rossum.\n"
     ]
    }
   ],
   "source": [
    "print(new6)                  #Printing valid features of python"
   ]
  },
  {
   "cell_type": "code",
   "execution_count": null,
   "id": "492bd073",
   "metadata": {},
   "outputs": [],
   "source": []
  },
  {
   "cell_type": "code",
   "execution_count": null,
   "id": "9d3eca8b",
   "metadata": {},
   "outputs": [],
   "source": []
  },
  {
   "cell_type": "markdown",
   "id": "240193ee",
   "metadata": {},
   "source": [
    "**Task2**:\n",
    "\n",
    "* 2. Create a file 'File.txt'which expalains python file handling whatever you have learnt today(creating,reading,wring and appending...etc) in detail.That reaload the saved file(i.e File.txt) to jupyter notebook."
   ]
  },
  {
   "cell_type": "code",
   "execution_count": 19,
   "id": "5042ae9b",
   "metadata": {},
   "outputs": [],
   "source": [
    "file = open('File.txt','x')                      #Creating file"
   ]
  },
  {
   "cell_type": "code",
   "execution_count": 67,
   "id": "65e6d0e8",
   "metadata": {},
   "outputs": [],
   "source": [
    "file = open('File.txt','w')                         #writing file"
   ]
  },
  {
   "cell_type": "code",
   "execution_count": 68,
   "id": "8aab8ba8",
   "metadata": {},
   "outputs": [],
   "source": [
    "file.writelines([\"File handling:\\n\",\"File handling is the process of storing data in file using python programming\\n\",\"In file handling we have READING mode read the file\\n\",\"We have WRITE to write in the file.\\n\",\"We have append to add data at end\"])"
   ]
  },
  {
   "cell_type": "code",
   "execution_count": 69,
   "id": "530697cd",
   "metadata": {},
   "outputs": [],
   "source": [
    "file = open('File.txt','r')                  #reading file"
   ]
  },
  {
   "cell_type": "code",
   "execution_count": 70,
   "id": "2d42796b",
   "metadata": {},
   "outputs": [
    {
     "name": "stdout",
     "output_type": "stream",
     "text": [
      "File handling:\n",
      "File handling is the process of storing data in file using python programming\n",
      "In file handling we have READING mode read the file\n",
      "We have WRITE to write in the file.\n",
      "We have append to add data at end\n"
     ]
    }
   ],
   "source": [
    "print(file.read())                         #printing data"
   ]
  },
  {
   "cell_type": "code",
   "execution_count": 71,
   "id": "b5b943c9",
   "metadata": {},
   "outputs": [],
   "source": [
    "file.close()"
   ]
  },
  {
   "cell_type": "code",
   "execution_count": null,
   "id": "04632701",
   "metadata": {},
   "outputs": [],
   "source": []
  }
 ],
 "metadata": {
  "kernelspec": {
   "display_name": "Python 3 (ipykernel)",
   "language": "python",
   "name": "python3"
  },
  "language_info": {
   "codemirror_mode": {
    "name": "ipython",
    "version": 3
   },
   "file_extension": ".py",
   "mimetype": "text/x-python",
   "name": "python",
   "nbconvert_exporter": "python",
   "pygments_lexer": "ipython3",
   "version": "3.11.4"
  }
 },
 "nbformat": 4,
 "nbformat_minor": 5
}
