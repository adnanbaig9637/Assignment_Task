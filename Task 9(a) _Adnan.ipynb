{
 "cells": [
  {
   "cell_type": "markdown",
   "id": "67713d71",
   "metadata": {},
   "source": [
    "* 1.creating dict and gives names fruits and prices?\n",
    "* 2.what are the fruits available in the basket\n",
    "* 3.write a progrm if i purchase 3apple 2 orange\n",
    "* 4.add fruit+\"fruit\" for every dict\n",
    "* 5.find the avg of fruits\n",
    "* 6.which fruit is containig less than 5 character"
   ]
  },
  {
   "cell_type": "code",
   "execution_count": 2,
   "id": "e3bf96e8",
   "metadata": {},
   "outputs": [],
   "source": [
    "fruits = {\"apple\":40,\"orange\":40,\"kiwi\":20}      #1 ques"
   ]
  },
  {
   "cell_type": "code",
   "execution_count": 4,
   "id": "d6db0bb9",
   "metadata": {},
   "outputs": [
    {
     "name": "stdout",
     "output_type": "stream",
     "text": [
      "Avalable fruits : apple\n",
      "Avalable fruits : orange\n",
      "Avalable fruits : kiwi\n"
     ]
    }
   ],
   "source": [
    "for i in fruits:\n",
    "    print(\"Avalable fruits : \" +i)               #2 ques"
   ]
  },
  {
   "cell_type": "code",
   "execution_count": 35,
   "id": "22e68264",
   "metadata": {},
   "outputs": [
    {
     "name": "stdout",
     "output_type": "stream",
     "text": [
      "200\n"
     ]
    }
   ],
   "source": [
    "app = fruits[\"apple\"]*3                           #3 ques\n",
    "org = fruits[\"orange\"]*2\n",
    "print(app+org)"
   ]
  },
  {
   "cell_type": "code",
   "execution_count": 36,
   "id": "73c6a3eb",
   "metadata": {},
   "outputs": [
    {
     "name": "stdout",
     "output_type": "stream",
     "text": [
      "apple fruits\n",
      "orange fruits\n",
      "kiwi fruits\n"
     ]
    }
   ],
   "source": [
    "for i in fruits :                                 #4 ques\n",
    "    print(i+\" fruits\")"
   ]
  },
  {
   "cell_type": "code",
   "execution_count": 37,
   "id": "e17881d2",
   "metadata": {},
   "outputs": [
    {
     "data": {
      "text/plain": [
       "{'apple': 40, 'orange': 40, 'kiwi': 20}"
      ]
     },
     "execution_count": 37,
     "metadata": {},
     "output_type": "execute_result"
    }
   ],
   "source": [
    "fruits"
   ]
  },
  {
   "cell_type": "code",
   "execution_count": 38,
   "id": "147eb048",
   "metadata": {},
   "outputs": [
    {
     "name": "stdout",
     "output_type": "stream",
     "text": [
      "33.333333333333336\n"
     ]
    }
   ],
   "source": [
    "val = fruits.values()                              #5 ques\n",
    "avg = sum(val)/len(val)\n",
    "print(avg)"
   ]
  },
  {
   "cell_type": "code",
   "execution_count": 39,
   "id": "ec5c737c",
   "metadata": {},
   "outputs": [
    {
     "name": "stdout",
     "output_type": "stream",
     "text": [
      "kiwi\n"
     ]
    }
   ],
   "source": [
    "if i in fruits:                                     #6 ques\n",
    "    if (len(i)<5):\n",
    "        print(i)"
   ]
  },
  {
   "cell_type": "code",
   "execution_count": null,
   "id": "61cbbe03",
   "metadata": {},
   "outputs": [],
   "source": []
  },
  {
   "cell_type": "code",
   "execution_count": null,
   "id": "52a1cc41",
   "metadata": {},
   "outputs": [],
   "source": []
  },
  {
   "cell_type": "code",
   "execution_count": null,
   "id": "67e8c9ee",
   "metadata": {},
   "outputs": [],
   "source": []
  },
  {
   "cell_type": "code",
   "execution_count": null,
   "id": "f6d76641",
   "metadata": {},
   "outputs": [],
   "source": []
  },
  {
   "cell_type": "code",
   "execution_count": null,
   "id": "6aa853c2",
   "metadata": {},
   "outputs": [],
   "source": []
  },
  {
   "cell_type": "code",
   "execution_count": null,
   "id": "39067ccc",
   "metadata": {},
   "outputs": [],
   "source": []
  },
  {
   "cell_type": "code",
   "execution_count": null,
   "id": "8a9ae839",
   "metadata": {},
   "outputs": [],
   "source": []
  },
  {
   "cell_type": "code",
   "execution_count": null,
   "id": "ae27bd21",
   "metadata": {},
   "outputs": [],
   "source": []
  },
  {
   "cell_type": "code",
   "execution_count": null,
   "id": "0629e32f",
   "metadata": {},
   "outputs": [],
   "source": []
  },
  {
   "cell_type": "code",
   "execution_count": null,
   "id": "23938e64",
   "metadata": {},
   "outputs": [],
   "source": []
  },
  {
   "cell_type": "code",
   "execution_count": null,
   "id": "bf2a63bb",
   "metadata": {},
   "outputs": [],
   "source": []
  },
  {
   "cell_type": "code",
   "execution_count": null,
   "id": "89ea4c75",
   "metadata": {},
   "outputs": [],
   "source": []
  },
  {
   "cell_type": "code",
   "execution_count": null,
   "id": "d1980f8c",
   "metadata": {},
   "outputs": [],
   "source": []
  },
  {
   "cell_type": "code",
   "execution_count": 41,
   "id": "d3e33e0a",
   "metadata": {},
   "outputs": [
    {
     "name": "stdout",
     "output_type": "stream",
     "text": [
      "{'apple': 50, 'mango': 40, 'banana': 30, 'kiwi': 60, 'guava': 30}\n"
     ]
    }
   ],
   "source": [
    "fruits = (\"apple\",\"mango\",\"banana\",\"kiwi\",\"guava\")\n",
    "price = (50,40,30,60,30)\n",
    "bascket = dict(zip(fruits,price))\n",
    "print(bascket)"
   ]
  },
  {
   "cell_type": "code",
   "execution_count": 42,
   "id": "90de85cc",
   "metadata": {},
   "outputs": [
    {
     "name": "stdout",
     "output_type": "stream",
     "text": [
      "fruits available in bascket is apple\n",
      "fruits available in bascket is mango\n",
      "fruits available in bascket is banana\n",
      "fruits available in bascket is kiwi\n",
      "fruits available in bascket is guava\n"
     ]
    }
   ],
   "source": [
    "for i in bascket :\n",
    "    print(\"fruits available in bascket is \" +i)"
   ]
  },
  {
   "cell_type": "code",
   "execution_count": 49,
   "id": "2ce4cad3",
   "metadata": {},
   "outputs": [
    {
     "name": "stdout",
     "output_type": "stream",
     "text": [
      "apple\n",
      "mango\n",
      "banana\n",
      "kiwi\n",
      "guava\n",
      "prices of 3 apple and 2 mango is:   230\n"
     ]
    }
   ],
   "source": [
    "for i in fruits :\n",
    "    print(i)\n",
    "app3 = bascket.get(\"apple\")*3\n",
    "org2 = bascket.get(\"mango\")*2\n",
    "prices = app3+org2\n",
    "print(\"prices of 3 apple and 2 mango is:  \",prices)"
   ]
  },
  {
   "cell_type": "code",
   "execution_count": 52,
   "id": "495d8107",
   "metadata": {},
   "outputs": [
    {
     "name": "stdout",
     "output_type": "stream",
     "text": [
      "apple Fruit\n",
      "mango Fruit\n",
      "banana Fruit\n",
      "kiwi Fruit\n",
      "guava Fruit\n"
     ]
    }
   ],
   "source": [
    "for i in bascket:\n",
    "    print(i+\" Fruit\")"
   ]
  },
  {
   "cell_type": "code",
   "execution_count": 55,
   "id": "b8185d9e",
   "metadata": {},
   "outputs": [
    {
     "name": "stdout",
     "output_type": "stream",
     "text": [
      "apple\n",
      "mango\n",
      "banana\n",
      "kiwi\n",
      "guava\n",
      "The average of all fruits is  42.0\n"
     ]
    }
   ],
   "source": [
    "for i in bascket:\n",
    "    print(i)\n",
    "summ = bascket.values()\n",
    "lenn = len(bascket)\n",
    "average = sum(summ)/lenn\n",
    "print(\"The average of all fruits is \",average)"
   ]
  },
  {
   "cell_type": "code",
   "execution_count": 57,
   "id": "8dfddae7",
   "metadata": {},
   "outputs": [
    {
     "name": "stdout",
     "output_type": "stream",
     "text": [
      "kiwi\n"
     ]
    }
   ],
   "source": [
    "for i in bascket:\n",
    "    if(len(i)<5):\n",
    "        print(i)"
   ]
  },
  {
   "cell_type": "code",
   "execution_count": null,
   "id": "afd2baaa",
   "metadata": {},
   "outputs": [],
   "source": []
  }
 ],
 "metadata": {
  "kernelspec": {
   "display_name": "Python 3 (ipykernel)",
   "language": "python",
   "name": "python3"
  },
  "language_info": {
   "codemirror_mode": {
    "name": "ipython",
    "version": 3
   },
   "file_extension": ".py",
   "mimetype": "text/x-python",
   "name": "python",
   "nbconvert_exporter": "python",
   "pygments_lexer": "ipython3",
   "version": "3.11.4"
  }
 },
 "nbformat": 4,
 "nbformat_minor": 5
}
