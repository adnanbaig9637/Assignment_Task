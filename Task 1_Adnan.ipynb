{
 "cells": [
  {
   "cell_type": "markdown",
   "id": "5efd181d",
   "metadata": {},
   "source": [
    "# Check the valid Identifiers and invalid identifers using Python"
   ]
  },
  {
   "cell_type": "markdown",
   "id": "aebe5a40",
   "metadata": {},
   "source": [
    "1. **Run all the identifiers and seprate valid and Invalid Identifiers?**\n",
    "\n",
    "2. **Why Python treating them as invalid Identifers.Explain?**"
   ]
  },
  {
   "cell_type": "markdown",
   "id": "77c112d3",
   "metadata": {},
   "source": [
    "* my_variable = 25\n",
    "\n",
    "**Valid** \n",
    "\n",
    "* counter = 40.7\n",
    "\n",
    "**Valid**\n",
    "\n",
    "\n",
    "* _total = \"Hello\"\n",
    "\n",
    "**valid**\n",
    "\n",
    "\n",
    " - 123abc   = 34 \n",
    " \n",
    " **Invalid** `because identifier should not start with digit`\n",
    " \n",
    " - my variable   =6.7 \n",
    " \n",
    " **Invalid** `because identifiers should not contain space`\n",
    " \n",
    " - @count  = \"hi\"  \n",
    " \n",
    " **Invalid** `because there is (@) used , Identifier should not contain any special character except underscore(-)`\n",
    " \n",
    " - for   = \"True\" \n",
    " \n",
    " **Invalid** `because there is used key word as name (for), Identifiers should not used any keyword as name`\n",
    " \n",
    "\n",
    "* Name123 = 136\n",
    "\n",
    "**Valid** `because identifiers can be alphanumeric`\n",
    "\n",
    "* myFunction = True\n",
    "\n",
    "**Valid** `Identifiers can be support uppercase and lowercase`\n",
    "\n",
    "* _data = False\n",
    "\n",
    "**valid** `Identifier allow only one special character which is underscore(_)`\n",
    "\n",
    "- if_condition? = \"Innomatics\"\n",
    "\n",
    "**Invalid** `There is if keyword used, Identifiers should not name as keyword, and also there is ? identifiers should not contain any special character except (_)`\n",
    "\n",
    "- class = \"Hyderabad\" \n",
    "\n",
    "**Invalid** `There is if keyword used, Identifiers should not name as keyword`"
   ]
  },
  {
   "cell_type": "markdown",
   "id": "35c32a6f",
   "metadata": {},
   "source": [
    "### Use different identifiers and assign the below values"
   ]
  },
  {
   "cell_type": "markdown",
   "id": "d606e5ac",
   "metadata": {},
   "source": [
    "10\n",
    "\n",
    "-5\n",
    "\n",
    "3.14159\n",
    "\n",
    "-0.12345\n",
    "\n",
    "1000\n",
    "\n",
    "\"Hello, World!\"\n",
    "\n",
    "\"Python\"\n",
    "\n",
    "\"I am learning\"\n",
    "\n",
    "\"Text type\"\n",
    "\n",
    "\"String\"\n",
    "\n",
    "True\n",
    "\n",
    "False\n",
    "\n",
    "True\n",
    "\n",
    "False\n",
    "\n",
    "True\n",
    "\n"
   ]
  },
  {
   "cell_type": "code",
   "execution_count": 2,
   "id": "a8ce7a79",
   "metadata": {},
   "outputs": [
    {
     "name": "stdout",
     "output_type": "stream",
     "text": [
      "10\n"
     ]
    }
   ],
   "source": [
    "prakash = 10\n",
    "print(prakash)"
   ]
  },
  {
   "cell_type": "code",
   "execution_count": 3,
   "id": "51386847",
   "metadata": {},
   "outputs": [
    {
     "name": "stdout",
     "output_type": "stream",
     "text": [
      "-5\n"
     ]
    }
   ],
   "source": [
    "Venu = -5\n",
    "print(Venu)"
   ]
  },
  {
   "cell_type": "code",
   "execution_count": 4,
   "id": "a1329d7c",
   "metadata": {},
   "outputs": [
    {
     "name": "stdout",
     "output_type": "stream",
     "text": [
      "3.14159\n"
     ]
    }
   ],
   "source": [
    "float_val = 3.14159\n",
    "print(float_val)"
   ]
  },
  {
   "cell_type": "code",
   "execution_count": 5,
   "id": "34290725",
   "metadata": {},
   "outputs": [
    {
     "name": "stdout",
     "output_type": "stream",
     "text": [
      "-0.12345\n"
     ]
    }
   ],
   "source": [
    "Neg_float = -0.12345\n",
    "print(Neg_float)"
   ]
  },
  {
   "cell_type": "code",
   "execution_count": 6,
   "id": "2aba294b",
   "metadata": {},
   "outputs": [
    {
     "name": "stdout",
     "output_type": "stream",
     "text": [
      "1000\n"
     ]
    }
   ],
   "source": [
    "Indian = 1000\n",
    "print(Indian)"
   ]
  },
  {
   "cell_type": "code",
   "execution_count": 8,
   "id": "f93b24a1",
   "metadata": {},
   "outputs": [
    {
     "name": "stdout",
     "output_type": "stream",
     "text": [
      "Hello, world!\n"
     ]
    }
   ],
   "source": [
    "a = \"Hello, world!\"\n",
    "print(a)"
   ]
  },
  {
   "cell_type": "code",
   "execution_count": 10,
   "id": "8001dcd5",
   "metadata": {},
   "outputs": [
    {
     "name": "stdout",
     "output_type": "stream",
     "text": [
      "Python\n"
     ]
    }
   ],
   "source": [
    "b = \"Python\"\n",
    "print(b)"
   ]
  },
  {
   "cell_type": "code",
   "execution_count": 11,
   "id": "edf7a57c",
   "metadata": {},
   "outputs": [
    {
     "name": "stdout",
     "output_type": "stream",
     "text": [
      "I am learning\n"
     ]
    }
   ],
   "source": [
    "c = \"I am learning\"\n",
    "print(c)"
   ]
  },
  {
   "cell_type": "code",
   "execution_count": 12,
   "id": "d536c611",
   "metadata": {},
   "outputs": [
    {
     "name": "stdout",
     "output_type": "stream",
     "text": [
      "Text type\n"
     ]
    }
   ],
   "source": [
    "D = \"Text type\"\n",
    "print(D)"
   ]
  },
  {
   "cell_type": "code",
   "execution_count": 13,
   "id": "7d642b58",
   "metadata": {},
   "outputs": [
    {
     "name": "stdout",
     "output_type": "stream",
     "text": [
      "String\n"
     ]
    }
   ],
   "source": [
    "Alpha = \"String\"\n",
    "print(Alpha)"
   ]
  },
  {
   "cell_type": "code",
   "execution_count": 14,
   "id": "ac5bf7dc",
   "metadata": {},
   "outputs": [
    {
     "name": "stdout",
     "output_type": "stream",
     "text": [
      "True\n"
     ]
    }
   ],
   "source": [
    "x = True\n",
    "print(x)\n"
   ]
  },
  {
   "cell_type": "code",
   "execution_count": 15,
   "id": "00d77c19",
   "metadata": {},
   "outputs": [
    {
     "name": "stdout",
     "output_type": "stream",
     "text": [
      "False\n"
     ]
    }
   ],
   "source": [
    "y = False\n",
    "print(y)"
   ]
  },
  {
   "cell_type": "code",
   "execution_count": 16,
   "id": "623631fe",
   "metadata": {},
   "outputs": [
    {
     "name": "stdout",
     "output_type": "stream",
     "text": [
      "True\n"
     ]
    }
   ],
   "source": [
    "innomatics = True\n",
    "print(innomatics)"
   ]
  },
  {
   "cell_type": "code",
   "execution_count": 17,
   "id": "3152b35a",
   "metadata": {},
   "outputs": [
    {
     "name": "stdout",
     "output_type": "stream",
     "text": [
      "False\n"
     ]
    }
   ],
   "source": [
    "Lab = False\n",
    "print(Lab)"
   ]
  },
  {
   "cell_type": "code",
   "execution_count": 1,
   "id": "adf3ee42",
   "metadata": {},
   "outputs": [
    {
     "name": "stdout",
     "output_type": "stream",
     "text": [
      "True\n"
     ]
    }
   ],
   "source": [
    "Hello = True\n",
    "print(Hello)"
   ]
  },
  {
   "cell_type": "code",
   "execution_count": null,
   "id": "230bacc8",
   "metadata": {},
   "outputs": [],
   "source": []
  }
 ],
 "metadata": {
  "kernelspec": {
   "display_name": "Python 3 (ipykernel)",
   "language": "python",
   "name": "python3"
  },
  "language_info": {
   "codemirror_mode": {
    "name": "ipython",
    "version": 3
   },
   "file_extension": ".py",
   "mimetype": "text/x-python",
   "name": "python",
   "nbconvert_exporter": "python",
   "pygments_lexer": "ipython3",
   "version": "3.11.4"
  }
 },
 "nbformat": 4,
 "nbformat_minor": 5
}
