{
 "cells": [
  {
   "cell_type": "markdown",
   "id": "703bba36",
   "metadata": {},
   "source": [
    "### Data Cleaning using numpy\n",
    "\n",
    "### The following are the student marks of a class [44,24,np.nan,59,32,96,188,52,62,58,52,120,np.nan,np.nan,3,56,81,59,,122,92,np.nan,87,96,97,1,19,2,53, 44]\n",
    "\n",
    "1. Find the no of outliers and missing values?\n",
    "2. replace the outliers with 45 and missing value with 87.\n",
    "3. what is the average marks of students after 2nd step?\n",
    "4. How many students got less than 60 marks?\n",
    "5. what is the maximum marks?\n",
    "6. Convert the marks to float32."
   ]
  },
  {
   "cell_type": "code",
   "execution_count": 19,
   "id": "fb3f5532",
   "metadata": {},
   "outputs": [],
   "source": [
    "import numpy as np"
   ]
  },
  {
   "cell_type": "code",
   "execution_count": 20,
   "id": "89a5f51b",
   "metadata": {},
   "outputs": [],
   "source": [
    "marks = ([44,24,np.nan,59,32,96,188,52,62,58,52,120,np.nan,np.nan,3,56,81,59,122,92,np.nan,87,96,97,1,19,2,53,44])"
   ]
  },
  {
   "cell_type": "code",
   "execution_count": 21,
   "id": "a03ef1e1",
   "metadata": {},
   "outputs": [
    {
     "data": {
      "text/plain": [
       "array([False, False,  True, False, False, False, False, False, False,\n",
       "       False, False, False,  True,  True, False, False, False, False,\n",
       "       False, False,  True, False, False, False, False, False, False,\n",
       "       False, False])"
      ]
     },
     "execution_count": 21,
     "metadata": {},
     "output_type": "execute_result"
    }
   ],
   "source": [
    "np.isnan(marks)"
   ]
  },
  {
   "cell_type": "code",
   "execution_count": 22,
   "id": "c7a94316",
   "metadata": {},
   "outputs": [
    {
     "data": {
      "text/plain": [
       "4"
      ]
     },
     "execution_count": 22,
     "metadata": {},
     "output_type": "execute_result"
    }
   ],
   "source": [
    "np.sum(np.isnan(marks))"
   ]
  },
  {
   "cell_type": "code",
   "execution_count": 23,
   "id": "471f2572",
   "metadata": {},
   "outputs": [],
   "source": [
    "marks = np.where(np.isnan(marks),87,marks).astype('float16')"
   ]
  },
  {
   "cell_type": "code",
   "execution_count": 24,
   "id": "7f7c59f5",
   "metadata": {},
   "outputs": [
    {
     "data": {
      "text/plain": [
       "array([ 44.,  24.,  87.,  59.,  32.,  96., 188.,  52.,  62.,  58.,  52.,\n",
       "       120.,  87.,  87.,   3.,  56.,  81.,  59., 122.,  92.,  87.,  87.,\n",
       "        96.,  97.,   1.,  19.,   2.,  53.,  44.], dtype=float16)"
      ]
     },
     "execution_count": 24,
     "metadata": {},
     "output_type": "execute_result"
    }
   ],
   "source": [
    "marks"
   ]
  },
  {
   "cell_type": "code",
   "execution_count": 25,
   "id": "3516877f",
   "metadata": {},
   "outputs": [
    {
     "data": {
      "text/plain": [
       "array([False, False, False, False, False, False,  True, False, False,\n",
       "       False, False,  True, False, False, False, False, False, False,\n",
       "        True, False, False, False, False, False, False, False, False,\n",
       "       False, False])"
      ]
     },
     "execution_count": 25,
     "metadata": {},
     "output_type": "execute_result"
    }
   ],
   "source": [
    "# Outlier #detect\n",
    "cond = (marks<0) | (marks>100)\n",
    "cond"
   ]
  },
  {
   "cell_type": "code",
   "execution_count": 26,
   "id": "e9788455",
   "metadata": {},
   "outputs": [
    {
     "data": {
      "text/plain": [
       "3"
      ]
     },
     "execution_count": 26,
     "metadata": {},
     "output_type": "execute_result"
    }
   ],
   "source": [
    "np.sum(cond)"
   ]
  },
  {
   "cell_type": "code",
   "execution_count": 31,
   "id": "3e554976",
   "metadata": {},
   "outputs": [
    {
     "data": {
      "text/plain": [
       "array([44., 24., 87., 59., 32., 96., 45., 52., 62., 58., 52., 45., 87.,\n",
       "       87.,  3., 56., 81., 59., 45., 92., 87., 87., 96., 97.,  1., 19.,\n",
       "        2., 53., 44.], dtype=float16)"
      ]
     },
     "execution_count": 31,
     "metadata": {},
     "output_type": "execute_result"
    }
   ],
   "source": [
    "marks1 = np.where(cond,45,marks)\n",
    "marks1"
   ]
  },
  {
   "cell_type": "code",
   "execution_count": 32,
   "id": "6806f7ed",
   "metadata": {},
   "outputs": [
    {
     "data": {
      "text/plain": [
       "56.97"
      ]
     },
     "execution_count": 32,
     "metadata": {},
     "output_type": "execute_result"
    }
   ],
   "source": [
    "np.mean(marks1)"
   ]
  },
  {
   "cell_type": "code",
   "execution_count": 33,
   "id": "b0101a21",
   "metadata": {},
   "outputs": [
    {
     "data": {
      "text/plain": [
       "97.0"
      ]
     },
     "execution_count": 33,
     "metadata": {},
     "output_type": "execute_result"
    }
   ],
   "source": [
    "marks1.max()"
   ]
  },
  {
   "cell_type": "code",
   "execution_count": 34,
   "id": "2bd237f2",
   "metadata": {},
   "outputs": [
    {
     "data": {
      "text/plain": [
       "18"
      ]
     },
     "execution_count": 34,
     "metadata": {},
     "output_type": "execute_result"
    }
   ],
   "source": [
    "len(marks[marks1 < 60])"
   ]
  },
  {
   "cell_type": "code",
   "execution_count": 36,
   "id": "74c39c22",
   "metadata": {},
   "outputs": [
    {
     "data": {
      "text/plain": [
       "18"
      ]
     },
     "execution_count": 36,
     "metadata": {},
     "output_type": "execute_result"
    }
   ],
   "source": [
    "np.sum(marks1 < 60)"
   ]
  },
  {
   "cell_type": "markdown",
   "id": "a7a6f6c5",
   "metadata": {},
   "source": [
    "### Solving Linear Equations\n",
    "\n",
    "1. 2x + 3y - z = 10\n",
    "\n",
    "    x - y + 2z = 5\n",
    "\n",
    "    3x + 2y + z = 12\n",
    "\n",
    "### Solve the system of equations using NumPy's linalg.solve function."
   ]
  },
  {
   "cell_type": "code",
   "execution_count": 38,
   "id": "a2d6619f",
   "metadata": {},
   "outputs": [],
   "source": [
    "a = np.array([[2,3,-1],[1,-1,2],[3,2,1]])"
   ]
  },
  {
   "cell_type": "code",
   "execution_count": 39,
   "id": "766767a0",
   "metadata": {},
   "outputs": [],
   "source": [
    "b = np.array([10,5,12])"
   ]
  },
  {
   "cell_type": "code",
   "execution_count": 40,
   "id": "ea872cf7",
   "metadata": {},
   "outputs": [
    {
     "data": {
      "text/plain": [
       "array([-6.75539944e+15,  6.75539944e+15,  6.75539944e+15])"
      ]
     },
     "execution_count": 40,
     "metadata": {},
     "output_type": "execute_result"
    }
   ],
   "source": [
    "np.linalg.solve(a,b)"
   ]
  },
  {
   "cell_type": "markdown",
   "id": "341141e0",
   "metadata": {},
   "source": [
    "2.  2x + y - z + 3w = 8\n",
    "\n",
    "3x - 2y + 2z + 2w = 1\n",
    "\n",
    "x + 3y - 2z + w = 7\n",
    "\n",
    "4x - y + z - 2w = 3\n",
    "\n",
    "\n",
    "Solve the system of equations using NumPy's linalg.solve function."
   ]
  },
  {
   "cell_type": "code",
   "execution_count": 41,
   "id": "5497708b",
   "metadata": {},
   "outputs": [],
   "source": [
    "c = np.matrix([[2,1,-1,3],[3,-2,2,2],[1,3,-2,1],[4,-1,1,-2]])"
   ]
  },
  {
   "cell_type": "code",
   "execution_count": 42,
   "id": "2c196abd",
   "metadata": {},
   "outputs": [],
   "source": [
    "d = np.array([8,1,7,3])"
   ]
  },
  {
   "cell_type": "code",
   "execution_count": 43,
   "id": "c811ab47",
   "metadata": {},
   "outputs": [
    {
     "data": {
      "text/plain": [
       "array([ 1.73170732, -0.75609756, -3.46341463,  0.6097561 ])"
      ]
     },
     "execution_count": 43,
     "metadata": {},
     "output_type": "execute_result"
    }
   ],
   "source": [
    "np.linalg.solve(c,d)"
   ]
  },
  {
   "cell_type": "markdown",
   "id": "ecd5e86d",
   "metadata": {},
   "source": [
    "3.   4x + 2y - 3z = 10\n",
    "\n",
    "    -2x + 3y + z = -3     \n",
    "\n",
    "    x - y + 2z = 4\n",
    "\n",
    "Solve the system of equations using NumPy's linalg.solve function."
   ]
  },
  {
   "cell_type": "code",
   "execution_count": 44,
   "id": "c6311a99",
   "metadata": {},
   "outputs": [],
   "source": [
    "e = np.array([[4,2,-3],[-2,3,1],[1,-1,2]])"
   ]
  },
  {
   "cell_type": "code",
   "execution_count": 45,
   "id": "7651836e",
   "metadata": {},
   "outputs": [],
   "source": [
    "f = np.array([10,-3,4])"
   ]
  },
  {
   "cell_type": "code",
   "execution_count": 46,
   "id": "0465ec69",
   "metadata": {},
   "outputs": [
    {
     "data": {
      "text/plain": [
       "array([2.85365854, 0.6097561 , 0.87804878])"
      ]
     },
     "execution_count": 46,
     "metadata": {},
     "output_type": "execute_result"
    }
   ],
   "source": [
    "np.linalg.solve(e,f)"
   ]
  },
  {
   "cell_type": "markdown",
   "id": "b864c2df",
   "metadata": {},
   "source": [
    "### Conditional Selection with np.where()\n",
    "\n",
    "1. Generate a random 1D array A of 10 integers between 1 and 100.\n",
    "\n",
    "2. Use np.where() to find the indices where the elements of A are greater than 50.\n",
    "\n",
    "3. Create a new array B that contains elements from A where the condition is met.\n",
    "\n",
    "4. Calculate the mean of array B and print it along with arrays A and B."
   ]
  },
  {
   "cell_type": "code",
   "execution_count": 47,
   "id": "71cee765",
   "metadata": {},
   "outputs": [
    {
     "data": {
      "text/plain": [
       "array([ 1,  2,  3,  4,  5,  6,  7,  8,  9, 10, 11, 12, 13, 14, 15, 16, 17,\n",
       "       18, 19, 20, 21, 22, 23, 24, 25, 26, 27, 28, 29, 30, 31, 32, 33, 34,\n",
       "       35, 36, 37, 38, 39, 40, 41, 42, 43, 44, 45, 46, 47, 48, 49, 50, 51,\n",
       "       52, 53, 54, 55, 56, 57, 58, 59, 60, 61, 62, 63, 64, 65, 66, 67, 68,\n",
       "       69, 70, 71, 72, 73, 74, 75, 76, 77, 78, 79, 80, 81, 82, 83, 84, 85,\n",
       "       86, 87, 88, 89, 90, 91, 92, 93, 94, 95, 96, 97, 98, 99])"
      ]
     },
     "execution_count": 47,
     "metadata": {},
     "output_type": "execute_result"
    }
   ],
   "source": [
    "a = np.arange(1,100)\n",
    "a"
   ]
  },
  {
   "cell_type": "code",
   "execution_count": 48,
   "id": "d1afde01",
   "metadata": {},
   "outputs": [
    {
     "data": {
      "text/plain": [
       "(array([50, 51, 52, 53, 54, 55, 56, 57, 58, 59, 60, 61, 62, 63, 64, 65, 66,\n",
       "        67, 68, 69, 70, 71, 72, 73, 74, 75, 76, 77, 78, 79, 80, 81, 82, 83,\n",
       "        84, 85, 86, 87, 88, 89, 90, 91, 92, 93, 94, 95, 96, 97, 98],\n",
       "       dtype=int64),)"
      ]
     },
     "execution_count": 48,
     "metadata": {},
     "output_type": "execute_result"
    }
   ],
   "source": [
    "b = np.where(a > 50)\n",
    "b"
   ]
  },
  {
   "cell_type": "code",
   "execution_count": 51,
   "id": "a9a0fd52",
   "metadata": {},
   "outputs": [
    {
     "data": {
      "text/plain": [
       "74.0"
      ]
     },
     "execution_count": 51,
     "metadata": {},
     "output_type": "execute_result"
    }
   ],
   "source": [
    "np.mean(b)"
   ]
  },
  {
   "cell_type": "markdown",
   "id": "3ca96906",
   "metadata": {},
   "source": [
    "### Replace Values with np.where()\n",
    "\n",
    "1. Create a 4x4 random integer matrix C with values between -10 and 10.\n",
    "\n",
    "2. Use np.where() to replace all negative values in matrix C with 0.\n",
    "\n",
    "3. Print the original matrix C and the modified matrix."
   ]
  },
  {
   "cell_type": "code",
   "execution_count": 52,
   "id": "ca8b9e4e",
   "metadata": {},
   "outputs": [],
   "source": [
    "c = np.random.randint(-10,10,16).reshape(4,4)"
   ]
  },
  {
   "cell_type": "code",
   "execution_count": 53,
   "id": "bb0b59da",
   "metadata": {},
   "outputs": [],
   "source": [
    "d = np.where(c<0,0,c)"
   ]
  },
  {
   "cell_type": "code",
   "execution_count": 54,
   "id": "d2606ed3",
   "metadata": {},
   "outputs": [
    {
     "data": {
      "text/plain": [
       "array([[  2,  -9,  -6,  -6],\n",
       "       [  4,   5,  -9,   7],\n",
       "       [-10,   3,  -1,  -1],\n",
       "       [ -5,  -5,   7,   4]])"
      ]
     },
     "execution_count": 54,
     "metadata": {},
     "output_type": "execute_result"
    }
   ],
   "source": [
    "c"
   ]
  },
  {
   "cell_type": "code",
   "execution_count": 55,
   "id": "b40ef42c",
   "metadata": {},
   "outputs": [
    {
     "data": {
      "text/plain": [
       "array([[2, 0, 0, 0],\n",
       "       [4, 5, 0, 7],\n",
       "       [0, 3, 0, 0],\n",
       "       [0, 0, 7, 4]])"
      ]
     },
     "execution_count": 55,
     "metadata": {},
     "output_type": "execute_result"
    }
   ],
   "source": [
    "d"
   ]
  },
  {
   "cell_type": "code",
   "execution_count": null,
   "id": "4a3dfec6",
   "metadata": {},
   "outputs": [],
   "source": []
  }
 ],
 "metadata": {
  "kernelspec": {
   "display_name": "Python 3 (ipykernel)",
   "language": "python",
   "name": "python3"
  },
  "language_info": {
   "codemirror_mode": {
    "name": "ipython",
    "version": 3
   },
   "file_extension": ".py",
   "mimetype": "text/x-python",
   "name": "python",
   "nbconvert_exporter": "python",
   "pygments_lexer": "ipython3",
   "version": "3.11.4"
  }
 },
 "nbformat": 4,
 "nbformat_minor": 5
}
