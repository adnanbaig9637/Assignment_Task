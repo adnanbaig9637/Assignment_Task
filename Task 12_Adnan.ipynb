{
 "cells": [
  {
   "cell_type": "markdown",
   "id": "8060b9a4",
   "metadata": {},
   "source": [
    "**while loops and their use in programming.**\n",
    "1. Write a Python program that uses a while loop to print the numbers from `A` to `P`.\n",
    "\n",
    "2. Modify the program to print only the even numbers from `1 to 20 except mutiple of 3` using a while loop.\n",
    "\n",
    "3. Create a program that prompts the user for an integer input and then uses a while loop to print the countdown from `that number to 1`.\n",
    "\n",
    "\n",
    "4. Write a Python program that uses a while loop to repeatedly ask the user to enter a number. If the user enters 0, exit the loop using the `break` statement. Otherwise, continue prompting for numbers.\n",
    "\n",
    "5. Create a program that uses a while loop to print the numbers from 1 to 20, but skip printing the numbers 5, 10, and 15 using the `continue` statement.\n",
    "\n",
    "6. Write a Python program that simulates a simple password entry system. Ask the user to enter a password, and use a while loop to repeatedly prompt for the password until the correct password \"abc123\" is entered. Once the correct password is entered, exit the loop.\n",
    "\n",
    "7. Calculate and print the sum of all the positive integers entered by the user.\n",
    "\n",
    "\n",
    "\n",
    "."
   ]
  },
  {
   "cell_type": "code",
   "execution_count": null,
   "id": "f9501fc9",
   "metadata": {},
   "outputs": [],
   "source": []
  },
  {
   "cell_type": "markdown",
   "id": "9d312ed2",
   "metadata": {},
   "source": [
    "1. Write a Python program that uses a while loop to print the numbers from `A` to `P`."
   ]
  },
  {
   "cell_type": "code",
   "execution_count": 2,
   "id": "2f5945d6",
   "metadata": {},
   "outputs": [
    {
     "name": "stdout",
     "output_type": "stream",
     "text": [
      "A\n",
      "B\n",
      "C\n",
      "D\n",
      "E\n",
      "F\n",
      "G\n",
      "H\n",
      "I\n",
      "J\n",
      "K\n",
      "L\n",
      "M\n",
      "N\n",
      "O\n",
      "P\n"
     ]
    }
   ],
   "source": [
    "a = 0\n",
    "while a<16:\n",
    "    print(chr(65+a))\n",
    "    a = a+1"
   ]
  },
  {
   "cell_type": "markdown",
   "id": "d7c323d4",
   "metadata": {},
   "source": [
    "2. Modify the program to print only the even numbers from `1 to 20 except mutiple of 3` using a while loop."
   ]
  },
  {
   "cell_type": "code",
   "execution_count": 4,
   "id": "65b89591",
   "metadata": {},
   "outputs": [
    {
     "name": "stdout",
     "output_type": "stream",
     "text": [
      "2\n",
      "4\n",
      "8\n",
      "10\n",
      "14\n",
      "16\n",
      "20\n"
     ]
    }
   ],
   "source": [
    "num = 0\n",
    "while num<=20:\n",
    "    if num%3!=0 and num%2==0:\n",
    "        print(num)\n",
    "    num = num+1"
   ]
  },
  {
   "cell_type": "markdown",
   "id": "a2e234a7",
   "metadata": {},
   "source": [
    "3. Create a program that prompts the user for an integer input and then uses a while loop to print the countdown from `that number to 1`."
   ]
  },
  {
   "cell_type": "code",
   "execution_count": 6,
   "id": "826c3b02",
   "metadata": {},
   "outputs": [
    {
     "name": "stdout",
     "output_type": "stream",
     "text": [
      "Enter a number 20\n",
      "20\n",
      "19\n",
      "18\n",
      "17\n",
      "16\n",
      "15\n",
      "14\n",
      "13\n",
      "12\n",
      "11\n",
      "10\n",
      "9\n",
      "8\n",
      "7\n",
      "6\n",
      "5\n",
      "4\n",
      "3\n",
      "2\n",
      "1\n"
     ]
    }
   ],
   "source": [
    "user = int(input(\"Enter a number \"))\n",
    "a = user\n",
    "while a:\n",
    "    print(a)\n",
    "    a = a-1"
   ]
  },
  {
   "cell_type": "markdown",
   "id": "d93a6aac",
   "metadata": {},
   "source": [
    "4. Write a Python program that uses a while loop to repeatedly ask the user to enter a number. If the user enters 0, exit the loop using the `break` statement. Otherwise, continue prompting for numbers."
   ]
  },
  {
   "cell_type": "code",
   "execution_count": 1,
   "id": "123f7656",
   "metadata": {},
   "outputs": [
    {
     "name": "stdout",
     "output_type": "stream",
     "text": [
      "Enter a number 0\n"
     ]
    }
   ],
   "source": [
    "user = int(input(\"Enter a number \"))\n",
    "while user:\n",
    "    if user == 0:\n",
    "        break\n",
    "    else :\n",
    "        int(input(\"Enter a number\"))"
   ]
  },
  {
   "cell_type": "markdown",
   "id": "0f6c9ab2",
   "metadata": {},
   "source": [
    "5. Create a program that uses a while loop to print the numbers from 1 to 20, but skip printing the numbers 5, 10, and 15 using the `continue` statement.\n"
   ]
  },
  {
   "cell_type": "code",
   "execution_count": 2,
   "id": "b48420b2",
   "metadata": {},
   "outputs": [
    {
     "name": "stdout",
     "output_type": "stream",
     "text": [
      "1\n",
      "2\n",
      "3\n",
      "4\n",
      "6\n",
      "7\n",
      "8\n",
      "9\n",
      "11\n",
      "12\n",
      "13\n",
      "14\n",
      "16\n",
      "17\n",
      "18\n",
      "19\n",
      "20\n",
      "21\n"
     ]
    }
   ],
   "source": [
    "a = 0\n",
    "while a <= 20:\n",
    "    a = a+1\n",
    "    if a==5 or a==10 or a==15:\n",
    "        continue\n",
    "    else:\n",
    "        print(a)\n",
    "    "
   ]
  },
  {
   "cell_type": "markdown",
   "id": "a29033eb",
   "metadata": {},
   "source": [
    "6. Write a Python program that simulates a simple password entry system. Ask the user to enter a password, and use a while loop to repeatedly prompt for the password until the correct password \"abc123\" is entered. Once the correct password is entered, exit the loop."
   ]
  },
  {
   "cell_type": "code",
   "execution_count": 1,
   "id": "13d1fdcf",
   "metadata": {},
   "outputs": [
    {
     "name": "stdout",
     "output_type": "stream",
     "text": [
      "Enter correct password :: adnan\n",
      "Enter correct password :: baig123\n",
      "Enter correct password :: abc123\n"
     ]
    }
   ],
   "source": [
    "correct_passs = \"abc123\"\n",
    "\n",
    "while correct_passs:\n",
    "    passs = input(\"Enter correct password :: \")\n",
    "    if passs == correct_passs:\n",
    "        break\n",
    "    else:\n",
    "        continue\n"
   ]
  },
  {
   "cell_type": "markdown",
   "id": "0fa52522",
   "metadata": {},
   "source": [
    "7. Calculate and print the sum of all the positive integers entered by the user."
   ]
  },
  {
   "cell_type": "code",
   "execution_count": 7,
   "id": "ad6b7fe7",
   "metadata": {},
   "outputs": [
    {
     "name": "stdout",
     "output_type": "stream",
     "text": [
      "enter no. of integers for sum : 4\n",
      "Enter a number: 10\n",
      "Enter a number: 30\n",
      "Enter a number: 20\n",
      "Enter a number: 10\n",
      "Sum of  integers :  70\n"
     ]
    }
   ],
   "source": [
    "num = int(input(\"enter no. of integers for sum : \"))\n",
    "a = 0\n",
    "while num :\n",
    "    for i in range(0,num) :\n",
    "        if num > 0:\n",
    "            b = int(input(\"Enter a number: \"))\n",
    "            a = a + b\n",
    "            \n",
    "        else :\n",
    "            print(\"Enter Valid number!\")\n",
    "            \n",
    "    print(\"Sum of  integers : \" ,a)\n",
    "    break\n"
   ]
  },
  {
   "cell_type": "code",
   "execution_count": null,
   "id": "e0e6c2d9",
   "metadata": {},
   "outputs": [],
   "source": []
  }
 ],
 "metadata": {
  "kernelspec": {
   "display_name": "Python 3 (ipykernel)",
   "language": "python",
   "name": "python3"
  },
  "language_info": {
   "codemirror_mode": {
    "name": "ipython",
    "version": 3
   },
   "file_extension": ".py",
   "mimetype": "text/x-python",
   "name": "python",
   "nbconvert_exporter": "python",
   "pygments_lexer": "ipython3",
   "version": "3.11.4"
  }
 },
 "nbformat": 4,
 "nbformat_minor": 5
}
