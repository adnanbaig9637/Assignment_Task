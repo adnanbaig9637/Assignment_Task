{
 "cells": [
  {
   "cell_type": "markdown",
   "id": "8dc8a778",
   "metadata": {},
   "source": [
    "\n",
    "`use context manager`\n",
    "\n",
    "**Create a file**\n",
    "Write a Python program that creates a text file named \"data.txt\" and add data about python programming (should contain at least 5 lines)\n",
    "\n",
    "**Read and Display File Contents**\n",
    "Write a Python program that reads a text file named \"data.txt\" and displays its contents on the screen.\n",
    "\n",
    "**Count Words in a File**\n",
    "Write a Python program that reads a text file named \"data.txt\" and counts the total number of words in the file. Display the word count on the screen.\n",
    "\n",
    "**Search and Replace**\n",
    "Create a Python program that reads a text file named \"data.txt\" and asks the user to enter a word to search for. If the word is found in the file, replace all occurrences of the word with a new word provided by the user.\n",
    "\n",
    "**Append to a File**\n",
    "Write a Python program that prompts the user to enter a sentence. Append this sentence to an existing file named \"notes.txt\". Make sure the newly added sentence starts on a new line.\n",
    "\n",
    "\n"
   ]
  },
  {
   "cell_type": "markdown",
   "id": "f063b9bc",
   "metadata": {},
   "source": [
    "**Create a file**\n",
    "Write a Python program that creates a text file named \"data.txt\" and add data about python programming (should contain at least 5 lines)"
   ]
  },
  {
   "cell_type": "code",
   "execution_count": 2,
   "id": "19c2ecaa",
   "metadata": {},
   "outputs": [],
   "source": [
    "with open('data.txt','a+') as data:\n",
    "    data.writelines([\"Python supports object-oriented programming (OOP) concepts.\\n\",\"Python is a interpreted language.\\n\",\"Python has a rich ecosystem of third-party libraries.\\n\",\"Python is a open source programming language.\\n\",\"Python uses indentation for code block structuring.\\n\",\"Python is dynamically Typed Language.\\n\",\"Python was created by Guido Van Rossum.\\n\"])"
   ]
  },
  {
   "cell_type": "markdown",
   "id": "028f616b",
   "metadata": {},
   "source": [
    "**Read and Display File Contents**\n",
    "Write a Python program that reads a text file named \"data.txt\" and displays its contents on the screen."
   ]
  },
  {
   "cell_type": "code",
   "execution_count": 9,
   "id": "4eb1352f",
   "metadata": {},
   "outputs": [
    {
     "name": "stdout",
     "output_type": "stream",
     "text": [
      "Python supports object-oriented programming (OOP) concepts.\n",
      "Python is a interpreted language.\n",
      "Python has a rich ecosystem of third-party libraries.\n",
      "Python is a open source programming language.\n",
      "Python uses indentation for code block structuring.\n",
      "Python is dynamically Typed Language.\n",
      "Python was created by Guido Van Rossum.\n"
     ]
    }
   ],
   "source": [
    "with open('data.txt','r') as data1:\n",
    "    print(data1.read())"
   ]
  },
  {
   "cell_type": "markdown",
   "id": "44a84323",
   "metadata": {},
   "source": [
    "**Count Words in a File**\n",
    "Write a Python program that reads a text file named \"data.txt\" and counts the total number of words in the file. Display the word count on the screen."
   ]
  },
  {
   "cell_type": "code",
   "execution_count": 10,
   "id": "d6234a25",
   "metadata": {},
   "outputs": [
    {
     "name": "stdout",
     "output_type": "stream",
     "text": [
      "45\n"
     ]
    }
   ],
   "source": [
    "with open('data.txt','r') as data1:\n",
    "    new = data1.read()\n",
    "    string = new.split()\n",
    "print(len(string))"
   ]
  },
  {
   "cell_type": "markdown",
   "id": "8b9534e2",
   "metadata": {},
   "source": [
    "**Search and Replace**\n",
    "Create a Python program that reads a text file named \"data.txt\" and asks the user to enter a word to search for. If the word is found in the file, replace all occurrences of the word with a new word provided by the user."
   ]
  },
  {
   "cell_type": "code",
   "execution_count": 15,
   "id": "5474c7bd",
   "metadata": {},
   "outputs": [
    {
     "name": "stdout",
     "output_type": "stream",
     "text": [
      "Enter a word for replacment Python\n",
      "Enter new wordpython programming\n",
      "python programming supports object-oriented programming (OOP) concepts.\n",
      "python programming is a interpreted language.\n",
      "python programming has a rich ecosystem of third-party libraries.\n",
      "python programming is a open source programming language.\n",
      "python programming uses indentation for code block structuring.\n",
      "python programming is dynamically Typed Language.\n",
      "python programming was created by Guido Van Rossum.\n"
     ]
    }
   ],
   "source": [
    "with open('data.txt','r') as data1:\n",
    "    new = data1.read()\n",
    "user1 = input(\"Enter a word for replacment \")\n",
    "user2 = input(\"Enter new word\")  \n",
    "if user1 in new:\n",
    "    print(new.replace(user1,user2))\n",
    "else:\n",
    "        print(\"Enter valid word \")\n"
   ]
  },
  {
   "cell_type": "markdown",
   "id": "a75e8bab",
   "metadata": {},
   "source": [
    "**Append to a File**\n",
    "Write a Python program that prompts the user to enter a sentence. Append this sentence to an existing file named \"notes.txt\". Make sure the newly added sentence starts on a new line."
   ]
  },
  {
   "cell_type": "code",
   "execution_count": 11,
   "id": "04f4fafa",
   "metadata": {},
   "outputs": [],
   "source": [
    "with open('data.txt','a+') as data2:\n",
    "    new = data2.write(\"\\nI am learning Data science at Innomatics research Labs Hyderabad.\")"
   ]
  },
  {
   "cell_type": "code",
   "execution_count": 12,
   "id": "d9c778ac",
   "metadata": {},
   "outputs": [
    {
     "name": "stdout",
     "output_type": "stream",
     "text": [
      "Python supports object-oriented programming (OOP) concepts.\n",
      "Python is a interpreted language.\n",
      "Python has a rich ecosystem of third-party libraries.\n",
      "Python is a open source programming language.\n",
      "Python uses indentation for code block structuring.\n",
      "Python is dynamically Typed Language.\n",
      "Python was created by Guido Van Rossum.\n",
      "I am learning Data science at Innomatics research Labs Hyderabad.\n"
     ]
    }
   ],
   "source": [
    "with open('data.txt','r') as data2:\n",
    "    print(data2.read())"
   ]
  },
  {
   "cell_type": "code",
   "execution_count": null,
   "id": "cec0dbb6",
   "metadata": {},
   "outputs": [],
   "source": []
  }
 ],
 "metadata": {
  "kernelspec": {
   "display_name": "Python 3 (ipykernel)",
   "language": "python",
   "name": "python3"
  },
  "language_info": {
   "codemirror_mode": {
    "name": "ipython",
    "version": 3
   },
   "file_extension": ".py",
   "mimetype": "text/x-python",
   "name": "python",
   "nbconvert_exporter": "python",
   "pygments_lexer": "ipython3",
   "version": "3.11.4"
  }
 },
 "nbformat": 4,
 "nbformat_minor": 5
}
