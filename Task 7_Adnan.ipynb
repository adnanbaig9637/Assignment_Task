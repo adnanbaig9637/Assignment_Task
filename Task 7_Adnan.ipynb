{
 "cells": [
  {
   "cell_type": "markdown",
   "id": "f02710a3",
   "metadata": {},
   "source": [
    "\n",
    "**Task 1: Dictionary Basics**\n",
    "Create a Python program that defines a dictionary to store information about your `favorite book`. Include the title, author, publication year, and genre as key-value pairs. Print out the dictionary.and do atleast 5 dictionary methods on it.\n",
    "\n",
    "**Task 2: Dictionary Lookup**\n",
    "Write a Python program that simulates a simple dictionary for translating `English words to Spanish`. Define a dictionary containing a few English words as `keys` and their corresponding Spanish translations as `values`. Allow `users to enter` an English word, and then display its Spanish translation `if it exists` in the dictionary.(use google for English to Spanish translator)\n",
    "\n",
    "**Task 3: Student Grades**\n",
    "Create a Python program that stores the `grades of five students` in a dictionary. Allow users to input the names of the students and their respective grades. Calculate and display the `average grade` of the students.\n",
    "\n",
    "**Task 4: Contact List**\n",
    "Build a basic contact list using a dictionary. Initially, the dictionary can be `empty`. Allow users to `add new contacts` with `names and phone numbers`. Users should also be able to search for contacts by name and display their phone numbers(use in operator).\n",
    "\n",
    "**Task 5: Dictionary Iteration**\n",
    "Write a Python program that defines a dictionary containing the names of `fruits as keys` and their corresponding `colors as values` (e.g., 'apple': 'red').Do atleast 5 dictionary methods on it.\n"
   ]
  },
  {
   "cell_type": "markdown",
   "id": "77d90858",
   "metadata": {},
   "source": [
    "* Task 1: Dictionary Basics Create a Python program that defines a dictionary to store information about your favorite book. Include the title, author, publication year, and genre as key-value pairs. Print out the dictionary.and do atleast 5 dictionary methods on it"
   ]
  },
  {
   "cell_type": "code",
   "execution_count": 23,
   "id": "d5417991",
   "metadata": {},
   "outputs": [],
   "source": [
    "book = {\"Title\" : \"Wings Of Fire\" , \"Author\" : \"APJ Abdul Kalam\" , \"Publication Year\" : \"1999\" , \"Genre\" : \"Autobiography\"}"
   ]
  },
  {
   "cell_type": "code",
   "execution_count": 24,
   "id": "da746d1f",
   "metadata": {},
   "outputs": [
    {
     "name": "stdout",
     "output_type": "stream",
     "text": [
      "{'Title': 'Wings Of Fire', 'Author': 'APJ Abdul Kalam', 'Publication Year': '1999', 'Genre': 'Autobiography'}\n"
     ]
    }
   ],
   "source": [
    "print(book)"
   ]
  },
  {
   "cell_type": "code",
   "execution_count": 25,
   "id": "6578e685",
   "metadata": {},
   "outputs": [
    {
     "data": {
      "text/plain": [
       "{'Title': 'Wings Of Fire',\n",
       " 'Author': 'APJ Abdul Kalam',\n",
       " 'Publication Year': '1999',\n",
       " 'Genre': 'Autobiography'}"
      ]
     },
     "execution_count": 25,
     "metadata": {},
     "output_type": "execute_result"
    }
   ],
   "source": [
    "\n",
    "keys = (\"Title\",\"Author\",\"Publication Year\",\"Genre\")\n",
    "Values = (\"Wings Of Fire\",\"APJ Abdul Kalam\",\"1999\",\"Autobiography\")\n",
    "dict(zip(keys,Values))"
   ]
  },
  {
   "cell_type": "code",
   "execution_count": 26,
   "id": "3ede6d6b",
   "metadata": {},
   "outputs": [],
   "source": [
    "\n",
    "book = {\"Title\" : \"Wings Of Fire\"}"
   ]
  },
  {
   "cell_type": "code",
   "execution_count": 14,
   "id": "5259f711",
   "metadata": {},
   "outputs": [],
   "source": [
    "book.update({\"Author\" : \"APJ Abdul Kalam\" ,\"Publication Year\" : \"1999\" , \"Genre\" : \"Autobiography\"})"
   ]
  },
  {
   "cell_type": "code",
   "execution_count": 15,
   "id": "e0c7e89b",
   "metadata": {},
   "outputs": [
    {
     "name": "stdout",
     "output_type": "stream",
     "text": [
      "{'Title': 'Wings Of Fire', 'Author': 'APJ Abdul Kalam', 'Publication Year': '1999', 'Genre': 'Autobiography'}\n"
     ]
    }
   ],
   "source": [
    "print(book)"
   ]
  },
  {
   "cell_type": "code",
   "execution_count": 16,
   "id": "0765655d",
   "metadata": {},
   "outputs": [
    {
     "data": {
      "text/plain": [
       "dict_items([('Title', 'Wings Of Fire'), ('Author', 'APJ Abdul Kalam'), ('Publication Year', '1999'), ('Genre', 'Autobiography')])"
      ]
     },
     "execution_count": 16,
     "metadata": {},
     "output_type": "execute_result"
    }
   ],
   "source": [
    "\n",
    "book.items()"
   ]
  },
  {
   "cell_type": "code",
   "execution_count": 17,
   "id": "7945ca53",
   "metadata": {},
   "outputs": [
    {
     "data": {
      "text/plain": [
       "{'Title': 'Wings Of Fire',\n",
       " 'Author': 'APJ Abdul Kalam',\n",
       " 'Publication Year': '1999',\n",
       " 'Genre': 'Autobiography'}"
      ]
     },
     "execution_count": 17,
     "metadata": {},
     "output_type": "execute_result"
    }
   ],
   "source": [
    "book"
   ]
  },
  {
   "cell_type": "code",
   "execution_count": 18,
   "id": "0c03d9bc",
   "metadata": {},
   "outputs": [
    {
     "data": {
      "text/plain": [
       "dict_values(['Wings Of Fire', 'APJ Abdul Kalam', '1999', 'Autobiography'])"
      ]
     },
     "execution_count": 18,
     "metadata": {},
     "output_type": "execute_result"
    }
   ],
   "source": [
    "\n",
    "book.values()"
   ]
  },
  {
   "cell_type": "code",
   "execution_count": 20,
   "id": "4b18282e",
   "metadata": {},
   "outputs": [
    {
     "data": {
      "text/plain": [
       "dict_keys(['Title', 'Author', 'Publication Year', 'Genre'])"
      ]
     },
     "execution_count": 20,
     "metadata": {},
     "output_type": "execute_result"
    }
   ],
   "source": [
    "\n",
    "book.keys()"
   ]
  },
  {
   "cell_type": "code",
   "execution_count": 21,
   "id": "de605cd3",
   "metadata": {},
   "outputs": [
    {
     "data": {
      "text/plain": [
       "'Autobiography'"
      ]
     },
     "execution_count": 21,
     "metadata": {},
     "output_type": "execute_result"
    }
   ],
   "source": [
    "book.pop(\"Genre\")"
   ]
  },
  {
   "cell_type": "code",
   "execution_count": 22,
   "id": "e2f21771",
   "metadata": {},
   "outputs": [
    {
     "data": {
      "text/plain": [
       "{'Title': 'Wings Of Fire',\n",
       " 'Author': 'APJ Abdul Kalam',\n",
       " 'Publication Year': '1999'}"
      ]
     },
     "execution_count": 22,
     "metadata": {},
     "output_type": "execute_result"
    }
   ],
   "source": [
    "book"
   ]
  },
  {
   "cell_type": "markdown",
   "id": "354384ae",
   "metadata": {},
   "source": [
    "* **Task 2: Dictionary Lookup**\n",
    "Write a Python program that simulates a simple dictionary for translating `English words to Spanish`. Define a dictionary containing a few English words as `keys` and their corresponding Spanish translations as `values`. Allow `users to enter` an English word, and then display its Spanish translation `if it exists` in the dictionary.(use google for English to Spanish translator)"
   ]
  },
  {
   "cell_type": "code",
   "execution_count": 27,
   "id": "36bb6975",
   "metadata": {},
   "outputs": [],
   "source": [
    "word = {\"Name\" : \"Nombre\" ,\"Address\" : \"Direccion\" , \"aeroplane\" : \"avion\" }"
   ]
  },
  {
   "cell_type": "code",
   "execution_count": 33,
   "id": "a8eda581",
   "metadata": {},
   "outputs": [
    {
     "name": "stdout",
     "output_type": "stream",
     "text": [
      "Enter a English word :: Name\n"
     ]
    },
    {
     "data": {
      "text/plain": [
       "'Nombre'"
      ]
     },
     "execution_count": 33,
     "metadata": {},
     "output_type": "execute_result"
    }
   ],
   "source": [
    "user = input(\"Enter a English word :: \")\n",
    "word.get(user)\n"
   ]
  },
  {
   "cell_type": "code",
   "execution_count": 34,
   "id": "042acf24",
   "metadata": {},
   "outputs": [
    {
     "name": "stdout",
     "output_type": "stream",
     "text": [
      "Enter a English word :: Address\n"
     ]
    },
    {
     "data": {
      "text/plain": [
       "'Direccion'"
      ]
     },
     "execution_count": 34,
     "metadata": {},
     "output_type": "execute_result"
    }
   ],
   "source": [
    "user = input(\"Enter a English word :: \")\n",
    "word.get(user)"
   ]
  },
  {
   "cell_type": "code",
   "execution_count": 35,
   "id": "5e246302",
   "metadata": {},
   "outputs": [
    {
     "name": "stdout",
     "output_type": "stream",
     "text": [
      "Enter a English word :: aeroplane\n"
     ]
    },
    {
     "data": {
      "text/plain": [
       "'avion'"
      ]
     },
     "execution_count": 35,
     "metadata": {},
     "output_type": "execute_result"
    }
   ],
   "source": [
    "user = input(\"Enter a English word :: \")\n",
    "word.get(user)"
   ]
  },
  {
   "cell_type": "markdown",
   "id": "e6f05c8e",
   "metadata": {},
   "source": [
    "* Task 3: Student Grades Create a Python program that stores the grades of five students in a dictionary. Allow users to input the names of the students and their respective grades. Calculate and display the average grade of the students."
   ]
  },
  {
   "cell_type": "code",
   "execution_count": 4,
   "id": "3acfbfe0",
   "metadata": {},
   "outputs": [
    {
     "name": "stdout",
     "output_type": "stream",
     "text": [
      "Enter your name Adnan\n",
      "Enter your grade 95\n",
      "Enter your name Raheem\n",
      "Enter your grade 90\n",
      "Enter your name Mansoor\n",
      "Enter your grade 95\n",
      "Enter your name Satish\n",
      "Enter your grade 90\n",
      "Enter your name Syed\n",
      "Enter your grade 95\n"
     ]
    }
   ],
   "source": [
    "name1 = input(\"Enter your name \")\n",
    "grade1 = int(input(\"Enter your grade \"))\n",
    "name2 = input(\"Enter your name \")\n",
    "grade2 = int(input(\"Enter your grade \"))\n",
    "name3 = input(\"Enter your name \")\n",
    "grade3 = int(input(\"Enter your grade \"))\n",
    "name4 = input(\"Enter your name \")\n",
    "grade4 = int(input(\"Enter your grade \"))\n",
    "name5 = input(\"Enter your name \")\n",
    "grade5 = int(input(\"Enter your grade \"))\n",
    "\n"
   ]
  },
  {
   "cell_type": "code",
   "execution_count": 5,
   "id": "750db829",
   "metadata": {},
   "outputs": [],
   "source": [
    "names = [name1,name2,name3,name4,name5]\n",
    "grades = [grade1,grade2,grade3,grade4,grade5]\n",
    "students = dict(zip(names,grades))"
   ]
  },
  {
   "cell_type": "code",
   "execution_count": 6,
   "id": "b18cd94c",
   "metadata": {},
   "outputs": [
    {
     "name": "stdout",
     "output_type": "stream",
     "text": [
      "{'Adnan': 95, 'Raheem': 90, 'Mansoor': 95, 'Satish': 90, 'Syed': 95}\n"
     ]
    }
   ],
   "source": [
    "print(students)"
   ]
  },
  {
   "cell_type": "code",
   "execution_count": 8,
   "id": "29809fea",
   "metadata": {},
   "outputs": [
    {
     "data": {
      "text/plain": [
       "5"
      ]
     },
     "execution_count": 8,
     "metadata": {},
     "output_type": "execute_result"
    }
   ],
   "source": [
    "len(grades)"
   ]
  },
  {
   "cell_type": "code",
   "execution_count": 9,
   "id": "7ff0fa61",
   "metadata": {},
   "outputs": [],
   "source": [
    "avg = (grade1 + grade2 + grade3 + grade4 + grade5)/len(grades)"
   ]
  },
  {
   "cell_type": "code",
   "execution_count": 10,
   "id": "d71c311e",
   "metadata": {},
   "outputs": [
    {
     "name": "stdout",
     "output_type": "stream",
     "text": [
      "93.0\n"
     ]
    }
   ],
   "source": [
    "print(avg)"
   ]
  },
  {
   "cell_type": "code",
   "execution_count": null,
   "id": "fba28c28",
   "metadata": {},
   "outputs": [],
   "source": []
  },
  {
   "cell_type": "markdown",
   "id": "8dfae37c",
   "metadata": {},
   "source": [
    "* Task 5: Dictionary Iteration Write a Python program that defines a dictionary containing the names of fruits as keys and their corresponding colors as values (e.g., 'apple': 'red').Do atleast 5 dictionary methods on it."
   ]
  },
  {
   "cell_type": "code",
   "execution_count": 12,
   "id": "9799daad",
   "metadata": {},
   "outputs": [],
   "source": [
    "fruits = [\"apple\",\"orange\",\"mango\",\"watermelon\",\"cherry\"]\n",
    "colours = [\"red\",\"orange\",\"yello\",\"green\",\"red\"]\n",
    "new = dict(zip(fruits,colours))\n"
   ]
  },
  {
   "cell_type": "code",
   "execution_count": 13,
   "id": "6b3fcb68",
   "metadata": {},
   "outputs": [
    {
     "name": "stdout",
     "output_type": "stream",
     "text": [
      "{'apple': 'red', 'orange': 'orange', 'mango': 'yello', 'watermelon': 'green', 'cherry': 'red'}\n"
     ]
    }
   ],
   "source": [
    "print(new)"
   ]
  },
  {
   "cell_type": "code",
   "execution_count": 14,
   "id": "4b7cdb5c",
   "metadata": {},
   "outputs": [
    {
     "data": {
      "text/plain": [
       "dict_values(['red', 'orange', 'yello', 'green', 'red'])"
      ]
     },
     "execution_count": 14,
     "metadata": {},
     "output_type": "execute_result"
    }
   ],
   "source": [
    "new.values()"
   ]
  },
  {
   "cell_type": "code",
   "execution_count": 15,
   "id": "0375c9ef",
   "metadata": {},
   "outputs": [
    {
     "data": {
      "text/plain": [
       "dict_keys(['apple', 'orange', 'mango', 'watermelon', 'cherry'])"
      ]
     },
     "execution_count": 15,
     "metadata": {},
     "output_type": "execute_result"
    }
   ],
   "source": [
    "new.keys()"
   ]
  },
  {
   "cell_type": "code",
   "execution_count": 16,
   "id": "48a52c5d",
   "metadata": {},
   "outputs": [
    {
     "data": {
      "text/plain": [
       "'red'"
      ]
     },
     "execution_count": 16,
     "metadata": {},
     "output_type": "execute_result"
    }
   ],
   "source": [
    "new.get(\"apple\")"
   ]
  },
  {
   "cell_type": "code",
   "execution_count": 17,
   "id": "58443e36",
   "metadata": {},
   "outputs": [
    {
     "data": {
      "text/plain": [
       "dict_items([('apple', 'red'), ('orange', 'orange'), ('mango', 'yello'), ('watermelon', 'green'), ('cherry', 'red')])"
      ]
     },
     "execution_count": 17,
     "metadata": {},
     "output_type": "execute_result"
    }
   ],
   "source": [
    "new.items()"
   ]
  },
  {
   "cell_type": "code",
   "execution_count": 18,
   "id": "3000b19d",
   "metadata": {},
   "outputs": [
    {
     "data": {
      "text/plain": [
       "('cherry', 'red')"
      ]
     },
     "execution_count": 18,
     "metadata": {},
     "output_type": "execute_result"
    }
   ],
   "source": [
    "new.popitem()"
   ]
  },
  {
   "cell_type": "code",
   "execution_count": 19,
   "id": "283d691b",
   "metadata": {},
   "outputs": [
    {
     "data": {
      "text/plain": [
       "{'apple': 'red', 'orange': 'orange', 'mango': 'yello', 'watermelon': 'green'}"
      ]
     },
     "execution_count": 19,
     "metadata": {},
     "output_type": "execute_result"
    }
   ],
   "source": [
    "new"
   ]
  },
  {
   "cell_type": "code",
   "execution_count": null,
   "id": "d85a3a8f",
   "metadata": {},
   "outputs": [],
   "source": []
  },
  {
   "cell_type": "markdown",
   "id": "50c9a06a",
   "metadata": {},
   "source": [
    "* Task 4: Contact List Build a basic contact list using a dictionary. Initially, the dictionary can be empty. Allow users to add new contacts with names and phone numbers. Users should also be able to search for contacts by name and display their phone numbers(use in operator)."
   ]
  },
  {
   "cell_type": "code",
   "execution_count": 21,
   "id": "9589602e",
   "metadata": {},
   "outputs": [],
   "source": [
    "empty = dict()"
   ]
  },
  {
   "cell_type": "code",
   "execution_count": 10,
   "id": "ea8bc45a",
   "metadata": {},
   "outputs": [
    {
     "name": "stdout",
     "output_type": "stream",
     "text": [
      "Enter name :: Adnan\n",
      "Enter phone number :: 1234567890\n",
      "Enter name :: Raheem\n",
      "Enter phone number :: 0987654321\n"
     ]
    }
   ],
   "source": [
    "name1 = input(\"Enter name :: \")\n",
    "num1 = int(input(\"Enter phone number :: \"))\n",
    "name2 = input(\"Enter name :: \")\n",
    "num2 = int(input(\"Enter phone number :: \"))\n"
   ]
  },
  {
   "cell_type": "code",
   "execution_count": 18,
   "id": "51e28be3",
   "metadata": {},
   "outputs": [],
   "source": [
    "names = [name1,name2]\n",
    "numbers = [num1,num2]\n",
    "contacts = dict(zip(names,numbers))"
   ]
  },
  {
   "cell_type": "code",
   "execution_count": 19,
   "id": "fe1eb686",
   "metadata": {},
   "outputs": [
    {
     "data": {
      "text/plain": [
       "{'Adnan': 1234567890, 'Raheem': 987654321}"
      ]
     },
     "execution_count": 19,
     "metadata": {},
     "output_type": "execute_result"
    }
   ],
   "source": [
    "contacts"
   ]
  },
  {
   "cell_type": "code",
   "execution_count": 21,
   "id": "78077473",
   "metadata": {},
   "outputs": [
    {
     "name": "stdout",
     "output_type": "stream",
     "text": [
      "Search by name Adnan\n"
     ]
    },
    {
     "data": {
      "text/plain": [
       "1234567890"
      ]
     },
     "execution_count": 21,
     "metadata": {},
     "output_type": "execute_result"
    }
   ],
   "source": [
    "search = input(\"Search by name \")\n",
    "contacts[search]"
   ]
  },
  {
   "cell_type": "code",
   "execution_count": 23,
   "id": "9de095e5",
   "metadata": {},
   "outputs": [
    {
     "name": "stdout",
     "output_type": "stream",
     "text": [
      "search by name :: Adnan\n",
      "1234567890\n"
     ]
    }
   ],
   "source": [
    "#or\n",
    "if input(\"search by name :: \") in name1:\n",
    "    print(num1)"
   ]
  },
  {
   "cell_type": "code",
   "execution_count": null,
   "id": "075ab72a",
   "metadata": {},
   "outputs": [],
   "source": []
  }
 ],
 "metadata": {
  "kernelspec": {
   "display_name": "Python 3 (ipykernel)",
   "language": "python",
   "name": "python3"
  },
  "language_info": {
   "codemirror_mode": {
    "name": "ipython",
    "version": 3
   },
   "file_extension": ".py",
   "mimetype": "text/x-python",
   "name": "python",
   "nbconvert_exporter": "python",
   "pygments_lexer": "ipython3",
   "version": "3.11.4"
  }
 },
 "nbformat": 4,
 "nbformat_minor": 5
}
