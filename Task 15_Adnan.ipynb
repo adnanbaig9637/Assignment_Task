{
 "cells": [
  {
   "cell_type": "markdown",
   "id": "985dd64b",
   "metadata": {},
   "source": [
    "Task 1: **Leap Year Checker**\n",
    "\n",
    "Write a program that takes a year as input and determines whether it is a leap year or not. A leap year is a year that is divisible by 4, but not divisible by 100, unless it is also divisible by 400. Display an appropriate message indicating whether the year is a leap year or not.\n",
    "\n",
    "Task 2: **Grade Calculator**\n",
    "\n",
    "Write a program that takes a student's score as input (out of 100) and determines their grade based on the following conditions:\n",
    "If the score is 90 or above, the grade is 'A'.\n",
    "If the score is between 80 and 89, the grade is 'B'.\n",
    "If the score is between 70 and 79, the grade is 'C'.\n",
    "If the score is between 60 and 69, the grade is 'D'. If the score is below 60, the grade is 'F'.\n",
    "Display the grade corresponding to the entered score.\n",
    "\n",
    "Task 3: **Calculator**\n",
    "Write a program that takes two numbers as input and performs a mathematical operation (+, -, *, /) based on the user's choice. Use a conditional statement to determine the operation to be performed. Display the result of the calculation.\n",
    "\n",
    "Task 4: **Reverse String**\n",
    "Write a Python function to reverse a string.\n",
    "\n",
    "Task 5: **Palindrome**\n",
    "Write a Python function that checks whether a passed string is a palindrome or not.\n",
    "\n",
    "Task 6: **Counting**\n",
    "Write a Python function that accepts a string and counts the number of upper and lower case letters.\n",
    "\n",
    "Task 7: **"
   ]
  },
  {
   "cell_type": "markdown",
   "id": "a5736151",
   "metadata": {},
   "source": [
    "Task 1: **Leap Year Checker**\n",
    "\n",
    "Write a program that takes a year as input and determines whether it is a leap year or not. A leap year is a year that is divisible by 4, but not divisible by 100, unless it is also divisible by 400. Display an appropriate message indicating whether the year is a leap year or not.\n"
   ]
  },
  {
   "cell_type": "code",
   "execution_count": 12,
   "id": "4fadef23",
   "metadata": {},
   "outputs": [
    {
     "name": "stdout",
     "output_type": "stream",
     "text": [
      "Enter a year to find which is leap year or not :: 2004\n",
      "It is a leap year \n"
     ]
    }
   ],
   "source": [
    "user = int(input(\"Enter a year to find which is leap year or not :: \"))      #Using Normal method\n",
    "if user%4 == 0 or user%400 == 0 and user%100 == 1:\n",
    "    print(\"It is a leap year \")\n",
    "else:\n",
    "    print(\"It is not leap year \")"
   ]
  },
  {
   "cell_type": "code",
   "execution_count": 23,
   "id": "f5964d26",
   "metadata": {},
   "outputs": [
    {
     "name": "stdout",
     "output_type": "stream",
     "text": [
      "Enter a year :: 2008\n",
      "It is a leap year \n"
     ]
    }
   ],
   "source": [
    "def leap(n):                                                  #Using normal function method\n",
    "    return n\n",
    "n = int(input(\"Enter a year :: \"))\n",
    "if n%4 == 0 or n%400 == 0 and n%100 == 1:\n",
    "    print(\"It is a leap year \")\n",
    "else:\n",
    "    print(\"It is not leap year \")\n"
   ]
  },
  {
   "cell_type": "code",
   "execution_count": 60,
   "id": "8ee5fc77",
   "metadata": {},
   "outputs": [],
   "source": [
    "year = [2000,2001,2002,2003,2004,2005,2006,2007,2008]"
   ]
  },
  {
   "cell_type": "code",
   "execution_count": 76,
   "id": "ace94cd5",
   "metadata": {},
   "outputs": [
    {
     "data": {
      "text/plain": [
       "[2000, 2004, 2008]"
      ]
     },
     "execution_count": 76,
     "metadata": {},
     "output_type": "execute_result"
    }
   ],
   "source": [
    "def var(year):                                                 #Using filter function\n",
    "    if year%4 == 0 or year%400 == 0 and year%100 == 1:\n",
    "        return year\n",
    "year = [2000,2001,2002,2003,2004,2005,2006,2007,2008]\n",
    "list(filter(var,year))"
   ]
  },
  {
   "cell_type": "code",
   "execution_count": 73,
   "id": "e41f2d7b",
   "metadata": {},
   "outputs": [
    {
     "data": {
      "text/plain": [
       "[2000, 2001, 2002, 2003, 2004, 2005, 2006, 2007, 2008]"
      ]
     },
     "execution_count": 73,
     "metadata": {},
     "output_type": "execute_result"
    }
   ],
   "source": [
    "year"
   ]
  },
  {
   "cell_type": "code",
   "execution_count": 93,
   "id": "e6980454",
   "metadata": {},
   "outputs": [
    {
     "data": {
      "text/plain": [
       "['It is leap year',\n",
       " 'It is not leap year',\n",
       " 'It is not leap year',\n",
       " 'It is not leap year',\n",
       " 'It is leap year',\n",
       " 'It is not leap year',\n",
       " 'It is not leap year',\n",
       " 'It is not leap year',\n",
       " 'It is leap year']"
      ]
     },
     "execution_count": 93,
     "metadata": {},
     "output_type": "execute_result"
    }
   ],
   "source": [
    "year = [2000,2001,2002,2003,2004,2005,2006,2007,2008]            #using map function\n",
    "def var(year):\n",
    "    if year%4 == 0 or year%400 == 0 and year%100 == 1:\n",
    "        return \"It is leap year\"\n",
    "    else:\n",
    "        return \"It is not leap year\"\n",
    "list(map(var,year))"
   ]
  },
  {
   "cell_type": "markdown",
   "id": "7ddf8571",
   "metadata": {},
   "source": [
    "Task 2: **Grade Calculator**\n",
    "\n",
    "* Write a program that takes a student's score as input (out of 100) and determines their grade based on the following conditions:\n",
    "* If the score is 90 or above, the grade is 'A'.\n",
    "* If the score is between 80 and 89, the grade is 'B'.\n",
    "* If the score is between 70 and 79, the grade is 'C'.\n",
    "* If the score is between 60 and 69, the grade is 'D'. If the score is below 60, the grade is 'F'.\n",
    "* Display the grade corresponding to the entered score.\n"
   ]
  },
  {
   "cell_type": "code",
   "execution_count": 102,
   "id": "b2f87d9c",
   "metadata": {},
   "outputs": [
    {
     "name": "stdout",
     "output_type": "stream",
     "text": [
      "Enter your makrs :: 95\n"
     ]
    },
    {
     "data": {
      "text/plain": [
       "'A grade'"
      ]
     },
     "execution_count": 102,
     "metadata": {},
     "output_type": "execute_result"
    }
   ],
   "source": [
    "def Grade(marks):                                 #using normal function\n",
    "    if marks >= 90 and marks<=100 :\n",
    "        return (\"A grade\")\n",
    "    elif marks >= 80 and marks <= 89 :\n",
    "        return (\"B grade\")\n",
    "    elif marks >= 70 and marks <= 79 :\n",
    "        return (\"C grade\")\n",
    "    elif marks >= 60 and marks <= 69 :\n",
    "        return (\"D grade\")\n",
    "    elif marks <= 0 or marks > 100 :\n",
    "        return (\"Enter valid marks\")\n",
    "    else:\n",
    "        return (\"F grade\")\n",
    "Grade(int(input(\"Enter your makrs :: \")))"
   ]
  },
  {
   "cell_type": "code",
   "execution_count": 111,
   "id": "58f04ae7",
   "metadata": {},
   "outputs": [
    {
     "data": {
      "text/plain": [
       "['D grade', 'D grade', 'C grade', 'B grade', 'A grade', 'F grade']"
      ]
     },
     "execution_count": 111,
     "metadata": {},
     "output_type": "execute_result"
    }
   ],
   "source": [
    "marks = [60,65,75,85,95,20]                       #using map function\n",
    "def Grade(marks):\n",
    "\n",
    "    if marks >= 90 and marks<=100 :\n",
    "        return \"A grade\"\n",
    "    elif marks >= 80 and marks <= 89 :\n",
    "        return \"B grade\"\n",
    "    elif marks >= 70 and marks <= 79 :\n",
    "        return \"C grade\"\n",
    "    elif marks >= 60 and marks <= 69 :\n",
    "        return \"D grade\"\n",
    "    elif marks <= 0 or marks > 100 :\n",
    "        return (\"Enter valid marks\")\n",
    "    else:\n",
    "        return \"F grade\"\n",
    "\n",
    "a = list(map(Grade,marks))\n",
    "a"
   ]
  },
  {
   "cell_type": "markdown",
   "id": "9b59c6aa",
   "metadata": {},
   "source": [
    "Task 3: **Calculator**\n",
    "* Write a program that takes two numbers as input and performs a mathematical operation (+, -, *, /) based on the user's choice. Use a conditional statement to determine the operation to be performed. Display the result of the calculation.\n"
   ]
  },
  {
   "cell_type": "code",
   "execution_count": 7,
   "id": "5a76793b",
   "metadata": {},
   "outputs": [
    {
     "name": "stdout",
     "output_type": "stream",
     "text": [
      "Select the operator + , - , * , / :: +\n",
      "Enter first number 30\n",
      "Enter second number 50\n"
     ]
    },
    {
     "data": {
      "text/plain": [
       "80"
      ]
     },
     "execution_count": 7,
     "metadata": {},
     "output_type": "execute_result"
    }
   ],
   "source": [
    "operation = input(\"Select the operator + , - , * , / :: \")\n",
    "def calc(x,y):                                                     #Normal function method\n",
    "    if operation == \"+\":\n",
    "        return x+y\n",
    "    elif operation == \"-\":\n",
    "        return x-y\n",
    "    elif operation == \"*\":\n",
    "        return x*y\n",
    "    elif operation == \"/\":\n",
    "        return x/y\n",
    "    else:\n",
    "        return \"Enter valid operator\"\n",
    "\n",
    "calc(x= int(input(\"Enter first number \")),y = int(input(\"Enter second number \")))"
   ]
  },
  {
   "cell_type": "markdown",
   "id": "79302977",
   "metadata": {},
   "source": [
    "Task 4: **Reverse String**\n",
    "* Write a Python function to reverse a string.\n"
   ]
  },
  {
   "cell_type": "code",
   "execution_count": 10,
   "id": "93f776de",
   "metadata": {},
   "outputs": [
    {
     "data": {
      "text/plain": [
       "'sbaL hcraeseR scitamonnI'"
      ]
     },
     "execution_count": 10,
     "metadata": {},
     "output_type": "execute_result"
    }
   ],
   "source": [
    "string = (\"Innomatics Research Labs\")            #using normal function\n",
    "def rev(string):\n",
    "    return string[::-1]\n",
    "rev(string)"
   ]
  },
  {
   "cell_type": "code",
   "execution_count": 11,
   "id": "74b1e8f6",
   "metadata": {},
   "outputs": [
    {
     "data": {
      "text/plain": [
       "'sbaL hcraeseR scitamonnI'"
      ]
     },
     "execution_count": 11,
     "metadata": {},
     "output_type": "execute_result"
    }
   ],
   "source": [
    "c = lambda string: string[::-1]                   #Using lambda function\n",
    "c(\"Innomatics Research Labs\") "
   ]
  },
  {
   "cell_type": "code",
   "execution_count": 24,
   "id": "51b14cc3",
   "metadata": {},
   "outputs": [
    {
     "data": {
      "text/plain": [
       "['scitamonnI', 'hcraeseR', 'sbaL']"
      ]
     },
     "execution_count": 24,
     "metadata": {},
     "output_type": "execute_result"
    }
   ],
   "source": [
    "string = (\"Innomatics\", \"Research\" ,\"Labs\")        #Using map function\n",
    "def rev(t):\n",
    "    return t[::-1]\n",
    "a = list(map(rev,string))\n",
    "a"
   ]
  },
  {
   "cell_type": "markdown",
   "id": "a3bc0e5e",
   "metadata": {},
   "source": [
    "Task 5: **Palindrome**\n",
    "* Write a Python function that checks whether a passed string is a palindrome or not.\n"
   ]
  },
  {
   "cell_type": "code",
   "execution_count": 29,
   "id": "a8a15329",
   "metadata": {},
   "outputs": [
    {
     "name": "stdout",
     "output_type": "stream",
     "text": [
      "Enter a string :: madam\n"
     ]
    },
    {
     "data": {
      "text/plain": [
       "'It is palindrome'"
      ]
     },
     "execution_count": 29,
     "metadata": {},
     "output_type": "execute_result"
    }
   ],
   "source": [
    "string = input(\"Enter a string :: \")             #using normal function\n",
    "def rev(string):\n",
    "    if string == string[::-1]:\n",
    "        return \"It is palindrome\"\n",
    "    else:\n",
    "        return \"It is not palindrome\"\n",
    "rev(string)"
   ]
  },
  {
   "cell_type": "code",
   "execution_count": 39,
   "id": "f4fa3b05",
   "metadata": {},
   "outputs": [
    {
     "name": "stdout",
     "output_type": "stream",
     "text": [
      "It is palindrome\n",
      "It is palindrome\n",
      "It is not palindrome\n",
      "It is palindrome\n"
     ]
    }
   ],
   "source": [
    "list1 = [\"madam\",\"ramukumar\",\"adnan\",\"2552\"]        #using filter function\n",
    "def rev(string):\n",
    "    if string == string[::-1]:\n",
    "        print(\"It is palindrome\")\n",
    "    else:\n",
    "        print(\"It is not palindrome\")\n",
    "a = list(filter(rev,list1))\n"
   ]
  },
  {
   "cell_type": "code",
   "execution_count": 50,
   "id": "2daa1b2d",
   "metadata": {},
   "outputs": [
    {
     "name": "stdout",
     "output_type": "stream",
     "text": [
      "Enter a string :: madam\n",
      "It is palindrome\n"
     ]
    }
   ],
   "source": [
    "a = lambda string : string == string[::-1]           #using lambda function\n",
    "strr = input(\"Enter a string :: \")\n",
    "if a(strr) == True:\n",
    "    print(\"It is palindrome\")\n",
    "else:\n",
    "    print(\"It is not palindrome\")"
   ]
  },
  {
   "cell_type": "code",
   "execution_count": 52,
   "id": "837a5492",
   "metadata": {},
   "outputs": [
    {
     "name": "stdout",
     "output_type": "stream",
     "text": [
      "It is not palindrome\n",
      "It is not palindrome\n",
      "It is palindrome\n"
     ]
    }
   ],
   "source": [
    "list2 = [\"innomatics\",\"baig\",\"madam\"]                #using map function\n",
    "def rev(string):\n",
    "    if string == string[::-1]:\n",
    "        print(\"It is palindrome\")\n",
    "    else:\n",
    "        print(\"It is not palindrome\")\n",
    "a = list(map(rev,list2))"
   ]
  },
  {
   "cell_type": "markdown",
   "id": "82966bf8",
   "metadata": {},
   "source": [
    "Task 6: **Counting**\n",
    "* Write a Python function that accepts a string and counts the number of upper and lower case letters."
   ]
  },
  {
   "cell_type": "code",
   "execution_count": 60,
   "id": "dd542434",
   "metadata": {},
   "outputs": [
    {
     "name": "stdout",
     "output_type": "stream",
     "text": [
      "Enter string :: I am learning Data Science at Innomatics\n",
      "['I', 'D', 'S', 'I']\n",
      "['a', 'm', 'l', 'e', 'a', 'r', 'n', 'i', 'n', 'g', 'a', 't', 'a', 'c', 'i', 'e', 'n', 'c', 'e', 'a', 't', 'n', 'n', 'o', 'm', 'a', 't', 'i', 'c', 's']\n",
      "No of uppercase is:  4\n",
      "No of lowercase is:  30\n"
     ]
    }
   ],
   "source": [
    "string = input(\"Enter string :: \")\n",
    "upper = []\n",
    "lower = []\n",
    "\n",
    "def count(string):\n",
    "    upp = ['A','B','C','D','E','F','G','H','I','J','K','L','M','N','O','P','Q','R','S','T','U','V','W','X','Y','Z']\n",
    "    low = ['a','b','c','d','e','f','g','h','i','j','k','l','m','n','o','p','q','r','s','t','u','v','w','x','y','z']\n",
    "    \n",
    "    for i in string:\n",
    "        if i in upp:\n",
    "            upper.append(i)\n",
    "        elif i in low:\n",
    "            lower.append(i)\n",
    "    print(upper)\n",
    "    print(lower)\n",
    "    print(\"No of uppercase is: \" ,len(upper))\n",
    "    print(\"No of lowercase is: \" ,len(lower))\n",
    "count(string)   "
   ]
  },
  {
   "cell_type": "code",
   "execution_count": null,
   "id": "c4a5d50e",
   "metadata": {},
   "outputs": [],
   "source": []
  }
 ],
 "metadata": {
  "kernelspec": {
   "display_name": "Python 3 (ipykernel)",
   "language": "python",
   "name": "python3"
  },
  "language_info": {
   "codemirror_mode": {
    "name": "ipython",
    "version": 3
   },
   "file_extension": ".py",
   "mimetype": "text/x-python",
   "name": "python",
   "nbconvert_exporter": "python",
   "pygments_lexer": "ipython3",
   "version": "3.11.4"
  }
 },
 "nbformat": 4,
 "nbformat_minor": 5
}
