{
 "cells": [
  {
   "cell_type": "markdown",
   "id": "b8536ea7",
   "metadata": {},
   "source": [
    "* Write a program that calculates the `sum, difference, product, and quotient` of two numbers: 10 and 5.\n",
    "\n",
    "* Create a program that calculates the `area of a circle` with a radius of 4.5 units."
   ]
  },
  {
   "cell_type": "markdown",
   "id": "3f81b9d8",
   "metadata": {},
   "source": [
    "*  Write a program that `swaps` the values of two variables: x with a value of 5 and \"y\" with a value of 10.\n",
    "* Create a program that calculates `compound interest` for a principal amount of $1000, an interest rate of 5%, and a time period of 3 years."
   ]
  },
  {
   "cell_type": "markdown",
   "id": "768483d0",
   "metadata": {},
   "source": [
    "* Write a program that `compares` two numbers: 7 and 12, and determines whether the first number is greater than, less than, or equal to the second number.\n",
    "* Create a program that `checks` if a person of age 18 is eligible to vote based on the voting age requirement.(True/False)"
   ]
  },
  {
   "cell_type": "markdown",
   "id": "7881a204",
   "metadata": {},
   "source": [
    "* Create a program that `swaps` the values of two integers: `a` with a value of 10 and `b` with a value of 20 using\n",
    " *  bitwise XOR (^) operator.\n",
    " * Logical AND\n",
    " * Logical OR\n",
    " * Logical NOT"
   ]
  },
  {
   "cell_type": "markdown",
   "id": "1844e65c",
   "metadata": {},
   "source": [
    "*  Create a Python program that calculates the `area of a rectangle`. Prompt the `user to enter` the length and width of the rectangle, `store them` in variables, and compute the area using the formula:area length width.Finally, `print the calculated area.\n",
    "\n",
    "* Create a Python program that calculates the `average` of three exam scores. Prompt the user to enter the scores, `store them` in variables, calculate the average, and print the result.\n",
    "\n",
    "* Write a Python program that `converts` temperature from Celsius to Fahrenheit. Prompt the user to enter a temperature in Celsius, store it in a variable, and convert it to Fahrenheit using the formula: `Fahrenheit = (Celsius* 9/5)+32`, and print the converted temperature.\n",
    "\n",
    "* What are the `logical operators` in Python? Explain `each one` with an example.\n",
    "\n",
    "* What are the `membership` operators in Python? Explain their usage with examples\n",
    "\n",
    "* List and briefly explain the `basic data types` available in Python.\n",
    "\n",
    "* Write a Python code snippet that `assigns a value to a variable `and determines its `data type` using the type() function."
   ]
  },
  {
   "cell_type": "markdown",
   "id": "95ed62b5",
   "metadata": {},
   "source": [
    "Assignment: Basic Python Operators\n",
    "\n",
    "**Task 1: Arithmetic Operators**\n",
    "1. Write a Python program that takes two user-input numbers and displays their sum using the addition operator.\n",
    "2. Create a program to calculate the area of a rectangle. Prompt the user for the length and width, then use multiplication to find the area.\n",
    "3. Implement a program that converts temperature from Celsius to Fahrenheit using the formula: Fahrenheit = (Celsius * 9/5) + 32.\n",
    "\n",
    "**Task 2: Comparison Operators**\n",
    "1. Write a program that compares two user-input numbers and prints whether the first number is greater than the second number or not.\n",
    "2. Create a program that determines whether a user-input year is a leap year or not. A leap year is divisible by 4 and not divisible by 100, unless it is also divisible by 400.\n",
    "3. Implement a simple guessing game. Generate a random number between 1 and 100 and have the user guess the number. Provide feedback if their guess is too high or too low, and let them know when they've guessed correctly.\n",
    "\n",
    "**Task 3: Logical Operators**\n",
    "1. Write a program that checks whether a user-input number is positive and even using logical AND (`and`) operator.\n",
    "2. Create a login system where you define a correct username and password. Ask the user for their input and compare it with the correct credentials using logical OR (`or`) operator. Provide access if either the username or password is correct.\n",
    "3. Implement a program that determines whether a given year is a leap year and divisible by 7 using logical NOT (`not`) operator.\n",
    "\n",
    "**Task 4: Assignment Operators**\n",
    "1. Write a program to calculate the square of a number using the exponentiation operator (`**`) and assign it back to the same variable.\n",
    "2. Create a program that keeps track of the total score in a game. Prompt the user for their latest score and update the total score using the addition assignment operator (`+=`).\n",
    "3. Implement a program to convert seconds into hours, minutes, and remaining seconds using both division and modulo operators, and then assign each value using assignment operators.\n",
    "\n",
    "**Task 5: Bitwise Operators**\n",
    "1. Write a program that performs a bitwise AND operation between two user-input numbers and displays the result.\n",
    "2. Create a program to toggle the nth bit of a given number. Ask the user for the number and the value of n, then use bitwise XOR (^) operator to toggle the bit.\n",
    "3. Implement a program to swap the values of two variables without using a temporary variable, only using bitwise XOR (^) operator.\n",
    "\n"
   ]
  },
  {
   "cell_type": "markdown",
   "id": "22bff2c9",
   "metadata": {},
   "source": [
    "## Solutions\n",
    "* Write a program that calculates the `sum, difference, product, and quotient` of two numbers: 10 and 5."
   ]
  },
  {
   "cell_type": "code",
   "execution_count": 1,
   "id": "48a770d7",
   "metadata": {},
   "outputs": [
    {
     "name": "stdout",
     "output_type": "stream",
     "text": [
      "15\n"
     ]
    }
   ],
   "source": [
    "a = 10 \n",
    "b = 5\n",
    "print(a+b) #Sum"
   ]
  },
  {
   "cell_type": "code",
   "execution_count": 2,
   "id": "0b170c04",
   "metadata": {},
   "outputs": [
    {
     "name": "stdout",
     "output_type": "stream",
     "text": [
      "5\n"
     ]
    }
   ],
   "source": [
    "a = 10\n",
    "b = 5\n",
    "print(a-b) #difference"
   ]
  },
  {
   "cell_type": "code",
   "execution_count": 3,
   "id": "6846ae66",
   "metadata": {},
   "outputs": [
    {
     "name": "stdout",
     "output_type": "stream",
     "text": [
      "50\n"
     ]
    }
   ],
   "source": [
    "a = 10\n",
    "b = 5\n",
    "print(a*b) #product"
   ]
  },
  {
   "cell_type": "code",
   "execution_count": 4,
   "id": "ef4a315b",
   "metadata": {},
   "outputs": [
    {
     "name": "stdout",
     "output_type": "stream",
     "text": [
      "2\n"
     ]
    }
   ],
   "source": [
    "a = 10\n",
    "b = 5\n",
    "print(a//b) #quotient"
   ]
  },
  {
   "cell_type": "markdown",
   "id": "ee998f13",
   "metadata": {},
   "source": [
    "* Create a program that calculates the `area of a circle` with a radius of 4.5 units."
   ]
  },
  {
   "cell_type": "code",
   "execution_count": 9,
   "id": "fa3c7c09",
   "metadata": {},
   "outputs": [
    {
     "name": "stdout",
     "output_type": "stream",
     "text": [
      "63.585\n"
     ]
    }
   ],
   "source": [
    "radius = 4.5\n",
    "pi = 3.14\n",
    "#area of circle formula is pi*(r**2)\n",
    "\n",
    "print(3.14*(4.5**2))"
   ]
  },
  {
   "cell_type": "markdown",
   "id": "ec9a31ba",
   "metadata": {},
   "source": [
    "* Write a program that swaps the values of two variables: x with a value of 5 and \"y\" with a value of 1"
   ]
  },
  {
   "cell_type": "code",
   "execution_count": 28,
   "id": "dbaa5531",
   "metadata": {},
   "outputs": [],
   "source": [
    "x = 5\n",
    "y = 1\n",
    "# 5 and 1"
   ]
  },
  {
   "cell_type": "code",
   "execution_count": 29,
   "id": "63a5a062",
   "metadata": {},
   "outputs": [],
   "source": [
    "x,y = y,x"
   ]
  },
  {
   "cell_type": "code",
   "execution_count": 30,
   "id": "eb18d5f2",
   "metadata": {},
   "outputs": [
    {
     "name": "stdout",
     "output_type": "stream",
     "text": [
      "1\n"
     ]
    }
   ],
   "source": [
    "print(x)"
   ]
  },
  {
   "cell_type": "code",
   "execution_count": 37,
   "id": "d549bb6f",
   "metadata": {},
   "outputs": [
    {
     "name": "stdout",
     "output_type": "stream",
     "text": [
      "5\n"
     ]
    }
   ],
   "source": [
    "print(y)"
   ]
  },
  {
   "cell_type": "code",
   "execution_count": 42,
   "id": "749b374a",
   "metadata": {},
   "outputs": [],
   "source": [
    "x = 1\n",
    "y = 5\n",
    "# 1 and 5"
   ]
  },
  {
   "cell_type": "code",
   "execution_count": 39,
   "id": "b3f2c340",
   "metadata": {},
   "outputs": [],
   "source": [
    "x,y = y,x"
   ]
  },
  {
   "cell_type": "code",
   "execution_count": 40,
   "id": "9e9df687",
   "metadata": {},
   "outputs": [
    {
     "name": "stdout",
     "output_type": "stream",
     "text": [
      "5\n"
     ]
    }
   ],
   "source": [
    "print(x)"
   ]
  },
  {
   "cell_type": "code",
   "execution_count": 41,
   "id": "6645eaab",
   "metadata": {},
   "outputs": [
    {
     "name": "stdout",
     "output_type": "stream",
     "text": [
      "1\n"
     ]
    }
   ],
   "source": [
    "print(y)"
   ]
  },
  {
   "cell_type": "markdown",
   "id": "1ccb5228",
   "metadata": {},
   "source": [
    "* Create a program that calculates compound interest for a principal amount of $1000, an interest rate of 5%, and a time period of 3 years."
   ]
  },
  {
   "cell_type": "code",
   "execution_count": 254,
   "id": "8747c35d",
   "metadata": {},
   "outputs": [],
   "source": [
    "principal_amount  = 1000\n",
    "intrest = 5\n",
    "time = 3\n",
    "#formula is principal_amount*(1+intrest/100)**time\n",
    "#finding compound intrest"
   ]
  },
  {
   "cell_type": "code",
   "execution_count": 255,
   "id": "f898c924",
   "metadata": {},
   "outputs": [
    {
     "name": "stdout",
     "output_type": "stream",
     "text": [
      "1157.6250000000002\n"
     ]
    }
   ],
   "source": [
    "print(principal_amount*(1+intrest/100)**time)"
   ]
  },
  {
   "cell_type": "markdown",
   "id": "b05de7bb",
   "metadata": {},
   "source": [
    "* Write a program that compares two numbers: 7 and 12, and determines whether the first number is greater than, less than, or equal to the second number"
   ]
  },
  {
   "cell_type": "code",
   "execution_count": 57,
   "id": "f31afb7c",
   "metadata": {},
   "outputs": [],
   "source": [
    "a = 7\n",
    "b = 12"
   ]
  },
  {
   "cell_type": "code",
   "execution_count": 58,
   "id": "3d1c09f8",
   "metadata": {},
   "outputs": [
    {
     "name": "stdout",
     "output_type": "stream",
     "text": [
      "False\n"
     ]
    }
   ],
   "source": [
    "print(a>b)"
   ]
  },
  {
   "cell_type": "code",
   "execution_count": 59,
   "id": "3f0aea83",
   "metadata": {},
   "outputs": [
    {
     "name": "stdout",
     "output_type": "stream",
     "text": [
      "True\n"
     ]
    }
   ],
   "source": [
    "print(a<b)"
   ]
  },
  {
   "cell_type": "code",
   "execution_count": 60,
   "id": "206e146b",
   "metadata": {},
   "outputs": [
    {
     "name": "stdout",
     "output_type": "stream",
     "text": [
      "False\n"
     ]
    }
   ],
   "source": [
    "print(a==b)"
   ]
  },
  {
   "cell_type": "code",
   "execution_count": 61,
   "id": "7223b668",
   "metadata": {},
   "outputs": [
    {
     "name": "stdout",
     "output_type": "stream",
     "text": [
      "True\n"
     ]
    }
   ],
   "source": [
    "print(a!=b)"
   ]
  },
  {
   "cell_type": "markdown",
   "id": "503e60c5",
   "metadata": {},
   "source": [
    "* Create a program that checks if a person of age 18 is eligible to vote based on the voting age requirement.(True/False)"
   ]
  },
  {
   "cell_type": "code",
   "execution_count": 62,
   "id": "935c5ae6",
   "metadata": {},
   "outputs": [],
   "source": [
    "person = 18\n",
    "voting_req = 18"
   ]
  },
  {
   "cell_type": "code",
   "execution_count": 63,
   "id": "bb35f2bb",
   "metadata": {},
   "outputs": [
    {
     "name": "stdout",
     "output_type": "stream",
     "text": [
      "True\n"
     ]
    }
   ],
   "source": [
    "print(person == voting_req)"
   ]
  },
  {
   "cell_type": "code",
   "execution_count": 64,
   "id": "7f2f150c",
   "metadata": {},
   "outputs": [
    {
     "name": "stdout",
     "output_type": "stream",
     "text": [
      "True\n"
     ]
    }
   ],
   "source": [
    "print(person <= voting_req)"
   ]
  },
  {
   "cell_type": "markdown",
   "id": "4ee5aaae",
   "metadata": {},
   "source": [
    "* Create a program that swaps the values of two integers: a with a value of 10 and b with a value of 20 using\n",
    "* bitwise XOR (^) operator.\n",
    "* Logical AND\n",
    "* Logical OR\n",
    "* Logical NOT"
   ]
  },
  {
   "cell_type": "code",
   "execution_count": 237,
   "id": "a6ada9b6",
   "metadata": {},
   "outputs": [],
   "source": [
    "a = 10\n",
    "b = 20\n",
    "#using bitwise XOR , swaping value "
   ]
  },
  {
   "cell_type": "code",
   "execution_count": 238,
   "id": "4c234949",
   "metadata": {},
   "outputs": [],
   "source": [
    "a = a^b"
   ]
  },
  {
   "cell_type": "code",
   "execution_count": 239,
   "id": "18f83777",
   "metadata": {},
   "outputs": [],
   "source": [
    "b = a^b"
   ]
  },
  {
   "cell_type": "code",
   "execution_count": 240,
   "id": "b487398f",
   "metadata": {},
   "outputs": [],
   "source": [
    "a = a^b"
   ]
  },
  {
   "cell_type": "code",
   "execution_count": 243,
   "id": "8db94e2b",
   "metadata": {},
   "outputs": [
    {
     "name": "stdout",
     "output_type": "stream",
     "text": [
      "20\n"
     ]
    }
   ],
   "source": [
    "print(a)"
   ]
  },
  {
   "cell_type": "code",
   "execution_count": 244,
   "id": "e6ccd272",
   "metadata": {},
   "outputs": [
    {
     "name": "stdout",
     "output_type": "stream",
     "text": [
      "10\n"
     ]
    }
   ],
   "source": [
    "print(b)"
   ]
  },
  {
   "cell_type": "code",
   "execution_count": null,
   "id": "b5cab09d",
   "metadata": {},
   "outputs": [],
   "source": []
  },
  {
   "cell_type": "code",
   "execution_count": 261,
   "id": "28b74bd8",
   "metadata": {},
   "outputs": [],
   "source": [
    "a = 10\n",
    "b = 20\n",
    "#using logical AND, swaping value of a"
   ]
  },
  {
   "cell_type": "code",
   "execution_count": 267,
   "id": "cc48a547",
   "metadata": {},
   "outputs": [],
   "source": [
    "a = a and b"
   ]
  },
  {
   "cell_type": "code",
   "execution_count": 268,
   "id": "f306147b",
   "metadata": {},
   "outputs": [
    {
     "name": "stdout",
     "output_type": "stream",
     "text": [
      "20\n"
     ]
    }
   ],
   "source": [
    "print(a)"
   ]
  },
  {
   "cell_type": "code",
   "execution_count": 220,
   "id": "4195b688",
   "metadata": {},
   "outputs": [],
   "source": [
    "a = 10\n",
    "b = 20\n",
    "#using logical AND, swaping value of b"
   ]
  },
  {
   "cell_type": "code",
   "execution_count": 221,
   "id": "c882d012",
   "metadata": {},
   "outputs": [],
   "source": [
    "b = b and a"
   ]
  },
  {
   "cell_type": "code",
   "execution_count": 222,
   "id": "196b5b0a",
   "metadata": {},
   "outputs": [
    {
     "name": "stdout",
     "output_type": "stream",
     "text": [
      "10\n"
     ]
    }
   ],
   "source": [
    "print(b)"
   ]
  },
  {
   "cell_type": "code",
   "execution_count": 105,
   "id": "f316f836",
   "metadata": {},
   "outputs": [],
   "source": [
    "a = 10\n",
    "b = 20\n",
    "#using logical OR, swaping value of a"
   ]
  },
  {
   "cell_type": "code",
   "execution_count": 108,
   "id": "0a9287fc",
   "metadata": {},
   "outputs": [],
   "source": [
    "a = b or a"
   ]
  },
  {
   "cell_type": "code",
   "execution_count": 111,
   "id": "3c4d19f1",
   "metadata": {},
   "outputs": [
    {
     "name": "stdout",
     "output_type": "stream",
     "text": [
      "20\n"
     ]
    }
   ],
   "source": [
    "print(a)"
   ]
  },
  {
   "cell_type": "code",
   "execution_count": 114,
   "id": "ec6a90de",
   "metadata": {},
   "outputs": [],
   "source": [
    "a = 10 \n",
    "b = 20\n",
    "#using logical OR , swaping value of b"
   ]
  },
  {
   "cell_type": "code",
   "execution_count": 119,
   "id": "c9d9d950",
   "metadata": {},
   "outputs": [],
   "source": [
    "b = a or b"
   ]
  },
  {
   "cell_type": "code",
   "execution_count": 120,
   "id": "d6058d91",
   "metadata": {},
   "outputs": [
    {
     "name": "stdout",
     "output_type": "stream",
     "text": [
      "10\n"
     ]
    }
   ],
   "source": [
    "print(b)"
   ]
  },
  {
   "cell_type": "code",
   "execution_count": 124,
   "id": "a198aeb1",
   "metadata": {},
   "outputs": [],
   "source": [
    "a = 10\n",
    "b = 20\n",
    "#using logical NOT , swaping value of a"
   ]
  },
  {
   "cell_type": "code",
   "execution_count": 248,
   "id": "66669954",
   "metadata": {},
   "outputs": [
    {
     "data": {
      "text/plain": [
       "False"
      ]
     },
     "execution_count": 248,
     "metadata": {},
     "output_type": "execute_result"
    }
   ],
   "source": [
    "not a"
   ]
  },
  {
   "cell_type": "code",
   "execution_count": 249,
   "id": "af11950c",
   "metadata": {},
   "outputs": [
    {
     "data": {
      "text/plain": [
       "False"
      ]
     },
     "execution_count": 249,
     "metadata": {},
     "output_type": "execute_result"
    }
   ],
   "source": [
    "not b"
   ]
  },
  {
   "cell_type": "markdown",
   "id": "04a8bb9e",
   "metadata": {},
   "source": [
    "**Logical operator NOT , dont gives value in output , it gives only boolean output which true or false**"
   ]
  },
  {
   "cell_type": "markdown",
   "id": "dbcbf876",
   "metadata": {},
   "source": [
    "* Create a Python program that calculates the area of a rectangle. Prompt the user to enter the length and width of the rectangle, store them in variables, and compute the area using the formula:area length width.Finally, `print the calculated area."
   ]
  },
  {
   "cell_type": "code",
   "execution_count": 277,
   "id": "045d76d0",
   "metadata": {},
   "outputs": [
    {
     "name": "stdout",
     "output_type": "stream",
     "text": [
      "Enter the width of rectangle : 20\n",
      "Enter the length of rectangle :40\n",
      "800\n"
     ]
    }
   ],
   "source": [
    "a = int(input(\"Enter the width of rectangle : \"))\n",
    "b = int(input(\"Enter the length of rectangle :\"))\n",
    "area = a*b\n",
    "print(area)"
   ]
  },
  {
   "cell_type": "markdown",
   "id": "940b0d2e",
   "metadata": {},
   "source": [
    "* Create a Python program that calculates the average of three exam scores. Prompt the user to enter the scores, store them in variables, calculate the average, and print the result."
   ]
  },
  {
   "cell_type": "code",
   "execution_count": 279,
   "id": "7783f8c2",
   "metadata": {},
   "outputs": [
    {
     "name": "stdout",
     "output_type": "stream",
     "text": [
      "Enter the exam_a score :100\n",
      "Enter the exam_b score :200\n",
      "Enter the exam_c score :300\n",
      "200.0\n"
     ]
    }
   ],
   "source": [
    "exam_a = int(input(\"Enter the exam_a score :\"))\n",
    "exam_b = int(input(\"Enter the exam_b score :\"))\n",
    "exam_c = int(input(\"Enter the exam_c score :\"))\n",
    "average_result = (exam_a+exam_b+exam_c)/3\n",
    "print(average_result)"
   ]
  },
  {
   "cell_type": "markdown",
   "id": "a485cf0d",
   "metadata": {},
   "source": [
    "* Write a Python program that converts temperature from Celsius to Fahrenheit. Prompt the user to enter a temperature in Celsius, store it in a variable, and convert it to Fahrenheit using the formula: Fahrenheit = (Celsius* 9/5)+32, and print the converted temperature."
   ]
  },
  {
   "cell_type": "code",
   "execution_count": 282,
   "id": "56c2df24",
   "metadata": {},
   "outputs": [
    {
     "name": "stdout",
     "output_type": "stream",
     "text": [
      "Enter the temprature in celsius : 50\n",
      "122.0\n"
     ]
    }
   ],
   "source": [
    "Temprature = int(input(\"Enter the temprature in celsius : \"))\n",
    "temp_to_fahrenheit = (Temprature*9/5)+32\n",
    "print(temp_to_fahrenheit)"
   ]
  },
  {
   "cell_type": "markdown",
   "id": "54dd13c8",
   "metadata": {},
   "source": [
    "* What are the logical operators in Python? Explain each one with an example."
   ]
  },
  {
   "cell_type": "markdown",
   "id": "2a9eed88",
   "metadata": {},
   "source": [
    "**Logical AND operator :- Logical AND operator is used to check the possiblites between two condition , If there is both condition is \"TRUE\" so the complete output will be \"TRUE\" , otherwise it will be FALSE**\n"
   ]
  },
  {
   "cell_type": "markdown",
   "id": "764d4be5",
   "metadata": {},
   "source": [
    "Example:-"
   ]
  },
  {
   "cell_type": "code",
   "execution_count": 284,
   "id": "a2918f2c",
   "metadata": {},
   "outputs": [
    {
     "name": "stdout",
     "output_type": "stream",
     "text": [
      "False\n"
     ]
    }
   ],
   "source": [
    "a = 10\n",
    "b = 20\n",
    "c = 30\n",
    "print(a>b) and (c>b)"
   ]
  },
  {
   "cell_type": "code",
   "execution_count": 285,
   "id": "a7790aee",
   "metadata": {},
   "outputs": [
    {
     "name": "stdout",
     "output_type": "stream",
     "text": [
      "True\n"
     ]
    }
   ],
   "source": [
    "print(a<b) and (c>a)"
   ]
  },
  {
   "cell_type": "markdown",
   "id": "81ef6bff",
   "metadata": {},
   "source": [
    "**Logical OR operator is used to check the possiblities between two condition but here , If both condition is FALSE so the complete output will be FALSE , otherwise it will be TRUE**"
   ]
  },
  {
   "cell_type": "markdown",
   "id": "b014102f",
   "metadata": {},
   "source": [
    "Example:-"
   ]
  },
  {
   "cell_type": "code",
   "execution_count": 292,
   "id": "942d0f63",
   "metadata": {},
   "outputs": [
    {
     "data": {
      "text/plain": [
       "True"
      ]
     },
     "execution_count": 292,
     "metadata": {},
     "output_type": "execute_result"
    }
   ],
   "source": [
    "a = 10\n",
    "b = 20\n",
    "c = 30\n",
    "(a<b) or (c<b)"
   ]
  },
  {
   "cell_type": "code",
   "execution_count": 293,
   "id": "64567512",
   "metadata": {},
   "outputs": [
    {
     "data": {
      "text/plain": [
       "False"
      ]
     },
     "execution_count": 293,
     "metadata": {},
     "output_type": "execute_result"
    }
   ],
   "source": [
    "(a>b) or (c<a)"
   ]
  },
  {
   "cell_type": "markdown",
   "id": "4490564c",
   "metadata": {},
   "source": [
    "**Logical NOT operator is used to print opposite output, it can give output in boolean only (True/False)**"
   ]
  },
  {
   "cell_type": "markdown",
   "id": "f2d12524",
   "metadata": {},
   "source": [
    "Example:-"
   ]
  },
  {
   "cell_type": "code",
   "execution_count": 294,
   "id": "20eb1273",
   "metadata": {},
   "outputs": [
    {
     "name": "stdout",
     "output_type": "stream",
     "text": [
      "False\n"
     ]
    }
   ],
   "source": [
    "a = 50\n",
    "b = 100\n",
    "print(not a<b)"
   ]
  },
  {
   "cell_type": "code",
   "execution_count": 295,
   "id": "10d8bb23",
   "metadata": {},
   "outputs": [
    {
     "data": {
      "text/plain": [
       "True"
      ]
     },
     "execution_count": 295,
     "metadata": {},
     "output_type": "execute_result"
    }
   ],
   "source": [
    "not(a>b)"
   ]
  },
  {
   "cell_type": "markdown",
   "id": "dc853ef4",
   "metadata": {},
   "source": [
    "* What are the membership operators in Python? Explain their usage with examples"
   ]
  },
  {
   "cell_type": "markdown",
   "id": "395503a8",
   "metadata": {},
   "source": [
    "**Membership operator is used to check the pattern is present or not not in string, Membership operators are \"in , not in\" , if they present output will be true if they not present we use \"in\" it will false, and same for \"not in\"**"
   ]
  },
  {
   "cell_type": "markdown",
   "id": "1a816507",
   "metadata": {},
   "source": [
    "Example:- "
   ]
  },
  {
   "cell_type": "code",
   "execution_count": 304,
   "id": "d7043e56",
   "metadata": {},
   "outputs": [
    {
     "data": {
      "text/plain": [
       "True"
      ]
     },
     "execution_count": 304,
     "metadata": {},
     "output_type": "execute_result"
    }
   ],
   "source": [
    "a = \"I am learning python\"\n",
    "\"learn\" in a"
   ]
  },
  {
   "cell_type": "code",
   "execution_count": 305,
   "id": "1eb93081",
   "metadata": {},
   "outputs": [
    {
     "data": {
      "text/plain": [
       "False"
      ]
     },
     "execution_count": 305,
     "metadata": {},
     "output_type": "execute_result"
    }
   ],
   "source": [
    "\"PYTHON\" in a"
   ]
  },
  {
   "cell_type": "code",
   "execution_count": 307,
   "id": "9dfd6628",
   "metadata": {},
   "outputs": [
    {
     "data": {
      "text/plain": [
       "True"
      ]
     },
     "execution_count": 307,
     "metadata": {},
     "output_type": "execute_result"
    }
   ],
   "source": [
    "\"you\" not in a"
   ]
  },
  {
   "cell_type": "markdown",
   "id": "d88be160",
   "metadata": {},
   "source": [
    "* List and briefly explain the `basic data types` available in Python."
   ]
  },
  {
   "cell_type": "markdown",
   "id": "386dd7dd",
   "metadata": {},
   "source": [
    "**Basic data type in python:- Basic data types uses single character**"
   ]
  },
  {
   "cell_type": "markdown",
   "id": "a9baadee",
   "metadata": {},
   "source": [
    "**1. Numeric Data types :-** \n",
    "* Integers(int) :- 1, 5, 7\n",
    "* Float(float) :- 5.2, 8.9, 78.36\n",
    "* Complex (complex) :- 5+6j, 7+4j\n",
    "        \n",
    "**2. Non Numeric data types :-**\n",
    "* Boolean(bool) :-true/false \n",
    "* string :- single character: a, h ,H, P"
   ]
  },
  {
   "cell_type": "markdown",
   "id": "061d8464",
   "metadata": {},
   "source": [
    "* Write a Python code snippet that assigns a value to a variable and determines its data type using the type() function."
   ]
  },
  {
   "cell_type": "code",
   "execution_count": 308,
   "id": "39c89bc4",
   "metadata": {},
   "outputs": [
    {
     "data": {
      "text/plain": [
       "str"
      ]
     },
     "execution_count": 308,
     "metadata": {},
     "output_type": "execute_result"
    }
   ],
   "source": [
    "a = \"Innomatics Research Labs\"\n",
    "type(a)"
   ]
  },
  {
   "cell_type": "code",
   "execution_count": 309,
   "id": "f3b9c50d",
   "metadata": {},
   "outputs": [
    {
     "data": {
      "text/plain": [
       "int"
      ]
     },
     "execution_count": 309,
     "metadata": {},
     "output_type": "execute_result"
    }
   ],
   "source": [
    "b = 123456\n",
    "type(b)"
   ]
  },
  {
   "cell_type": "code",
   "execution_count": 310,
   "id": "fda656cb",
   "metadata": {},
   "outputs": [
    {
     "data": {
      "text/plain": [
       "float"
      ]
     },
     "execution_count": 310,
     "metadata": {},
     "output_type": "execute_result"
    }
   ],
   "source": [
    "c = 23.65\n",
    "type(c)"
   ]
  },
  {
   "cell_type": "code",
   "execution_count": 311,
   "id": "f6226272",
   "metadata": {},
   "outputs": [
    {
     "data": {
      "text/plain": [
       "complex"
      ]
     },
     "execution_count": 311,
     "metadata": {},
     "output_type": "execute_result"
    }
   ],
   "source": [
    "d = 25+6j\n",
    "type(d)"
   ]
  },
  {
   "cell_type": "code",
   "execution_count": 312,
   "id": "4719c307",
   "metadata": {},
   "outputs": [
    {
     "data": {
      "text/plain": [
       "bool"
      ]
     },
     "execution_count": 312,
     "metadata": {},
     "output_type": "execute_result"
    }
   ],
   "source": [
    "e = True\n",
    "type(e)"
   ]
  },
  {
   "cell_type": "markdown",
   "id": "6432f7e1",
   "metadata": {},
   "source": [
    "## Assignment :- Basic Python operators"
   ]
  },
  {
   "cell_type": "markdown",
   "id": "5e608246",
   "metadata": {},
   "source": [
    "**Task 1: Arithmetic Operators**\n",
    "\n",
    "* Write a Python program that takes two user-input numbers and displays their sum using the addition operator."
   ]
  },
  {
   "cell_type": "code",
   "execution_count": 318,
   "id": "8556db56",
   "metadata": {},
   "outputs": [
    {
     "name": "stdout",
     "output_type": "stream",
     "text": [
      "Enter first number : 30\n",
      "Enter second number : 20\n",
      "50\n"
     ]
    }
   ],
   "source": [
    "a = int(input(\"Enter first number : \"))\n",
    "b = int(input(\"Enter second number : \"))\n",
    "sume = a+b\n",
    "print(a+b)"
   ]
  },
  {
   "cell_type": "markdown",
   "id": "aa8b0302",
   "metadata": {},
   "source": [
    "* Create a program to calculate the area of a rectangle. Prompt the user for the length and width, then use multiplication to find the area."
   ]
  },
  {
   "cell_type": "code",
   "execution_count": 319,
   "id": "130da95b",
   "metadata": {},
   "outputs": [
    {
     "name": "stdout",
     "output_type": "stream",
     "text": [
      "Enter the length of rectangle : 80\n",
      "Enter the width of rectangle : 40\n",
      "3200\n"
     ]
    }
   ],
   "source": [
    "a = int(input(\"Enter the length of rectangle : \"))\n",
    "b = int(input(\"Enter the width of rectangle : \"))\n",
    "area = a*b\n",
    "print(area)\n"
   ]
  },
  {
   "cell_type": "markdown",
   "id": "3c6534bd",
   "metadata": {},
   "source": [
    "* Implement a program that converts temperature from Celsius to Fahrenheit using the formula: Fahrenheit = (Celsius * 9/5) + 32."
   ]
  },
  {
   "cell_type": "code",
   "execution_count": 323,
   "id": "2b9366a9",
   "metadata": {},
   "outputs": [
    {
     "name": "stdout",
     "output_type": "stream",
     "text": [
      "Enter the Temprature in celsius : 60\n",
      "140.0\n"
     ]
    }
   ],
   "source": [
    "Temp = int(input(\"Enter the Temprature in celsius : \"))\n",
    "celsius_to_fahrenheit = (Temp*9/5)+32\n",
    "print(celsius_to_fahrenheit)"
   ]
  },
  {
   "cell_type": "markdown",
   "id": "b2fae04e",
   "metadata": {},
   "source": [
    "**Task 2: Comparison Operators**\n",
    "\n",
    "* Write a program that compares two user-input numbers and prints whether the first number is greater than the second number or not."
   ]
  },
  {
   "cell_type": "code",
   "execution_count": 326,
   "id": "c72d1310",
   "metadata": {},
   "outputs": [
    {
     "name": "stdout",
     "output_type": "stream",
     "text": [
      "Enter the first number : 50\n",
      "Enter the second number : 30\n",
      "True\n",
      "False\n"
     ]
    }
   ],
   "source": [
    "a = int(input(\"Enter the first number : \"))\n",
    "b = int(input(\"Enter the second number : \"))\n",
    "print(a>b)\n",
    "print(a<b)"
   ]
  },
  {
   "cell_type": "markdown",
   "id": "19816667",
   "metadata": {},
   "source": [
    "* Create a program that determines whether a user-input year is a leap year or not. A leap year is divisible by 4 and not divisible by 100, unless it is also divisible by 400."
   ]
  },
  {
   "cell_type": "code",
   "execution_count": null,
   "id": "c5d9d829",
   "metadata": {},
   "outputs": [],
   "source": []
  },
  {
   "cell_type": "code",
   "execution_count": null,
   "id": "27d8b088",
   "metadata": {},
   "outputs": [],
   "source": []
  },
  {
   "cell_type": "markdown",
   "id": "0221d7fb",
   "metadata": {},
   "source": [
    "* Implement a simple guessing game. Generate a random number between 1 and 100 and have the user guess the number. Provide feedback if their guess is too high or too low, and let them know when they've guessed correctly."
   ]
  },
  {
   "cell_type": "code",
   "execution_count": null,
   "id": "4c319b06",
   "metadata": {},
   "outputs": [],
   "source": []
  },
  {
   "cell_type": "code",
   "execution_count": null,
   "id": "c8717ece",
   "metadata": {},
   "outputs": [],
   "source": []
  },
  {
   "cell_type": "markdown",
   "id": "ba08b84a",
   "metadata": {},
   "source": [
    "**Task 3: Logical Operators**\n",
    "\n",
    "* Write a program that checks whether a user-input number is positive and even using logical AND (and) operator."
   ]
  },
  {
   "cell_type": "code",
   "execution_count": 332,
   "id": "326a44be",
   "metadata": {},
   "outputs": [
    {
     "name": "stdout",
     "output_type": "stream",
     "text": [
      "Enter any number : 15\n"
     ]
    },
    {
     "data": {
      "text/plain": [
       "False"
      ]
     },
     "execution_count": 332,
     "metadata": {},
     "output_type": "execute_result"
    }
   ],
   "source": [
    "number = int(input(\"Enter any number : \"))\n",
    "(number%2==0) and (number>=0)\n"
   ]
  },
  {
   "cell_type": "markdown",
   "id": "7e74b86e",
   "metadata": {},
   "source": [
    "* Create a login system where you define a correct username and password. Ask the user for their input and compare it with the correct credentials using logical OR (or) operator. Provide access if either the username or password is correct."
   ]
  },
  {
   "cell_type": "code",
   "execution_count": 338,
   "id": "6a74bc14",
   "metadata": {},
   "outputs": [
    {
     "name": "stdout",
     "output_type": "stream",
     "text": [
      "Enter your username : Adnan Baig\n",
      "Enter your password: 12345\n",
      "True\n"
     ]
    },
    {
     "data": {
      "text/plain": [
       "True"
      ]
     },
     "execution_count": 338,
     "metadata": {},
     "output_type": "execute_result"
    }
   ],
   "source": [
    "username = input(\"Enter your username : \")\n",
    "password = input(\"Enter your password: \")\n",
    "my_username = \"Adnan Baig\"\n",
    "my_password = \"12345\"\n",
    "print(username == my_username) or (password == my_password)\n"
   ]
  },
  {
   "cell_type": "markdown",
   "id": "d36e6517",
   "metadata": {},
   "source": [
    "* Implement a program that determines whether a given year is a leap year and divisible by 7 using logical NOT (not) operator."
   ]
  },
  {
   "cell_type": "code",
   "execution_count": null,
   "id": "fd079901",
   "metadata": {},
   "outputs": [],
   "source": []
  },
  {
   "cell_type": "code",
   "execution_count": null,
   "id": "d247716d",
   "metadata": {},
   "outputs": [],
   "source": []
  },
  {
   "cell_type": "code",
   "execution_count": null,
   "id": "346cc241",
   "metadata": {},
   "outputs": [],
   "source": []
  },
  {
   "cell_type": "markdown",
   "id": "7500fadc",
   "metadata": {},
   "source": [
    "**Task 4: Assignment Operators**\n",
    "\n",
    "* Write a program to calculate the square of a number using the exponentiation operator (**) and assign it back to the same variable."
   ]
  },
  {
   "cell_type": "code",
   "execution_count": 345,
   "id": "7396440e",
   "metadata": {},
   "outputs": [
    {
     "name": "stdout",
     "output_type": "stream",
     "text": [
      "400\n",
      "400\n"
     ]
    }
   ],
   "source": [
    "a = 20\n",
    "b = 20**2\n",
    "a =b\n",
    "\n",
    "print(b)\n",
    "print(a)"
   ]
  },
  {
   "cell_type": "markdown",
   "id": "98ec53e6",
   "metadata": {},
   "source": [
    "* Create a program that keeps track of the total score in a game. Prompt the user for their latest score and update the total score using the addition assignment operator (+=)"
   ]
  },
  {
   "cell_type": "code",
   "execution_count": 362,
   "id": "63f1baee",
   "metadata": {},
   "outputs": [
    {
     "name": "stdout",
     "output_type": "stream",
     "text": [
      "Enter your new score : 100\n",
      "Enter your old score : 200\n",
      "300\n"
     ]
    }
   ],
   "source": [
    "user = int(input(\"Enter your new score : \"))\n",
    "user_1 = int(input(\"Enter your old score : \"))\n",
    "user+=user_1\n",
    "print(user)"
   ]
  },
  {
   "cell_type": "markdown",
   "id": "3639cbad",
   "metadata": {},
   "source": [
    "* Implement a program to convert seconds into hours, minutes, and remaining seconds using both division and modulo operators, and then assign each value using assignment operators."
   ]
  },
  {
   "cell_type": "code",
   "execution_count": 373,
   "id": "7b4b162b",
   "metadata": {},
   "outputs": [
    {
     "name": "stdout",
     "output_type": "stream",
     "text": [
      "3.003333333333333\n"
     ]
    }
   ],
   "source": [
    "seconds = 180.20 #seconds\n",
    "b = 60\n",
    "print(a/b)"
   ]
  },
  {
   "cell_type": "code",
   "execution_count": 374,
   "id": "194e0513",
   "metadata": {},
   "outputs": [],
   "source": [
    "hours = 3.0033"
   ]
  },
  {
   "cell_type": "code",
   "execution_count": 376,
   "id": "58b906d6",
   "metadata": {},
   "outputs": [
    {
     "name": "stdout",
     "output_type": "stream",
     "text": [
      "4.0\n"
     ]
    }
   ],
   "source": [
    "minutes = 240\n",
    "minu = 60\n",
    "print(minutes/minu)"
   ]
  },
  {
   "cell_type": "code",
   "execution_count": 377,
   "id": "25918b6c",
   "metadata": {},
   "outputs": [],
   "source": [
    "hours = 4.0"
   ]
  },
  {
   "cell_type": "markdown",
   "id": "d6d7f89e",
   "metadata": {},
   "source": [
    "**Task 5: Bitwise Operators**\n",
    "\n",
    "* Write a program that performs a bitwise AND operation between two user-input numbers and displays the result."
   ]
  },
  {
   "cell_type": "code",
   "execution_count": 379,
   "id": "59cce333",
   "metadata": {},
   "outputs": [
    {
     "name": "stdout",
     "output_type": "stream",
     "text": [
      "Enter first number45\n",
      "Enter second number30\n",
      "12\n"
     ]
    }
   ],
   "source": [
    "user_1 = int(input(\"Enter first number\"))\n",
    "user_2 = int(input(\"Enter second number\"))\n",
    "result = user_1 & user_2\n",
    "print(result)"
   ]
  },
  {
   "cell_type": "markdown",
   "id": "a47d6ba7",
   "metadata": {},
   "source": [
    "* Implement a program to swap the values of two variables without using a temporary variable, only using bitwise XOR (^) operator."
   ]
  },
  {
   "cell_type": "code",
   "execution_count": 383,
   "id": "52b18862",
   "metadata": {},
   "outputs": [],
   "source": [
    "a = 10\n",
    "b = 20\n",
    "temp = a\n",
    "a =b\n",
    "b = temp\n",
    "# using temporary variable"
   ]
  },
  {
   "cell_type": "code",
   "execution_count": 384,
   "id": "b27c5e81",
   "metadata": {},
   "outputs": [
    {
     "name": "stdout",
     "output_type": "stream",
     "text": [
      "20\n"
     ]
    }
   ],
   "source": [
    "print(a)"
   ]
  },
  {
   "cell_type": "code",
   "execution_count": 385,
   "id": "902c200c",
   "metadata": {},
   "outputs": [
    {
     "name": "stdout",
     "output_type": "stream",
     "text": [
      "10\n"
     ]
    }
   ],
   "source": [
    "print(b)"
   ]
  },
  {
   "cell_type": "code",
   "execution_count": 386,
   "id": "c98de416",
   "metadata": {},
   "outputs": [],
   "source": [
    "#using XOR\n",
    "a = 10\n",
    "b = 20\n",
    "a = a^b\n",
    "b = a^b\n",
    "a = a^b"
   ]
  },
  {
   "cell_type": "code",
   "execution_count": 389,
   "id": "3da3da95",
   "metadata": {},
   "outputs": [
    {
     "name": "stdout",
     "output_type": "stream",
     "text": [
      "20\n"
     ]
    }
   ],
   "source": [
    "print(a)"
   ]
  },
  {
   "cell_type": "code",
   "execution_count": 390,
   "id": "287fb859",
   "metadata": {},
   "outputs": [
    {
     "name": "stdout",
     "output_type": "stream",
     "text": [
      "10\n"
     ]
    }
   ],
   "source": [
    "print(b)"
   ]
  },
  {
   "cell_type": "code",
   "execution_count": null,
   "id": "37cd9ef1",
   "metadata": {},
   "outputs": [],
   "source": []
  }
 ],
 "metadata": {
  "kernelspec": {
   "display_name": "Python 3 (ipykernel)",
   "language": "python",
   "name": "python3"
  },
  "language_info": {
   "codemirror_mode": {
    "name": "ipython",
    "version": 3
   },
   "file_extension": ".py",
   "mimetype": "text/x-python",
   "name": "python",
   "nbconvert_exporter": "python",
   "pygments_lexer": "ipython3",
   "version": "3.11.4"
  }
 },
 "nbformat": 4,
 "nbformat_minor": 5
}
