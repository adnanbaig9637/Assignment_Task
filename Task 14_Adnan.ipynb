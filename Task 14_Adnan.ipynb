{
 "cells": [
  {
   "cell_type": "markdown",
   "id": "dd9881f5",
   "metadata": {},
   "source": [
    "\n",
    "1. \n",
    "\n",
    "   - Create a lambda function that takes two arguments and returns their sum.\n",
    "   - Create another lambda function that takes a single argument and returns its square.\n",
    "   - Use the `lambda` functions to calculate the sum and square of various numbers and print the results.\n",
    "\n",
    "2. \n",
    "   - Define a list of integers.\n",
    "   - Use the `filter` function to create a new list that contains only the even numbers from the original list.\n",
    "   - Use the `filter` function again to create a new list that contains only numbers greater than 10 from the original list.\n",
    "   - Print both filtered lists.\n",
    "\n",
    "3. \n",
    "   - Define a list of strings where each string represents a number (e.g., `[\"1\", \"2\", \"3\"]`).\n",
    "   - Use the `map` function to convert each string to an integer and store the result in a new list.\n",
    "   - Use the `map` function again to square each integer in the new list and store the result in another new list.\n",
    "   - Print both new lists.\n",
    "\n",
    "4. \n",
    "   - Create a list of dictionaries, where each dictionary represents a person with keys \"name\" and \"age\". Example: ` [{\"name\": \"Alice\", \"age\": 30}, {\"name\": \"Bob\", \"age\": 25}, ...]`\n",
    "   - Use the `filter` function to create a new list that contains only the people who are older than 25.\n",
    "   - Use the `map` function to create a new list that contains the names of the filtered people.\n",
    "   - Print the list of names.\n",
    "\n",
    "5. \n",
    "   - Create a program that reads a list of numbers from the user (you can use the `input` function for this).\n",
    "   - Use `map` and `filter` functions to perform the following operations:\n",
    "     - Square each number.\n",
    "     - Filter out numbers that are not divisible by 3.\n",
    "   - Print the result.\n"
   ]
  },
  {
   "cell_type": "code",
   "execution_count": null,
   "id": "65b4537e",
   "metadata": {},
   "outputs": [],
   "source": []
  },
  {
   "cell_type": "markdown",
   "id": "d0197c68",
   "metadata": {},
   "source": [
    "1. \n",
    "\n",
    "   - Create a lambda function that takes two arguments and returns their sum."
   ]
  },
  {
   "cell_type": "code",
   "execution_count": 1,
   "id": "2ceb6664",
   "metadata": {},
   "outputs": [],
   "source": [
    "a = lambda x,y: x+y"
   ]
  },
  {
   "cell_type": "code",
   "execution_count": 3,
   "id": "36d8f841",
   "metadata": {},
   "outputs": [
    {
     "data": {
      "text/plain": [
       "12"
      ]
     },
     "execution_count": 3,
     "metadata": {},
     "output_type": "execute_result"
    }
   ],
   "source": [
    "a(5,7)"
   ]
  },
  {
   "cell_type": "markdown",
   "id": "43e9e4f4",
   "metadata": {},
   "source": [
    "- Create another lambda function that takes a single argument and returns its square."
   ]
  },
  {
   "cell_type": "code",
   "execution_count": 10,
   "id": "0323f8ba",
   "metadata": {},
   "outputs": [
    {
     "name": "stdout",
     "output_type": "stream",
     "text": [
      "Enter a number : 5\n"
     ]
    },
    {
     "data": {
      "text/plain": [
       "25"
      ]
     },
     "execution_count": 10,
     "metadata": {},
     "output_type": "execute_result"
    }
   ],
   "source": [
    "sq = lambda n: n**2\n",
    "sq(int(input(\"Enter a number : \")))"
   ]
  },
  {
   "cell_type": "markdown",
   "id": "60aea484",
   "metadata": {},
   "source": [
    "- Use the `lambda` functions to calculate the sum and square of various numbers and print the results."
   ]
  },
  {
   "cell_type": "code",
   "execution_count": 5,
   "id": "171d5843",
   "metadata": {},
   "outputs": [
    {
     "data": {
      "text/plain": [
       "20"
      ]
     },
     "execution_count": 5,
     "metadata": {},
     "output_type": "execute_result"
    }
   ],
   "source": [
    "b = lambda *n: sum(n)\n",
    "b(2,4,6,8)"
   ]
  },
  {
   "cell_type": "code",
   "execution_count": 21,
   "id": "613b69bd",
   "metadata": {},
   "outputs": [
    {
     "data": {
      "text/plain": [
       "81"
      ]
     },
     "execution_count": 21,
     "metadata": {},
     "output_type": "execute_result"
    }
   ],
   "source": [
    "c = lambda n: n**2\n",
    "c(9)"
   ]
  },
  {
   "cell_type": "markdown",
   "id": "aee50686",
   "metadata": {},
   "source": [
    "2. \n",
    "   - Define a list of integers.\n",
    "   - Use the `filter` function to create a new list that contains only the even numbers from the original list.\n",
    "   - Use the `filter` function again to create a new list that contains only numbers greater than 10 from the original list.\n",
    "   - Print both filtered lists."
   ]
  },
  {
   "cell_type": "code",
   "execution_count": 34,
   "id": "0dbc3401",
   "metadata": {},
   "outputs": [],
   "source": []
  },
  {
   "cell_type": "code",
   "execution_count": 44,
   "id": "882e53f8",
   "metadata": {},
   "outputs": [
    {
     "data": {
      "text/plain": [
       "[2, 4, 6, 8, 10, 12]"
      ]
     },
     "execution_count": 44,
     "metadata": {},
     "output_type": "execute_result"
    }
   ],
   "source": [
    "def integ(val):\n",
    "    if val % 2 == 0:\n",
    "        return val\n",
    "val = [1,2,3,4,5,6,7,8,9,10,12,11]\n",
    "even = list(filter(integ,val))   \n",
    "even"
   ]
  },
  {
   "cell_type": "markdown",
   "id": "a70bfa2e",
   "metadata": {},
   "source": [
    "\n"
   ]
  },
  {
   "cell_type": "code",
   "execution_count": 45,
   "id": "e4838694",
   "metadata": {},
   "outputs": [
    {
     "data": {
      "text/plain": [
       "[11, 12, 13, 14, 15, 16]"
      ]
     },
     "execution_count": 45,
     "metadata": {},
     "output_type": "execute_result"
    }
   ],
   "source": [
    "def integ(val):\n",
    "    if val > 10:\n",
    "        return val\n",
    "val = [1,2,3,4,5,6,7,8,9,10,11,12,13,14,15,16,]\n",
    "more_than_10 = list(filter(integ,val))\n",
    "more_than_10"
   ]
  },
  {
   "cell_type": "code",
   "execution_count": null,
   "id": "be700e0f",
   "metadata": {},
   "outputs": [],
   "source": []
  },
  {
   "cell_type": "markdown",
   "id": "90964139",
   "metadata": {},
   "source": [
    "3. \n",
    "   - Define a list of strings where each string represents a number (e.g., `[\"1\", \"2\", \"3\"]`).\n",
    "   - Use the `map` function to convert each string to an integer and store the result in a new list.\n",
    "   - Use the `map` function again to square each integer in the new list and store the result in another new list.\n",
    "   - Print both new lists."
   ]
  },
  {
   "cell_type": "code",
   "execution_count": 23,
   "id": "1139d96a",
   "metadata": {},
   "outputs": [
    {
     "data": {
      "text/plain": [
       "[2, 3, 4, 5, 6, 7, 8]"
      ]
     },
     "execution_count": 23,
     "metadata": {},
     "output_type": "execute_result"
    }
   ],
   "source": [
    "def name(n):\n",
    "    if val == int(n):\n",
    "        return n\n",
    "val = ['2','3','4','5','6','7','8']\n",
    "new = list(map(int,val))\n",
    "new"
   ]
  },
  {
   "cell_type": "code",
   "execution_count": 24,
   "id": "f70521aa",
   "metadata": {},
   "outputs": [
    {
     "data": {
      "text/plain": [
       "[2, 3, 4, 5, 6, 7, 8]"
      ]
     },
     "execution_count": 24,
     "metadata": {},
     "output_type": "execute_result"
    }
   ],
   "source": [
    "new"
   ]
  },
  {
   "cell_type": "code",
   "execution_count": 26,
   "id": "41904418",
   "metadata": {},
   "outputs": [
    {
     "data": {
      "text/plain": [
       "[4, 9, 16, 25, 36, 49, 64]"
      ]
     },
     "execution_count": 26,
     "metadata": {},
     "output_type": "execute_result"
    }
   ],
   "source": [
    "def name(n):\n",
    "    return n**2\n",
    "square = list(map(name,val))\n",
    "square"
   ]
  },
  {
   "cell_type": "code",
   "execution_count": null,
   "id": "cb0ec7da",
   "metadata": {},
   "outputs": [],
   "source": []
  },
  {
   "cell_type": "markdown",
   "id": "bf19dc0e",
   "metadata": {},
   "source": [
    "4. \n",
    "   - Create a list of dictionaries, where each dictionary represents a person with keys \"name\" and \"age\". Example: ` [{\"name\": \"Alice\", \"age\": 30}, {\"name\": \"Bob\", \"age\": 25}, ...]`\n",
    "   - Use the `filter` function to create a new list that contains only the people who are older than 25.\n",
    "   - Use the `map` function to create a new list that contains the names of the filtered people.\n",
    "   - Print the list of names."
   ]
  },
  {
   "cell_type": "code",
   "execution_count": 38,
   "id": "15504bef",
   "metadata": {},
   "outputs": [],
   "source": [
    "\n",
    "    \n",
    "dictt = [{\"Name\":\"Adnan\",\"Age\":21},{\"Name\":\"Raheem\",\"Age\":28},{\"Name\":\"Satish\",\"Age\":20},{\"Name\":\"Mansoor\",\"Age\":29}]"
   ]
  },
  {
   "cell_type": "code",
   "execution_count": 49,
   "id": "ed6d99a5",
   "metadata": {},
   "outputs": [
    {
     "data": {
      "text/plain": [
       "[{'Name': 'Raheem', 'Age': 28}, {'Name': 'Mansoor', 'Age': 29}]"
      ]
     },
     "execution_count": 49,
     "metadata": {},
     "output_type": "execute_result"
    }
   ],
   "source": [
    "def name(n):\n",
    "    if n[\"Age\"] > 25 :\n",
    "        return n\n",
    "dictt = [{\"Name\":\"Adnan\",\"Age\":21},{\"Name\":\"Raheem\",\"Age\":28},{\"Name\":\"Satish\",\"Age\":20},{\"Name\":\"Mansoor\",\"Age\":29}]\n",
    "new_name = list(filter(name,dictt)) \n",
    "new_name"
   ]
  },
  {
   "cell_type": "code",
   "execution_count": 51,
   "id": "ccea6b0d",
   "metadata": {},
   "outputs": [
    {
     "data": {
      "text/plain": [
       "[{'Name': 'Raheem'}, {'Name': 'Mansoor'}]"
      ]
     },
     "execution_count": 51,
     "metadata": {},
     "output_type": "execute_result"
    }
   ],
   "source": [
    "def names(n):\n",
    "    return {\"Name\" : n[\"Name\"]}\n",
    "list(map(names,new_name))"
   ]
  },
  {
   "cell_type": "code",
   "execution_count": null,
   "id": "3561486c",
   "metadata": {},
   "outputs": [],
   "source": []
  },
  {
   "cell_type": "markdown",
   "id": "2a1cd4b6",
   "metadata": {},
   "source": [
    "* **Class task**\n",
    "    * take combination of int floats string, print only float, print only int\n",
    "    * replace int values with \"Integer\"\n",
    "    * replace str with \"String\"\n",
    "    * replace float value with\" float\""
   ]
  },
  {
   "cell_type": "code",
   "execution_count": 62,
   "id": "86ea7ac4",
   "metadata": {},
   "outputs": [
    {
     "data": {
      "text/plain": [
       "[1, 2, 3, 4]"
      ]
     },
     "execution_count": 62,
     "metadata": {},
     "output_type": "execute_result"
    }
   ],
   "source": [
    "def comb(n):\n",
    "    if type(n) == int:\n",
    "        return n\n",
    "n = [1,2,3,4,5.5,6.2,4.6,\"hello\",\"innomatics\",\"labs\"]\n",
    "list(filter(comb,n))\n"
   ]
  },
  {
   "cell_type": "code",
   "execution_count": 63,
   "id": "bc418deb",
   "metadata": {},
   "outputs": [
    {
     "data": {
      "text/plain": [
       "[5.5, 6.2, 4.6]"
      ]
     },
     "execution_count": 63,
     "metadata": {},
     "output_type": "execute_result"
    }
   ],
   "source": [
    "def comb(n):\n",
    "    if type(n) == float:\n",
    "        return n\n",
    "n = [1,2,3,4,5.5,6.2,4.6,\"hello\",\"innomatics\",\"labs\"]\n",
    "list(filter(comb,n))"
   ]
  },
  {
   "cell_type": "code",
   "execution_count": 64,
   "id": "501edb0d",
   "metadata": {},
   "outputs": [
    {
     "data": {
      "text/plain": [
       "['hello', 'innomatics', 'labs']"
      ]
     },
     "execution_count": 64,
     "metadata": {},
     "output_type": "execute_result"
    }
   ],
   "source": [
    "def comb(n):\n",
    "    if type(n) == str:\n",
    "        return n\n",
    "n = [1,2,3,4,5.5,6.2,4.6,\"hello\",\"innomatics\",\"labs\"]\n",
    "list(filter(comb,n))"
   ]
  },
  {
   "cell_type": "code",
   "execution_count": 65,
   "id": "54cc82dd",
   "metadata": {},
   "outputs": [
    {
     "data": {
      "text/plain": [
       "['Integer',\n",
       " 'Integer',\n",
       " 'Integer',\n",
       " 'Integer',\n",
       " 'Float',\n",
       " 'Float',\n",
       " 'Float',\n",
       " 'String',\n",
       " 'String',\n",
       " 'String']"
      ]
     },
     "execution_count": 65,
     "metadata": {},
     "output_type": "execute_result"
    }
   ],
   "source": [
    "def comb(n):\n",
    "    if type(n) == int:\n",
    "        return \"Integer\"\n",
    "    elif type(n) == float:\n",
    "        return \"Float\"\n",
    "    else:\n",
    "        return \"String\"\n",
    "n = [1,2,3,4,5.5,6.2,4.6,\"hello\",\"innomatics\",\"labs\"]\n",
    "list(map(comb,n))"
   ]
  },
  {
   "cell_type": "code",
   "execution_count": null,
   "id": "b0ea55c7",
   "metadata": {},
   "outputs": [],
   "source": []
  }
 ],
 "metadata": {
  "kernelspec": {
   "display_name": "Python 3 (ipykernel)",
   "language": "python",
   "name": "python3"
  },
  "language_info": {
   "codemirror_mode": {
    "name": "ipython",
    "version": 3
   },
   "file_extension": ".py",
   "mimetype": "text/x-python",
   "name": "python",
   "nbconvert_exporter": "python",
   "pygments_lexer": "ipython3",
   "version": "3.11.4"
  }
 },
 "nbformat": 4,
 "nbformat_minor": 5
}
