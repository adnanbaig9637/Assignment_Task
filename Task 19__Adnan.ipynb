{
 "cells": [
  {
   "attachments": {},
   "cell_type": "markdown",
   "id": "cd31a6e1",
   "metadata": {},
   "source": [
    "**File handling + Time module**\n",
    "\n",
    "\n",
    "Create a Python script that simulates a simple login system. The script should prompt the user to enter their username and password. If the entered username and password match the predefined credentials, the script should log a successful login event to a log file. If the credentials do not match, it should log a failed login attempt to the log file.\n",
    "Example Output\n",
    "Assuming the predefined credentials are `username: \"user123\"` and `password: \"pass123\"`, here's an example output of the script:\n",
    " \n",
    "\n",
    "\n"
   ]
  },
  {
   "cell_type": "markdown",
   "id": "32778deb",
   "metadata": {},
   "source": [
    "Create any 5 of following modules\n",
    "\n",
    "a.\tRestaurant   \n",
    "\n",
    "b.\tIPL\n",
    "\n",
    "c.\tMathematics\n",
    "\n",
    "d.\tData Science  \n",
    "\n",
    "e.\tIndia\n",
    "\n",
    "f.\tShopping mall\n",
    "\n",
    "g.\tAmazon_price   \n",
    "\n",
    "\n",
    "Do some research  while creating them"
   ]
  },
  {
   "cell_type": "markdown",
   "id": "8f2b2521",
   "metadata": {},
   "source": [
    "**File handling + Time module**\n",
    "\n",
    "\n",
    "Create a Python script that simulates a simple login system. The script should prompt the user to enter their username and password. If the entered username and password match the predefined credentials, the script should log a successful login event to a log file. If the credentials do not match, it should log a failed login attempt to the log file.\n",
    "Example Output\n",
    "Assuming the predefined credentials are `username: \"user123\"` and `password: \"pass123\"`, here's an example output of the script:\n",
    " \n",
    "\n",
    "\n",
    "![image.png](attachment:image.png)"
   ]
  },
  {
   "cell_type": "code",
   "execution_count": 2,
   "id": "451cfd8a",
   "metadata": {},
   "outputs": [],
   "source": [
    "import time as t"
   ]
  },
  {
   "cell_type": "code",
   "execution_count": 3,
   "id": "4de330f8",
   "metadata": {},
   "outputs": [
    {
     "name": "stdout",
     "output_type": "stream",
     "text": [
      "--------------- Welcome to my Log in system ---------------\n",
      "Choose a username:: adnan123\n",
      "Choose a password:: pass123\n",
      "Enter your username:: adnan123\n",
      "Enter your Password:: pass123\n",
      "Login successful for user123 : Fri Sep 29 07:57:28 2023\n",
      "--------------- ThankYou for using my Log in system ---------------\n"
     ]
    }
   ],
   "source": [
    "print((\"-\"*15),(\"Welcome to my Log in system\"),(\"-\"*15))\n",
    "log_id = input(\"Choose a username:: \")\n",
    "passs = input(\"Choose a password:: \")\n",
    "user1 = input(\"Enter your username:: \")\n",
    "user2 = input(\"Enter your Password:: \")\n",
    "if (user1 == log_id) and (user2 == passs):\n",
    "    print(\"Login successful for user123 :\",t.asctime())\n",
    "else:\n",
    "    print(\"login Failed for user :\",t.asctime())\n",
    "\n",
    "print((\"-\"*15),(\"ThankYou for using my Log in system\"),(\"-\"*15))"
   ]
  },
  {
   "cell_type": "markdown",
   "id": "0bbb0077",
   "metadata": {},
   "source": [
    "## 1. Mathematics Module for (+ , - , * , / , ** )"
   ]
  },
  {
   "cell_type": "code",
   "execution_count": 5,
   "id": "0ab55bd2",
   "metadata": {},
   "outputs": [],
   "source": [
    "import mathematics as math"
   ]
  },
  {
   "cell_type": "code",
   "execution_count": 6,
   "id": "0cdc7e19",
   "metadata": {},
   "outputs": [
    {
     "data": {
      "text/plain": [
       "30"
      ]
     },
     "execution_count": 6,
     "metadata": {},
     "output_type": "execute_result"
    }
   ],
   "source": [
    "math.addition(20,10)"
   ]
  },
  {
   "cell_type": "code",
   "execution_count": 7,
   "id": "f5cc3e0f",
   "metadata": {},
   "outputs": [
    {
     "data": {
      "text/plain": [
       "15"
      ]
     },
     "execution_count": 7,
     "metadata": {},
     "output_type": "execute_result"
    }
   ],
   "source": [
    "math.subtraction(30,15)"
   ]
  },
  {
   "cell_type": "code",
   "execution_count": 8,
   "id": "2a343593",
   "metadata": {},
   "outputs": [
    {
     "data": {
      "text/plain": [
       "80"
      ]
     },
     "execution_count": 8,
     "metadata": {},
     "output_type": "execute_result"
    }
   ],
   "source": [
    "math.multiplication(20,4)"
   ]
  },
  {
   "cell_type": "code",
   "execution_count": 9,
   "id": "95c24589",
   "metadata": {},
   "outputs": [
    {
     "data": {
      "text/plain": [
       "64"
      ]
     },
     "execution_count": 9,
     "metadata": {},
     "output_type": "execute_result"
    }
   ],
   "source": [
    "math.power(8,2)"
   ]
  },
  {
   "cell_type": "code",
   "execution_count": 11,
   "id": "0504488e",
   "metadata": {},
   "outputs": [
    {
     "data": {
      "text/plain": [
       "6.0"
      ]
     },
     "execution_count": 11,
     "metadata": {},
     "output_type": "execute_result"
    }
   ],
   "source": [
    "math.division(36,6)"
   ]
  },
  {
   "cell_type": "markdown",
   "id": "2d9ac871",
   "metadata": {},
   "source": [
    "## 2. IPL Module"
   ]
  },
  {
   "cell_type": "code",
   "execution_count": 12,
   "id": "8818357e",
   "metadata": {},
   "outputs": [],
   "source": [
    "import ipl"
   ]
  },
  {
   "cell_type": "code",
   "execution_count": 13,
   "id": "30454e44",
   "metadata": {},
   "outputs": [
    {
     "name": "stdout",
     "output_type": "stream",
     "text": [
      "Eden Garden Stadium Kolkata\n",
      "Wankhede Stadium Mumbai\n",
      "Naredra modi Stadium Ahmedabad\n",
      "Chinaswami Stadium Banglore\n",
      "Rajiv Gandhi Stadium Hyderabad\n",
      "Chidambaram Stadium Chennai\n"
     ]
    }
   ],
   "source": [
    "ipl.ground()"
   ]
  },
  {
   "cell_type": "code",
   "execution_count": 14,
   "id": "60e0d831",
   "metadata": {},
   "outputs": [
    {
     "name": "stdout",
     "output_type": "stream",
     "text": [
      "Royal Challengers Banglore\n",
      "Kolkata Knight Riders\n",
      "Mumbai Indians\n",
      "Sunrises Hyderabad \n",
      "Chennai Super King\n",
      "Rajhastan Royals\n",
      "Panjab Kings\n",
      "Luknow Super Giants\n",
      "Gujrat Titans\n"
     ]
    }
   ],
   "source": [
    "ipl.team()"
   ]
  },
  {
   "cell_type": "code",
   "execution_count": 15,
   "id": "92a3d810",
   "metadata": {},
   "outputs": [
    {
     "name": "stdout",
     "output_type": "stream",
     "text": [
      "Chennai Super Kings won 4 times in 2010,2011,2018,2021,2023\n",
      "Kolkata Knight Riders won 2 time in 2012,2014\n",
      "Gujrat Titans won 1 time in 2022\n",
      "Sunrises Hyderabad wonn 1 time in 2016\n",
      "Mumbai Indians won 5 times in 2013,2015,2017,2019,2020\n",
      "Rajhastan Royals won 1 time in 2008\n"
     ]
    }
   ],
   "source": [
    "ipl.win()"
   ]
  },
  {
   "cell_type": "markdown",
   "id": "8b861049",
   "metadata": {},
   "source": [
    "## 3. Data Science Module"
   ]
  },
  {
   "cell_type": "code",
   "execution_count": 19,
   "id": "f55a9e1a",
   "metadata": {},
   "outputs": [],
   "source": [
    "import datascience as ds"
   ]
  },
  {
   "cell_type": "code",
   "execution_count": 20,
   "id": "73648476",
   "metadata": {},
   "outputs": [
    {
     "name": "stdout",
     "output_type": "stream",
     "text": [
      "Python programming Language\n",
      "Statistics\n",
      "Visualization \n",
      "Machine learning\n",
      "Algorithm\n",
      "Deep learning\n",
      "NLP\n"
     ]
    }
   ],
   "source": [
    "ds.skill()"
   ]
  },
  {
   "cell_type": "code",
   "execution_count": 21,
   "id": "32ae78d3",
   "metadata": {},
   "outputs": [
    {
     "name": "stdout",
     "output_type": "stream",
     "text": [
      "Data scientist\n",
      "Machine Learning Engineer\n",
      "Data Engineer\n",
      "NLP Engineer\n",
      "DL Engineer\n",
      "Data Anlyst\n",
      "Buisness Intelligence\n",
      "Ai Engineer\n"
     ]
    }
   ],
   "source": [
    "ds.job_profile()"
   ]
  },
  {
   "cell_type": "code",
   "execution_count": 22,
   "id": "8c1f0774",
   "metadata": {},
   "outputs": [
    {
     "name": "stdout",
     "output_type": "stream",
     "text": [
      "Python Programming Language\n",
      "R programming Language\n"
     ]
    }
   ],
   "source": [
    "ds.programming_language()"
   ]
  },
  {
   "cell_type": "code",
   "execution_count": 23,
   "id": "fc6b58fa",
   "metadata": {},
   "outputs": [
    {
     "name": "stdout",
     "output_type": "stream",
     "text": [
      "Data processing\n",
      "Data Visualization\n",
      "Data Mining\n",
      "Statistical Modeling\n",
      "Artificial Intelligence\n",
      "Machine Learning\n",
      "Deep learning\n",
      "NLP\n",
      "Pattern Recognition\n",
      "Data Research\n"
     ]
    }
   ],
   "source": [
    "ds.branches()"
   ]
  },
  {
   "cell_type": "markdown",
   "id": "9e3b08a6",
   "metadata": {},
   "source": [
    "## 4. India Module"
   ]
  },
  {
   "cell_type": "code",
   "execution_count": 25,
   "id": "d416cf9d",
   "metadata": {},
   "outputs": [],
   "source": [
    "import india as ind"
   ]
  },
  {
   "cell_type": "code",
   "execution_count": 26,
   "id": "ec49c585",
   "metadata": {},
   "outputs": [
    {
     "name": "stdout",
     "output_type": "stream",
     "text": [
      "Capital of India is New Delhi\n"
     ]
    }
   ],
   "source": [
    "ind.capital()"
   ]
  },
  {
   "cell_type": "code",
   "execution_count": 27,
   "id": "62c98e3b",
   "metadata": {},
   "outputs": [
    {
     "name": "stdout",
     "output_type": "stream",
     "text": [
      "Hydearabadi Biriyani\n",
      "Daal Chawal\n",
      "Dalcha\n",
      "Dosa Idli\n",
      "Vada Pav\n",
      "Litti choka\n",
      "Panjabi Lassi\n",
      "Kheer\n",
      "Barfi\n"
     ]
    }
   ],
   "source": [
    "ind.food()"
   ]
  },
  {
   "cell_type": "code",
   "execution_count": 28,
   "id": "164d3953",
   "metadata": {},
   "outputs": [
    {
     "name": "stdout",
     "output_type": "stream",
     "text": [
      "Cricket\n",
      "Kabaddi\n",
      "Football\n",
      "Volleyball\n",
      "BasketBall\n",
      "Hockey\n"
     ]
    }
   ],
   "source": [
    "ind.games()"
   ]
  },
  {
   "cell_type": "code",
   "execution_count": 29,
   "id": "f180670a",
   "metadata": {},
   "outputs": [
    {
     "name": "stdout",
     "output_type": "stream",
     "text": [
      "Telangana State\n",
      "Maharashtra State\n",
      "Andhra Pradesh\n",
      "Madhya Pradesh\n",
      "Karnataka \n",
      "Tamil Nadu\n",
      "Goa\n",
      "Himachal pradesh\n",
      "Panjab \n",
      "Uttar Pradesh\n"
     ]
    }
   ],
   "source": [
    "ind.states()"
   ]
  },
  {
   "cell_type": "code",
   "execution_count": 30,
   "id": "49e3dba6",
   "metadata": {},
   "outputs": [
    {
     "name": "stdout",
     "output_type": "stream",
     "text": [
      "New Delhi\n",
      "Hyderabad\n",
      "Mumbai\n",
      "Banglore\n",
      "Goa\n",
      "Jaipur\n",
      "Shimla\n",
      "Manali\n",
      "Chennai\n",
      "Chikhaldara\n"
     ]
    }
   ],
   "source": [
    "ind.tourist_place()"
   ]
  },
  {
   "cell_type": "markdown",
   "id": "34b1f03b",
   "metadata": {},
   "source": [
    "## 5. Restaurant Module"
   ]
  },
  {
   "cell_type": "code",
   "execution_count": 31,
   "id": "a2db84c4",
   "metadata": {},
   "outputs": [],
   "source": [
    "import restaurant as res"
   ]
  },
  {
   "cell_type": "code",
   "execution_count": 32,
   "id": "ef796889",
   "metadata": {},
   "outputs": [
    {
     "name": "stdout",
     "output_type": "stream",
     "text": [
      "Hyderabadi Dum Briyani\n",
      "Chicken 65 Briyani\n",
      "Mutton Briyani\n",
      "CHicken Mandi\n",
      "Mutton Mandi\n",
      "Chicken Tangdi Kebab\n",
      "Butter Chicken\n",
      "Chicken Masala\n",
      "Chicken Ghamandi\n",
      "Chicken Tikka\n",
      "Tandoori Roti\n",
      "Rumali Roti\n",
      "nan pav\n",
      "appricot delight sweet\n",
      "Khubani sweet\n"
     ]
    }
   ],
   "source": [
    "res.menu()"
   ]
  },
  {
   "cell_type": "code",
   "execution_count": 33,
   "id": "0d3a36d0",
   "metadata": {},
   "outputs": [
    {
     "name": "stdout",
     "output_type": "stream",
     "text": [
      "Banjara Hills\n",
      "Hitech City\n",
      "kukatpally\n",
      "Secundrabad\n",
      "Nampally\n",
      "Charminar\n"
     ]
    }
   ],
   "source": [
    "res.location()"
   ]
  },
  {
   "cell_type": "code",
   "execution_count": 34,
   "id": "c4f66396",
   "metadata": {},
   "outputs": [
    {
     "name": "stdout",
     "output_type": "stream",
     "text": [
      "Non AC seating\n",
      "AC seating \n",
      "premium Seating\n",
      "Delux Seating\n",
      "Banquet Hall\n"
     ]
    }
   ],
   "source": [
    "res.seating()"
   ]
  },
  {
   "cell_type": "code",
   "execution_count": 35,
   "id": "01f3b847",
   "metadata": {},
   "outputs": [
    {
     "name": "stdout",
     "output_type": "stream",
     "text": [
      "Hyderabadi Dum Briyani\n",
      "Mutton Briyani\n",
      "Chicken Ghamandi\n",
      "Khubani sweet\n"
     ]
    }
   ],
   "source": [
    "res.speciality()"
   ]
  },
  {
   "cell_type": "code",
   "execution_count": null,
   "id": "e3bab672",
   "metadata": {},
   "outputs": [],
   "source": []
  }
 ],
 "metadata": {
  "kernelspec": {
   "display_name": "Python 3 (ipykernel)",
   "language": "python",
   "name": "python3"
  },
  "language_info": {
   "codemirror_mode": {
    "name": "ipython",
    "version": 3
   },
   "file_extension": ".py",
   "mimetype": "text/x-python",
   "name": "python",
   "nbconvert_exporter": "python",
   "pygments_lexer": "ipython3",
   "version": "3.11.4"
  }
 },
 "nbformat": 4,
 "nbformat_minor": 5
}
