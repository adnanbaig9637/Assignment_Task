{
 "cells": [
  {
   "cell_type": "markdown",
   "id": "dd8718fa",
   "metadata": {},
   "source": [
    "\n",
    "\n",
    "1. **Print Numbers from 1 to N:**\n",
    "   Write a Python program that uses a for loop to print all numbers from `1 to N` and `substract 5 `from each number.where N is a `positive integer` entered by the user.\n",
    "\n",
    "2. **Calculate the Sum of Numbers from 1 to N:**\n",
    "   Write a Python program that calculates and prints the `sum` of all numbers from `1 to N`, where N is a `positive integer` entered by the user, using a for loop.\n",
    "\n",
    "3. **Print Even Numbers:**\n",
    "   Write a Python program that prints all `even numbers` from `50 to 100` using a `for` loop.\n",
    "\n",
    "4. **Reverse a String:**\n",
    "   Write a Python program that takes a string as input and uses a `for loop` to print the characters of the string in `reverse order`.\n",
    "\n",
    "5. **Count Vowels in a String:**\n",
    "    `name = \"innomatics research labs\"`\n",
    "   Write a Python program uses a for loop to count the number of vowels (a, e, i, o, u) in the string. Ignore case sensitivity.\n",
    "\n",
    "6. **Generate a Multiplication Table:**\n",
    "   Write a Python program that generates and prints the multiplication table for  6.\n"
   ]
  },
  {
   "cell_type": "markdown",
   "id": "2e5af7a7",
   "metadata": {},
   "source": [
    "* 1. **Print Numbers from 1 to N:** Write a Python program that uses a for loop to print all numbers from 1 to N and substract 5 from each number.where N is a positive integer entered by the user."
   ]
  },
  {
   "cell_type": "code",
   "execution_count": 6,
   "id": "c7d9ff6f",
   "metadata": {},
   "outputs": [
    {
     "name": "stdout",
     "output_type": "stream",
     "text": [
      "Enter a number : 10\n",
      "-4\n",
      "-3\n",
      "-2\n",
      "-1\n",
      "0\n",
      "1\n",
      "2\n",
      "3\n",
      "4\n"
     ]
    }
   ],
   "source": [
    "num = int(input(\"Enter a number : \"))\n",
    "for i in (range(1,num)):\n",
    "    print(i-5)"
   ]
  },
  {
   "cell_type": "markdown",
   "id": "5ee4f66a",
   "metadata": {},
   "source": [
    "* 2. **Calculate the Sum of Numbers from 1 to N:** Write a Python program that calculates and prints the sum of all numbers from 1 to N, where N is a positive integer entered by the user, using a for loop."
   ]
  },
  {
   "cell_type": "code",
   "execution_count": 17,
   "id": "1340042f",
   "metadata": {},
   "outputs": [
    {
     "name": "stdout",
     "output_type": "stream",
     "text": [
      "Enter a number : 15\n"
     ]
    }
   ],
   "source": [
    "num = int(input(\"Enter a number : \"))\n",
    "total = 0\n",
    "for i in range(1,num):\n",
    "    total = total + i"
   ]
  },
  {
   "cell_type": "code",
   "execution_count": 18,
   "id": "f4cb66ae",
   "metadata": {},
   "outputs": [
    {
     "name": "stdout",
     "output_type": "stream",
     "text": [
      "105\n"
     ]
    }
   ],
   "source": [
    "print(total)"
   ]
  },
  {
   "cell_type": "markdown",
   "id": "e1b9a276",
   "metadata": {},
   "source": [
    "* 3.  **Print Even Numbers:**\n",
    "   Write a Python program that prints all `even numbers` from `50 to 100` using a `for` loop."
   ]
  },
  {
   "cell_type": "code",
   "execution_count": 30,
   "id": "40f1ab42",
   "metadata": {},
   "outputs": [],
   "source": [
    "num = range(50,100)"
   ]
  },
  {
   "cell_type": "code",
   "execution_count": 31,
   "id": "8f5ee810",
   "metadata": {},
   "outputs": [
    {
     "name": "stdout",
     "output_type": "stream",
     "text": [
      "50\n",
      "52\n",
      "54\n",
      "56\n",
      "58\n",
      "60\n",
      "62\n",
      "64\n",
      "66\n",
      "68\n",
      "70\n",
      "72\n",
      "74\n",
      "76\n",
      "78\n",
      "80\n",
      "82\n",
      "84\n",
      "86\n",
      "88\n",
      "90\n",
      "92\n",
      "94\n",
      "96\n",
      "98\n"
     ]
    }
   ],
   "source": [
    "for i in num :\n",
    "    if (i%2==0):\n",
    "        print(i)"
   ]
  },
  {
   "cell_type": "markdown",
   "id": "864c8d36",
   "metadata": {},
   "source": [
    "4. **Reverse a String:**\n",
    "   Write a Python program that takes a string as input and uses a `for loop` to print the characters of the string in `reverse order`."
   ]
  },
  {
   "cell_type": "code",
   "execution_count": null,
   "id": "778c089c",
   "metadata": {},
   "outputs": [],
   "source": []
  },
  {
   "cell_type": "code",
   "execution_count": 12,
   "id": "05be056b",
   "metadata": {},
   "outputs": [
    {
     "name": "stdout",
     "output_type": "stream",
     "text": [
      "Enter your institute name : INNOMATICS RESEARCH LABS\n"
     ]
    }
   ],
   "source": [
    "user = input(\"Enter your institute name : \")"
   ]
  },
  {
   "cell_type": "code",
   "execution_count": 13,
   "id": "2f15df13",
   "metadata": {},
   "outputs": [
    {
     "name": "stdout",
     "output_type": "stream",
     "text": [
      "S\n",
      "B\n",
      "A\n",
      "L\n",
      " \n",
      "H\n",
      "C\n",
      "R\n",
      "A\n",
      "E\n",
      "S\n",
      "E\n",
      "R\n",
      " \n",
      "S\n",
      "C\n",
      "I\n",
      "T\n",
      "A\n",
      "M\n",
      "O\n",
      "N\n",
      "N\n",
      "I\n"
     ]
    }
   ],
   "source": [
    "for i in user[-1: :-1] :\n",
    "    print(i)"
   ]
  },
  {
   "cell_type": "markdown",
   "id": "386beafa",
   "metadata": {},
   "source": [
    "5. **Count Vowels in a String:**\n",
    "    `name = \"innomatics research labs\"`\n",
    "   Write a Python program uses a for loop to count the number of vowels (a, e, i, o, u) in the string. Ignore case sensitivity."
   ]
  },
  {
   "cell_type": "code",
   "execution_count": 35,
   "id": "0a6d83e6",
   "metadata": {},
   "outputs": [
    {
     "name": "stdout",
     "output_type": "stream",
     "text": [
      "i\n",
      "o\n",
      "a\n",
      "i\n",
      "e\n",
      "e\n",
      "a\n",
      "a\n"
     ]
    }
   ],
   "source": [
    "name = \"innomatics research labs\"\n",
    "vowels = (\"a\",\"e\",\"o\",\"i\",\"u\")\n",
    "for i in name :\n",
    "    if i in vowels:\n",
    "        print(i)\n",
    "        "
   ]
  },
  {
   "cell_type": "code",
   "execution_count": 41,
   "id": "fad30788",
   "metadata": {},
   "outputs": [
    {
     "name": "stdout",
     "output_type": "stream",
     "text": [
      "The vowels present in name are  8\n",
      "['i', 'o', 'a', 'i', 'e', 'e', 'a', 'a']\n"
     ]
    }
   ],
   "source": [
    "name = \"innomatics research labs\"\n",
    "vowels = []\n",
    "for i in name :\n",
    "    if i in [\"a\",\"e\",\"o\",\"i\",\"u\"]:\n",
    "        vowels.append(i)\n",
    "print(\"The vowels present in name are \",len(vowels))\n",
    "print(vowels)\n",
    "    "
   ]
  },
  {
   "cell_type": "code",
   "execution_count": null,
   "id": "257ed62c",
   "metadata": {},
   "outputs": [],
   "source": []
  },
  {
   "cell_type": "markdown",
   "id": "87855a3e",
   "metadata": {},
   "source": [
    "6. **Generate a Multiplication Table:**\n",
    "   Write a Python program that generates and prints the multiplication table for  6."
   ]
  },
  {
   "cell_type": "code",
   "execution_count": 6,
   "id": "a85a6600",
   "metadata": {},
   "outputs": [
    {
     "name": "stdout",
     "output_type": "stream",
     "text": [
      "Enter a number for which you want table : 6\n",
      "6 * 1 = 6\n",
      "6 * 2 = 12\n",
      "6 * 3 = 18\n",
      "6 * 4 = 24\n",
      "6 * 5 = 30\n",
      "6 * 6 = 36\n",
      "6 * 7 = 42\n",
      "6 * 8 = 48\n",
      "6 * 9 = 54\n",
      "6 * 10 = 60\n"
     ]
    }
   ],
   "source": [
    "table = int(input(\"Enter a number for which you want table : \"))\n",
    "n = range(1,11)\n",
    "for i in n :\n",
    "    multi = i * table\n",
    "    print(f\"{table} * {i} = {multi}\")    \n"
   ]
  },
  {
   "cell_type": "code",
   "execution_count": 10,
   "id": "c7e5558c",
   "metadata": {},
   "outputs": [
    {
     "name": "stdout",
     "output_type": "stream",
     "text": [
      "Enter a number for which you want multiplication table :  6\n",
      "6\n",
      "12\n",
      "18\n",
      "24\n",
      "30\n",
      "36\n",
      "42\n",
      "48\n",
      "54\n",
      "60\n"
     ]
    }
   ],
   "source": [
    "table = int(input(\"Enter a number for which you want multiplication table :  \"))\n",
    "for i in range(1,11):\n",
    "    print(i*table)"
   ]
  },
  {
   "cell_type": "code",
   "execution_count": null,
   "id": "1d707930",
   "metadata": {},
   "outputs": [],
   "source": []
  }
 ],
 "metadata": {
  "kernelspec": {
   "display_name": "Python 3 (ipykernel)",
   "language": "python",
   "name": "python3"
  },
  "language_info": {
   "codemirror_mode": {
    "name": "ipython",
    "version": 3
   },
   "file_extension": ".py",
   "mimetype": "text/x-python",
   "name": "python",
   "nbconvert_exporter": "python",
   "pygments_lexer": "ipython3",
   "version": "3.11.4"
  }
 },
 "nbformat": 4,
 "nbformat_minor": 5
}
