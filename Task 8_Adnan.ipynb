{
 "cells": [
  {
   "cell_type": "markdown",
   "id": "21c2b7b2",
   "metadata": {},
   "source": [
    "\n",
    "**Task 1: Basic If-Else Statements**\n",
    "Write a Python program that takes an `integer as input` from the user and prints whether it is `multiple of 3 or not` using if-else statements.\n",
    "\n",
    "**Task 2: Nested If Statements**\n",
    "Create a program that `asks the user` for their `age` and `nationality`. Depending on their age and nationality, display a different message using nested if statements. For example, if they are under 18 and from the USA, display `\"You are a minor from the USA.\"`\n",
    "\n",
    "**Task 3: Grade Calculator**\n",
    "Write a program that takes a student's score as input and converts it to a letter grade (A, B, C, D, or F) using if-elif-else statements. Use the following grading scale:\n",
    "- A: 90-100\n",
    "- B: 80-89\n",
    "- C: 70-79\n",
    "- D: 60-69\n",
    "- F: Below 60\n",
    "\n",
    "**Task 4: Leap Year Checker**\n",
    "Create a Python program that checks if a given year is a leap year or not. Use conditional statements to determine whether the year is divisible by 4, 100, and 400 to decide if it's a leap year.\n",
    "\n",
    "**Task 5: BMI Calculator**\n",
    "Write a program that calculates a person's Body Mass Index (BMI) based on their height and weight. Then, use conditional statements to categorize the BMI as Underweight, Normal, Overweight, or Obese. Provide guidance on the healthy range for BMI.(use BMI Formula)\n",
    "\n",
    "**Task 6: Calculator with Menu**\n",
    "Build a simple calculator program that provides a menu with options for addition, subtraction, multiplication, and division. `Take user input for two numbers`and an `operation choice`. Use conditional statements to perform the selected operation and display the result.\n",
    "\n",
    "**Task 7: Temperature Converter**\n",
    "Write a program that `converts temperatures between Celsius and Fahrenhei`t. Allow the user to `choose` the conversion direction and input the temperature value. Use conditional statements to perform the conversion based on the `user's choice`.(Do with conversion formula)\n"
   ]
  },
  {
   "cell_type": "markdown",
   "id": "2cb6a59a",
   "metadata": {},
   "source": [
    "* Task 1: Basic If-Else Statements Write a Python program that takes an integer as input from the user and prints whether it is multiple of 3 or not using if-else statements"
   ]
  },
  {
   "cell_type": "code",
   "execution_count": 3,
   "id": "9aa800f5",
   "metadata": {},
   "outputs": [
    {
     "name": "stdout",
     "output_type": "stream",
     "text": [
      "Enter number27\n",
      "It is multiple of 3\n"
     ]
    }
   ],
   "source": [
    "user = int(input(\"Enter number\"))\n",
    "if (user%3) == 0 :\n",
    "    print(\"It is multiple of 3\")\n",
    "else :\n",
    "    print(\"It is not multiple of 3\")"
   ]
  },
  {
   "cell_type": "markdown",
   "id": "2b450b65",
   "metadata": {},
   "source": [
    "* Task 2: Nested If Statements Create a program that asks the user for their age and nationality. Depending on their age and nationality, display a different message using nested if statements. For example, if they are under 18 and from the USA, display \"You are a minor from the USA.\""
   ]
  },
  {
   "cell_type": "code",
   "execution_count": 1,
   "id": "79c3d898",
   "metadata": {},
   "outputs": [
    {
     "name": "stdout",
     "output_type": "stream",
     "text": [
      "Enter your age :: 15\n",
      "Enter your nationality :: India\n",
      "You are minor from India\n"
     ]
    }
   ],
   "source": [
    "user = int(input(\"Enter your age :: \"))\n",
    "place = input(\"Enter your nationality :: \")\n",
    "if user<18 :\n",
    "    print(\"You are minor from\", place)\n",
    "else : \n",
    "    print(\"You are adult from\" , place)"
   ]
  },
  {
   "cell_type": "code",
   "execution_count": null,
   "id": "1d526978",
   "metadata": {},
   "outputs": [],
   "source": []
  },
  {
   "cell_type": "markdown",
   "id": "e95e0b1d",
   "metadata": {},
   "source": [
    "* Task 3: Grade Calculator Write a program that takes a student's score as input and converts it to a letter grade (A, B, C, D, or F) using if-elif-else statements. Use the following grading scale:\n",
    "\n",
    "* A: 90-100\n",
    "* B: 80-89\n",
    "* C: 70-79\n",
    "* D: 60-69\n",
    "* F: Below 60"
   ]
  },
  {
   "cell_type": "code",
   "execution_count": 11,
   "id": "4517da2c",
   "metadata": {},
   "outputs": [
    {
     "name": "stdout",
     "output_type": "stream",
     "text": [
      "Enter your Marks :: 92\n",
      "A Grade\n"
     ]
    }
   ],
   "source": [
    "student = int(input(\"Enter your Marks :: \"))\n",
    "if (student>=90) and (student<=100) :\n",
    "    print(\"A Grade\")\n",
    "elif (student>=80) and (student<=89) :\n",
    "    print(\"B Grade\")\n",
    "elif (student>=70) and (student<=79) :\n",
    "    print(\"C Grade\")\n",
    "elif (student>=60) and (student<69) :\n",
    "    print(\"D Grade\")\n",
    "elif (student>100) or (student<0) :\n",
    "    print(\"Enter valid Marks :: \")\n",
    "else:\n",
    "    print(\"F\")\n"
   ]
  },
  {
   "cell_type": "code",
   "execution_count": null,
   "id": "c3dbe420",
   "metadata": {},
   "outputs": [],
   "source": []
  },
  {
   "cell_type": "markdown",
   "id": "104cd01b",
   "metadata": {},
   "source": [
    "* Task 4: Leap Year Checker Create a Python program that checks if a given year is a leap year or not. Use conditional statements to determine whether the year is divisible by 4, 100, and 400 to decide if it's a leap year."
   ]
  },
  {
   "cell_type": "code",
   "execution_count": 17,
   "id": "8776ee87",
   "metadata": {},
   "outputs": [
    {
     "name": "stdout",
     "output_type": "stream",
     "text": [
      "Enter year :: 2004\n",
      "It is a leap year\n"
     ]
    }
   ],
   "source": [
    "year = int(input(\"Enter year :: \"))\n",
    "\n",
    "if (year%4 == 0):\n",
    "    print(\"It is a leap year\")\n",
    "    \n",
    "elif (year%100 == 0) :\n",
    "    print(\"It is a leap year\")\n",
    "    \n",
    "elif (year%400 == 0) :\n",
    "    print(\"It is a leap year\")\n",
    "    \n",
    "else :\n",
    "    print(\"It is not leap year\")"
   ]
  },
  {
   "cell_type": "markdown",
   "id": "a0c037ba",
   "metadata": {},
   "source": [
    "* Task 5: BMI Calculator Write a program that calculates a person's Body Mass Index (BMI) based on their height and weight. Then, use conditional statements to categorize the BMI as Underweight, Normal, Overweight, or Obese. Provide guidance on the healthy range for BMI.(use BMI Formula)"
   ]
  },
  {
   "cell_type": "code",
   "execution_count": 12,
   "id": "e26712fb",
   "metadata": {},
   "outputs": [
    {
     "name": "stdout",
     "output_type": "stream",
     "text": [
      "Enter weight in Kg :: 95\n",
      "Enter height in meter :: 1.7\n",
      "32.871972318339104\n",
      "You are at Obessity\n"
     ]
    }
   ],
   "source": [
    "weight = float(input(\"Enter weight in Kg :: \"))\n",
    "height = float(input(\"Enter height in meter :: \"))\n",
    "BMI = weight / (height)**2\n",
    "print(BMI)\n",
    "\n",
    "if (BMI<18.5) :\n",
    "    print(\"You are at underweight\")\n",
    "    \n",
    "elif (BMI >= 18.5) and (BMI <= 24.9) :\n",
    "    print(\"You are at Normal weight\")\n",
    "    \n",
    "elif (BMI >= 25.0) and (BMI <= 29.9) :\n",
    "    print(\"You are at overweight\")\n",
    "    \n",
    "elif (BMI >= 30) :\n",
    "    print(\"You are at Obessity\")\n",
    "\n",
    "else :\n",
    "    print(\"You are at Obessity\")"
   ]
  },
  {
   "cell_type": "markdown",
   "id": "165f7fde",
   "metadata": {},
   "source": [
    "* Task 6: Calculator with Menu Build a simple calculator program that provides a menu with options for addition, subtraction, multiplication, and division. Take user input for two numbersand an operation choice. Use conditional statements to perform the selected operation and display the result."
   ]
  },
  {
   "cell_type": "code",
   "execution_count": 35,
   "id": "fcb07dfe",
   "metadata": {},
   "outputs": [
    {
     "name": "stdout",
     "output_type": "stream",
     "text": [
      "Enter first number :: 50\n",
      "Enter second numer :: 20\n",
      "select operator :: +\n",
      "70\n"
     ]
    }
   ],
   "source": [
    "first = int(input(\"Enter first number :: \"))\n",
    "second = int(input(\"Enter second numer :: \"))\n",
    "operation = input(\"select operator :: \")\n",
    "\n",
    "if operation == \"+\" :\n",
    "    print(first+second)\n",
    "    \n",
    "elif operation == \"-\" :\n",
    "    print(first-second)\n",
    "    \n",
    "elif operation == \"*\" :\n",
    "    print(first*second)\n",
    "    \n",
    "elif operation == \"/\" :\n",
    "    print(first/second)\n",
    "    \n",
    "else :\n",
    "    print(\"Enter valid detail from +,-,*,/ \")"
   ]
  },
  {
   "cell_type": "markdown",
   "id": "57b27ff7",
   "metadata": {},
   "source": [
    "* Task 7: Temperature Converter Write a program that converts temperatures between Celsius and Fahrenheit. Allow the user to choose the conversion direction and input the temperature value. Use conditional statements to perform the conversion based on the user's choice.(Do with conversion formula)"
   ]
  },
  {
   "cell_type": "code",
   "execution_count": 2,
   "id": "6444d3bc",
   "metadata": {},
   "outputs": [
    {
     "name": "stdout",
     "output_type": "stream",
     "text": [
      "enter temprature :: 120\n",
      "Enter direction in which you want converion :: celsius\n",
      "celsius 48.888888888888886\n"
     ]
    }
   ],
   "source": [
    "temp = int(input(\"enter temprature :: \"))\n",
    "Direction = input(\"Enter direction in which you want converion :: \")\n",
    "\n",
    "if Direction == \"Fahrenheit\" :\n",
    "    Fahrenheit = temp*(9/5)+32\n",
    "    print(\"Fahrenheit\", Fahrenheit)\n",
    "    \n",
    "elif Direction == \"celsius\":\n",
    "    celsius = (temp - 32) * 5/9\n",
    "    print(\"celsius\" ,celsius)\n",
    "    \n",
    "else:\n",
    "    print(\"Enter valid detail about above\")"
   ]
  },
  {
   "cell_type": "code",
   "execution_count": null,
   "id": "6af6c709",
   "metadata": {},
   "outputs": [],
   "source": []
  }
 ],
 "metadata": {
  "kernelspec": {
   "display_name": "Python 3 (ipykernel)",
   "language": "python",
   "name": "python3"
  },
  "language_info": {
   "codemirror_mode": {
    "name": "ipython",
    "version": 3
   },
   "file_extension": ".py",
   "mimetype": "text/x-python",
   "name": "python",
   "nbconvert_exporter": "python",
   "pygments_lexer": "ipython3",
   "version": "3.11.4"
  }
 },
 "nbformat": 4,
 "nbformat_minor": 5
}
