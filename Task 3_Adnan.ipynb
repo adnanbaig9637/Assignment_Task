{
 "cells": [
  {
   "cell_type": "markdown",
   "id": "110812e8",
   "metadata": {},
   "source": [
    "Assignment Tasks on String Escape Characters, Indexing, and Slicing:\n",
    "\n",
    "**String Escape Characters:**\n",
    "\n",
    "Task 1:\n",
    "1. Create a string containing a sentence that includes both single and double quotes.\n",
    "2. Use escape characters to include quotes within the string.\n",
    "3. Print the modified string.\n",
    "\n",
    "Task 2:\n",
    "1. Declare a string with a backslash \\ character in it.\n",
    "2. Demonstrate the use of the escape character to print the backslash itself.\n",
    "3. Print the resulting string.\n",
    "\n",
    "Task 3:\n",
    "1. Construct a string containing newline and tab escape sequences.\n",
    "2. Print the string to display the formatted output.\n",
    "\n",
    "**Indexing and Slicing:**\n",
    "\n",
    "Task 4:\n",
    "1.  sentence = \"I want to become Data Scientist\".\n",
    "2. Access and print the `first character` of the string using indexing.\n",
    "3. Access and print the `last character` of the string using negative indexing.\n",
    "\n",
    "Task 5:\n",
    "1. What are `possible ways` yo extract `Scientist`(use forward and reverse)\n",
    "2. Use slicing to extract and print the `first word` from the string.\n",
    "3. Use slicing to extract and print the `last three` characters of the string.\n",
    "\n",
    "Task 6:\n",
    "1. name = \"Innomatics Reserach Labs\"\n",
    "2. Apply slicing to extract a substring that includes the `second to fifth` characters.\n",
    "3. `Print` the extracted substring.\n",
    "\n",
    "Task 7:\n",
    "1. string = \"Python@1234\"\n",
    "2. Use slicing to extract every second character from the string.\n",
    "3. Print the resulting sliced string.\n",
    "\n",
    "Task 8:\n",
    "1.  print last five letters.\n",
    "2. Utilize slicing to reverse the word order in the string.\n",
    "3. Print the string with the words in the reversed order.\n",
    "\n",
    "Task 9:\n",
    "1. a = \"123123123\"\n",
    "2. Apply slicing to extract only the numeric characters at odd positions.\n",
    "3. Print the sliced result.\n",
    "\n",
    "Remember to include explanations or comments for each task's code to ensure clarity. Additionally, encourage students to experiment further with different escape characters and slicing techniques beyond the provided tasks to deepen their understanding."
   ]
  },
  {
   "cell_type": "markdown",
   "id": "457b07f8",
   "metadata": {},
   "source": [
    "**Assignment Tasks on String Escape Characters, Indexing, and Slicing:**\n",
    "\n",
    "* String Escape Characters:\n",
    "\n",
    "* Task 1:\n",
    "\n",
    "* Create a string containing a sentence that includes both single and double quotes."
   ]
  },
  {
   "cell_type": "code",
   "execution_count": 7,
   "id": "847cd9b3",
   "metadata": {},
   "outputs": [
    {
     "name": "stdout",
     "output_type": "stream",
     "text": [
      "This is Adnan's phone\n"
     ]
    }
   ],
   "source": [
    "name = \"This is Adnan's phone\" #we use single quotes thats why i put string in double quotes\n",
    "print(name)"
   ]
  },
  {
   "cell_type": "code",
   "execution_count": 8,
   "id": "0565ea48",
   "metadata": {},
   "outputs": [
    {
     "name": "stdout",
     "output_type": "stream",
     "text": [
      "My name is \"Adnan\" \n"
     ]
    }
   ],
   "source": [
    "name = 'My name is \"Adnan\" ' #we use double quotes thats why i put string in single quotes\n",
    "print(name)"
   ]
  },
  {
   "cell_type": "markdown",
   "id": "4cfd7d95",
   "metadata": {},
   "source": [
    "* Use escape characters to include quotes within the string"
   ]
  },
  {
   "cell_type": "code",
   "execution_count": 10,
   "id": "911a6da9",
   "metadata": {},
   "outputs": [
    {
     "name": "stdout",
     "output_type": "stream",
     "text": [
      "This is Adnan's phone\n"
     ]
    }
   ],
   "source": [
    "name = 'This is Adnan\\'s phone' # if we want to use single quotes in single quotes string we have escape character backslash before quotes\n",
    "print(name)"
   ]
  },
  {
   "cell_type": "code",
   "execution_count": 15,
   "id": "ac132f60",
   "metadata": {},
   "outputs": [
    {
     "name": "stdout",
     "output_type": "stream",
     "text": [
      "My name is \"Adnan\" \n"
     ]
    }
   ],
   "source": [
    "name = \"My name is \\\"Adnan\\\" \"  #if we want to use double quotes in double quotes string we have escape character 2 backslash before quotes which want to highlight in quotes\n",
    "print(name)"
   ]
  },
  {
   "cell_type": "markdown",
   "id": "63f857a0",
   "metadata": {},
   "source": [
    "**Task 2:**\n",
    "\n",
    "* Declare a string with a backslash \\ character in it."
   ]
  },
  {
   "cell_type": "code",
   "execution_count": 27,
   "id": "c17a01bc",
   "metadata": {},
   "outputs": [
    {
     "name": "stdout",
     "output_type": "stream",
     "text": [
      "Hello\\World\\I am\\ Learning\\Python\n"
     ]
    }
   ],
   "source": [
    "file = \"Hello\\\\World\\\\I am\\\\ Learning\\Python\" #if we want backslash in string we need to extra one backslash\n",
    "print(file)"
   ]
  },
  {
   "cell_type": "code",
   "execution_count": 29,
   "id": "b414b2a8",
   "metadata": {},
   "outputs": [
    {
     "name": "stdout",
     "output_type": "stream",
     "text": [
      "hello\\world\\i am\\learning\\python\n"
     ]
    }
   ],
   "source": [
    "print(r\"hello\\world\\i am\\learning\\python\") #if we want to print as it as we have one escape charate provide 'r' (raw) befor string"
   ]
  },
  {
   "cell_type": "code",
   "execution_count": 30,
   "id": "cef385fa",
   "metadata": {},
   "outputs": [
    {
     "name": "stdout",
     "output_type": "stream",
     "text": [
      "Hello\\World\\I am\\ Learning\\Python\n"
     ]
    }
   ],
   "source": [
    "print(file)"
   ]
  },
  {
   "cell_type": "markdown",
   "id": "ea5609e6",
   "metadata": {},
   "source": [
    "**Task 3:**\n",
    "\n",
    "* Construct a string containing newline and tab escape sequences."
   ]
  },
  {
   "cell_type": "code",
   "execution_count": 32,
   "id": "fe5aa0e2",
   "metadata": {},
   "outputs": [
    {
     "name": "stdout",
     "output_type": "stream",
     "text": [
      "Innomatics \n",
      "Research \n",
      "Labs \n",
      "Hyderabad\n"
     ]
    }
   ],
   "source": [
    "name = \"Innomatics \\nResearch \\nLabs \\nHyderabad\"  #If we want newline we need to give escape character \\n\n",
    "print(name)"
   ]
  },
  {
   "cell_type": "code",
   "execution_count": 34,
   "id": "238f4f6a",
   "metadata": {},
   "outputs": [
    {
     "name": "stdout",
     "output_type": "stream",
     "text": [
      "Innomatics \tResearch \tLabs \tHyderabad\n"
     ]
    }
   ],
   "source": [
    "name = \"Innomatics \\tResearch \\tLabs \\tHyderabad\"  #If we want to give tab(4spaces) we need to give escape character \\t \n",
    "print(name)"
   ]
  },
  {
   "cell_type": "markdown",
   "id": "c481e679",
   "metadata": {},
   "source": [
    "**Indexing and Slicing:**\n",
    "\n",
    "* Task 4:\n",
    "\n",
    "* sentence = \"I want to become Data Scientist\".\n",
    "* Access and print the first character of the string using indexing."
   ]
  },
  {
   "cell_type": "code",
   "execution_count": 104,
   "id": "9b41689a",
   "metadata": {},
   "outputs": [
    {
     "data": {
      "text/plain": [
       "'I'"
      ]
     },
     "execution_count": 104,
     "metadata": {},
     "output_type": "execute_result"
    }
   ],
   "source": [
    "sentence = \"I want to become Data Scientist\" # If we wantto print only one character we can do with the help of  positive indexing number (sentence[0]\n",
    "sentence[0]"
   ]
  },
  {
   "cell_type": "markdown",
   "id": "6bc2b14d",
   "metadata": {},
   "source": [
    "* Access and print the last character of the string using negative indexing."
   ]
  },
  {
   "cell_type": "code",
   "execution_count": 46,
   "id": "6ca455ee",
   "metadata": {},
   "outputs": [
    {
     "data": {
      "text/plain": [
       "'t'"
      ]
     },
     "execution_count": 46,
     "metadata": {},
     "output_type": "execute_result"
    }
   ],
   "source": [
    "sentence = \"I want to become Data Scientist\" #if we want to print only one character we can do with negative indexing (sentence[-1]) \n",
    "sentence[-1]"
   ]
  },
  {
   "cell_type": "markdown",
   "id": "7198e6c4",
   "metadata": {},
   "source": [
    "**Task 5:**\n",
    "\n",
    "* What are possible ways yo extract Scientist(use forward and reverse)"
   ]
  },
  {
   "cell_type": "code",
   "execution_count": 63,
   "id": "3b240787",
   "metadata": {},
   "outputs": [
    {
     "data": {
      "text/plain": [
       "'Scientist'"
      ]
     },
     "execution_count": 63,
     "metadata": {},
     "output_type": "execute_result"
    }
   ],
   "source": [
    "sent = \"i want to become Data Scientist\" #we can do using forword slicing [start:stop:step] take stop at one more\n",
    "sent[22:31:1]"
   ]
  },
  {
   "cell_type": "code",
   "execution_count": 65,
   "id": "63dc13d7",
   "metadata": {},
   "outputs": [
    {
     "data": {
      "text/plain": [
       "'Scientis'"
      ]
     },
     "execution_count": 65,
     "metadata": {},
     "output_type": "execute_result"
    }
   ],
   "source": [
    "sent = \"i want to become Data Scientist\"  # we can do using reverse slicing [-start:-stop:step]\n",
    "sent[-9:-1:1]"
   ]
  },
  {
   "cell_type": "markdown",
   "id": "cd65a002",
   "metadata": {},
   "source": [
    "* Use slicing to extract and print the first word from the string.\n"
   ]
  },
  {
   "cell_type": "code",
   "execution_count": 69,
   "id": "2e13ec43",
   "metadata": {},
   "outputs": [
    {
     "data": {
      "text/plain": [
       "'i want'"
      ]
     },
     "execution_count": 69,
     "metadata": {},
     "output_type": "execute_result"
    }
   ],
   "source": [
    "sent = \"i want to become Data Scientist\" # printting first word using forword slicing\n",
    "sent[0:6:1]"
   ]
  },
  {
   "cell_type": "markdown",
   "id": "4ff33688",
   "metadata": {},
   "source": [
    "* Use slicing to extract and print the last three characters of the string."
   ]
  },
  {
   "cell_type": "code",
   "execution_count": 106,
   "id": "5904f5a2",
   "metadata": {},
   "outputs": [
    {
     "data": {
      "text/plain": [
       "'ist'"
      ]
     },
     "execution_count": 106,
     "metadata": {},
     "output_type": "execute_result"
    }
   ],
   "source": [
    "sent = \"i want to become Data Scientist\" #printing last three character using reverse slicing\n",
    "sent[-3::1]"
   ]
  },
  {
   "cell_type": "markdown",
   "id": "970de0f2",
   "metadata": {},
   "source": [
    "**Task 6:**\n",
    "\n",
    "* name = \"Innomatics Reserach Labs\"\n",
    "* Apply slicing to extract a substring that includes the second to fifth characters.\n",
    "* Print the extracted substring."
   ]
  },
  {
   "cell_type": "code",
   "execution_count": 76,
   "id": "3115a07d",
   "metadata": {},
   "outputs": [
    {
     "data": {
      "text/plain": [
       "'noma'"
      ]
     },
     "execution_count": 76,
     "metadata": {},
     "output_type": "execute_result"
    }
   ],
   "source": [
    "name = \"Innomatics Research Labs\" #\n",
    "name[2:6:1]"
   ]
  },
  {
   "cell_type": "markdown",
   "id": "aa49a470",
   "metadata": {},
   "source": [
    "**Task 7:**\n",
    "\n",
    "* string = \"Python@1234\"\n",
    "* Use slicing to extract every second character from the string.\n",
    "* Print the resulting sliced string."
   ]
  },
  {
   "cell_type": "code",
   "execution_count": 78,
   "id": "dd2c1c91",
   "metadata": {},
   "outputs": [
    {
     "data": {
      "text/plain": [
       "'yhn13'"
      ]
     },
     "execution_count": 78,
     "metadata": {},
     "output_type": "execute_result"
    }
   ],
   "source": [
    "string=\"Python@123\"\n",
    "string[1:11:2]"
   ]
  },
  {
   "cell_type": "markdown",
   "id": "2093a6b8",
   "metadata": {},
   "source": [
    "**Task 8:**\n",
    "\n",
    "* print last five letters.\n",
    "* Utilize slicing to reverse the word order in the string.\n",
    "* Print the string with the words in the reversed order."
   ]
  },
  {
   "cell_type": "code",
   "execution_count": 100,
   "id": "ffab2714",
   "metadata": {},
   "outputs": [
    {
     "data": {
      "text/plain": [
       "'atics'"
      ]
     },
     "execution_count": 100,
     "metadata": {},
     "output_type": "execute_result"
    }
   ],
   "source": [
    "name = \"innomatics\"\n",
    "name[-5::1]"
   ]
  },
  {
   "cell_type": "code",
   "execution_count": 107,
   "id": "6e78d655",
   "metadata": {},
   "outputs": [
    {
     "data": {
      "text/plain": [
       "'scitamonni'"
      ]
     },
     "execution_count": 107,
     "metadata": {},
     "output_type": "execute_result"
    }
   ],
   "source": [
    "name = \"innomatics\" #using reverse slicing we reverse the word order using -step\n",
    "name[-1::-1]"
   ]
  },
  {
   "cell_type": "markdown",
   "id": "e4e4c05d",
   "metadata": {},
   "source": [
    "**Task 9:**\n",
    "\n",
    "* a = \"123123123\"\n",
    "* Apply slicing to extract only the numeric characters at odd positions.\n",
    "* Print the sliced result."
   ]
  },
  {
   "cell_type": "code",
   "execution_count": 103,
   "id": "da033853",
   "metadata": {},
   "outputs": [
    {
     "data": {
      "text/plain": [
       "'2132'"
      ]
     },
     "execution_count": 103,
     "metadata": {},
     "output_type": "execute_result"
    }
   ],
   "source": [
    "a = \"123123123\" #if we want to extract character at odd position(1,3,5) we have to give a=[sart1 :stop at end: step 2] so it can be extract odd position character\n",
    "a[1::2]"
   ]
  },
  {
   "cell_type": "code",
   "execution_count": null,
   "id": "4e748f88",
   "metadata": {},
   "outputs": [],
   "source": []
  }
 ],
 "metadata": {
  "kernelspec": {
   "display_name": "Python 3 (ipykernel)",
   "language": "python",
   "name": "python3"
  },
  "language_info": {
   "codemirror_mode": {
    "name": "ipython",
    "version": 3
   },
   "file_extension": ".py",
   "mimetype": "text/x-python",
   "name": "python",
   "nbconvert_exporter": "python",
   "pygments_lexer": "ipython3",
   "version": "3.11.4"
  }
 },
 "nbformat": 4,
 "nbformat_minor": 5
}
