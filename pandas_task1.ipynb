{
 "cells": [
  {
   "cell_type": "markdown",
   "id": "e1a74717",
   "metadata": {},
   "source": [
    "**pandas Series**\n",
    "* Create pandas series with different data types in different ways\n",
    "* Find the attributes of Series of [10,30,40,1,3,6,14,18,23] with index starts from 100\n",
    "* create salaries of 30 employee salaries randomly from 30000-90000 then measure and describe the data using pandas series.\n",
    "* What are the similaraties and differences between pandas series and nnumpy array.Prove it with code.\n",
    "* create pandas series with ranges from 100 to 150 then apply indexing and slicing on it."
   ]
  },
  {
   "cell_type": "markdown",
   "id": "606f1b0b",
   "metadata": {},
   "source": [
    "**Create pandas series with different data types in different ways**"
   ]
  },
  {
   "cell_type": "code",
   "execution_count": 1,
   "id": "d04d46b7",
   "metadata": {},
   "outputs": [],
   "source": [
    "import pandas as pd"
   ]
  },
  {
   "cell_type": "code",
   "execution_count": 2,
   "id": "fc5cf83f",
   "metadata": {},
   "outputs": [],
   "source": [
    "import numpy as np"
   ]
  },
  {
   "cell_type": "code",
   "execution_count": 3,
   "id": "b4239160",
   "metadata": {},
   "outputs": [],
   "source": [
    "list1 = list(range(10,25))\n"
   ]
  },
  {
   "cell_type": "code",
   "execution_count": 4,
   "id": "06678c54",
   "metadata": {},
   "outputs": [
    {
     "data": {
      "text/plain": [
       "0     10\n",
       "1     11\n",
       "2     12\n",
       "3     13\n",
       "4     14\n",
       "5     15\n",
       "6     16\n",
       "7     17\n",
       "8     18\n",
       "9     19\n",
       "10    20\n",
       "11    21\n",
       "12    22\n",
       "13    23\n",
       "14    24\n",
       "dtype: int64"
      ]
     },
     "execution_count": 4,
     "metadata": {},
     "output_type": "execute_result"
    }
   ],
   "source": [
    "pd.Series(list1)"
   ]
  },
  {
   "cell_type": "code",
   "execution_count": 5,
   "id": "02f7a8f3",
   "metadata": {},
   "outputs": [],
   "source": [
    "tuple1 = (\"I\",\"am\",\"Data Science\",\"at\",\"Innomatics\",\"Research\",\"Labs\",\"Hyderabad\")"
   ]
  },
  {
   "cell_type": "code",
   "execution_count": 6,
   "id": "4d7091dd",
   "metadata": {},
   "outputs": [
    {
     "data": {
      "text/plain": [
       "0               I\n",
       "1              am\n",
       "2    Data Science\n",
       "3              at\n",
       "4      Innomatics\n",
       "5        Research\n",
       "6            Labs\n",
       "7       Hyderabad\n",
       "dtype: object"
      ]
     },
     "execution_count": 6,
     "metadata": {},
     "output_type": "execute_result"
    }
   ],
   "source": [
    "pd.Series(tuple1)"
   ]
  },
  {
   "cell_type": "code",
   "execution_count": 7,
   "id": "14f7720a",
   "metadata": {},
   "outputs": [],
   "source": [
    "dict1 = {\"A\":\"Adnan\",\"B\":\"Raheem\",\"C\":\"Umair\",\"D\":\"Nabeel\",\"E\":\"Satish\",\"F\":\"Mansoor\"}"
   ]
  },
  {
   "cell_type": "code",
   "execution_count": 8,
   "id": "24e95d68",
   "metadata": {},
   "outputs": [
    {
     "data": {
      "text/plain": [
       "A      Adnan\n",
       "B     Raheem\n",
       "C      Umair\n",
       "D     Nabeel\n",
       "E     Satish\n",
       "F    Mansoor\n",
       "dtype: object"
      ]
     },
     "execution_count": 8,
     "metadata": {},
     "output_type": "execute_result"
    }
   ],
   "source": [
    "pd.Series(dict1)"
   ]
  },
  {
   "cell_type": "code",
   "execution_count": 10,
   "id": "34a8d597",
   "metadata": {},
   "outputs": [],
   "source": [
    "arr1 = np.arange(1,15)"
   ]
  },
  {
   "cell_type": "code",
   "execution_count": 11,
   "id": "c7a434ff",
   "metadata": {},
   "outputs": [
    {
     "data": {
      "text/plain": [
       "0      1\n",
       "1      2\n",
       "2      3\n",
       "3      4\n",
       "4      5\n",
       "5      6\n",
       "6      7\n",
       "7      8\n",
       "8      9\n",
       "9     10\n",
       "10    11\n",
       "11    12\n",
       "12    13\n",
       "13    14\n",
       "dtype: int32"
      ]
     },
     "execution_count": 11,
     "metadata": {},
     "output_type": "execute_result"
    }
   ],
   "source": [
    "pd.Series(arr1)"
   ]
  },
  {
   "cell_type": "code",
   "execution_count": null,
   "id": "421f2c73",
   "metadata": {},
   "outputs": [],
   "source": []
  },
  {
   "cell_type": "markdown",
   "id": "00c29c91",
   "metadata": {},
   "source": [
    "**Find the attributes of Series of [10,30,40,1,3,6,14,18,23] with index starts from 100**"
   ]
  },
  {
   "cell_type": "code",
   "execution_count": 15,
   "id": "07ae2af9",
   "metadata": {},
   "outputs": [
    {
     "data": {
      "text/plain": [
       "100    10\n",
       "101    30\n",
       "102    40\n",
       "103     1\n",
       "104     3\n",
       "105     6\n",
       "106    14\n",
       "107    18\n",
       "108    23\n",
       "dtype: int64"
      ]
     },
     "execution_count": 15,
     "metadata": {},
     "output_type": "execute_result"
    }
   ],
   "source": [
    "ser = [10,30,40,1,3,6,14,18,23]\n",
    "n = len(ser)\n",
    "ser = pd.Series(ser,index = list(range(100,100+n)))\n",
    "ser"
   ]
  },
  {
   "cell_type": "code",
   "execution_count": 17,
   "id": "34ed9363",
   "metadata": {},
   "outputs": [
    {
     "name": "stdout",
     "output_type": "stream",
     "text": [
      "<class 'pandas.core.series.Series'>\n",
      "Index: 9 entries, 100 to 108\n",
      "Series name: None\n",
      "Non-Null Count  Dtype\n",
      "--------------  -----\n",
      "9 non-null      int64\n",
      "dtypes: int64(1)\n",
      "memory usage: 144.0 bytes\n"
     ]
    }
   ],
   "source": [
    "ser.info()"
   ]
  },
  {
   "cell_type": "code",
   "execution_count": 18,
   "id": "59c92f0f",
   "metadata": {},
   "outputs": [
    {
     "data": {
      "text/plain": [
       "104     3\n",
       "105     6\n",
       "106    14\n",
       "107    18\n",
       "108    23\n",
       "dtype: int64"
      ]
     },
     "execution_count": 18,
     "metadata": {},
     "output_type": "execute_result"
    }
   ],
   "source": [
    "ser.tail()"
   ]
  },
  {
   "cell_type": "code",
   "execution_count": 21,
   "id": "909db748",
   "metadata": {},
   "outputs": [
    {
     "data": {
      "text/plain": [
       "30"
      ]
     },
     "execution_count": 21,
     "metadata": {},
     "output_type": "execute_result"
    }
   ],
   "source": [
    "ser.head(3)[101]"
   ]
  },
  {
   "cell_type": "code",
   "execution_count": 22,
   "id": "a1d9332e",
   "metadata": {},
   "outputs": [
    {
     "data": {
      "text/plain": [
       "144"
      ]
     },
     "execution_count": 22,
     "metadata": {},
     "output_type": "execute_result"
    }
   ],
   "source": [
    "ser.memory_usage()"
   ]
  },
  {
   "cell_type": "code",
   "execution_count": 23,
   "id": "4f4b3775",
   "metadata": {},
   "outputs": [
    {
     "data": {
      "text/plain": [
       "count     9.000000\n",
       "mean     16.111111\n",
       "std      13.033078\n",
       "min       1.000000\n",
       "25%       6.000000\n",
       "50%      14.000000\n",
       "75%      23.000000\n",
       "max      40.000000\n",
       "dtype: float64"
      ]
     },
     "execution_count": 23,
     "metadata": {},
     "output_type": "execute_result"
    }
   ],
   "source": [
    "ser.describe()"
   ]
  },
  {
   "cell_type": "code",
   "execution_count": null,
   "id": "5ed3ec00",
   "metadata": {},
   "outputs": [],
   "source": []
  },
  {
   "cell_type": "markdown",
   "id": "56afd452",
   "metadata": {},
   "source": [
    "**create salaries of 30 employee salaries randomly from 30000-90000 then measure and describe the data using pandas series.**"
   ]
  },
  {
   "cell_type": "code",
   "execution_count": 24,
   "id": "c39f5778",
   "metadata": {},
   "outputs": [],
   "source": [
    "salary = np.random.randint(30000,90000,30)"
   ]
  },
  {
   "cell_type": "code",
   "execution_count": 25,
   "id": "16d3a9ae",
   "metadata": {},
   "outputs": [
    {
     "data": {
      "text/plain": [
       "array([56395, 34074, 37789, 46279, 61521, 66396, 40801, 38050, 60246,\n",
       "       35011, 60230, 51578, 34792, 78747, 47149, 53279, 73500, 52518,\n",
       "       78306, 88557, 35481, 86830, 64226, 46746, 42694, 41701, 51848,\n",
       "       79987, 88462, 38100])"
      ]
     },
     "execution_count": 25,
     "metadata": {},
     "output_type": "execute_result"
    }
   ],
   "source": [
    "salary"
   ]
  },
  {
   "cell_type": "code",
   "execution_count": 32,
   "id": "43e42d23",
   "metadata": {},
   "outputs": [
    {
     "data": {
      "text/plain": [
       "1     56395\n",
       "2     34074\n",
       "3     37789\n",
       "4     46279\n",
       "5     61521\n",
       "6     66396\n",
       "7     40801\n",
       "8     38050\n",
       "9     60246\n",
       "10    35011\n",
       "11    60230\n",
       "12    51578\n",
       "13    34792\n",
       "14    78747\n",
       "15    47149\n",
       "16    53279\n",
       "17    73500\n",
       "18    52518\n",
       "19    78306\n",
       "20    88557\n",
       "21    35481\n",
       "22    86830\n",
       "23    64226\n",
       "24    46746\n",
       "25    42694\n",
       "26    41701\n",
       "27    51848\n",
       "28    79987\n",
       "29    88462\n",
       "30    38100\n",
       "dtype: int32"
      ]
     },
     "execution_count": 32,
     "metadata": {},
     "output_type": "execute_result"
    }
   ],
   "source": [
    "sal = pd.Series(salary,index = list(range(1,31)))\n",
    "sal"
   ]
  },
  {
   "cell_type": "code",
   "execution_count": 33,
   "id": "0422ce6b",
   "metadata": {},
   "outputs": [
    {
     "data": {
      "text/plain": [
       "55709.76666666667"
      ]
     },
     "execution_count": 33,
     "metadata": {},
     "output_type": "execute_result"
    }
   ],
   "source": [
    "sal.mean()     #Mean"
   ]
  },
  {
   "cell_type": "code",
   "execution_count": 34,
   "id": "fc1f1b2a",
   "metadata": {},
   "outputs": [
    {
     "data": {
      "text/plain": [
       "52183.0"
      ]
     },
     "execution_count": 34,
     "metadata": {},
     "output_type": "execute_result"
    }
   ],
   "source": [
    "sal.median()      #Median"
   ]
  },
  {
   "cell_type": "code",
   "execution_count": 35,
   "id": "f5d5b8b3",
   "metadata": {},
   "outputs": [
    {
     "data": {
      "text/plain": [
       "0     34074\n",
       "1     34792\n",
       "2     35011\n",
       "3     35481\n",
       "4     37789\n",
       "5     38050\n",
       "6     38100\n",
       "7     40801\n",
       "8     41701\n",
       "9     42694\n",
       "10    46279\n",
       "11    46746\n",
       "12    47149\n",
       "13    51578\n",
       "14    51848\n",
       "15    52518\n",
       "16    53279\n",
       "17    56395\n",
       "18    60230\n",
       "19    60246\n",
       "20    61521\n",
       "21    64226\n",
       "22    66396\n",
       "23    73500\n",
       "24    78306\n",
       "25    78747\n",
       "26    79987\n",
       "27    86830\n",
       "28    88462\n",
       "29    88557\n",
       "dtype: int32"
      ]
     },
     "execution_count": 35,
     "metadata": {},
     "output_type": "execute_result"
    }
   ],
   "source": [
    "sal.mode()   #becz there is no repeted value "
   ]
  },
  {
   "cell_type": "code",
   "execution_count": 43,
   "id": "e2c94a99",
   "metadata": {},
   "outputs": [
    {
     "data": {
      "text/plain": [
       "88557"
      ]
     },
     "execution_count": 43,
     "metadata": {},
     "output_type": "execute_result"
    }
   ],
   "source": [
    "sal.max()     #Maximum salary"
   ]
  },
  {
   "cell_type": "code",
   "execution_count": 44,
   "id": "b6752c41",
   "metadata": {},
   "outputs": [
    {
     "data": {
      "text/plain": [
       "34074"
      ]
     },
     "execution_count": 44,
     "metadata": {},
     "output_type": "execute_result"
    }
   ],
   "source": [
    "sal.min()       #Minimum salary"
   ]
  },
  {
   "cell_type": "code",
   "execution_count": 45,
   "id": "a4f118e2",
   "metadata": {},
   "outputs": [
    {
     "data": {
      "text/plain": [
       "41026.0"
      ]
     },
     "execution_count": 45,
     "metadata": {},
     "output_type": "execute_result"
    }
   ],
   "source": [
    "sal.quantile(0.25)   #25% salary"
   ]
  },
  {
   "cell_type": "code",
   "execution_count": 46,
   "id": "610ecfe7",
   "metadata": {},
   "outputs": [
    {
     "data": {
      "text/plain": [
       "52183.0"
      ]
     },
     "execution_count": 46,
     "metadata": {},
     "output_type": "execute_result"
    }
   ],
   "source": [
    "sal.quantile(0.5)     #50% salary"
   ]
  },
  {
   "cell_type": "code",
   "execution_count": 42,
   "id": "4ae1d5a1",
   "metadata": {},
   "outputs": [
    {
     "data": {
      "text/plain": [
       "65853.5"
      ]
     },
     "execution_count": 42,
     "metadata": {},
     "output_type": "execute_result"
    }
   ],
   "source": [
    "sal.quantile(0.75)        #75% salary"
   ]
  },
  {
   "cell_type": "code",
   "execution_count": 47,
   "id": "975e8134",
   "metadata": {},
   "outputs": [
    {
     "data": {
      "text/plain": [
       "306699307.28850573"
      ]
     },
     "execution_count": 47,
     "metadata": {},
     "output_type": "execute_result"
    }
   ],
   "source": [
    "sal.var()              #variance"
   ]
  },
  {
   "cell_type": "code",
   "execution_count": 49,
   "id": "abf6e9e1",
   "metadata": {},
   "outputs": [
    {
     "data": {
      "text/plain": [
       "17512.832646048602"
      ]
     },
     "execution_count": 49,
     "metadata": {},
     "output_type": "execute_result"
    }
   ],
   "source": [
    "sal.std()             #Standard deviation"
   ]
  },
  {
   "cell_type": "code",
   "execution_count": 36,
   "id": "213f6ff5",
   "metadata": {},
   "outputs": [
    {
     "data": {
      "text/plain": [
       "count       30.000000\n",
       "mean     55709.766667\n",
       "std      17512.832646\n",
       "min      34074.000000\n",
       "25%      41026.000000\n",
       "50%      52183.000000\n",
       "75%      65853.500000\n",
       "max      88557.000000\n",
       "dtype: float64"
      ]
     },
     "execution_count": 36,
     "metadata": {},
     "output_type": "execute_result"
    }
   ],
   "source": [
    "sal.describe()"
   ]
  },
  {
   "cell_type": "code",
   "execution_count": null,
   "id": "6e6621dc",
   "metadata": {},
   "outputs": [],
   "source": []
  },
  {
   "cell_type": "markdown",
   "id": "638981a7",
   "metadata": {},
   "source": [
    "**What are the similaraties and differences between pandas series and nnumpy array.Prove it with code.**"
   ]
  },
  {
   "cell_type": "markdown",
   "id": "f71aa064",
   "metadata": {},
   "source": [
    "* 1. Pandas has index numbers order, Numpy doesnt have Index number order.**\n",
    "* 2. Pandas is heterogenous and Numpy is Homogeneous.**\n",
    "* 3. Pandas has data type 'Object' because it is heterogeneous, Numpy is homogeneous hence it considered text as U6(6 characters)**\n",
    "* 4. Pandas Series is 1 Dimensional, Numpy is 'n' dimensional.**"
   ]
  },
  {
   "cell_type": "code",
   "execution_count": 50,
   "id": "f8209330",
   "metadata": {},
   "outputs": [
    {
     "data": {
      "text/plain": [
       "0               I\n",
       "1              am\n",
       "2    Data Science\n",
       "3              at\n",
       "4      Innomatics\n",
       "5        Research\n",
       "6            Labs\n",
       "7       Hyderabad\n",
       "dtype: object"
      ]
     },
     "execution_count": 50,
     "metadata": {},
     "output_type": "execute_result"
    }
   ],
   "source": [
    "tuple1 = (\"I\",\"am\",\"Data Science\",\"at\",\"Innomatics\",\"Research\",\"Labs\",\"Hyderabad\")\n",
    "pd.Series(tuple1)"
   ]
  },
  {
   "cell_type": "code",
   "execution_count": 51,
   "id": "e9b88bb0",
   "metadata": {},
   "outputs": [
    {
     "data": {
      "text/plain": [
       "array([10, 20, 30, 40, 50, 60, 70, 80, 90])"
      ]
     },
     "execution_count": 51,
     "metadata": {},
     "output_type": "execute_result"
    }
   ],
   "source": [
    "np.array([10,20,30,40,50,60,70,80,90])"
   ]
  },
  {
   "cell_type": "code",
   "execution_count": 55,
   "id": "b52d7aa7",
   "metadata": {},
   "outputs": [
    {
     "data": {
      "text/plain": [
       "0    Hello\n",
       "1    world\n",
       "2      100\n",
       "3       20\n",
       "4      300\n",
       "dtype: object"
      ]
     },
     "execution_count": 55,
     "metadata": {},
     "output_type": "execute_result"
    }
   ],
   "source": [
    "pandas = (\"Hello\",\"world\",100,20,300)\n",
    "pand = pd.Series(pandas)     #Pandas is heterogenous allow different values\n",
    "pand"
   ]
  },
  {
   "cell_type": "code",
   "execution_count": 56,
   "id": "ee8edd52",
   "metadata": {},
   "outputs": [
    {
     "data": {
      "text/plain": [
       "pandas.core.series.Series"
      ]
     },
     "execution_count": 56,
     "metadata": {},
     "output_type": "execute_result"
    }
   ],
   "source": [
    "type(pand)"
   ]
  },
  {
   "cell_type": "code",
   "execution_count": 70,
   "id": "6657f831",
   "metadata": {},
   "outputs": [
    {
     "data": {
      "text/plain": [
       "1"
      ]
     },
     "execution_count": 70,
     "metadata": {},
     "output_type": "execute_result"
    }
   ],
   "source": [
    "pand.ndim           #Pandas is 1 diamensinonal"
   ]
  },
  {
   "cell_type": "code",
   "execution_count": 67,
   "id": "be6b2e61",
   "metadata": {},
   "outputs": [
    {
     "data": {
      "text/plain": [
       "array([[['Hello', '10', '20', '25551', '5151', '5151581851', '515151']]],\n",
       "      dtype='<U21')"
      ]
     },
     "execution_count": 67,
     "metadata": {},
     "output_type": "execute_result"
    }
   ],
   "source": [
    "numpy = np.array([\"Hello\",10,20,25551,5151,5151581851,515151],ndmin = 3)\n",
    "numpy"
   ]
  },
  {
   "cell_type": "code",
   "execution_count": 68,
   "id": "062f0cb3",
   "metadata": {},
   "outputs": [
    {
     "data": {
      "text/plain": [
       "numpy.ndarray"
      ]
     },
     "execution_count": 68,
     "metadata": {},
     "output_type": "execute_result"
    }
   ],
   "source": [
    "type(numpy)"
   ]
  },
  {
   "cell_type": "code",
   "execution_count": 71,
   "id": "6e1a663f",
   "metadata": {},
   "outputs": [
    {
     "data": {
      "text/plain": [
       "3"
      ]
     },
     "execution_count": 71,
     "metadata": {},
     "output_type": "execute_result"
    }
   ],
   "source": [
    "numpy.ndim               #Numpy can be n diamensinal"
   ]
  },
  {
   "cell_type": "code",
   "execution_count": null,
   "id": "3757df0b",
   "metadata": {},
   "outputs": [],
   "source": []
  },
  {
   "cell_type": "markdown",
   "id": "82630523",
   "metadata": {},
   "source": [
    "**create pandas series with ranges from 100 to 150 then apply indexing and slicing on it.**"
   ]
  },
  {
   "cell_type": "code",
   "execution_count": 74,
   "id": "3d7e2691",
   "metadata": {},
   "outputs": [
    {
     "data": {
      "text/plain": [
       "0     100\n",
       "1     101\n",
       "2     102\n",
       "3     103\n",
       "4     104\n",
       "5     105\n",
       "6     106\n",
       "7     107\n",
       "8     108\n",
       "9     109\n",
       "10    110\n",
       "11    111\n",
       "12    112\n",
       "13    113\n",
       "14    114\n",
       "15    115\n",
       "16    116\n",
       "17    117\n",
       "18    118\n",
       "19    119\n",
       "20    120\n",
       "21    121\n",
       "22    122\n",
       "23    123\n",
       "24    124\n",
       "25    125\n",
       "26    126\n",
       "27    127\n",
       "28    128\n",
       "29    129\n",
       "30    130\n",
       "31    131\n",
       "32    132\n",
       "33    133\n",
       "34    134\n",
       "35    135\n",
       "36    136\n",
       "37    137\n",
       "38    138\n",
       "39    139\n",
       "40    140\n",
       "41    141\n",
       "42    142\n",
       "43    143\n",
       "44    144\n",
       "45    145\n",
       "46    146\n",
       "47    147\n",
       "48    148\n",
       "49    149\n",
       "dtype: int64"
      ]
     },
     "execution_count": 74,
     "metadata": {},
     "output_type": "execute_result"
    }
   ],
   "source": [
    "pand = pd.Series(list(range(100,150)))\n",
    "pand"
   ]
  },
  {
   "cell_type": "code",
   "execution_count": null,
   "id": "59dd2216",
   "metadata": {},
   "outputs": [],
   "source": []
  },
  {
   "cell_type": "code",
   "execution_count": 78,
   "id": "7dfa4d6c",
   "metadata": {},
   "outputs": [
    {
     "data": {
      "text/plain": [
       "1     101\n",
       "2     102\n",
       "3     103\n",
       "4     104\n",
       "5     105\n",
       "6     106\n",
       "7     107\n",
       "8     108\n",
       "9     109\n",
       "10    110\n",
       "11    111\n",
       "12    112\n",
       "13    113\n",
       "14    114\n",
       "15    115\n",
       "16    116\n",
       "17    117\n",
       "18    118\n",
       "19    119\n",
       "20    120\n",
       "21    121\n",
       "22    122\n",
       "23    123\n",
       "24    124\n",
       "25    125\n",
       "26    126\n",
       "27    127\n",
       "28    128\n",
       "29    129\n",
       "30    130\n",
       "31    131\n",
       "32    132\n",
       "33    133\n",
       "34    134\n",
       "35    135\n",
       "36    136\n",
       "37    137\n",
       "38    138\n",
       "39    139\n",
       "40    140\n",
       "41    141\n",
       "42    142\n",
       "43    143\n",
       "44    144\n",
       "45    145\n",
       "46    146\n",
       "47    147\n",
       "48    148\n",
       "49    149\n",
       "dtype: int64"
      ]
     },
     "execution_count": 78,
     "metadata": {},
     "output_type": "execute_result"
    }
   ],
   "source": [
    "new = pd.Series(pand,index = list(range(1,50)))\n",
    "new"
   ]
  },
  {
   "cell_type": "code",
   "execution_count": 93,
   "id": "9b5d1d90",
   "metadata": {},
   "outputs": [
    {
     "data": {
      "text/plain": [
       "110"
      ]
     },
     "execution_count": 93,
     "metadata": {},
     "output_type": "execute_result"
    }
   ],
   "source": [
    "new[10]     #Indexing"
   ]
  },
  {
   "cell_type": "code",
   "execution_count": 91,
   "id": "450a6efc",
   "metadata": {},
   "outputs": [
    {
     "data": {
      "text/plain": [
       "115"
      ]
     },
     "execution_count": 91,
     "metadata": {},
     "output_type": "execute_result"
    }
   ],
   "source": [
    "new[15]      #Indexing"
   ]
  },
  {
   "cell_type": "code",
   "execution_count": 92,
   "id": "0920cfad",
   "metadata": {},
   "outputs": [
    {
     "data": {
      "text/plain": [
       "149"
      ]
     },
     "execution_count": 92,
     "metadata": {},
     "output_type": "execute_result"
    }
   ],
   "source": [
    "new[49]         #Indexing"
   ]
  },
  {
   "cell_type": "code",
   "execution_count": 94,
   "id": "ff13efbd",
   "metadata": {},
   "outputs": [
    {
     "data": {
      "text/plain": [
       "11    111\n",
       "12    112\n",
       "13    113\n",
       "14    114\n",
       "15    115\n",
       "16    116\n",
       "17    117\n",
       "18    118\n",
       "19    119\n",
       "20    120\n",
       "21    121\n",
       "dtype: int64"
      ]
     },
     "execution_count": 94,
     "metadata": {},
     "output_type": "execute_result"
    }
   ],
   "source": [
    "new[10:21:1]       #Slicing"
   ]
  },
  {
   "cell_type": "code",
   "execution_count": 95,
   "id": "8ddd3cd6",
   "metadata": {},
   "outputs": [
    {
     "data": {
      "text/plain": [
       "1    101\n",
       "3    103\n",
       "5    105\n",
       "7    107\n",
       "9    109\n",
       "dtype: int64"
      ]
     },
     "execution_count": 95,
     "metadata": {},
     "output_type": "execute_result"
    }
   ],
   "source": [
    "new[:10:2]         #Slicing"
   ]
  },
  {
   "cell_type": "code",
   "execution_count": null,
   "id": "b86f0080",
   "metadata": {},
   "outputs": [],
   "source": []
  }
 ],
 "metadata": {
  "kernelspec": {
   "display_name": "Python 3 (ipykernel)",
   "language": "python",
   "name": "python3"
  },
  "language_info": {
   "codemirror_mode": {
    "name": "ipython",
    "version": 3
   },
   "file_extension": ".py",
   "mimetype": "text/x-python",
   "name": "python",
   "nbconvert_exporter": "python",
   "pygments_lexer": "ipython3",
   "version": "3.11.4"
  }
 },
 "nbformat": 4,
 "nbformat_minor": 5
}
