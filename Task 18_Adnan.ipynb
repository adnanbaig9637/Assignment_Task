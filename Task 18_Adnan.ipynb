{
 "cells": [
  {
   "cell_type": "markdown",
   "id": "c9fb96f1",
   "metadata": {},
   "source": [
    "In this assignment, you will create a Python program to calculate the average grade of students in a function. However, the program should handle various exceptions that might occur during user input and grade calculation.\n",
    "**Requirements:**\n",
    "1. Your program should prompt the user to enter the total number of students.\n",
    "2. For each student, prompt the user to enter their name and three subject marks (out of 100).\n",
    "3. Handle the following exceptions\n",
    ":\n",
    "    a. ValueError: If the user enters a non-numeric value for the number of students or subject marks.\n",
    "    b. ZeroDivisionError: If any student's average marks cannot be calculated due to division by zero (e.g., no subject marks\n",
    "provided). c. NegativeValueError: If any student's marks are negative.\n",
    "4. Display appropriate error messages for each exception and prompt the user to try again.\n",
    "5. Use a try-except block for exception handling.\n",
    "6. Calculate the average marks for each student and display their names along with their average marks.\n",
    "7. Calculate and display the overall class average.\n",
    "8. Implement a loop so that the user can re-enter data if an exception occurs or continue calculating for another class.\n",
    "9. Include a graceful exit message when the user decides to stop.\n",
    "\n",
    "**Custom(User Defined) Exceptions:**\n",
    "Define two custom exception classes:\n",
    "1. `NegativeValueError: This exception should be raised when any of the subject marks are negative.\n",
    "2. `InvalidNumber Error: This exception should be raised when the user enters an invalid number for the total number of students (e.g., a negative number)."
   ]
  },
  {
   "cell_type": "code",
   "execution_count": null,
   "id": "479a4315",
   "metadata": {},
   "outputs": [],
   "source": [
    "\n",
    "    "
   ]
  },
  {
   "cell_type": "code",
   "execution_count": 7,
   "id": "b611cd68",
   "metadata": {},
   "outputs": [
    {
     "name": "stdout",
     "output_type": "stream",
     "text": [
      "------------------------- Welcome to my application -------------------------\n",
      "Enter no of students:: 3\n",
      "Enter name of student :: Adnan\n",
      "Enter subject 1 marks out of 100 :: 80\n",
      "Enter subject 2 marks out of 100 :: 90\n",
      "Enter subject 3 marks out of 100 :: 95\n",
      "The average marks of Adnan is 88.33333333333333\n",
      "Enter name of student :: Afnan\n",
      "Enter subject 1 marks out of 100 :: 80\n",
      "Enter subject 2 marks out of 100 :: 70\n",
      "Enter subject 3 marks out of 100 :: 90\n",
      "The average marks of Afnan is 80.0\n",
      "Enter name of student :: Farhan\n",
      "Enter subject 1 marks out of 100 :: 90\n",
      "Enter subject 2 marks out of 100 :: 95\n",
      "Enter subject 3 marks out of 100 :: 98\n",
      "The average marks of Farhan is 94.33333333333333\n",
      "------------------------- ThankYou For using my application, Come Again... -------------------------\n"
     ]
    }
   ],
   "source": [
    "class NegativeValueError (Exception):\n",
    "    pass\n",
    "class InvalidMarksError (Exception):\n",
    "    pass\n",
    "print((\"-\" * 25),\"Welcome to my application\",(\"-\" * 25))\n",
    "try:\n",
    "    dic = {}\n",
    "    list1 = []\n",
    "    user1 = int(input(\"Enter no of students:: \"))\n",
    "    for i in range(0,user1):\n",
    "        user2 = input(\"Enter name of student :: \")\n",
    "        for j in range(1,4):\n",
    "            subj = int(input(f\"Enter subject {j} marks out of 100 :: \"))\n",
    "            dic.setdefault(user2,[]).extend([subj])\n",
    "            list1.append(subj/3)      \n",
    "            if subj<=0 or subj>100:\n",
    "                raise NegativeValueError (\"Enter positive number , >0 or <100\")\n",
    "        \n",
    "        for val in dic.values():\n",
    "\n",
    "            m = len(val)\n",
    "            n = sum(val)\n",
    "        print(f\"The average marks of {user2} is\" , n/m)\n",
    "            \n",
    "except (ValueError, ZeroDivisionError) as f:\n",
    "    print(f)\n",
    "finally:\n",
    "    print((\"-\" * 25),\"ThankYou For using my application, Come Again...\",(\"-\" * 25))"
   ]
  },
  {
   "cell_type": "code",
   "execution_count": null,
   "id": "6bb4627d",
   "metadata": {},
   "outputs": [],
   "source": []
  }
 ],
 "metadata": {
  "kernelspec": {
   "display_name": "Python 3 (ipykernel)",
   "language": "python",
   "name": "python3"
  },
  "language_info": {
   "codemirror_mode": {
    "name": "ipython",
    "version": 3
   },
   "file_extension": ".py",
   "mimetype": "text/x-python",
   "name": "python",
   "nbconvert_exporter": "python",
   "pygments_lexer": "ipython3",
   "version": "3.11.4"
  }
 },
 "nbformat": 4,
 "nbformat_minor": 5
}
