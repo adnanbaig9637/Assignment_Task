{
 "cells": [
  {
   "cell_type": "markdown",
   "id": "e30e91f8",
   "metadata": {},
   "source": [
    "\n",
    "\n",
    "**Assignment Task 1:** Tuple Basics\n",
    "Create a Python tuple containing the names of your favorite fruits. Write a Python program to print `each fruit` name from the tuple.\n",
    "\n",
    "**Assignment Task 2:** Tuple Operations\n",
    "Given two tuples, write a Python program to `concatenate` them into a `single` tuple and then find the `length` of the resulting tuple.\n",
    "\n",
    "**Assignment Task 3:** Set Creation\n",
    "Create a Python set containing the first 10 `even` numbers (2, 4, 6, ...). Write a program to `display` this set.\n",
    "\n",
    "**Assignment Task 4:** Set Operations\n",
    "Given two sets, write a Python program to find the `union, intersection, and difference` of these sets.\n",
    "\n",
    "**Assignment Task 5:** Tuple and Set Conversion\n",
    "Write a Python program that takes a `tuple` of integers and converts it into a `set`. Then, find and print the `maximum and minimum` values from the set.\n",
    "\n",
    "**Assignment Task 6:** Tuple Immutability\n",
    "Explain the concept of immutability in Python tuples with examples. Discuss why tuples are considered immutable data structures.\n",
    "\n",
    "**Assignment Task 7:** Set Operations and Methods\n",
    "Write a Python program that takes a set of numbers and performs the following operations:\n",
    "   - Add a new number to the set.\n",
    "   - Remove a number from the set.\n",
    "   - Check if a specific number is in the set.\n",
    "   - Find the size of the set.\n",
    "\n",
    "**Assignment Task 8:** Tuple Slicing\n",
    "Given a tuple of 10 elements, write a Python program to print the elements from the `3rd to the 7th `position using slicing.\n",
    "\n",
    "**Assignment Task 9:** Set Operations with Lists\n",
    "Create a Python list with duplicate elements and convert it into a set to remove duplicates. Then, write a program to count how many duplicates were removed.\n",
    "\n",
    "**Assignment Task 10:** Tuple and Set Combinations\n",
    "Create a `tuple` containing the names of your friend's favorite movies and a `set` containing the names of your favorite movies. Write a Python program to find and display common elements (movies that feature your "
   ]
  },
  {
   "cell_type": "markdown",
   "id": "5d5b71a9",
   "metadata": {},
   "source": [
    "* Assignment Task 1: Tuple Basics Create a Python tuple containing the names of your favorite fruits. Write a Python program to print each fruit name from the tuple."
   ]
  },
  {
   "cell_type": "code",
   "execution_count": 18,
   "id": "18a54dc4",
   "metadata": {},
   "outputs": [
    {
     "name": "stdout",
     "output_type": "stream",
     "text": [
      "Guava\n",
      "Apple\n",
      "Mango\n",
      "custardApple\n",
      "watermelon\n"
     ]
    }
   ],
   "source": [
    "fruits = (\"Guava\",\"Apple\",\"Mango\",\"custardApple\",\"watermelon\")\n",
    "print(fruits[0])\n",
    "print(fruits[1])\n",
    "print(fruits[2])\n",
    "print(fruits[3])\n",
    "print(fruits[4])"
   ]
  },
  {
   "cell_type": "markdown",
   "id": "44920a79",
   "metadata": {},
   "source": [
    "* Assignment Task 2: Tuple Operations Given two tuples, write a Python program to concatenate them into a single tuple and then find the length of the resulting tuple."
   ]
  },
  {
   "cell_type": "code",
   "execution_count": 32,
   "id": "1d9c9cd9",
   "metadata": {},
   "outputs": [],
   "source": [
    "tup1 = (1,2,3,4,5)\n",
    "tup2 = (6,7,8,9,10)\n",
    "a = tup1+tup2"
   ]
  },
  {
   "cell_type": "code",
   "execution_count": 33,
   "id": "7afac63b",
   "metadata": {},
   "outputs": [
    {
     "name": "stdout",
     "output_type": "stream",
     "text": [
      "(1, 2, 3, 4, 5, 6, 7, 8, 9, 10)\n"
     ]
    }
   ],
   "source": [
    "print(a)"
   ]
  },
  {
   "cell_type": "code",
   "execution_count": 34,
   "id": "38174cdd",
   "metadata": {},
   "outputs": [
    {
     "data": {
      "text/plain": [
       "10"
      ]
     },
     "execution_count": 34,
     "metadata": {},
     "output_type": "execute_result"
    }
   ],
   "source": [
    "len(a)"
   ]
  },
  {
   "cell_type": "markdown",
   "id": "2e3773f1",
   "metadata": {},
   "source": [
    "* Assignment Task 3: Set Creation Create a Python set containing the first 10 even numbers (2, 4, 6, ...). Write a program to display this set."
   ]
  },
  {
   "cell_type": "code",
   "execution_count": 36,
   "id": "08c4a75b",
   "metadata": {},
   "outputs": [
    {
     "name": "stdout",
     "output_type": "stream",
     "text": [
      "{2, 4, 6, 8, 10, 12, 14, 16, 18, 20}\n"
     ]
    }
   ],
   "source": [
    "even = {2,4,6,8,10,12,14,16,18,20}\n",
    "print(even)"
   ]
  },
  {
   "cell_type": "code",
   "execution_count": 37,
   "id": "199634da",
   "metadata": {},
   "outputs": [
    {
     "data": {
      "text/plain": [
       "set"
      ]
     },
     "execution_count": 37,
     "metadata": {},
     "output_type": "execute_result"
    }
   ],
   "source": [
    "type(even)"
   ]
  },
  {
   "cell_type": "markdown",
   "id": "8325a924",
   "metadata": {},
   "source": [
    "* Assignment Task 4: Set Operations Given two sets, write a Python program to find the union, intersection, and difference of these sets."
   ]
  },
  {
   "cell_type": "code",
   "execution_count": 39,
   "id": "5055b276",
   "metadata": {},
   "outputs": [],
   "source": [
    "a = {2,4,6,8,3,9}\n",
    "b = {3,5,4,2,7,11}"
   ]
  },
  {
   "cell_type": "code",
   "execution_count": 43,
   "id": "c5eda905",
   "metadata": {},
   "outputs": [
    {
     "data": {
      "text/plain": [
       "{2, 3, 4, 5, 6, 7, 8, 9, 11}"
      ]
     },
     "execution_count": 43,
     "metadata": {},
     "output_type": "execute_result"
    }
   ],
   "source": [
    "a.union(b) #it will give the combination of both sets"
   ]
  },
  {
   "cell_type": "code",
   "execution_count": 44,
   "id": "7dde5e5b",
   "metadata": {},
   "outputs": [
    {
     "data": {
      "text/plain": [
       "{6, 8, 9}"
      ]
     },
     "execution_count": 44,
     "metadata": {},
     "output_type": "execute_result"
    }
   ],
   "source": [
    "a.difference(b) #it will give the values which is present in a but not in b"
   ]
  },
  {
   "cell_type": "code",
   "execution_count": 45,
   "id": "a6cf7710",
   "metadata": {},
   "outputs": [
    {
     "data": {
      "text/plain": [
       "{2, 3, 4}"
      ]
     },
     "execution_count": 45,
     "metadata": {},
     "output_type": "execute_result"
    }
   ],
   "source": [
    "a.intersection(b) # it will give same value present in a and b"
   ]
  },
  {
   "cell_type": "markdown",
   "id": "a1078b5a",
   "metadata": {},
   "source": [
    " * Assignment Task 5: Tuple and Set Conversion Write a Python program that takes a tuple of integers and converts it into a set. Then, find and print the maximum and minimum values from the set."
   ]
  },
  {
   "cell_type": "code",
   "execution_count": 46,
   "id": "2dd0a840",
   "metadata": {},
   "outputs": [],
   "source": [
    "tup = (1,3,2,5,6,7,8)"
   ]
  },
  {
   "cell_type": "code",
   "execution_count": 48,
   "id": "8dfdc958",
   "metadata": {},
   "outputs": [],
   "source": [
    "a = set(tup)"
   ]
  },
  {
   "cell_type": "code",
   "execution_count": 50,
   "id": "aae6c5c4",
   "metadata": {},
   "outputs": [
    {
     "data": {
      "text/plain": [
       "{1, 2, 3, 5, 6, 7, 8}"
      ]
     },
     "execution_count": 50,
     "metadata": {},
     "output_type": "execute_result"
    }
   ],
   "source": [
    "a"
   ]
  },
  {
   "cell_type": "code",
   "execution_count": 49,
   "id": "8f7d2677",
   "metadata": {},
   "outputs": [
    {
     "data": {
      "text/plain": [
       "set"
      ]
     },
     "execution_count": 49,
     "metadata": {},
     "output_type": "execute_result"
    }
   ],
   "source": [
    "type(a)"
   ]
  },
  {
   "cell_type": "code",
   "execution_count": 51,
   "id": "4fb7db4f",
   "metadata": {},
   "outputs": [
    {
     "data": {
      "text/plain": [
       "8"
      ]
     },
     "execution_count": 51,
     "metadata": {},
     "output_type": "execute_result"
    }
   ],
   "source": [
    "max(a)"
   ]
  },
  {
   "cell_type": "code",
   "execution_count": 52,
   "id": "32bd342f",
   "metadata": {},
   "outputs": [
    {
     "data": {
      "text/plain": [
       "1"
      ]
     },
     "execution_count": 52,
     "metadata": {},
     "output_type": "execute_result"
    }
   ],
   "source": [
    "min(a)"
   ]
  },
  {
   "cell_type": "markdown",
   "id": "6f431ffa",
   "metadata": {},
   "source": [
    "* Assignment Task 6: Tuple Immutability Explain the concept of immutability in Python tuples with examples. Discuss why tuples are considered immutable data structures."
   ]
  },
  {
   "cell_type": "markdown",
   "id": "44eb1b76",
   "metadata": {},
   "source": [
    "Tuple is used to store the multiple values inside in parenthesis(). The tuple has some charactersics/attributes which is\n",
    "* Immutability\n",
    "* Order \n",
    "* Duplicates\n",
    "* Index\n",
    "   * Immutability :- Immutability means we cannot make changes in original tuple,We cannot modified them, If we want to use constand value where we dont need to make any changes, where dont want to add or remove modification, we can use tuple data type. thats why we called it immutable data type"
   ]
  },
  {
   "cell_type": "code",
   "execution_count": 55,
   "id": "775fca6b",
   "metadata": {},
   "outputs": [],
   "source": [
    "company = ('Company Founder','Company CEO')"
   ]
  },
  {
   "cell_type": "code",
   "execution_count": 56,
   "id": "cfdb3991",
   "metadata": {},
   "outputs": [],
   "source": [
    "com = (7,8,9,5)"
   ]
  },
  {
   "cell_type": "code",
   "execution_count": 58,
   "id": "da776caa",
   "metadata": {},
   "outputs": [
    {
     "ename": "AttributeError",
     "evalue": "'tuple' object has no attribute 'append'",
     "output_type": "error",
     "traceback": [
      "\u001b[1;31m---------------------------------------------------------------------------\u001b[0m",
      "\u001b[1;31mAttributeError\u001b[0m                            Traceback (most recent call last)",
      "Cell \u001b[1;32mIn[58], line 1\u001b[0m\n\u001b[1;32m----> 1\u001b[0m com\u001b[38;5;241m.\u001b[39mappend(\u001b[38;5;241m6\u001b[39m)\n",
      "\u001b[1;31mAttributeError\u001b[0m: 'tuple' object has no attribute 'append'"
     ]
    }
   ],
   "source": [
    "com.append(6) # we cannot add or remove in tuple"
   ]
  },
  {
   "cell_type": "markdown",
   "id": "7a01bda1",
   "metadata": {},
   "source": [
    "* Assignment Task 7: Set Operations and Methods Write a Python program that takes a set of numbers and performs the following operations:\n",
    "\n",
    "* Add a new number to the set.\n",
    "* Remove a number from the set.\n",
    "* Check if a specific number is in the set.\n",
    "* Find the size of the set."
   ]
  },
  {
   "cell_type": "code",
   "execution_count": 59,
   "id": "6b4a342c",
   "metadata": {},
   "outputs": [],
   "source": [
    "set1 = {2,3,4,5,8,7,9,6}"
   ]
  },
  {
   "cell_type": "code",
   "execution_count": 73,
   "id": "04202422",
   "metadata": {},
   "outputs": [],
   "source": [
    "set1.add(55) #adding 55 to the exitance set1"
   ]
  },
  {
   "cell_type": "code",
   "execution_count": 75,
   "id": "7635fc67",
   "metadata": {},
   "outputs": [
    {
     "data": {
      "text/plain": [
       "{2, 3, 4, 5, 6, 7, 9, 55}"
      ]
     },
     "execution_count": 75,
     "metadata": {},
     "output_type": "execute_result"
    }
   ],
   "source": [
    "set1"
   ]
  },
  {
   "cell_type": "code",
   "execution_count": 64,
   "id": "efba2de9",
   "metadata": {},
   "outputs": [],
   "source": [
    "set1.remove(8) #removing 8 from the set1"
   ]
  },
  {
   "cell_type": "code",
   "execution_count": 65,
   "id": "56c54a48",
   "metadata": {},
   "outputs": [
    {
     "data": {
      "text/plain": [
       "{2, 3, 4, 5, 6, 7, 9, 55}"
      ]
     },
     "execution_count": 65,
     "metadata": {},
     "output_type": "execute_result"
    }
   ],
   "source": [
    "set1"
   ]
  },
  {
   "cell_type": "code",
   "execution_count": 77,
   "id": "41512340",
   "metadata": {},
   "outputs": [
    {
     "data": {
      "text/plain": [
       "True"
      ]
     },
     "execution_count": 77,
     "metadata": {},
     "output_type": "execute_result"
    }
   ],
   "source": [
    "3 in set1 # cheking 3 is present in set1 or not"
   ]
  },
  {
   "cell_type": "code",
   "execution_count": 78,
   "id": "a6347b3a",
   "metadata": {},
   "outputs": [
    {
     "data": {
      "text/plain": [
       "8"
      ]
     },
     "execution_count": 78,
     "metadata": {},
     "output_type": "execute_result"
    }
   ],
   "source": [
    "len(set1) #size of the set1"
   ]
  },
  {
   "cell_type": "markdown",
   "id": "3e93d441",
   "metadata": {},
   "source": [
    "* Assignment Task 8: Tuple Slicing Given a tuple of 10 elements, write a Python program to print the elements from the 3rd to the 7th position using slicing"
   ]
  },
  {
   "cell_type": "code",
   "execution_count": 84,
   "id": "d0fed764",
   "metadata": {},
   "outputs": [
    {
     "name": "stdout",
     "output_type": "stream",
     "text": [
      "(3, 4, 5, 6, 7)\n"
     ]
    }
   ],
   "source": [
    "tup = (1,2,3,4,5,6,7,8,9,10)\n",
    "print(tup[2:7:1])"
   ]
  },
  {
   "cell_type": "markdown",
   "id": "bf4f3c98",
   "metadata": {},
   "source": [
    "* Assignment Task 9: Set Operations with Lists Create a Python list with duplicate elements and convert it into a set to remove duplicates. Then, write a program to count how many duplicates were removed."
   ]
  },
  {
   "cell_type": "code",
   "execution_count": 92,
   "id": "dcb08ace",
   "metadata": {},
   "outputs": [],
   "source": [
    "a = [2,3,2,5,2,6,2]"
   ]
  },
  {
   "cell_type": "code",
   "execution_count": 93,
   "id": "99390512",
   "metadata": {},
   "outputs": [
    {
     "data": {
      "text/plain": [
       "7"
      ]
     },
     "execution_count": 93,
     "metadata": {},
     "output_type": "execute_result"
    }
   ],
   "source": [
    "len(a)"
   ]
  },
  {
   "cell_type": "code",
   "execution_count": 86,
   "id": "13b7d7d2",
   "metadata": {},
   "outputs": [],
   "source": [
    "b = set(a)"
   ]
  },
  {
   "cell_type": "code",
   "execution_count": 87,
   "id": "abaebb38",
   "metadata": {},
   "outputs": [
    {
     "data": {
      "text/plain": [
       "{2, 3, 5, 6}"
      ]
     },
     "execution_count": 87,
     "metadata": {},
     "output_type": "execute_result"
    }
   ],
   "source": [
    "b"
   ]
  },
  {
   "cell_type": "code",
   "execution_count": 94,
   "id": "d5f551ac",
   "metadata": {},
   "outputs": [
    {
     "data": {
      "text/plain": [
       "4"
      ]
     },
     "execution_count": 94,
     "metadata": {},
     "output_type": "execute_result"
    }
   ],
   "source": [
    "len(b)"
   ]
  },
  {
   "cell_type": "code",
   "execution_count": 88,
   "id": "9c4b146f",
   "metadata": {},
   "outputs": [
    {
     "data": {
      "text/plain": [
       "set"
      ]
     },
     "execution_count": 88,
     "metadata": {},
     "output_type": "execute_result"
    }
   ],
   "source": [
    "type(b)"
   ]
  },
  {
   "cell_type": "code",
   "execution_count": 95,
   "id": "9178ce92",
   "metadata": {},
   "outputs": [],
   "source": [
    "dup_remo = len(a)-len(b)"
   ]
  },
  {
   "cell_type": "code",
   "execution_count": 96,
   "id": "6de17622",
   "metadata": {},
   "outputs": [
    {
     "data": {
      "text/plain": [
       "3"
      ]
     },
     "execution_count": 96,
     "metadata": {},
     "output_type": "execute_result"
    }
   ],
   "source": [
    "dup_remo"
   ]
  },
  {
   "cell_type": "markdown",
   "id": "2d576d46",
   "metadata": {},
   "source": [
    "* Assignment Task 10: Tuple and Set Combinations Create a tuple containing the names of your friend's favorite movies and a set containing the names of your favorite movies. Write a Python program to find and display common elements (movies that feature your"
   ]
  },
  {
   "cell_type": "code",
   "execution_count": 121,
   "id": "fe7f14cc",
   "metadata": {},
   "outputs": [],
   "source": [
    "friends = (\"Jailer\",\"Jawan\",\"yevdu\",\"pathan\")\n"
   ]
  },
  {
   "cell_type": "code",
   "execution_count": 122,
   "id": "b6205210",
   "metadata": {},
   "outputs": [
    {
     "data": {
      "text/plain": [
       "tuple"
      ]
     },
     "execution_count": 122,
     "metadata": {},
     "output_type": "execute_result"
    }
   ],
   "source": [
    "type(friends)"
   ]
  },
  {
   "cell_type": "code",
   "execution_count": 123,
   "id": "8417c8a6",
   "metadata": {},
   "outputs": [],
   "source": [
    "mymov = {\"Baahubali\",\"Jawan\",\"vikram Vedha\",\"pathan\"}"
   ]
  },
  {
   "cell_type": "code",
   "execution_count": 124,
   "id": "2bba4751",
   "metadata": {},
   "outputs": [
    {
     "data": {
      "text/plain": [
       "set"
      ]
     },
     "execution_count": 124,
     "metadata": {},
     "output_type": "execute_result"
    }
   ],
   "source": [
    "type(mymov)"
   ]
  },
  {
   "cell_type": "code",
   "execution_count": 125,
   "id": "383f753f",
   "metadata": {},
   "outputs": [
    {
     "data": {
      "text/plain": [
       "{'Jailer', 'Jawan', 'pathan', 'yevdu'}"
      ]
     },
     "execution_count": 125,
     "metadata": {},
     "output_type": "execute_result"
    }
   ],
   "source": [
    "set(friends)"
   ]
  },
  {
   "cell_type": "code",
   "execution_count": 133,
   "id": "297ebeb1",
   "metadata": {},
   "outputs": [
    {
     "data": {
      "text/plain": [
       "{'Jawan', 'pathan'}"
      ]
     },
     "execution_count": 133,
     "metadata": {},
     "output_type": "execute_result"
    }
   ],
   "source": [
    "set(friends).intersection(mymov) #common movies"
   ]
  },
  {
   "cell_type": "code",
   "execution_count": null,
   "id": "dcd31012",
   "metadata": {},
   "outputs": [],
   "source": []
  }
 ],
 "metadata": {
  "kernelspec": {
   "display_name": "Python 3 (ipykernel)",
   "language": "python",
   "name": "python3"
  },
  "language_info": {
   "codemirror_mode": {
    "name": "ipython",
    "version": 3
   },
   "file_extension": ".py",
   "mimetype": "text/x-python",
   "name": "python",
   "nbconvert_exporter": "python",
   "pygments_lexer": "ipython3",
   "version": "3.11.4"
  }
 },
 "nbformat": 4,
 "nbformat_minor": 5
}
