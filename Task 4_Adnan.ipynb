{
 "cells": [
  {
   "cell_type": "markdown",
   "id": "b24867f7",
   "metadata": {},
   "source": [
    "1. Ask user to  enter a  website name and check whether it is valid or not(True/False)\n",
    "\n",
    "\n",
    "2. name = \"Innomatics\", course = \"Data Science\"\n",
    "   write python code in `different ways` to show output as :\n",
    "   `\"Hello World I am learning Data Science in Innomatics\"`\n",
    "   \n",
    "   \n",
    "3. Replace `Science` with `Analysis` in the above output.\n",
    "\n",
    "\n",
    "4. `string = '     Hello World I am learning Python in Innomatics   '`\n",
    "    a. How many characters are there in the string.\n",
    "    b. Slice only 'Python' from above string\n",
    "    c. Remove white spaces on both sides then find no.of characters in the string.\n",
    "    d. Convert the string in Upper case\n",
    "    \n",
    "    \n",
    "5. What is the index number of 'World' in above string.\n",
    "\n",
    "\n",
    "6. Split the string with respect to `whitespace`.after that `store` that splitted into a variable and find the `data type`of that variable.\n",
    "\n",
    "\n",
    "7. How many times 'a' is `repeated` in above string.\n",
    "\n",
    "8. "
   ]
  },
  {
   "cell_type": "markdown",
   "id": "f3cb15bd",
   "metadata": {},
   "source": [
    "* 1. Ask user to enter a website name and check whether it is valid or not(True/False)"
   ]
  },
  {
   "cell_type": "code",
   "execution_count": 1,
   "id": "3a525790",
   "metadata": {},
   "outputs": [
    {
     "name": "stdout",
     "output_type": "stream",
     "text": [
      "Enter websitewww.innomatics.com\n",
      "True\n",
      "True\n"
     ]
    }
   ],
   "source": [
    "website = input(\"Enter website\")\n",
    "\n",
    "print(website.startswith(\"www.\"))\n",
    "print(website.endswith('.com'))"
   ]
  },
  {
   "cell_type": "markdown",
   "id": "2ce060b6",
   "metadata": {},
   "source": [
    "* 2. name = \"Innomatics\", course = \"Data Science\" write python code in different ways to show output as : \"Hello World I am learning Data Science in Innomatics\" "
   ]
  },
  {
   "cell_type": "code",
   "execution_count": 27,
   "id": "ff7b069d",
   "metadata": {},
   "outputs": [
    {
     "name": "stdout",
     "output_type": "stream",
     "text": [
      "Hello World I am learning Data Science in Innomatics\n"
     ]
    }
   ],
   "source": [
    "name = \"Innomatics\"\n",
    "course = \"Data Science\"\n",
    "\n",
    "print(f\"Hello World I am learning {course} in {name}\")"
   ]
  },
  {
   "cell_type": "code",
   "execution_count": 28,
   "id": "e7aebe4a",
   "metadata": {},
   "outputs": [
    {
     "name": "stdout",
     "output_type": "stream",
     "text": [
      "Hello world I am learning Data Science in Innomatics\n"
     ]
    }
   ],
   "source": [
    "print(\"Hello world I am learning \" +(course)+ \" in \" +(name))"
   ]
  },
  {
   "cell_type": "markdown",
   "id": "cf51cbdf",
   "metadata": {},
   "source": [
    "* 3. Replace Science with Analysis in the above output."
   ]
  },
  {
   "cell_type": "code",
   "execution_count": 29,
   "id": "9916678b",
   "metadata": {},
   "outputs": [],
   "source": [
    "printt = (\"Hello world I am learning Data Science in Innomatics\")"
   ]
  },
  {
   "cell_type": "code",
   "execution_count": 30,
   "id": "5ad244b9",
   "metadata": {},
   "outputs": [
    {
     "data": {
      "text/plain": [
       "'Hello world I am learning Data Analysis in Innomatics'"
      ]
     },
     "execution_count": 30,
     "metadata": {},
     "output_type": "execute_result"
    }
   ],
   "source": [
    "printt.replace(\"Science\",\"Analysis\")"
   ]
  },
  {
   "cell_type": "markdown",
   "id": "6c7e906e",
   "metadata": {},
   "source": [
    " * 4`string = '     Hello World I am learning Python in Innomatics   '` \n",
    "* a. How many characters are there in the string. "
   ]
  },
  {
   "cell_type": "code",
   "execution_count": 31,
   "id": "75c6dc4a",
   "metadata": {},
   "outputs": [],
   "source": [
    "string = '     Hello World I am learning Python in Innomatics   '"
   ]
  },
  {
   "cell_type": "code",
   "execution_count": 32,
   "id": "a235f694",
   "metadata": {},
   "outputs": [
    {
     "data": {
      "text/plain": [
       "54"
      ]
     },
     "execution_count": 32,
     "metadata": {},
     "output_type": "execute_result"
    }
   ],
   "source": [
    "len(string)"
   ]
  },
  {
   "cell_type": "markdown",
   "id": "ce8086bd",
   "metadata": {},
   "source": [
    "* b. Slice only 'Python' from above string"
   ]
  },
  {
   "cell_type": "code",
   "execution_count": 36,
   "id": "3c069f6e",
   "metadata": {},
   "outputs": [
    {
     "data": {
      "text/plain": [
       "'Python'"
      ]
     },
     "execution_count": 36,
     "metadata": {},
     "output_type": "execute_result"
    }
   ],
   "source": [
    "string[31:37:]"
   ]
  },
  {
   "cell_type": "markdown",
   "id": "8bc4c242",
   "metadata": {},
   "source": [
    "* C. Remove white spaces on both sides then find no.of characters in the string."
   ]
  },
  {
   "cell_type": "code",
   "execution_count": 37,
   "id": "fbd5f533",
   "metadata": {},
   "outputs": [
    {
     "data": {
      "text/plain": [
       "'     Hello World I am learning Python in Innomatics   '"
      ]
     },
     "execution_count": 37,
     "metadata": {},
     "output_type": "execute_result"
    }
   ],
   "source": [
    "string"
   ]
  },
  {
   "cell_type": "code",
   "execution_count": 38,
   "id": "572f75c0",
   "metadata": {},
   "outputs": [
    {
     "data": {
      "text/plain": [
       "'Hello World I am learning Python in Innomatics'"
      ]
     },
     "execution_count": 38,
     "metadata": {},
     "output_type": "execute_result"
    }
   ],
   "source": [
    "string.strip()"
   ]
  },
  {
   "cell_type": "markdown",
   "id": "727dc0b5",
   "metadata": {},
   "source": [
    "* d. Convert the string in Upper case"
   ]
  },
  {
   "cell_type": "code",
   "execution_count": 39,
   "id": "507762b2",
   "metadata": {},
   "outputs": [
    {
     "data": {
      "text/plain": [
       "'     Hello World I am learning Python in Innomatics   '"
      ]
     },
     "execution_count": 39,
     "metadata": {},
     "output_type": "execute_result"
    }
   ],
   "source": [
    "string"
   ]
  },
  {
   "cell_type": "code",
   "execution_count": 42,
   "id": "9c8a0691",
   "metadata": {},
   "outputs": [
    {
     "data": {
      "text/plain": [
       "'     HELLO WORLD I AM LEARNING PYTHON IN INNOMATICS   '"
      ]
     },
     "execution_count": 42,
     "metadata": {},
     "output_type": "execute_result"
    }
   ],
   "source": [
    "string.upper()"
   ]
  },
  {
   "cell_type": "markdown",
   "id": "e41c7773",
   "metadata": {},
   "source": [
    "* 5. What is the index number of 'World' in above string."
   ]
  },
  {
   "cell_type": "code",
   "execution_count": 49,
   "id": "3f7c9db7",
   "metadata": {},
   "outputs": [
    {
     "data": {
      "text/plain": [
       "11"
      ]
     },
     "execution_count": 49,
     "metadata": {},
     "output_type": "execute_result"
    }
   ],
   "source": [
    "string.find(\"World\")"
   ]
  },
  {
   "cell_type": "markdown",
   "id": "4e05c515",
   "metadata": {},
   "source": [
    "* 6 .Split the string with respect to whitespace.after that store that splitted into a variable and find the data typeof that variable."
   ]
  },
  {
   "cell_type": "code",
   "execution_count": 50,
   "id": "527f6e32",
   "metadata": {},
   "outputs": [
    {
     "data": {
      "text/plain": [
       "'     Hello World I am learning Python in Innomatics   '"
      ]
     },
     "execution_count": 50,
     "metadata": {},
     "output_type": "execute_result"
    }
   ],
   "source": [
    "string"
   ]
  },
  {
   "cell_type": "code",
   "execution_count": 52,
   "id": "42269648",
   "metadata": {},
   "outputs": [],
   "source": [
    "a = string.split()"
   ]
  },
  {
   "cell_type": "code",
   "execution_count": 53,
   "id": "c1eb9bf2",
   "metadata": {},
   "outputs": [
    {
     "data": {
      "text/plain": [
       "['Hello', 'World', 'I', 'am', 'learning', 'Python', 'in', 'Innomatics']"
      ]
     },
     "execution_count": 53,
     "metadata": {},
     "output_type": "execute_result"
    }
   ],
   "source": [
    "a"
   ]
  },
  {
   "cell_type": "code",
   "execution_count": 54,
   "id": "039055b9",
   "metadata": {},
   "outputs": [
    {
     "data": {
      "text/plain": [
       "list"
      ]
     },
     "execution_count": 54,
     "metadata": {},
     "output_type": "execute_result"
    }
   ],
   "source": [
    "type(a)"
   ]
  },
  {
   "cell_type": "markdown",
   "id": "e0ac6b7f",
   "metadata": {},
   "source": [
    "* 7. How many times 'a' is repeated in above string."
   ]
  },
  {
   "cell_type": "code",
   "execution_count": 55,
   "id": "901ca809",
   "metadata": {},
   "outputs": [
    {
     "data": {
      "text/plain": [
       "'     Hello World I am learning Python in Innomatics   '"
      ]
     },
     "execution_count": 55,
     "metadata": {},
     "output_type": "execute_result"
    }
   ],
   "source": [
    "string"
   ]
  },
  {
   "cell_type": "code",
   "execution_count": 56,
   "id": "f9c892db",
   "metadata": {},
   "outputs": [
    {
     "data": {
      "text/plain": [
       "3"
      ]
     },
     "execution_count": 56,
     "metadata": {},
     "output_type": "execute_result"
    }
   ],
   "source": [
    "string.count(\"a\")"
   ]
  },
  {
   "cell_type": "code",
   "execution_count": null,
   "id": "16dbea6d",
   "metadata": {},
   "outputs": [],
   "source": []
  }
 ],
 "metadata": {
  "kernelspec": {
   "display_name": "Python 3 (ipykernel)",
   "language": "python",
   "name": "python3"
  },
  "language_info": {
   "codemirror_mode": {
    "name": "ipython",
    "version": 3
   },
   "file_extension": ".py",
   "mimetype": "text/x-python",
   "name": "python",
   "nbconvert_exporter": "python",
   "pygments_lexer": "ipython3",
   "version": "3.11.4"
  }
 },
 "nbformat": 4,
 "nbformat_minor": 5
}
