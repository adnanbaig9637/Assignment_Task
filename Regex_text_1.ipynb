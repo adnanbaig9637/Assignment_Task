{
 "cells": [
  {
   "cell_type": "code",
   "execution_count": 1,
   "id": "bc7adfdc",
   "metadata": {},
   "outputs": [],
   "source": [
    "import re"
   ]
  },
  {
   "cell_type": "code",
   "execution_count": 3,
   "id": "00c55701",
   "metadata": {},
   "outputs": [],
   "source": [
    "file = open(r\"C:\\Users\\User\\Downloads\\regex.txt\")"
   ]
  },
  {
   "cell_type": "code",
   "execution_count": 4,
   "id": "90c7f8ad",
   "metadata": {},
   "outputs": [
    {
     "name": "stdout",
     "output_type": "stream",
     "text": [
      "\"In a world of digital communication, regex patterns play a vital role in processing and extracting valuable information. You can use regular expressions to identify email addresses like 'john.doe@example.com', 'mary.smith@gmail.com', 'jane.smith@yahoo.com', and 'alice.jones@hotmail.com' in text, parse dates in diverse formats such as '2023-11-07' or 2023-12-08 or 2023-12-09 or even extract phone numbers like '(123) 456-7890', '9848022338', '9876543210','2662227788292' and '9123456789' from messages. If you're dealing with web content, regex can help you spot URLs like 'http://www.example.com' and 'https://www.example.org'. Additionally, on social media, regex can assist in capturing hashtags, such as '#beautiful', '#nature', '#photography', '#india', and '#technology', from posts. For document analysis, you might need to find Markdown headers like '# Introduction' or '### Subsection', or perhaps identify HTML tags like '<strong>' in a given text. In more sensitive scenarios, you can even use regex to locate test credit card numbers like '1234-5678-9876-5432' (for testing purposes only). Furthermore, for network-related tasks, you can identify IPv4 addresses like '192.168.1.1' and '10.0.0.1' within configuration files. Lastly, for web content parsing, regex can uncover Markdown links like 'https://www.openai.com in documents. These sample texts offer a diverse range of content to put your regex skills to the test and extract valuable information effectively.\"\n"
     ]
    }
   ],
   "source": [
    "print(file.read())"
   ]
  },
  {
   "cell_type": "markdown",
   "id": "7daee7d8",
   "metadata": {},
   "source": [
    "#### Extracting mobile numbers from texual data "
   ]
  },
  {
   "cell_type": "code",
   "execution_count": 6,
   "id": "cc6b7f46",
   "metadata": {},
   "outputs": [
    {
     "name": "stdout",
     "output_type": "stream",
     "text": [
      "Mobile numbers present in text data are :-  ['9848022338', '9876543210', '9123456789']\n"
     ]
    }
   ],
   "source": [
    "file.seek(0)\n",
    "string = file.read()\n",
    "pattern = r'[6-9]\\d{9}\\b'\n",
    "print(\"Mobile numbers present in text data are :- \",re.findall(pattern,string))"
   ]
  },
  {
   "cell_type": "markdown",
   "id": "0bce9615",
   "metadata": {},
   "source": [
    "#### Extracting dates from texual data"
   ]
  },
  {
   "cell_type": "code",
   "execution_count": 8,
   "id": "114173e9",
   "metadata": {},
   "outputs": [
    {
     "name": "stdout",
     "output_type": "stream",
     "text": [
      "Dates present in text data are :-  ['2023-11-07', '2023-12-08', '2023-12-09']\n"
     ]
    }
   ],
   "source": [
    "file.seek(0)\n",
    "string = file.read()\n",
    "pattern = r'\\d{4}-\\d{2}-\\d{2}'\n",
    "print(\"Dates present in text data are :- \",re.findall(pattern,string))"
   ]
  },
  {
   "cell_type": "markdown",
   "id": "accc52eb",
   "metadata": {},
   "source": [
    "#### Extracting websites from texual data"
   ]
  },
  {
   "cell_type": "code",
   "execution_count": 9,
   "id": "ab2dc0f3",
   "metadata": {},
   "outputs": [
    {
     "name": "stdout",
     "output_type": "stream",
     "text": [
      "Websites in text data are :-  ['https://www.example.org', 'https://www.openai.com']\n"
     ]
    }
   ],
   "source": [
    "file.seek(0)\n",
    "string = file.read()\n",
    "pattern = r'http\\w+...www+.\\w+.\\w+'\n",
    "print(\"Websites in text data are :- \",re.findall(pattern,string))"
   ]
  },
  {
   "cell_type": "markdown",
   "id": "4e26e593",
   "metadata": {},
   "source": [
    "#### Extracting Email ids from texual data"
   ]
  },
  {
   "cell_type": "code",
   "execution_count": 10,
   "id": "f350701e",
   "metadata": {},
   "outputs": [
    {
     "name": "stdout",
     "output_type": "stream",
     "text": [
      "Email ids in text data are :-  ['john.doe@example.com', 'mary.smith@gmail.com', 'jane.smith@yahoo.com', 'alice.jones@hotmail.com']\n"
     ]
    }
   ],
   "source": [
    "file.seek(0)\n",
    "string = file.read()\n",
    "pattern = r'\\w+.\\w+@\\w+.com'\n",
    "print(\"Email ids in text data are :- \",re.findall(pattern,string))"
   ]
  },
  {
   "cell_type": "markdown",
   "id": "8e9c706f",
   "metadata": {},
   "source": [
    "#### Extracting IP Address from texual data"
   ]
  },
  {
   "cell_type": "code",
   "execution_count": 12,
   "id": "6bbbd222",
   "metadata": {},
   "outputs": [
    {
     "name": "stdout",
     "output_type": "stream",
     "text": [
      "IP adresses  in text data are :-  ['192.168.1.1', '10.0.0.1']\n"
     ]
    }
   ],
   "source": [
    "file.seek(0)\n",
    "string = file.read()\n",
    "pattern = r'\\d+\\.\\d+.\\d.\\d'\n",
    "print(\"IP adresses  in text data are :- \",re.findall(pattern,string))"
   ]
  },
  {
   "cell_type": "markdown",
   "id": "d9747f1b",
   "metadata": {},
   "source": [
    "#### Extracting IP Address from texual data"
   ]
  },
  {
   "cell_type": "code",
   "execution_count": 13,
   "id": "16d8d5a2",
   "metadata": {},
   "outputs": [
    {
     "name": "stdout",
     "output_type": "stream",
     "text": [
      "Credit card number  in text data are :-  ['1234-5678-9876-5432']\n"
     ]
    }
   ],
   "source": [
    "file.seek(0)\n",
    "string = file.read()\n",
    "pattern = r'\\d{4}-\\d{4}-\\d{4}-\\d{4}'\n",
    "print(\"Credit card number  in text data are :- \",re.findall(pattern,string))"
   ]
  },
  {
   "cell_type": "markdown",
   "id": "ff9692f3",
   "metadata": {},
   "source": [
    "#### Extracting Hashtags from texual data"
   ]
  },
  {
   "cell_type": "code",
   "execution_count": 14,
   "id": "7eea7622",
   "metadata": {},
   "outputs": [
    {
     "name": "stdout",
     "output_type": "stream",
     "text": [
      "Hashtags in text data are :-  ['#beautiful', '#nature', '#photography', '#india', '#technology']\n"
     ]
    }
   ],
   "source": [
    "file.seek(0)\n",
    "string = file.read()\n",
    "pattern = r'#\\w+'\n",
    "print(\"Hashtags in text data are :- \",re.findall(pattern,string))"
   ]
  },
  {
   "cell_type": "markdown",
   "id": "cf36f768",
   "metadata": {},
   "source": [
    "#### Hiding Mobile numbers as Confedential data"
   ]
  },
  {
   "cell_type": "code",
   "execution_count": 15,
   "id": "51cc7ddc",
   "metadata": {},
   "outputs": [
    {
     "name": "stdout",
     "output_type": "stream",
     "text": [
      "\"In a world of digital communication, regex patterns play a vital role in processing and extracting valuable information. You can use regular expressions to identify email addresses like 'john.doe@example.com', 'mary.smith@gmail.com', 'jane.smith@yahoo.com', and 'alice.jones@hotmail.com' in text, parse dates in diverse formats such as '2023-11-07' or 2023-12-08 or 2023-12-09 or even extract phone numbers like '(123) 456-7890', '**********', '**********','2662227788292' and '**********' from messages. If you're dealing with web content, regex can help you spot URLs like 'http://www.example.com' and 'https://www.example.org'. Additionally, on social media, regex can assist in capturing hashtags, such as '#beautiful', '#nature', '#photography', '#india', and '#technology', from posts. For document analysis, you might need to find Markdown headers like '# Introduction' or '### Subsection', or perhaps identify HTML tags like '<strong>' in a given text. In more sensitive scenarios, you can even use regex to locate test credit card numbers like '1234-5678-9876-5432' (for testing purposes only). Furthermore, for network-related tasks, you can identify IPv4 addresses like '192.168.1.1' and '10.0.0.1' within configuration files. Lastly, for web content parsing, regex can uncover Markdown links like 'https://www.openai.com in documents. These sample texts offer a diverse range of content to put your regex skills to the test and extract valuable information effectively.\"\n"
     ]
    }
   ],
   "source": [
    "print(re.sub(r'[6-9]\\d{9}\\b','**********',string))"
   ]
  },
  {
   "cell_type": "markdown",
   "id": "a4ebc053",
   "metadata": {},
   "source": [
    "#### Hiding IP addresses as Confedential data"
   ]
  },
  {
   "cell_type": "code",
   "execution_count": 16,
   "id": "3a981254",
   "metadata": {},
   "outputs": [
    {
     "name": "stdout",
     "output_type": "stream",
     "text": [
      "\"In a world of digital communication, regex patterns play a vital role in processing and extracting valuable information. You can use regular expressions to identify email addresses like 'john.doe@example.com', 'mary.smith@gmail.com', 'jane.smith@yahoo.com', and 'alice.jones@hotmail.com' in text, parse dates in diverse formats such as '2023-11-07' or 2023-12-08 or 2023-12-09 or even extract phone numbers like '(123) 456-7890', '9848022338', '9876543210','2662227788292' and '9123456789' from messages. If you're dealing with web content, regex can help you spot URLs like 'http://www.example.com' and 'https://www.example.org'. Additionally, on social media, regex can assist in capturing hashtags, such as '#beautiful', '#nature', '#photography', '#india', and '#technology', from posts. For document analysis, you might need to find Markdown headers like '# Introduction' or '### Subsection', or perhaps identify HTML tags like '<strong>' in a given text. In more sensitive scenarios, you can even use regex to locate test credit card numbers like '1234-5678-9876-5432' (for testing purposes only). Furthermore, for network-related tasks, you can identify IPv4 addresses like 'IP-ADRESSES' and 'IP-ADRESSES' within configuration files. Lastly, for web content parsing, regex can uncover Markdown links like 'https://www.openai.com in documents. These sample texts offer a diverse range of content to put your regex skills to the test and extract valuable information effectively.\"\n"
     ]
    }
   ],
   "source": [
    "print(re.sub(r'\\d+\\.\\d+.\\d.\\d','IP-ADRESSES',string))"
   ]
  },
  {
   "cell_type": "markdown",
   "id": "239e8472",
   "metadata": {},
   "source": [
    "#### Hiding Credit card numbers as Confedential data"
   ]
  },
  {
   "cell_type": "code",
   "execution_count": 17,
   "id": "f697dfcb",
   "metadata": {},
   "outputs": [
    {
     "name": "stdout",
     "output_type": "stream",
     "text": [
      "\"In a world of digital communication, regex patterns play a vital role in processing and extracting valuable information. You can use regular expressions to identify email addresses like 'john.doe@example.com', 'mary.smith@gmail.com', 'jane.smith@yahoo.com', and 'alice.jones@hotmail.com' in text, parse dates in diverse formats such as '2023-11-07' or 2023-12-08 or 2023-12-09 or even extract phone numbers like '(123) 456-7890', '9848022338', '9876543210','2662227788292' and '9123456789' from messages. If you're dealing with web content, regex can help you spot URLs like 'http://www.example.com' and 'https://www.example.org'. Additionally, on social media, regex can assist in capturing hashtags, such as '#beautiful', '#nature', '#photography', '#india', and '#technology', from posts. For document analysis, you might need to find Markdown headers like '# Introduction' or '### Subsection', or perhaps identify HTML tags like '<strong>' in a given text. In more sensitive scenarios, you can even use regex to locate test credit card numbers like '💳💲🏧💳💲🏧💳💲🏧' (for testing purposes only). Furthermore, for network-related tasks, you can identify IPv4 addresses like '192.168.1.1' and '10.0.0.1' within configuration files. Lastly, for web content parsing, regex can uncover Markdown links like 'https://www.openai.com in documents. These sample texts offer a diverse range of content to put your regex skills to the test and extract valuable information effectively.\"\n"
     ]
    }
   ],
   "source": [
    "print(re.sub(r'\\d{4}-\\d{4}-\\d{4}-\\d{4}','💳💲🏧💳💲🏧💳💲🏧',string))"
   ]
  },
  {
   "cell_type": "markdown",
   "id": "416c315f",
   "metadata": {},
   "source": [
    "#### 1. How many spaces,tabs,newline in the file ?"
   ]
  },
  {
   "cell_type": "code",
   "execution_count": 18,
   "id": "fe494fab",
   "metadata": {},
   "outputs": [
    {
     "data": {
      "text/plain": [
       "196"
      ]
     },
     "execution_count": 18,
     "metadata": {},
     "output_type": "execute_result"
    }
   ],
   "source": [
    "len(re.findall(r'\\s',string))"
   ]
  },
  {
   "cell_type": "markdown",
   "id": "3a9e4df4",
   "metadata": {},
   "source": [
    "#### 2. How many letters are there ?"
   ]
  },
  {
   "cell_type": "code",
   "execution_count": 19,
   "id": "ea34bcea",
   "metadata": {},
   "outputs": [
    {
     "data": {
      "text/plain": [
       "1145"
      ]
     },
     "execution_count": 19,
     "metadata": {},
     "output_type": "execute_result"
    }
   ],
   "source": [
    "len(re.findall(r'\\w',string))"
   ]
  },
  {
   "cell_type": "markdown",
   "id": "c2e60dd5",
   "metadata": {},
   "source": [
    "#### 3. How many words are there ?"
   ]
  },
  {
   "cell_type": "code",
   "execution_count": 20,
   "id": "93ee60b2",
   "metadata": {},
   "outputs": [
    {
     "data": {
      "text/plain": [
       "235"
      ]
     },
     "execution_count": 20,
     "metadata": {},
     "output_type": "execute_result"
    }
   ],
   "source": [
    "len(re.findall(r'\\w+',string))"
   ]
  },
  {
   "cell_type": "markdown",
   "id": "22a34ab7",
   "metadata": {},
   "source": [
    "#### 4. How many digits are there ?"
   ]
  },
  {
   "cell_type": "code",
   "execution_count": 21,
   "id": "863e1eb1",
   "metadata": {},
   "outputs": [
    {
     "name": "stdout",
     "output_type": "stream",
     "text": [
      "422\n"
     ]
    }
   ],
   "source": [
    "num = re.findall(r'\\d',string)\n",
    "total = 0\n",
    "for i in num:\n",
    "    total = total + int(i)\n",
    "print(total)"
   ]
  },
  {
   "cell_type": "code",
   "execution_count": null,
   "id": "b96ab14f",
   "metadata": {},
   "outputs": [],
   "source": []
  }
 ],
 "metadata": {
  "kernelspec": {
   "display_name": "Python 3 (ipykernel)",
   "language": "python",
   "name": "python3"
  },
  "language_info": {
   "codemirror_mode": {
    "name": "ipython",
    "version": 3
   },
   "file_extension": ".py",
   "mimetype": "text/x-python",
   "name": "python",
   "nbconvert_exporter": "python",
   "pygments_lexer": "ipython3",
   "version": "3.11.4"
  }
 },
 "nbformat": 4,
 "nbformat_minor": 5
}
