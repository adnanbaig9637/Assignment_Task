{
 "cells": [
  {
   "cell_type": "code",
   "execution_count": 24,
   "id": "69246e24",
   "metadata": {},
   "outputs": [],
   "source": [
    "import pandas as pd\n",
    "import numpy as np"
   ]
  },
  {
   "cell_type": "code",
   "execution_count": 115,
   "id": "92e30da1",
   "metadata": {},
   "outputs": [
    {
     "data": {
      "text/html": [
       "<div>\n",
       "<style scoped>\n",
       "    .dataframe tbody tr th:only-of-type {\n",
       "        vertical-align: middle;\n",
       "    }\n",
       "\n",
       "    .dataframe tbody tr th {\n",
       "        vertical-align: top;\n",
       "    }\n",
       "\n",
       "    .dataframe thead th {\n",
       "        text-align: right;\n",
       "    }\n",
       "</style>\n",
       "<table border=\"1\" class=\"dataframe\">\n",
       "  <thead>\n",
       "    <tr style=\"text-align: right;\">\n",
       "      <th></th>\n",
       "      <th>Employee_Name</th>\n",
       "      <th>EmpID</th>\n",
       "      <th>Position</th>\n",
       "      <th>State</th>\n",
       "      <th>Zip</th>\n",
       "      <th>Gender</th>\n",
       "      <th>MaritalDesc</th>\n",
       "      <th>CitizenDesc</th>\n",
       "      <th>EmploymentStatus</th>\n",
       "      <th>Department</th>\n",
       "      <th>Salaries</th>\n",
       "      <th>age</th>\n",
       "      <th>Race</th>\n",
       "    </tr>\n",
       "  </thead>\n",
       "  <tbody>\n",
       "    <tr>\n",
       "      <th>0</th>\n",
       "      <td>Brown, Mia</td>\n",
       "      <td>1103024456</td>\n",
       "      <td>Accountant I</td>\n",
       "      <td>MA</td>\n",
       "      <td>1450.0</td>\n",
       "      <td>F</td>\n",
       "      <td>Married</td>\n",
       "      <td>US Citizen</td>\n",
       "      <td>Active</td>\n",
       "      <td>Admin Offices</td>\n",
       "      <td>674.28</td>\n",
       "      <td>28</td>\n",
       "      <td>Black or African American</td>\n",
       "    </tr>\n",
       "    <tr>\n",
       "      <th>1</th>\n",
       "      <td>LaRotonda, William</td>\n",
       "      <td>1106026572</td>\n",
       "      <td>Accountant I</td>\n",
       "      <td>MA</td>\n",
       "      <td>1460.0</td>\n",
       "      <td>M</td>\n",
       "      <td>Divorced</td>\n",
       "      <td>US Citizen</td>\n",
       "      <td>Active</td>\n",
       "      <td>Admin Offices</td>\n",
       "      <td>674.28</td>\n",
       "      <td>50</td>\n",
       "      <td>NaN</td>\n",
       "    </tr>\n",
       "    <tr>\n",
       "      <th>2</th>\n",
       "      <td>Steans, Tyrone</td>\n",
       "      <td>1302053333</td>\n",
       "      <td>Accountant I</td>\n",
       "      <td>MA</td>\n",
       "      <td>2703.0</td>\n",
       "      <td>M</td>\n",
       "      <td>Single</td>\n",
       "      <td>US Citizen</td>\n",
       "      <td>Active</td>\n",
       "      <td>Admin Offices</td>\n",
       "      <td>674.28</td>\n",
       "      <td>43</td>\n",
       "      <td>White</td>\n",
       "    </tr>\n",
       "    <tr>\n",
       "      <th>3</th>\n",
       "      <td>Howard, Estelle</td>\n",
       "      <td>1211050782</td>\n",
       "      <td>Administrative Assistant</td>\n",
       "      <td>MA</td>\n",
       "      <td>2170.0</td>\n",
       "      <td>F</td>\n",
       "      <td>Married</td>\n",
       "      <td>US Citizen</td>\n",
       "      <td>Terminated for Cause</td>\n",
       "      <td>Admin Offices</td>\n",
       "      <td>NaN</td>\n",
       "      <td>44</td>\n",
       "      <td>White</td>\n",
       "    </tr>\n",
       "    <tr>\n",
       "      <th>4</th>\n",
       "      <td>Singh, Nan</td>\n",
       "      <td>1307059817</td>\n",
       "      <td>Administrative Assistant</td>\n",
       "      <td>MA</td>\n",
       "      <td>2330.0</td>\n",
       "      <td>F</td>\n",
       "      <td>Single</td>\n",
       "      <td>US Citizen</td>\n",
       "      <td>Active</td>\n",
       "      <td>Admin Offices</td>\n",
       "      <td>61089.35</td>\n",
       "      <td>33</td>\n",
       "      <td>White</td>\n",
       "    </tr>\n",
       "    <tr>\n",
       "      <th>...</th>\n",
       "      <td>...</td>\n",
       "      <td>...</td>\n",
       "      <td>...</td>\n",
       "      <td>...</td>\n",
       "      <td>...</td>\n",
       "      <td>...</td>\n",
       "      <td>...</td>\n",
       "      <td>...</td>\n",
       "      <td>...</td>\n",
       "      <td>...</td>\n",
       "      <td>...</td>\n",
       "      <td>...</td>\n",
       "      <td>...</td>\n",
       "    </tr>\n",
       "    <tr>\n",
       "      <th>305</th>\n",
       "      <td>Daniele, Ann</td>\n",
       "      <td>1411071312</td>\n",
       "      <td>Sr. Network Engineer</td>\n",
       "      <td>CT</td>\n",
       "      <td>6033.0</td>\n",
       "      <td>F</td>\n",
       "      <td>Married</td>\n",
       "      <td>US Citizen</td>\n",
       "      <td>Leave of Absence</td>\n",
       "      <td>IT/IS</td>\n",
       "      <td>37619.01</td>\n",
       "      <td>38</td>\n",
       "      <td>White</td>\n",
       "    </tr>\n",
       "    <tr>\n",
       "      <th>306</th>\n",
       "      <td>Lajiri,  Jyoti</td>\n",
       "      <td>1108028108</td>\n",
       "      <td>Sr. Network Engineer</td>\n",
       "      <td>MA</td>\n",
       "      <td>2169.0</td>\n",
       "      <td>M</td>\n",
       "      <td>Married</td>\n",
       "      <td>US Citizen</td>\n",
       "      <td>Leave of Absence</td>\n",
       "      <td>IT/IS</td>\n",
       "      <td>27603.00</td>\n",
       "      <td>34</td>\n",
       "      <td>White</td>\n",
       "    </tr>\n",
       "    <tr>\n",
       "      <th>307</th>\n",
       "      <td>Semizoglou, Jeremiah</td>\n",
       "      <td>904013591</td>\n",
       "      <td>Sr. Network Engineer</td>\n",
       "      <td>MA</td>\n",
       "      <td>1545.0</td>\n",
       "      <td>M</td>\n",
       "      <td>Married</td>\n",
       "      <td>US Citizen</td>\n",
       "      <td>Future Start</td>\n",
       "      <td>IT/IS</td>\n",
       "      <td>27587.46</td>\n",
       "      <td>24</td>\n",
       "      <td>Asian</td>\n",
       "    </tr>\n",
       "    <tr>\n",
       "      <th>308</th>\n",
       "      <td>South, Joe</td>\n",
       "      <td>1308060959</td>\n",
       "      <td>Sr. Network Engineer</td>\n",
       "      <td>CT</td>\n",
       "      <td>6278.0</td>\n",
       "      <td>M</td>\n",
       "      <td>Single</td>\n",
       "      <td>US Citizen</td>\n",
       "      <td>Active</td>\n",
       "      <td>IT/IS</td>\n",
       "      <td>12126.53</td>\n",
       "      <td>31</td>\n",
       "      <td>White</td>\n",
       "    </tr>\n",
       "    <tr>\n",
       "      <th>309</th>\n",
       "      <td>Warfield, Sarah</td>\n",
       "      <td>1301052347</td>\n",
       "      <td>Sr. Network Engineer</td>\n",
       "      <td>MA</td>\n",
       "      <td>2453.0</td>\n",
       "      <td>F</td>\n",
       "      <td>Widowed</td>\n",
       "      <td>US Citizen</td>\n",
       "      <td>Active</td>\n",
       "      <td>IT/IS</td>\n",
       "      <td>37257.00</td>\n",
       "      <td>46</td>\n",
       "      <td>Asian</td>\n",
       "    </tr>\n",
       "  </tbody>\n",
       "</table>\n",
       "<p>310 rows × 13 columns</p>\n",
       "</div>"
      ],
      "text/plain": [
       "              Employee_Name       EmpID                  Position State  \\\n",
       "0                Brown, Mia  1103024456              Accountant I    MA   \n",
       "1      LaRotonda, William    1106026572              Accountant I    MA   \n",
       "2          Steans, Tyrone    1302053333              Accountant I    MA   \n",
       "3           Howard, Estelle  1211050782  Administrative Assistant    MA   \n",
       "4               Singh, Nan   1307059817  Administrative Assistant    MA   \n",
       "..                      ...         ...                       ...   ...   \n",
       "305          Daniele, Ann    1411071312      Sr. Network Engineer    CT   \n",
       "306          Lajiri,  Jyoti  1108028108      Sr. Network Engineer    MA   \n",
       "307  Semizoglou, Jeremiah     904013591      Sr. Network Engineer    MA   \n",
       "308              South, Joe  1308060959      Sr. Network Engineer    CT   \n",
       "309         Warfield, Sarah  1301052347      Sr. Network Engineer    MA   \n",
       "\n",
       "        Zip Gender MaritalDesc CitizenDesc      EmploymentStatus  \\\n",
       "0    1450.0      F     Married  US Citizen                Active   \n",
       "1    1460.0     M     Divorced  US Citizen                Active   \n",
       "2    2703.0     M       Single  US Citizen                Active   \n",
       "3    2170.0      F     Married  US Citizen  Terminated for Cause   \n",
       "4    2330.0      F      Single  US Citizen                Active   \n",
       "..      ...    ...         ...         ...                   ...   \n",
       "305  6033.0      F     Married  US Citizen      Leave of Absence   \n",
       "306  2169.0     M      Married  US Citizen      Leave of Absence   \n",
       "307  1545.0     M      Married  US Citizen          Future Start   \n",
       "308  6278.0     M       Single  US Citizen                Active   \n",
       "309  2453.0      F     Widowed  US Citizen                Active   \n",
       "\n",
       "        Department  Salaries  age                       Race  \n",
       "0    Admin Offices    674.28   28  Black or African American  \n",
       "1    Admin Offices    674.28   50                        NaN  \n",
       "2    Admin Offices    674.28   43                      White  \n",
       "3    Admin Offices       NaN   44                      White  \n",
       "4    Admin Offices  61089.35   33                      White  \n",
       "..             ...       ...  ...                        ...  \n",
       "305          IT/IS  37619.01   38                      White  \n",
       "306          IT/IS  27603.00   34                      White  \n",
       "307          IT/IS  27587.46   24                      Asian  \n",
       "308          IT/IS  12126.53   31                      White  \n",
       "309          IT/IS  37257.00   46                      Asian  \n",
       "\n",
       "[310 rows x 13 columns]"
      ]
     },
     "execution_count": 115,
     "metadata": {},
     "output_type": "execute_result"
    }
   ],
   "source": [
    "df = pd.read_excel(r\"C:\\Users\\User\\Downloads\\ethnic_diversity.xlsx\")\n",
    "df"
   ]
  },
  {
   "cell_type": "markdown",
   "id": "6a7f0d69",
   "metadata": {},
   "source": [
    "* A) Kindly fill the missing values with\n",
    "  * value\n",
    "  * Statistical value\n",
    "  * Filling method"
   ]
  },
  {
   "cell_type": "code",
   "execution_count": 60,
   "id": "e2af0666",
   "metadata": {},
   "outputs": [
    {
     "data": {
      "text/html": [
       "<div>\n",
       "<style scoped>\n",
       "    .dataframe tbody tr th:only-of-type {\n",
       "        vertical-align: middle;\n",
       "    }\n",
       "\n",
       "    .dataframe tbody tr th {\n",
       "        vertical-align: top;\n",
       "    }\n",
       "\n",
       "    .dataframe thead th {\n",
       "        text-align: right;\n",
       "    }\n",
       "</style>\n",
       "<table border=\"1\" class=\"dataframe\">\n",
       "  <thead>\n",
       "    <tr style=\"text-align: right;\">\n",
       "      <th></th>\n",
       "      <th>Employee_Name</th>\n",
       "      <th>EmpID</th>\n",
       "      <th>Position</th>\n",
       "      <th>State</th>\n",
       "      <th>Zip</th>\n",
       "      <th>Gender</th>\n",
       "      <th>MaritalDesc</th>\n",
       "      <th>CitizenDesc</th>\n",
       "      <th>EmploymentStatus</th>\n",
       "      <th>Department</th>\n",
       "      <th>Salaries</th>\n",
       "      <th>age</th>\n",
       "      <th>Race</th>\n",
       "    </tr>\n",
       "  </thead>\n",
       "  <tbody>\n",
       "    <tr>\n",
       "      <th>0</th>\n",
       "      <td>Brown, Mia</td>\n",
       "      <td>1103024456</td>\n",
       "      <td>Accountant I</td>\n",
       "      <td>MA</td>\n",
       "      <td>1450.0</td>\n",
       "      <td>F</td>\n",
       "      <td>Married</td>\n",
       "      <td>US Citizen</td>\n",
       "      <td>Active</td>\n",
       "      <td>Admin Offices</td>\n",
       "      <td>674.28</td>\n",
       "      <td>28</td>\n",
       "      <td>Black or African American</td>\n",
       "    </tr>\n",
       "    <tr>\n",
       "      <th>1</th>\n",
       "      <td>LaRotonda, William</td>\n",
       "      <td>1106026572</td>\n",
       "      <td>Accountant I</td>\n",
       "      <td>MA</td>\n",
       "      <td>1460.0</td>\n",
       "      <td>M</td>\n",
       "      <td>Divorced</td>\n",
       "      <td>US Citizen</td>\n",
       "      <td>Active</td>\n",
       "      <td>Admin Offices</td>\n",
       "      <td>674.28</td>\n",
       "      <td>50</td>\n",
       "      <td>NaN</td>\n",
       "    </tr>\n",
       "    <tr>\n",
       "      <th>2</th>\n",
       "      <td>Steans, Tyrone</td>\n",
       "      <td>1302053333</td>\n",
       "      <td>Accountant I</td>\n",
       "      <td>MA</td>\n",
       "      <td>2703.0</td>\n",
       "      <td>M</td>\n",
       "      <td>Single</td>\n",
       "      <td>US Citizen</td>\n",
       "      <td>Active</td>\n",
       "      <td>Admin Offices</td>\n",
       "      <td>674.28</td>\n",
       "      <td>43</td>\n",
       "      <td>White</td>\n",
       "    </tr>\n",
       "    <tr>\n",
       "      <th>3</th>\n",
       "      <td>Howard, Estelle</td>\n",
       "      <td>1211050782</td>\n",
       "      <td>Administrative Assistant</td>\n",
       "      <td>MA</td>\n",
       "      <td>2170.0</td>\n",
       "      <td>F</td>\n",
       "      <td>Married</td>\n",
       "      <td>US Citizen</td>\n",
       "      <td>Terminated for Cause</td>\n",
       "      <td>Admin Offices</td>\n",
       "      <td>NaN</td>\n",
       "      <td>44</td>\n",
       "      <td>White</td>\n",
       "    </tr>\n",
       "    <tr>\n",
       "      <th>4</th>\n",
       "      <td>Singh, Nan</td>\n",
       "      <td>1307059817</td>\n",
       "      <td>Administrative Assistant</td>\n",
       "      <td>MA</td>\n",
       "      <td>2330.0</td>\n",
       "      <td>F</td>\n",
       "      <td>Single</td>\n",
       "      <td>US Citizen</td>\n",
       "      <td>Active</td>\n",
       "      <td>Admin Offices</td>\n",
       "      <td>61089.35</td>\n",
       "      <td>33</td>\n",
       "      <td>White</td>\n",
       "    </tr>\n",
       "  </tbody>\n",
       "</table>\n",
       "</div>"
      ],
      "text/plain": [
       "          Employee_Name       EmpID                  Position State     Zip  \\\n",
       "0            Brown, Mia  1103024456              Accountant I    MA  1450.0   \n",
       "1  LaRotonda, William    1106026572              Accountant I    MA  1460.0   \n",
       "2      Steans, Tyrone    1302053333              Accountant I    MA  2703.0   \n",
       "3       Howard, Estelle  1211050782  Administrative Assistant    MA  2170.0   \n",
       "4           Singh, Nan   1307059817  Administrative Assistant    MA  2330.0   \n",
       "\n",
       "  Gender MaritalDesc CitizenDesc      EmploymentStatus     Department  \\\n",
       "0      F     Married  US Citizen                Active  Admin Offices   \n",
       "1     M     Divorced  US Citizen                Active  Admin Offices   \n",
       "2     M       Single  US Citizen                Active  Admin Offices   \n",
       "3      F     Married  US Citizen  Terminated for Cause  Admin Offices   \n",
       "4      F      Single  US Citizen                Active  Admin Offices   \n",
       "\n",
       "   Salaries  age                       Race  \n",
       "0    674.28   28  Black or African American  \n",
       "1    674.28   50                        NaN  \n",
       "2    674.28   43                      White  \n",
       "3       NaN   44                      White  \n",
       "4  61089.35   33                      White  "
      ]
     },
     "execution_count": 60,
     "metadata": {},
     "output_type": "execute_result"
    }
   ],
   "source": [
    "df.head()"
   ]
  },
  {
   "cell_type": "code",
   "execution_count": 61,
   "id": "9a0a1a2f",
   "metadata": {},
   "outputs": [
    {
     "data": {
      "text/plain": [
       "Employee_Name        0\n",
       "EmpID                0\n",
       "Position             3\n",
       "State                2\n",
       "Zip                  2\n",
       "Gender               7\n",
       "MaritalDesc          9\n",
       "CitizenDesc          3\n",
       "EmploymentStatus     0\n",
       "Department           5\n",
       "Salaries            12\n",
       "age                  0\n",
       "Race                 9\n",
       "dtype: int64"
      ]
     },
     "execution_count": 61,
     "metadata": {},
     "output_type": "execute_result"
    }
   ],
   "source": [
    "df.isna().sum()"
   ]
  },
  {
   "cell_type": "markdown",
   "id": "723b0e2d",
   "metadata": {},
   "source": [
    "### filling the missing values with value"
   ]
  },
  {
   "cell_type": "code",
   "execution_count": 28,
   "id": "1c8155a9",
   "metadata": {},
   "outputs": [
    {
     "data": {
      "text/html": [
       "<div>\n",
       "<style scoped>\n",
       "    .dataframe tbody tr th:only-of-type {\n",
       "        vertical-align: middle;\n",
       "    }\n",
       "\n",
       "    .dataframe tbody tr th {\n",
       "        vertical-align: top;\n",
       "    }\n",
       "\n",
       "    .dataframe thead th {\n",
       "        text-align: right;\n",
       "    }\n",
       "</style>\n",
       "<table border=\"1\" class=\"dataframe\">\n",
       "  <thead>\n",
       "    <tr style=\"text-align: right;\">\n",
       "      <th></th>\n",
       "      <th>Employee_Name</th>\n",
       "      <th>EmpID</th>\n",
       "      <th>Position</th>\n",
       "      <th>State</th>\n",
       "      <th>Zip</th>\n",
       "      <th>Gender</th>\n",
       "      <th>MaritalDesc</th>\n",
       "      <th>CitizenDesc</th>\n",
       "      <th>EmploymentStatus</th>\n",
       "      <th>Department</th>\n",
       "      <th>Salaries</th>\n",
       "      <th>age</th>\n",
       "      <th>Race</th>\n",
       "    </tr>\n",
       "  </thead>\n",
       "  <tbody>\n",
       "    <tr>\n",
       "      <th>91</th>\n",
       "      <td>Desimone, Carl</td>\n",
       "      <td>1501072124</td>\n",
       "      <td>NaN</td>\n",
       "      <td>MA</td>\n",
       "      <td>2061.0</td>\n",
       "      <td>M</td>\n",
       "      <td>NaN</td>\n",
       "      <td>US Citizen</td>\n",
       "      <td>Active</td>\n",
       "      <td>NaN</td>\n",
       "      <td>15736.71</td>\n",
       "      <td>26</td>\n",
       "      <td>White</td>\n",
       "    </tr>\n",
       "    <tr>\n",
       "      <th>95</th>\n",
       "      <td>Kirill, Alexandra</td>\n",
       "      <td>903013071</td>\n",
       "      <td>NaN</td>\n",
       "      <td>MA</td>\n",
       "      <td>2127.0</td>\n",
       "      <td>F</td>\n",
       "      <td>Married</td>\n",
       "      <td>US Citizen</td>\n",
       "      <td>Voluntarily Terminated</td>\n",
       "      <td>Production</td>\n",
       "      <td>37619.00</td>\n",
       "      <td>44</td>\n",
       "      <td>White</td>\n",
       "    </tr>\n",
       "    <tr>\n",
       "      <th>151</th>\n",
       "      <td>Engdahl, Jean</td>\n",
       "      <td>1007020403</td>\n",
       "      <td>NaN</td>\n",
       "      <td>NaN</td>\n",
       "      <td>2026.0</td>\n",
       "      <td>M</td>\n",
       "      <td>Single</td>\n",
       "      <td>US Citizen</td>\n",
       "      <td>Active</td>\n",
       "      <td>Production</td>\n",
       "      <td>49808.01</td>\n",
       "      <td>54</td>\n",
       "      <td>White</td>\n",
       "    </tr>\n",
       "  </tbody>\n",
       "</table>\n",
       "</div>"
      ],
      "text/plain": [
       "           Employee_Name       EmpID Position State     Zip Gender  \\\n",
       "91       Desimone, Carl   1501072124      NaN    MA  2061.0     M    \n",
       "95   Kirill, Alexandra     903013071      NaN    MA  2127.0      F   \n",
       "151        Engdahl, Jean  1007020403      NaN   NaN  2026.0     M    \n",
       "\n",
       "    MaritalDesc CitizenDesc        EmploymentStatus         Department  \\\n",
       "91          NaN  US Citizen                  Active                NaN   \n",
       "95      Married  US Citizen  Voluntarily Terminated  Production          \n",
       "151      Single  US Citizen                  Active  Production          \n",
       "\n",
       "     Salaries  age   Race  \n",
       "91   15736.71   26  White  \n",
       "95   37619.00   44  White  \n",
       "151  49808.01   54  White  "
      ]
     },
     "execution_count": 28,
     "metadata": {},
     "output_type": "execute_result"
    }
   ],
   "source": [
    "df[df['Position'].isna()]"
   ]
  },
  {
   "cell_type": "code",
   "execution_count": 29,
   "id": "50441e4d",
   "metadata": {},
   "outputs": [],
   "source": [
    "df['Position'].fillna(\"Accountant I\",inplace = True)"
   ]
  },
  {
   "cell_type": "code",
   "execution_count": 30,
   "id": "01026f2a",
   "metadata": {},
   "outputs": [
    {
     "data": {
      "text/plain": [
       "0"
      ]
     },
     "execution_count": 30,
     "metadata": {},
     "output_type": "execute_result"
    }
   ],
   "source": [
    "df['Position'].isna().sum()"
   ]
  },
  {
   "cell_type": "code",
   "execution_count": 31,
   "id": "cb7b0ff2",
   "metadata": {},
   "outputs": [
    {
     "data": {
      "text/html": [
       "<div>\n",
       "<style scoped>\n",
       "    .dataframe tbody tr th:only-of-type {\n",
       "        vertical-align: middle;\n",
       "    }\n",
       "\n",
       "    .dataframe tbody tr th {\n",
       "        vertical-align: top;\n",
       "    }\n",
       "\n",
       "    .dataframe thead th {\n",
       "        text-align: right;\n",
       "    }\n",
       "</style>\n",
       "<table border=\"1\" class=\"dataframe\">\n",
       "  <thead>\n",
       "    <tr style=\"text-align: right;\">\n",
       "      <th></th>\n",
       "      <th>Employee_Name</th>\n",
       "      <th>EmpID</th>\n",
       "      <th>Position</th>\n",
       "      <th>State</th>\n",
       "      <th>Zip</th>\n",
       "      <th>Gender</th>\n",
       "      <th>MaritalDesc</th>\n",
       "      <th>CitizenDesc</th>\n",
       "      <th>EmploymentStatus</th>\n",
       "      <th>Department</th>\n",
       "      <th>Salaries</th>\n",
       "      <th>age</th>\n",
       "      <th>Race</th>\n",
       "    </tr>\n",
       "  </thead>\n",
       "  <tbody>\n",
       "    <tr>\n",
       "      <th>81</th>\n",
       "      <td>Liebig, Ketsia</td>\n",
       "      <td>1103024679</td>\n",
       "      <td>Production Manager</td>\n",
       "      <td>NaN</td>\n",
       "      <td>2110.0</td>\n",
       "      <td>F</td>\n",
       "      <td>Married</td>\n",
       "      <td>US Citizen</td>\n",
       "      <td>Active</td>\n",
       "      <td>Production</td>\n",
       "      <td>28520.00</td>\n",
       "      <td>35</td>\n",
       "      <td>White</td>\n",
       "    </tr>\n",
       "    <tr>\n",
       "      <th>151</th>\n",
       "      <td>Engdahl, Jean</td>\n",
       "      <td>1007020403</td>\n",
       "      <td>Accountant I</td>\n",
       "      <td>NaN</td>\n",
       "      <td>2026.0</td>\n",
       "      <td>M</td>\n",
       "      <td>Single</td>\n",
       "      <td>US Citizen</td>\n",
       "      <td>Active</td>\n",
       "      <td>Production</td>\n",
       "      <td>49808.01</td>\n",
       "      <td>54</td>\n",
       "      <td>White</td>\n",
       "    </tr>\n",
       "  </tbody>\n",
       "</table>\n",
       "</div>"
      ],
      "text/plain": [
       "      Employee_Name       EmpID            Position State     Zip Gender  \\\n",
       "81   Liebig, Ketsia  1103024679  Production Manager   NaN  2110.0      F   \n",
       "151   Engdahl, Jean  1007020403        Accountant I   NaN  2026.0     M    \n",
       "\n",
       "    MaritalDesc CitizenDesc EmploymentStatus         Department  Salaries  \\\n",
       "81      Married  US Citizen           Active  Production         28520.00   \n",
       "151      Single  US Citizen           Active  Production         49808.01   \n",
       "\n",
       "     age   Race  \n",
       "81    35  White  \n",
       "151   54  White  "
      ]
     },
     "execution_count": 31,
     "metadata": {},
     "output_type": "execute_result"
    }
   ],
   "source": [
    "df[df['State'].isna()]"
   ]
  },
  {
   "cell_type": "code",
   "execution_count": 32,
   "id": "5b546c14",
   "metadata": {},
   "outputs": [],
   "source": [
    "df[\"State\"].fillna(\"MA\",inplace=True)"
   ]
  },
  {
   "cell_type": "code",
   "execution_count": 33,
   "id": "dd46cf12",
   "metadata": {},
   "outputs": [
    {
     "data": {
      "text/plain": [
       "Employee_Name        0\n",
       "EmpID                0\n",
       "Position             0\n",
       "State                0\n",
       "Zip                  2\n",
       "Gender               7\n",
       "MaritalDesc          9\n",
       "CitizenDesc          3\n",
       "EmploymentStatus     0\n",
       "Department           5\n",
       "Salaries            12\n",
       "age                  0\n",
       "Race                 9\n",
       "dtype: int64"
      ]
     },
     "execution_count": 33,
     "metadata": {},
     "output_type": "execute_result"
    }
   ],
   "source": [
    "df.isna().sum()"
   ]
  },
  {
   "cell_type": "code",
   "execution_count": 34,
   "id": "6aeb6673",
   "metadata": {},
   "outputs": [],
   "source": [
    "df[\"Zip\"].fillna(2110.0,inplace=True)"
   ]
  },
  {
   "cell_type": "code",
   "execution_count": 35,
   "id": "3cbc11c7",
   "metadata": {},
   "outputs": [
    {
     "data": {
      "text/plain": [
       "Employee_Name        0\n",
       "EmpID                0\n",
       "Position             0\n",
       "State                0\n",
       "Zip                  0\n",
       "Gender               7\n",
       "MaritalDesc          9\n",
       "CitizenDesc          3\n",
       "EmploymentStatus     0\n",
       "Department           5\n",
       "Salaries            12\n",
       "age                  0\n",
       "Race                 9\n",
       "dtype: int64"
      ]
     },
     "execution_count": 35,
     "metadata": {},
     "output_type": "execute_result"
    }
   ],
   "source": [
    "df.isna().sum()"
   ]
  },
  {
   "cell_type": "code",
   "execution_count": 36,
   "id": "c79c6bbb",
   "metadata": {},
   "outputs": [],
   "source": [
    "df[\"Gender\"].fillna(\"M\",inplace=True)"
   ]
  },
  {
   "cell_type": "code",
   "execution_count": 37,
   "id": "a4bcaa30",
   "metadata": {},
   "outputs": [
    {
     "data": {
      "text/plain": [
       "Employee_Name        0\n",
       "EmpID                0\n",
       "Position             0\n",
       "State                0\n",
       "Zip                  0\n",
       "Gender               0\n",
       "MaritalDesc          9\n",
       "CitizenDesc          3\n",
       "EmploymentStatus     0\n",
       "Department           5\n",
       "Salaries            12\n",
       "age                  0\n",
       "Race                 9\n",
       "dtype: int64"
      ]
     },
     "execution_count": 37,
     "metadata": {},
     "output_type": "execute_result"
    }
   ],
   "source": [
    "df.isna().sum()"
   ]
  },
  {
   "cell_type": "code",
   "execution_count": 38,
   "id": "f2f85c48",
   "metadata": {},
   "outputs": [],
   "source": [
    "df[\"MaritalDesc\"].fillna(\"Single\",inplace=True)"
   ]
  },
  {
   "cell_type": "code",
   "execution_count": 39,
   "id": "1ebde746",
   "metadata": {},
   "outputs": [
    {
     "data": {
      "text/plain": [
       "Employee_Name        0\n",
       "EmpID                0\n",
       "Position             0\n",
       "State                0\n",
       "Zip                  0\n",
       "Gender               0\n",
       "MaritalDesc          0\n",
       "CitizenDesc          3\n",
       "EmploymentStatus     0\n",
       "Department           5\n",
       "Salaries            12\n",
       "age                  0\n",
       "Race                 9\n",
       "dtype: int64"
      ]
     },
     "execution_count": 39,
     "metadata": {},
     "output_type": "execute_result"
    }
   ],
   "source": [
    "df.isna().sum()"
   ]
  },
  {
   "cell_type": "code",
   "execution_count": 40,
   "id": "490c2b20",
   "metadata": {},
   "outputs": [],
   "source": [
    "df[\"CitizenDesc\"].fillna(\"US Citizen\",inplace=True)"
   ]
  },
  {
   "cell_type": "code",
   "execution_count": 41,
   "id": "5171b5c6",
   "metadata": {},
   "outputs": [
    {
     "data": {
      "text/plain": [
       "Employee_Name        0\n",
       "EmpID                0\n",
       "Position             0\n",
       "State                0\n",
       "Zip                  0\n",
       "Gender               0\n",
       "MaritalDesc          0\n",
       "CitizenDesc          0\n",
       "EmploymentStatus     0\n",
       "Department           5\n",
       "Salaries            12\n",
       "age                  0\n",
       "Race                 9\n",
       "dtype: int64"
      ]
     },
     "execution_count": 41,
     "metadata": {},
     "output_type": "execute_result"
    }
   ],
   "source": [
    "df.isna().sum()"
   ]
  },
  {
   "cell_type": "code",
   "execution_count": 42,
   "id": "59be3f46",
   "metadata": {},
   "outputs": [],
   "source": [
    "df[\"Department\"].fillna(\"Admin Offices\",inplace=True)"
   ]
  },
  {
   "cell_type": "code",
   "execution_count": 43,
   "id": "45b77b40",
   "metadata": {},
   "outputs": [
    {
     "data": {
      "text/plain": [
       "Employee_Name        0\n",
       "EmpID                0\n",
       "Position             0\n",
       "State                0\n",
       "Zip                  0\n",
       "Gender               0\n",
       "MaritalDesc          0\n",
       "CitizenDesc          0\n",
       "EmploymentStatus     0\n",
       "Department           0\n",
       "Salaries            12\n",
       "age                  0\n",
       "Race                 9\n",
       "dtype: int64"
      ]
     },
     "execution_count": 43,
     "metadata": {},
     "output_type": "execute_result"
    }
   ],
   "source": [
    "df.isna().sum()"
   ]
  },
  {
   "cell_type": "code",
   "execution_count": 44,
   "id": "b5bbff4e",
   "metadata": {},
   "outputs": [],
   "source": [
    "df[\"Salaries\"].fillna(700,inplace=True)"
   ]
  },
  {
   "cell_type": "code",
   "execution_count": 45,
   "id": "d8b8a34e",
   "metadata": {},
   "outputs": [
    {
     "data": {
      "text/plain": [
       "Employee_Name       0\n",
       "EmpID               0\n",
       "Position            0\n",
       "State               0\n",
       "Zip                 0\n",
       "Gender              0\n",
       "MaritalDesc         0\n",
       "CitizenDesc         0\n",
       "EmploymentStatus    0\n",
       "Department          0\n",
       "Salaries            0\n",
       "age                 0\n",
       "Race                9\n",
       "dtype: int64"
      ]
     },
     "execution_count": 45,
     "metadata": {},
     "output_type": "execute_result"
    }
   ],
   "source": [
    "df.isna().sum()"
   ]
  },
  {
   "cell_type": "code",
   "execution_count": 46,
   "id": "01cecbbd",
   "metadata": {},
   "outputs": [],
   "source": [
    "df[\"Race\"].fillna(\"White\",inplace=True)"
   ]
  },
  {
   "cell_type": "code",
   "execution_count": 47,
   "id": "6e4fefcc",
   "metadata": {},
   "outputs": [
    {
     "data": {
      "text/plain": [
       "Employee_Name       0\n",
       "EmpID               0\n",
       "Position            0\n",
       "State               0\n",
       "Zip                 0\n",
       "Gender              0\n",
       "MaritalDesc         0\n",
       "CitizenDesc         0\n",
       "EmploymentStatus    0\n",
       "Department          0\n",
       "Salaries            0\n",
       "age                 0\n",
       "Race                0\n",
       "dtype: int64"
      ]
     },
     "execution_count": 47,
     "metadata": {},
     "output_type": "execute_result"
    }
   ],
   "source": [
    "df.isna().sum()"
   ]
  },
  {
   "cell_type": "markdown",
   "id": "b2ac0caf",
   "metadata": {},
   "source": [
    "### filling the missing values with statistical value"
   ]
  },
  {
   "cell_type": "code",
   "execution_count": 74,
   "id": "5ba346b3",
   "metadata": {},
   "outputs": [
    {
     "data": {
      "text/html": [
       "<div>\n",
       "<style scoped>\n",
       "    .dataframe tbody tr th:only-of-type {\n",
       "        vertical-align: middle;\n",
       "    }\n",
       "\n",
       "    .dataframe tbody tr th {\n",
       "        vertical-align: top;\n",
       "    }\n",
       "\n",
       "    .dataframe thead th {\n",
       "        text-align: right;\n",
       "    }\n",
       "</style>\n",
       "<table border=\"1\" class=\"dataframe\">\n",
       "  <thead>\n",
       "    <tr style=\"text-align: right;\">\n",
       "      <th></th>\n",
       "      <th>Employee_Name</th>\n",
       "      <th>EmpID</th>\n",
       "      <th>Position</th>\n",
       "      <th>State</th>\n",
       "      <th>Zip</th>\n",
       "      <th>Gender</th>\n",
       "      <th>MaritalDesc</th>\n",
       "      <th>CitizenDesc</th>\n",
       "      <th>EmploymentStatus</th>\n",
       "      <th>Department</th>\n",
       "      <th>Salaries</th>\n",
       "      <th>age</th>\n",
       "      <th>Race</th>\n",
       "    </tr>\n",
       "  </thead>\n",
       "  <tbody>\n",
       "    <tr>\n",
       "      <th>0</th>\n",
       "      <td>Brown, Mia</td>\n",
       "      <td>1103024456</td>\n",
       "      <td>Accountant I</td>\n",
       "      <td>MA</td>\n",
       "      <td>1450.0</td>\n",
       "      <td>F</td>\n",
       "      <td>Married</td>\n",
       "      <td>US Citizen</td>\n",
       "      <td>Active</td>\n",
       "      <td>Admin Offices</td>\n",
       "      <td>674.28</td>\n",
       "      <td>28</td>\n",
       "      <td>Black or African American</td>\n",
       "    </tr>\n",
       "    <tr>\n",
       "      <th>1</th>\n",
       "      <td>LaRotonda, William</td>\n",
       "      <td>1106026572</td>\n",
       "      <td>Accountant I</td>\n",
       "      <td>MA</td>\n",
       "      <td>1460.0</td>\n",
       "      <td>M</td>\n",
       "      <td>Divorced</td>\n",
       "      <td>US Citizen</td>\n",
       "      <td>Active</td>\n",
       "      <td>Admin Offices</td>\n",
       "      <td>674.28</td>\n",
       "      <td>50</td>\n",
       "      <td>NaN</td>\n",
       "    </tr>\n",
       "    <tr>\n",
       "      <th>2</th>\n",
       "      <td>Steans, Tyrone</td>\n",
       "      <td>1302053333</td>\n",
       "      <td>Accountant I</td>\n",
       "      <td>MA</td>\n",
       "      <td>2703.0</td>\n",
       "      <td>M</td>\n",
       "      <td>Single</td>\n",
       "      <td>US Citizen</td>\n",
       "      <td>Active</td>\n",
       "      <td>Admin Offices</td>\n",
       "      <td>674.28</td>\n",
       "      <td>43</td>\n",
       "      <td>White</td>\n",
       "    </tr>\n",
       "    <tr>\n",
       "      <th>3</th>\n",
       "      <td>Howard, Estelle</td>\n",
       "      <td>1211050782</td>\n",
       "      <td>Administrative Assistant</td>\n",
       "      <td>MA</td>\n",
       "      <td>2170.0</td>\n",
       "      <td>F</td>\n",
       "      <td>Married</td>\n",
       "      <td>US Citizen</td>\n",
       "      <td>Terminated for Cause</td>\n",
       "      <td>Admin Offices</td>\n",
       "      <td>NaN</td>\n",
       "      <td>44</td>\n",
       "      <td>White</td>\n",
       "    </tr>\n",
       "    <tr>\n",
       "      <th>4</th>\n",
       "      <td>Singh, Nan</td>\n",
       "      <td>1307059817</td>\n",
       "      <td>Administrative Assistant</td>\n",
       "      <td>MA</td>\n",
       "      <td>2330.0</td>\n",
       "      <td>F</td>\n",
       "      <td>Single</td>\n",
       "      <td>US Citizen</td>\n",
       "      <td>Active</td>\n",
       "      <td>Admin Offices</td>\n",
       "      <td>61089.35</td>\n",
       "      <td>33</td>\n",
       "      <td>White</td>\n",
       "    </tr>\n",
       "  </tbody>\n",
       "</table>\n",
       "</div>"
      ],
      "text/plain": [
       "          Employee_Name       EmpID                  Position State     Zip  \\\n",
       "0            Brown, Mia  1103024456              Accountant I    MA  1450.0   \n",
       "1  LaRotonda, William    1106026572              Accountant I    MA  1460.0   \n",
       "2      Steans, Tyrone    1302053333              Accountant I    MA  2703.0   \n",
       "3       Howard, Estelle  1211050782  Administrative Assistant    MA  2170.0   \n",
       "4           Singh, Nan   1307059817  Administrative Assistant    MA  2330.0   \n",
       "\n",
       "  Gender MaritalDesc CitizenDesc      EmploymentStatus     Department  \\\n",
       "0      F     Married  US Citizen                Active  Admin Offices   \n",
       "1     M     Divorced  US Citizen                Active  Admin Offices   \n",
       "2     M       Single  US Citizen                Active  Admin Offices   \n",
       "3      F     Married  US Citizen  Terminated for Cause  Admin Offices   \n",
       "4      F      Single  US Citizen                Active  Admin Offices   \n",
       "\n",
       "   Salaries  age                       Race  \n",
       "0    674.28   28  Black or African American  \n",
       "1    674.28   50                        NaN  \n",
       "2    674.28   43                      White  \n",
       "3       NaN   44                      White  \n",
       "4  61089.35   33                      White  "
      ]
     },
     "execution_count": 74,
     "metadata": {},
     "output_type": "execute_result"
    }
   ],
   "source": [
    "df.head()"
   ]
  },
  {
   "cell_type": "code",
   "execution_count": 75,
   "id": "23284e3b",
   "metadata": {},
   "outputs": [
    {
     "data": {
      "text/plain": [
       "'Production Technician I'"
      ]
     },
     "execution_count": 75,
     "metadata": {},
     "output_type": "execute_result"
    }
   ],
   "source": [
    "df[\"Position\"].mode()[0]"
   ]
  },
  {
   "cell_type": "code",
   "execution_count": 76,
   "id": "d164ab29",
   "metadata": {},
   "outputs": [],
   "source": [
    "df[\"Position\"].fillna(df[\"Position\"].mode()[0],inplace=True)"
   ]
  },
  {
   "cell_type": "code",
   "execution_count": 77,
   "id": "5c3eeded",
   "metadata": {},
   "outputs": [
    {
     "data": {
      "text/plain": [
       "Employee_Name        0\n",
       "EmpID                0\n",
       "Position             0\n",
       "State                2\n",
       "Zip                  2\n",
       "Gender               7\n",
       "MaritalDesc          9\n",
       "CitizenDesc          3\n",
       "EmploymentStatus     0\n",
       "Department           5\n",
       "Salaries            12\n",
       "age                  0\n",
       "Race                 9\n",
       "dtype: int64"
      ]
     },
     "execution_count": 77,
     "metadata": {},
     "output_type": "execute_result"
    }
   ],
   "source": [
    "df.isna().sum()"
   ]
  },
  {
   "cell_type": "code",
   "execution_count": 78,
   "id": "35fa3d05",
   "metadata": {},
   "outputs": [],
   "source": [
    "df[\"Zip\"].fillna(df[\"Zip\"].median(),inplace=True)"
   ]
  },
  {
   "cell_type": "code",
   "execution_count": 79,
   "id": "a50248e3",
   "metadata": {},
   "outputs": [
    {
     "data": {
      "text/plain": [
       "Employee_Name        0\n",
       "EmpID                0\n",
       "Position             0\n",
       "State                2\n",
       "Zip                  0\n",
       "Gender               7\n",
       "MaritalDesc          9\n",
       "CitizenDesc          3\n",
       "EmploymentStatus     0\n",
       "Department           5\n",
       "Salaries            12\n",
       "age                  0\n",
       "Race                 9\n",
       "dtype: int64"
      ]
     },
     "execution_count": 79,
     "metadata": {},
     "output_type": "execute_result"
    }
   ],
   "source": [
    "df.isna().sum()"
   ]
  },
  {
   "cell_type": "code",
   "execution_count": 80,
   "id": "0a2f7e36",
   "metadata": {},
   "outputs": [],
   "source": [
    "df[\"State\"].fillna(df[\"State\"].mode()[0],inplace=True)"
   ]
  },
  {
   "cell_type": "code",
   "execution_count": 81,
   "id": "5b24732b",
   "metadata": {},
   "outputs": [
    {
     "data": {
      "text/plain": [
       "Employee_Name        0\n",
       "EmpID                0\n",
       "Position             0\n",
       "State                0\n",
       "Zip                  0\n",
       "Gender               7\n",
       "MaritalDesc          9\n",
       "CitizenDesc          3\n",
       "EmploymentStatus     0\n",
       "Department           5\n",
       "Salaries            12\n",
       "age                  0\n",
       "Race                 9\n",
       "dtype: int64"
      ]
     },
     "execution_count": 81,
     "metadata": {},
     "output_type": "execute_result"
    }
   ],
   "source": [
    "df.isna().sum()"
   ]
  },
  {
   "cell_type": "code",
   "execution_count": 82,
   "id": "d7c53857",
   "metadata": {},
   "outputs": [],
   "source": [
    "df['Gender'].fillna(df[\"Gender\"].mode()[0],inplace=True)"
   ]
  },
  {
   "cell_type": "code",
   "execution_count": 83,
   "id": "eba02283",
   "metadata": {},
   "outputs": [
    {
     "data": {
      "text/plain": [
       "Employee_Name        0\n",
       "EmpID                0\n",
       "Position             0\n",
       "State                0\n",
       "Zip                  0\n",
       "Gender               0\n",
       "MaritalDesc          9\n",
       "CitizenDesc          3\n",
       "EmploymentStatus     0\n",
       "Department           5\n",
       "Salaries            12\n",
       "age                  0\n",
       "Race                 9\n",
       "dtype: int64"
      ]
     },
     "execution_count": 83,
     "metadata": {},
     "output_type": "execute_result"
    }
   ],
   "source": [
    "df.isna().sum()"
   ]
  },
  {
   "cell_type": "code",
   "execution_count": 84,
   "id": "8ad06dbe",
   "metadata": {},
   "outputs": [],
   "source": [
    "df[\"MaritalDesc\"].fillna(df[\"MaritalDesc\"].mode()[0],inplace=True)"
   ]
  },
  {
   "cell_type": "code",
   "execution_count": 85,
   "id": "f5e7152e",
   "metadata": {},
   "outputs": [
    {
     "data": {
      "text/plain": [
       "Employee_Name        0\n",
       "EmpID                0\n",
       "Position             0\n",
       "State                0\n",
       "Zip                  0\n",
       "Gender               0\n",
       "MaritalDesc          0\n",
       "CitizenDesc          3\n",
       "EmploymentStatus     0\n",
       "Department           5\n",
       "Salaries            12\n",
       "age                  0\n",
       "Race                 9\n",
       "dtype: int64"
      ]
     },
     "execution_count": 85,
     "metadata": {},
     "output_type": "execute_result"
    }
   ],
   "source": [
    "df.isna().sum()"
   ]
  },
  {
   "cell_type": "code",
   "execution_count": 86,
   "id": "00a9fff1",
   "metadata": {},
   "outputs": [],
   "source": [
    "df[\"CitizenDesc\"].fillna(df[\"CitizenDesc\"].mode()[0],inplace=True)"
   ]
  },
  {
   "cell_type": "code",
   "execution_count": 87,
   "id": "bd9f9577",
   "metadata": {},
   "outputs": [
    {
     "data": {
      "text/plain": [
       "Employee_Name        0\n",
       "EmpID                0\n",
       "Position             0\n",
       "State                0\n",
       "Zip                  0\n",
       "Gender               0\n",
       "MaritalDesc          0\n",
       "CitizenDesc          0\n",
       "EmploymentStatus     0\n",
       "Department           5\n",
       "Salaries            12\n",
       "age                  0\n",
       "Race                 9\n",
       "dtype: int64"
      ]
     },
     "execution_count": 87,
     "metadata": {},
     "output_type": "execute_result"
    }
   ],
   "source": [
    "df.isna().sum()"
   ]
  },
  {
   "cell_type": "code",
   "execution_count": 88,
   "id": "03cbf915",
   "metadata": {},
   "outputs": [],
   "source": [
    "df[\"Department\"].fillna(df[\"Department\"].mode()[0],inplace=True)"
   ]
  },
  {
   "cell_type": "code",
   "execution_count": 89,
   "id": "be45a63f",
   "metadata": {},
   "outputs": [
    {
     "data": {
      "text/plain": [
       "Employee_Name        0\n",
       "EmpID                0\n",
       "Position             0\n",
       "State                0\n",
       "Zip                  0\n",
       "Gender               0\n",
       "MaritalDesc          0\n",
       "CitizenDesc          0\n",
       "EmploymentStatus     0\n",
       "Department           0\n",
       "Salaries            12\n",
       "age                  0\n",
       "Race                 9\n",
       "dtype: int64"
      ]
     },
     "execution_count": 89,
     "metadata": {},
     "output_type": "execute_result"
    }
   ],
   "source": [
    "df.isna().sum()"
   ]
  },
  {
   "cell_type": "code",
   "execution_count": 90,
   "id": "dffab1aa",
   "metadata": {},
   "outputs": [],
   "source": [
    "df[\"Salaries\"].fillna(df[\"Salaries\"].mean(),inplace=True)"
   ]
  },
  {
   "cell_type": "code",
   "execution_count": 91,
   "id": "d18514d0",
   "metadata": {},
   "outputs": [
    {
     "data": {
      "text/plain": [
       "Employee_Name       0\n",
       "EmpID               0\n",
       "Position            0\n",
       "State               0\n",
       "Zip                 0\n",
       "Gender              0\n",
       "MaritalDesc         0\n",
       "CitizenDesc         0\n",
       "EmploymentStatus    0\n",
       "Department          0\n",
       "Salaries            0\n",
       "age                 0\n",
       "Race                9\n",
       "dtype: int64"
      ]
     },
     "execution_count": 91,
     "metadata": {},
     "output_type": "execute_result"
    }
   ],
   "source": [
    "df.isna().sum()"
   ]
  },
  {
   "cell_type": "code",
   "execution_count": 92,
   "id": "b81fa184",
   "metadata": {},
   "outputs": [],
   "source": [
    "df[\"Race\"].fillna(df[\"Race\"].mode()[0],inplace=True)"
   ]
  },
  {
   "cell_type": "code",
   "execution_count": 93,
   "id": "35e73937",
   "metadata": {},
   "outputs": [
    {
     "data": {
      "text/plain": [
       "Employee_Name       0\n",
       "EmpID               0\n",
       "Position            0\n",
       "State               0\n",
       "Zip                 0\n",
       "Gender              0\n",
       "MaritalDesc         0\n",
       "CitizenDesc         0\n",
       "EmploymentStatus    0\n",
       "Department          0\n",
       "Salaries            0\n",
       "age                 0\n",
       "Race                0\n",
       "dtype: int64"
      ]
     },
     "execution_count": 93,
     "metadata": {},
     "output_type": "execute_result"
    }
   ],
   "source": [
    "df.isna().sum()"
   ]
  },
  {
   "cell_type": "markdown",
   "id": "9ca81758",
   "metadata": {},
   "source": [
    "### filling the missing values with filling Method\n",
    "* bfill\n",
    "* ffill"
   ]
  },
  {
   "cell_type": "markdown",
   "id": "21593853",
   "metadata": {},
   "source": [
    "### bfill"
   ]
  },
  {
   "cell_type": "code",
   "execution_count": 95,
   "id": "574f1738",
   "metadata": {},
   "outputs": [
    {
     "data": {
      "text/html": [
       "<div>\n",
       "<style scoped>\n",
       "    .dataframe tbody tr th:only-of-type {\n",
       "        vertical-align: middle;\n",
       "    }\n",
       "\n",
       "    .dataframe tbody tr th {\n",
       "        vertical-align: top;\n",
       "    }\n",
       "\n",
       "    .dataframe thead th {\n",
       "        text-align: right;\n",
       "    }\n",
       "</style>\n",
       "<table border=\"1\" class=\"dataframe\">\n",
       "  <thead>\n",
       "    <tr style=\"text-align: right;\">\n",
       "      <th></th>\n",
       "      <th>Employee_Name</th>\n",
       "      <th>EmpID</th>\n",
       "      <th>Position</th>\n",
       "      <th>State</th>\n",
       "      <th>Zip</th>\n",
       "      <th>Gender</th>\n",
       "      <th>MaritalDesc</th>\n",
       "      <th>CitizenDesc</th>\n",
       "      <th>EmploymentStatus</th>\n",
       "      <th>Department</th>\n",
       "      <th>Salaries</th>\n",
       "      <th>age</th>\n",
       "      <th>Race</th>\n",
       "    </tr>\n",
       "  </thead>\n",
       "  <tbody>\n",
       "    <tr>\n",
       "      <th>0</th>\n",
       "      <td>Brown, Mia</td>\n",
       "      <td>1103024456</td>\n",
       "      <td>Accountant I</td>\n",
       "      <td>MA</td>\n",
       "      <td>1450.0</td>\n",
       "      <td>F</td>\n",
       "      <td>Married</td>\n",
       "      <td>US Citizen</td>\n",
       "      <td>Active</td>\n",
       "      <td>Admin Offices</td>\n",
       "      <td>674.28</td>\n",
       "      <td>28</td>\n",
       "      <td>Black or African American</td>\n",
       "    </tr>\n",
       "    <tr>\n",
       "      <th>1</th>\n",
       "      <td>LaRotonda, William</td>\n",
       "      <td>1106026572</td>\n",
       "      <td>Accountant I</td>\n",
       "      <td>MA</td>\n",
       "      <td>1460.0</td>\n",
       "      <td>M</td>\n",
       "      <td>Divorced</td>\n",
       "      <td>US Citizen</td>\n",
       "      <td>Active</td>\n",
       "      <td>Admin Offices</td>\n",
       "      <td>674.28</td>\n",
       "      <td>50</td>\n",
       "      <td>NaN</td>\n",
       "    </tr>\n",
       "    <tr>\n",
       "      <th>2</th>\n",
       "      <td>Steans, Tyrone</td>\n",
       "      <td>1302053333</td>\n",
       "      <td>Accountant I</td>\n",
       "      <td>MA</td>\n",
       "      <td>2703.0</td>\n",
       "      <td>M</td>\n",
       "      <td>Single</td>\n",
       "      <td>US Citizen</td>\n",
       "      <td>Active</td>\n",
       "      <td>Admin Offices</td>\n",
       "      <td>674.28</td>\n",
       "      <td>43</td>\n",
       "      <td>White</td>\n",
       "    </tr>\n",
       "    <tr>\n",
       "      <th>3</th>\n",
       "      <td>Howard, Estelle</td>\n",
       "      <td>1211050782</td>\n",
       "      <td>Administrative Assistant</td>\n",
       "      <td>MA</td>\n",
       "      <td>2170.0</td>\n",
       "      <td>F</td>\n",
       "      <td>Married</td>\n",
       "      <td>US Citizen</td>\n",
       "      <td>Terminated for Cause</td>\n",
       "      <td>Admin Offices</td>\n",
       "      <td>NaN</td>\n",
       "      <td>44</td>\n",
       "      <td>White</td>\n",
       "    </tr>\n",
       "    <tr>\n",
       "      <th>4</th>\n",
       "      <td>Singh, Nan</td>\n",
       "      <td>1307059817</td>\n",
       "      <td>Administrative Assistant</td>\n",
       "      <td>MA</td>\n",
       "      <td>2330.0</td>\n",
       "      <td>F</td>\n",
       "      <td>Single</td>\n",
       "      <td>US Citizen</td>\n",
       "      <td>Active</td>\n",
       "      <td>Admin Offices</td>\n",
       "      <td>61089.35</td>\n",
       "      <td>33</td>\n",
       "      <td>White</td>\n",
       "    </tr>\n",
       "  </tbody>\n",
       "</table>\n",
       "</div>"
      ],
      "text/plain": [
       "          Employee_Name       EmpID                  Position State     Zip  \\\n",
       "0            Brown, Mia  1103024456              Accountant I    MA  1450.0   \n",
       "1  LaRotonda, William    1106026572              Accountant I    MA  1460.0   \n",
       "2      Steans, Tyrone    1302053333              Accountant I    MA  2703.0   \n",
       "3       Howard, Estelle  1211050782  Administrative Assistant    MA  2170.0   \n",
       "4           Singh, Nan   1307059817  Administrative Assistant    MA  2330.0   \n",
       "\n",
       "  Gender MaritalDesc CitizenDesc      EmploymentStatus     Department  \\\n",
       "0      F     Married  US Citizen                Active  Admin Offices   \n",
       "1     M     Divorced  US Citizen                Active  Admin Offices   \n",
       "2     M       Single  US Citizen                Active  Admin Offices   \n",
       "3      F     Married  US Citizen  Terminated for Cause  Admin Offices   \n",
       "4      F      Single  US Citizen                Active  Admin Offices   \n",
       "\n",
       "   Salaries  age                       Race  \n",
       "0    674.28   28  Black or African American  \n",
       "1    674.28   50                        NaN  \n",
       "2    674.28   43                      White  \n",
       "3       NaN   44                      White  \n",
       "4  61089.35   33                      White  "
      ]
     },
     "execution_count": 95,
     "metadata": {},
     "output_type": "execute_result"
    }
   ],
   "source": [
    "df.head()"
   ]
  },
  {
   "cell_type": "code",
   "execution_count": 96,
   "id": "abf19ef4",
   "metadata": {},
   "outputs": [
    {
     "data": {
      "text/plain": [
       "Employee_Name        0\n",
       "EmpID                0\n",
       "Position             3\n",
       "State                2\n",
       "Zip                  2\n",
       "Gender               7\n",
       "MaritalDesc          9\n",
       "CitizenDesc          3\n",
       "EmploymentStatus     0\n",
       "Department           5\n",
       "Salaries            12\n",
       "age                  0\n",
       "Race                 9\n",
       "dtype: int64"
      ]
     },
     "execution_count": 96,
     "metadata": {},
     "output_type": "execute_result"
    }
   ],
   "source": [
    "df.isna().sum()"
   ]
  },
  {
   "cell_type": "code",
   "execution_count": 97,
   "id": "329ed378",
   "metadata": {},
   "outputs": [
    {
     "name": "stderr",
     "output_type": "stream",
     "text": [
      "C:\\Users\\User\\AppData\\Local\\Temp\\ipykernel_15348\\1127056499.py:1: FutureWarning: Series.fillna with 'method' is deprecated and will raise in a future version. Use obj.ffill() or obj.bfill() instead.\n",
      "  df[\"Position\"].fillna(method=\"bfill\",inplace=True)\n"
     ]
    }
   ],
   "source": [
    "df[\"Position\"].fillna(method=\"bfill\",inplace=True)"
   ]
  },
  {
   "cell_type": "code",
   "execution_count": 98,
   "id": "a8158628",
   "metadata": {},
   "outputs": [
    {
     "data": {
      "text/plain": [
       "Employee_Name        0\n",
       "EmpID                0\n",
       "Position             0\n",
       "State                2\n",
       "Zip                  2\n",
       "Gender               7\n",
       "MaritalDesc          9\n",
       "CitizenDesc          3\n",
       "EmploymentStatus     0\n",
       "Department           5\n",
       "Salaries            12\n",
       "age                  0\n",
       "Race                 9\n",
       "dtype: int64"
      ]
     },
     "execution_count": 98,
     "metadata": {},
     "output_type": "execute_result"
    }
   ],
   "source": [
    "df.isna().sum()"
   ]
  },
  {
   "cell_type": "code",
   "execution_count": 99,
   "id": "3d175b88",
   "metadata": {},
   "outputs": [
    {
     "name": "stderr",
     "output_type": "stream",
     "text": [
      "C:\\Users\\User\\AppData\\Local\\Temp\\ipykernel_15348\\3923456966.py:1: FutureWarning: Series.fillna with 'method' is deprecated and will raise in a future version. Use obj.ffill() or obj.bfill() instead.\n",
      "  df[\"State\"].fillna(method=\"bfill\",inplace=True)\n"
     ]
    }
   ],
   "source": [
    "df[\"State\"].fillna(method=\"bfill\",inplace=True)"
   ]
  },
  {
   "cell_type": "code",
   "execution_count": 100,
   "id": "fe9b36f6",
   "metadata": {},
   "outputs": [
    {
     "data": {
      "text/plain": [
       "Employee_Name        0\n",
       "EmpID                0\n",
       "Position             0\n",
       "State                0\n",
       "Zip                  2\n",
       "Gender               7\n",
       "MaritalDesc          9\n",
       "CitizenDesc          3\n",
       "EmploymentStatus     0\n",
       "Department           5\n",
       "Salaries            12\n",
       "age                  0\n",
       "Race                 9\n",
       "dtype: int64"
      ]
     },
     "execution_count": 100,
     "metadata": {},
     "output_type": "execute_result"
    }
   ],
   "source": [
    "df.isna().sum()"
   ]
  },
  {
   "cell_type": "code",
   "execution_count": 101,
   "id": "e811f7f1",
   "metadata": {},
   "outputs": [
    {
     "name": "stderr",
     "output_type": "stream",
     "text": [
      "C:\\Users\\User\\AppData\\Local\\Temp\\ipykernel_15348\\838756303.py:1: FutureWarning: Series.fillna with 'method' is deprecated and will raise in a future version. Use obj.ffill() or obj.bfill() instead.\n",
      "  df[\"Zip\"].fillna(method=\"bfill\",inplace=True)\n"
     ]
    }
   ],
   "source": [
    "df[\"Zip\"].fillna(method=\"bfill\",inplace=True)"
   ]
  },
  {
   "cell_type": "code",
   "execution_count": 102,
   "id": "0f93980f",
   "metadata": {},
   "outputs": [
    {
     "data": {
      "text/plain": [
       "Employee_Name        0\n",
       "EmpID                0\n",
       "Position             0\n",
       "State                0\n",
       "Zip                  0\n",
       "Gender               7\n",
       "MaritalDesc          9\n",
       "CitizenDesc          3\n",
       "EmploymentStatus     0\n",
       "Department           5\n",
       "Salaries            12\n",
       "age                  0\n",
       "Race                 9\n",
       "dtype: int64"
      ]
     },
     "execution_count": 102,
     "metadata": {},
     "output_type": "execute_result"
    }
   ],
   "source": [
    "df.isna().sum()"
   ]
  },
  {
   "cell_type": "code",
   "execution_count": 103,
   "id": "923af9e1",
   "metadata": {},
   "outputs": [
    {
     "name": "stderr",
     "output_type": "stream",
     "text": [
      "C:\\Users\\User\\AppData\\Local\\Temp\\ipykernel_15348\\3944061885.py:1: FutureWarning: Series.fillna with 'method' is deprecated and will raise in a future version. Use obj.ffill() or obj.bfill() instead.\n",
      "  df[\"Gender\"].fillna(method=\"bfill\",inplace=True)\n"
     ]
    }
   ],
   "source": [
    "df[\"Gender\"].fillna(method=\"bfill\",inplace=True)"
   ]
  },
  {
   "cell_type": "code",
   "execution_count": 104,
   "id": "1e0ed8c2",
   "metadata": {},
   "outputs": [
    {
     "data": {
      "text/plain": [
       "Employee_Name        0\n",
       "EmpID                0\n",
       "Position             0\n",
       "State                0\n",
       "Zip                  0\n",
       "Gender               0\n",
       "MaritalDesc          9\n",
       "CitizenDesc          3\n",
       "EmploymentStatus     0\n",
       "Department           5\n",
       "Salaries            12\n",
       "age                  0\n",
       "Race                 9\n",
       "dtype: int64"
      ]
     },
     "execution_count": 104,
     "metadata": {},
     "output_type": "execute_result"
    }
   ],
   "source": [
    "df.isna().sum()"
   ]
  },
  {
   "cell_type": "code",
   "execution_count": 105,
   "id": "23b8961f",
   "metadata": {},
   "outputs": [
    {
     "name": "stderr",
     "output_type": "stream",
     "text": [
      "C:\\Users\\User\\AppData\\Local\\Temp\\ipykernel_15348\\178151227.py:1: FutureWarning: Series.fillna with 'method' is deprecated and will raise in a future version. Use obj.ffill() or obj.bfill() instead.\n",
      "  df[\"MaritalDesc\"].fillna(method=\"bfill\",inplace=True)\n"
     ]
    }
   ],
   "source": [
    "df[\"MaritalDesc\"].fillna(method=\"bfill\",inplace=True)"
   ]
  },
  {
   "cell_type": "code",
   "execution_count": 106,
   "id": "c5527297",
   "metadata": {},
   "outputs": [
    {
     "data": {
      "text/plain": [
       "Employee_Name        0\n",
       "EmpID                0\n",
       "Position             0\n",
       "State                0\n",
       "Zip                  0\n",
       "Gender               0\n",
       "MaritalDesc          0\n",
       "CitizenDesc          3\n",
       "EmploymentStatus     0\n",
       "Department           5\n",
       "Salaries            12\n",
       "age                  0\n",
       "Race                 9\n",
       "dtype: int64"
      ]
     },
     "execution_count": 106,
     "metadata": {},
     "output_type": "execute_result"
    }
   ],
   "source": [
    "df.isna().sum()"
   ]
  },
  {
   "cell_type": "code",
   "execution_count": 107,
   "id": "1b004551",
   "metadata": {},
   "outputs": [
    {
     "name": "stderr",
     "output_type": "stream",
     "text": [
      "C:\\Users\\User\\AppData\\Local\\Temp\\ipykernel_15348\\1901394005.py:1: FutureWarning: Series.fillna with 'method' is deprecated and will raise in a future version. Use obj.ffill() or obj.bfill() instead.\n",
      "  df[\"CitizenDesc\"].fillna(method=\"bfill\",inplace=True)\n"
     ]
    }
   ],
   "source": [
    "df[\"CitizenDesc\"].fillna(method=\"bfill\",inplace=True)"
   ]
  },
  {
   "cell_type": "code",
   "execution_count": 108,
   "id": "facd68e1",
   "metadata": {},
   "outputs": [
    {
     "data": {
      "text/plain": [
       "Employee_Name        0\n",
       "EmpID                0\n",
       "Position             0\n",
       "State                0\n",
       "Zip                  0\n",
       "Gender               0\n",
       "MaritalDesc          0\n",
       "CitizenDesc          0\n",
       "EmploymentStatus     0\n",
       "Department           5\n",
       "Salaries            12\n",
       "age                  0\n",
       "Race                 9\n",
       "dtype: int64"
      ]
     },
     "execution_count": 108,
     "metadata": {},
     "output_type": "execute_result"
    }
   ],
   "source": [
    "df.isna().sum()"
   ]
  },
  {
   "cell_type": "code",
   "execution_count": 109,
   "id": "e8bd565b",
   "metadata": {},
   "outputs": [
    {
     "name": "stderr",
     "output_type": "stream",
     "text": [
      "C:\\Users\\User\\AppData\\Local\\Temp\\ipykernel_15348\\3838463905.py:1: FutureWarning: Series.fillna with 'method' is deprecated and will raise in a future version. Use obj.ffill() or obj.bfill() instead.\n",
      "  df[\"Department\"].fillna(method=\"bfill\",inplace=True)\n"
     ]
    }
   ],
   "source": [
    "df[\"Department\"].fillna(method=\"bfill\",inplace=True)"
   ]
  },
  {
   "cell_type": "code",
   "execution_count": 110,
   "id": "834eb0c5",
   "metadata": {},
   "outputs": [
    {
     "data": {
      "text/plain": [
       "Employee_Name        0\n",
       "EmpID                0\n",
       "Position             0\n",
       "State                0\n",
       "Zip                  0\n",
       "Gender               0\n",
       "MaritalDesc          0\n",
       "CitizenDesc          0\n",
       "EmploymentStatus     0\n",
       "Department           0\n",
       "Salaries            12\n",
       "age                  0\n",
       "Race                 9\n",
       "dtype: int64"
      ]
     },
     "execution_count": 110,
     "metadata": {},
     "output_type": "execute_result"
    }
   ],
   "source": [
    "df.isna().sum()"
   ]
  },
  {
   "cell_type": "code",
   "execution_count": 111,
   "id": "378d277b",
   "metadata": {},
   "outputs": [
    {
     "name": "stderr",
     "output_type": "stream",
     "text": [
      "C:\\Users\\User\\AppData\\Local\\Temp\\ipykernel_15348\\1711028853.py:1: FutureWarning: Series.fillna with 'method' is deprecated and will raise in a future version. Use obj.ffill() or obj.bfill() instead.\n",
      "  df[\"Salaries\"].fillna(method=\"bfill\",inplace=True)\n"
     ]
    }
   ],
   "source": [
    "df[\"Salaries\"].fillna(method=\"bfill\",inplace=True)"
   ]
  },
  {
   "cell_type": "code",
   "execution_count": 112,
   "id": "eb6e93bf",
   "metadata": {},
   "outputs": [
    {
     "data": {
      "text/plain": [
       "Employee_Name       0\n",
       "EmpID               0\n",
       "Position            0\n",
       "State               0\n",
       "Zip                 0\n",
       "Gender              0\n",
       "MaritalDesc         0\n",
       "CitizenDesc         0\n",
       "EmploymentStatus    0\n",
       "Department          0\n",
       "Salaries            0\n",
       "age                 0\n",
       "Race                9\n",
       "dtype: int64"
      ]
     },
     "execution_count": 112,
     "metadata": {},
     "output_type": "execute_result"
    }
   ],
   "source": [
    "df.isna().sum()"
   ]
  },
  {
   "cell_type": "code",
   "execution_count": 113,
   "id": "5c25cd1b",
   "metadata": {},
   "outputs": [
    {
     "name": "stderr",
     "output_type": "stream",
     "text": [
      "C:\\Users\\User\\AppData\\Local\\Temp\\ipykernel_15348\\1565456734.py:1: FutureWarning: Series.fillna with 'method' is deprecated and will raise in a future version. Use obj.ffill() or obj.bfill() instead.\n",
      "  df[\"Race\"].fillna(method=\"bfill\",inplace=True)\n"
     ]
    }
   ],
   "source": [
    "df[\"Race\"].fillna(method=\"bfill\",inplace=True)"
   ]
  },
  {
   "cell_type": "code",
   "execution_count": 114,
   "id": "77e13f49",
   "metadata": {},
   "outputs": [
    {
     "data": {
      "text/plain": [
       "Employee_Name       0\n",
       "EmpID               0\n",
       "Position            0\n",
       "State               0\n",
       "Zip                 0\n",
       "Gender              0\n",
       "MaritalDesc         0\n",
       "CitizenDesc         0\n",
       "EmploymentStatus    0\n",
       "Department          0\n",
       "Salaries            0\n",
       "age                 0\n",
       "Race                0\n",
       "dtype: int64"
      ]
     },
     "execution_count": 114,
     "metadata": {},
     "output_type": "execute_result"
    }
   ],
   "source": [
    "df.isna().sum()"
   ]
  },
  {
   "cell_type": "markdown",
   "id": "6c693bc5",
   "metadata": {},
   "source": [
    "### ffill"
   ]
  },
  {
   "cell_type": "code",
   "execution_count": 116,
   "id": "9a88e1da",
   "metadata": {},
   "outputs": [
    {
     "data": {
      "text/html": [
       "<div>\n",
       "<style scoped>\n",
       "    .dataframe tbody tr th:only-of-type {\n",
       "        vertical-align: middle;\n",
       "    }\n",
       "\n",
       "    .dataframe tbody tr th {\n",
       "        vertical-align: top;\n",
       "    }\n",
       "\n",
       "    .dataframe thead th {\n",
       "        text-align: right;\n",
       "    }\n",
       "</style>\n",
       "<table border=\"1\" class=\"dataframe\">\n",
       "  <thead>\n",
       "    <tr style=\"text-align: right;\">\n",
       "      <th></th>\n",
       "      <th>Employee_Name</th>\n",
       "      <th>EmpID</th>\n",
       "      <th>Position</th>\n",
       "      <th>State</th>\n",
       "      <th>Zip</th>\n",
       "      <th>Gender</th>\n",
       "      <th>MaritalDesc</th>\n",
       "      <th>CitizenDesc</th>\n",
       "      <th>EmploymentStatus</th>\n",
       "      <th>Department</th>\n",
       "      <th>Salaries</th>\n",
       "      <th>age</th>\n",
       "      <th>Race</th>\n",
       "    </tr>\n",
       "  </thead>\n",
       "  <tbody>\n",
       "    <tr>\n",
       "      <th>0</th>\n",
       "      <td>Brown, Mia</td>\n",
       "      <td>1103024456</td>\n",
       "      <td>Accountant I</td>\n",
       "      <td>MA</td>\n",
       "      <td>1450.0</td>\n",
       "      <td>F</td>\n",
       "      <td>Married</td>\n",
       "      <td>US Citizen</td>\n",
       "      <td>Active</td>\n",
       "      <td>Admin Offices</td>\n",
       "      <td>674.28</td>\n",
       "      <td>28</td>\n",
       "      <td>Black or African American</td>\n",
       "    </tr>\n",
       "    <tr>\n",
       "      <th>1</th>\n",
       "      <td>LaRotonda, William</td>\n",
       "      <td>1106026572</td>\n",
       "      <td>Accountant I</td>\n",
       "      <td>MA</td>\n",
       "      <td>1460.0</td>\n",
       "      <td>M</td>\n",
       "      <td>Divorced</td>\n",
       "      <td>US Citizen</td>\n",
       "      <td>Active</td>\n",
       "      <td>Admin Offices</td>\n",
       "      <td>674.28</td>\n",
       "      <td>50</td>\n",
       "      <td>NaN</td>\n",
       "    </tr>\n",
       "    <tr>\n",
       "      <th>2</th>\n",
       "      <td>Steans, Tyrone</td>\n",
       "      <td>1302053333</td>\n",
       "      <td>Accountant I</td>\n",
       "      <td>MA</td>\n",
       "      <td>2703.0</td>\n",
       "      <td>M</td>\n",
       "      <td>Single</td>\n",
       "      <td>US Citizen</td>\n",
       "      <td>Active</td>\n",
       "      <td>Admin Offices</td>\n",
       "      <td>674.28</td>\n",
       "      <td>43</td>\n",
       "      <td>White</td>\n",
       "    </tr>\n",
       "    <tr>\n",
       "      <th>3</th>\n",
       "      <td>Howard, Estelle</td>\n",
       "      <td>1211050782</td>\n",
       "      <td>Administrative Assistant</td>\n",
       "      <td>MA</td>\n",
       "      <td>2170.0</td>\n",
       "      <td>F</td>\n",
       "      <td>Married</td>\n",
       "      <td>US Citizen</td>\n",
       "      <td>Terminated for Cause</td>\n",
       "      <td>Admin Offices</td>\n",
       "      <td>NaN</td>\n",
       "      <td>44</td>\n",
       "      <td>White</td>\n",
       "    </tr>\n",
       "    <tr>\n",
       "      <th>4</th>\n",
       "      <td>Singh, Nan</td>\n",
       "      <td>1307059817</td>\n",
       "      <td>Administrative Assistant</td>\n",
       "      <td>MA</td>\n",
       "      <td>2330.0</td>\n",
       "      <td>F</td>\n",
       "      <td>Single</td>\n",
       "      <td>US Citizen</td>\n",
       "      <td>Active</td>\n",
       "      <td>Admin Offices</td>\n",
       "      <td>61089.35</td>\n",
       "      <td>33</td>\n",
       "      <td>White</td>\n",
       "    </tr>\n",
       "  </tbody>\n",
       "</table>\n",
       "</div>"
      ],
      "text/plain": [
       "          Employee_Name       EmpID                  Position State     Zip  \\\n",
       "0            Brown, Mia  1103024456              Accountant I    MA  1450.0   \n",
       "1  LaRotonda, William    1106026572              Accountant I    MA  1460.0   \n",
       "2      Steans, Tyrone    1302053333              Accountant I    MA  2703.0   \n",
       "3       Howard, Estelle  1211050782  Administrative Assistant    MA  2170.0   \n",
       "4           Singh, Nan   1307059817  Administrative Assistant    MA  2330.0   \n",
       "\n",
       "  Gender MaritalDesc CitizenDesc      EmploymentStatus     Department  \\\n",
       "0      F     Married  US Citizen                Active  Admin Offices   \n",
       "1     M     Divorced  US Citizen                Active  Admin Offices   \n",
       "2     M       Single  US Citizen                Active  Admin Offices   \n",
       "3      F     Married  US Citizen  Terminated for Cause  Admin Offices   \n",
       "4      F      Single  US Citizen                Active  Admin Offices   \n",
       "\n",
       "   Salaries  age                       Race  \n",
       "0    674.28   28  Black or African American  \n",
       "1    674.28   50                        NaN  \n",
       "2    674.28   43                      White  \n",
       "3       NaN   44                      White  \n",
       "4  61089.35   33                      White  "
      ]
     },
     "execution_count": 116,
     "metadata": {},
     "output_type": "execute_result"
    }
   ],
   "source": [
    "df.head()"
   ]
  },
  {
   "cell_type": "code",
   "execution_count": 117,
   "id": "586fae6c",
   "metadata": {},
   "outputs": [
    {
     "data": {
      "text/plain": [
       "Employee_Name        0\n",
       "EmpID                0\n",
       "Position             3\n",
       "State                2\n",
       "Zip                  2\n",
       "Gender               7\n",
       "MaritalDesc          9\n",
       "CitizenDesc          3\n",
       "EmploymentStatus     0\n",
       "Department           5\n",
       "Salaries            12\n",
       "age                  0\n",
       "Race                 9\n",
       "dtype: int64"
      ]
     },
     "execution_count": 117,
     "metadata": {},
     "output_type": "execute_result"
    }
   ],
   "source": [
    "df.isna().sum()"
   ]
  },
  {
   "cell_type": "code",
   "execution_count": 118,
   "id": "b09a205a",
   "metadata": {},
   "outputs": [
    {
     "name": "stderr",
     "output_type": "stream",
     "text": [
      "C:\\Users\\User\\AppData\\Local\\Temp\\ipykernel_15348\\581306545.py:1: FutureWarning: Series.fillna with 'method' is deprecated and will raise in a future version. Use obj.ffill() or obj.bfill() instead.\n",
      "  df[\"Position\"].fillna(method=\"ffill\",inplace=True)\n"
     ]
    }
   ],
   "source": [
    "df[\"Position\"].fillna(method=\"ffill\",inplace=True)"
   ]
  },
  {
   "cell_type": "code",
   "execution_count": 119,
   "id": "3dbc436b",
   "metadata": {},
   "outputs": [
    {
     "data": {
      "text/plain": [
       "Employee_Name        0\n",
       "EmpID                0\n",
       "Position             0\n",
       "State                2\n",
       "Zip                  2\n",
       "Gender               7\n",
       "MaritalDesc          9\n",
       "CitizenDesc          3\n",
       "EmploymentStatus     0\n",
       "Department           5\n",
       "Salaries            12\n",
       "age                  0\n",
       "Race                 9\n",
       "dtype: int64"
      ]
     },
     "execution_count": 119,
     "metadata": {},
     "output_type": "execute_result"
    }
   ],
   "source": [
    "df.isna().sum()"
   ]
  },
  {
   "cell_type": "code",
   "execution_count": 120,
   "id": "2fbf444e",
   "metadata": {},
   "outputs": [
    {
     "name": "stderr",
     "output_type": "stream",
     "text": [
      "C:\\Users\\User\\AppData\\Local\\Temp\\ipykernel_15348\\3191397999.py:1: FutureWarning: Series.fillna with 'method' is deprecated and will raise in a future version. Use obj.ffill() or obj.bfill() instead.\n",
      "  df[\"State\"].fillna(method=\"ffill\",inplace=True)\n"
     ]
    }
   ],
   "source": [
    "df[\"State\"].fillna(method=\"ffill\",inplace=True)"
   ]
  },
  {
   "cell_type": "code",
   "execution_count": 121,
   "id": "f5ce72f2",
   "metadata": {},
   "outputs": [
    {
     "data": {
      "text/plain": [
       "Employee_Name        0\n",
       "EmpID                0\n",
       "Position             0\n",
       "State                0\n",
       "Zip                  2\n",
       "Gender               7\n",
       "MaritalDesc          9\n",
       "CitizenDesc          3\n",
       "EmploymentStatus     0\n",
       "Department           5\n",
       "Salaries            12\n",
       "age                  0\n",
       "Race                 9\n",
       "dtype: int64"
      ]
     },
     "execution_count": 121,
     "metadata": {},
     "output_type": "execute_result"
    }
   ],
   "source": [
    "df.isna().sum()"
   ]
  },
  {
   "cell_type": "code",
   "execution_count": 122,
   "id": "9d334ede",
   "metadata": {},
   "outputs": [
    {
     "name": "stderr",
     "output_type": "stream",
     "text": [
      "C:\\Users\\User\\AppData\\Local\\Temp\\ipykernel_15348\\3627224060.py:1: FutureWarning: Series.fillna with 'method' is deprecated and will raise in a future version. Use obj.ffill() or obj.bfill() instead.\n",
      "  df[\"Zip\"].fillna(method=\"ffill\",inplace=True)\n"
     ]
    }
   ],
   "source": [
    "df[\"Zip\"].fillna(method=\"ffill\",inplace=True)"
   ]
  },
  {
   "cell_type": "code",
   "execution_count": 123,
   "id": "b9df5bcb",
   "metadata": {},
   "outputs": [
    {
     "data": {
      "text/plain": [
       "Employee_Name        0\n",
       "EmpID                0\n",
       "Position             0\n",
       "State                0\n",
       "Zip                  0\n",
       "Gender               7\n",
       "MaritalDesc          9\n",
       "CitizenDesc          3\n",
       "EmploymentStatus     0\n",
       "Department           5\n",
       "Salaries            12\n",
       "age                  0\n",
       "Race                 9\n",
       "dtype: int64"
      ]
     },
     "execution_count": 123,
     "metadata": {},
     "output_type": "execute_result"
    }
   ],
   "source": [
    "df.isna().sum()"
   ]
  },
  {
   "cell_type": "code",
   "execution_count": 124,
   "id": "2f5edf5e",
   "metadata": {},
   "outputs": [
    {
     "name": "stderr",
     "output_type": "stream",
     "text": [
      "C:\\Users\\User\\AppData\\Local\\Temp\\ipykernel_15348\\3895409172.py:1: FutureWarning: Series.fillna with 'method' is deprecated and will raise in a future version. Use obj.ffill() or obj.bfill() instead.\n",
      "  df[\"Gender\"].fillna(method=\"ffill\",inplace=True)\n"
     ]
    }
   ],
   "source": [
    "df[\"Gender\"].fillna(method=\"ffill\",inplace=True)"
   ]
  },
  {
   "cell_type": "code",
   "execution_count": 125,
   "id": "4c403e34",
   "metadata": {},
   "outputs": [
    {
     "data": {
      "text/plain": [
       "Employee_Name        0\n",
       "EmpID                0\n",
       "Position             0\n",
       "State                0\n",
       "Zip                  0\n",
       "Gender               0\n",
       "MaritalDesc          9\n",
       "CitizenDesc          3\n",
       "EmploymentStatus     0\n",
       "Department           5\n",
       "Salaries            12\n",
       "age                  0\n",
       "Race                 9\n",
       "dtype: int64"
      ]
     },
     "execution_count": 125,
     "metadata": {},
     "output_type": "execute_result"
    }
   ],
   "source": [
    "df.isna().sum()"
   ]
  },
  {
   "cell_type": "code",
   "execution_count": 126,
   "id": "d88ac900",
   "metadata": {},
   "outputs": [
    {
     "name": "stderr",
     "output_type": "stream",
     "text": [
      "C:\\Users\\User\\AppData\\Local\\Temp\\ipykernel_15348\\3124755822.py:1: FutureWarning: Series.fillna with 'method' is deprecated and will raise in a future version. Use obj.ffill() or obj.bfill() instead.\n",
      "  df[\"MaritalDesc\"].fillna(method=\"ffill\",inplace=True)\n"
     ]
    }
   ],
   "source": [
    "df[\"MaritalDesc\"].fillna(method=\"ffill\",inplace=True)"
   ]
  },
  {
   "cell_type": "code",
   "execution_count": 127,
   "id": "9ef0368a",
   "metadata": {},
   "outputs": [
    {
     "data": {
      "text/plain": [
       "Employee_Name        0\n",
       "EmpID                0\n",
       "Position             0\n",
       "State                0\n",
       "Zip                  0\n",
       "Gender               0\n",
       "MaritalDesc          0\n",
       "CitizenDesc          3\n",
       "EmploymentStatus     0\n",
       "Department           5\n",
       "Salaries            12\n",
       "age                  0\n",
       "Race                 9\n",
       "dtype: int64"
      ]
     },
     "execution_count": 127,
     "metadata": {},
     "output_type": "execute_result"
    }
   ],
   "source": [
    "df.isna().sum()"
   ]
  },
  {
   "cell_type": "code",
   "execution_count": 130,
   "id": "5f1d7410",
   "metadata": {},
   "outputs": [
    {
     "name": "stderr",
     "output_type": "stream",
     "text": [
      "C:\\Users\\User\\AppData\\Local\\Temp\\ipykernel_15348\\2529467920.py:1: FutureWarning: Series.fillna with 'method' is deprecated and will raise in a future version. Use obj.ffill() or obj.bfill() instead.\n",
      "  df[\"Department\"].fillna(method=\"ffill\",inplace=True)\n"
     ]
    }
   ],
   "source": [
    "df[\"Department\"].fillna(method=\"ffill\",inplace=True)"
   ]
  },
  {
   "cell_type": "code",
   "execution_count": 131,
   "id": "a3ab52be",
   "metadata": {},
   "outputs": [
    {
     "data": {
      "text/plain": [
       "Employee_Name        0\n",
       "EmpID                0\n",
       "Position             0\n",
       "State                0\n",
       "Zip                  0\n",
       "Gender               0\n",
       "MaritalDesc          0\n",
       "CitizenDesc          3\n",
       "EmploymentStatus     0\n",
       "Department           0\n",
       "Salaries            12\n",
       "age                  0\n",
       "Race                 9\n",
       "dtype: int64"
      ]
     },
     "execution_count": 131,
     "metadata": {},
     "output_type": "execute_result"
    }
   ],
   "source": [
    "df.isna().sum()"
   ]
  },
  {
   "cell_type": "code",
   "execution_count": 132,
   "id": "f5794942",
   "metadata": {},
   "outputs": [
    {
     "name": "stderr",
     "output_type": "stream",
     "text": [
      "C:\\Users\\User\\AppData\\Local\\Temp\\ipykernel_15348\\81974517.py:1: FutureWarning: Series.fillna with 'method' is deprecated and will raise in a future version. Use obj.ffill() or obj.bfill() instead.\n",
      "  df[\"Salaries\"].fillna(method=\"ffill\",inplace=True)\n"
     ]
    }
   ],
   "source": [
    "df[\"Salaries\"].fillna(method=\"ffill\",inplace=True)"
   ]
  },
  {
   "cell_type": "code",
   "execution_count": 133,
   "id": "c86a7e00",
   "metadata": {},
   "outputs": [
    {
     "data": {
      "text/plain": [
       "Employee_Name       0\n",
       "EmpID               0\n",
       "Position            0\n",
       "State               0\n",
       "Zip                 0\n",
       "Gender              0\n",
       "MaritalDesc         0\n",
       "CitizenDesc         3\n",
       "EmploymentStatus    0\n",
       "Department          0\n",
       "Salaries            0\n",
       "age                 0\n",
       "Race                9\n",
       "dtype: int64"
      ]
     },
     "execution_count": 133,
     "metadata": {},
     "output_type": "execute_result"
    }
   ],
   "source": [
    "df.isna().sum()"
   ]
  },
  {
   "cell_type": "code",
   "execution_count": 134,
   "id": "80cb49b4",
   "metadata": {},
   "outputs": [
    {
     "name": "stderr",
     "output_type": "stream",
     "text": [
      "C:\\Users\\User\\AppData\\Local\\Temp\\ipykernel_15348\\2191991060.py:1: FutureWarning: Series.fillna with 'method' is deprecated and will raise in a future version. Use obj.ffill() or obj.bfill() instead.\n",
      "  df[\"Race\"].fillna(method=\"ffill\",inplace=True)\n"
     ]
    }
   ],
   "source": [
    "df[\"Race\"].fillna(method=\"ffill\",inplace=True)"
   ]
  },
  {
   "cell_type": "code",
   "execution_count": 135,
   "id": "2f52e9ca",
   "metadata": {},
   "outputs": [
    {
     "data": {
      "text/plain": [
       "Employee_Name       0\n",
       "EmpID               0\n",
       "Position            0\n",
       "State               0\n",
       "Zip                 0\n",
       "Gender              0\n",
       "MaritalDesc         0\n",
       "CitizenDesc         3\n",
       "EmploymentStatus    0\n",
       "Department          0\n",
       "Salaries            0\n",
       "age                 0\n",
       "Race                0\n",
       "dtype: int64"
      ]
     },
     "execution_count": 135,
     "metadata": {},
     "output_type": "execute_result"
    }
   ],
   "source": [
    "df.isna().sum()"
   ]
  },
  {
   "cell_type": "code",
   "execution_count": 138,
   "id": "5214386d",
   "metadata": {},
   "outputs": [
    {
     "name": "stderr",
     "output_type": "stream",
     "text": [
      "C:\\Users\\User\\AppData\\Local\\Temp\\ipykernel_15348\\3642993704.py:1: FutureWarning: Series.fillna with 'method' is deprecated and will raise in a future version. Use obj.ffill() or obj.bfill() instead.\n",
      "  df[\"CitizenDesc\"].fillna(method=\"ffill\",inplace=True)\n"
     ]
    }
   ],
   "source": [
    "df[\"CitizenDesc\"].fillna(method=\"ffill\",inplace=True)"
   ]
  },
  {
   "cell_type": "code",
   "execution_count": 139,
   "id": "656f9880",
   "metadata": {},
   "outputs": [
    {
     "data": {
      "text/plain": [
       "Employee_Name       0\n",
       "EmpID               0\n",
       "Position            0\n",
       "State               0\n",
       "Zip                 0\n",
       "Gender              0\n",
       "MaritalDesc         0\n",
       "CitizenDesc         0\n",
       "EmploymentStatus    0\n",
       "Department          0\n",
       "Salaries            0\n",
       "age                 0\n",
       "Race                0\n",
       "dtype: int64"
      ]
     },
     "execution_count": 139,
     "metadata": {},
     "output_type": "execute_result"
    }
   ],
   "source": [
    "df.isna().sum()"
   ]
  },
  {
   "cell_type": "code",
   "execution_count": null,
   "id": "e3970ebd",
   "metadata": {},
   "outputs": [],
   "source": []
  },
  {
   "cell_type": "markdown",
   "id": "1a1f323a",
   "metadata": {},
   "source": [
    "* B) Create pivot table for  position and average salary"
   ]
  },
  {
   "cell_type": "code",
   "execution_count": 5,
   "id": "c95ce212",
   "metadata": {},
   "outputs": [
    {
     "data": {
      "text/html": [
       "<div>\n",
       "<style scoped>\n",
       "    .dataframe tbody tr th:only-of-type {\n",
       "        vertical-align: middle;\n",
       "    }\n",
       "\n",
       "    .dataframe tbody tr th {\n",
       "        vertical-align: top;\n",
       "    }\n",
       "\n",
       "    .dataframe thead th {\n",
       "        text-align: right;\n",
       "    }\n",
       "</style>\n",
       "<table border=\"1\" class=\"dataframe\">\n",
       "  <thead>\n",
       "    <tr style=\"text-align: right;\">\n",
       "      <th></th>\n",
       "      <th>Salaries</th>\n",
       "    </tr>\n",
       "    <tr>\n",
       "      <th>Position</th>\n",
       "      <th></th>\n",
       "    </tr>\n",
       "  </thead>\n",
       "  <tbody>\n",
       "    <tr>\n",
       "      <th>Accountant I</th>\n",
       "      <td>674.280000</td>\n",
       "    </tr>\n",
       "    <tr>\n",
       "      <th>Administrative Assistant</th>\n",
       "      <td>46747.685000</td>\n",
       "    </tr>\n",
       "    <tr>\n",
       "      <th>Area Sales Manager</th>\n",
       "      <td>42048.275769</td>\n",
       "    </tr>\n",
       "    <tr>\n",
       "      <th>BI Developer</th>\n",
       "      <td>37449.776667</td>\n",
       "    </tr>\n",
       "    <tr>\n",
       "      <th>BI Director</th>\n",
       "      <td>4160.000000</td>\n",
       "    </tr>\n",
       "    <tr>\n",
       "      <th>CIO</th>\n",
       "      <td>26418.010000</td>\n",
       "    </tr>\n",
       "    <tr>\n",
       "      <th>Data Analyst</th>\n",
       "      <td>37772.945714</td>\n",
       "    </tr>\n",
       "    <tr>\n",
       "      <th>Data Analyst</th>\n",
       "      <td>42304.750000</td>\n",
       "    </tr>\n",
       "    <tr>\n",
       "      <th>Data Architect</th>\n",
       "      <td>90016.010000</td>\n",
       "    </tr>\n",
       "    <tr>\n",
       "      <th>Database Administrator</th>\n",
       "      <td>33813.996000</td>\n",
       "    </tr>\n",
       "    <tr>\n",
       "      <th>Director of Sales</th>\n",
       "      <td>27595.700000</td>\n",
       "    </tr>\n",
       "    <tr>\n",
       "      <th>Enterprise Architect</th>\n",
       "      <td>5802.000000</td>\n",
       "    </tr>\n",
       "    <tr>\n",
       "      <th>IT Director</th>\n",
       "      <td>36741.000000</td>\n",
       "    </tr>\n",
       "    <tr>\n",
       "      <th>IT Manager - DB</th>\n",
       "      <td>49791.240000</td>\n",
       "    </tr>\n",
       "    <tr>\n",
       "      <th>IT Manager - Infra</th>\n",
       "      <td>8997.890000</td>\n",
       "    </tr>\n",
       "    <tr>\n",
       "      <th>IT Manager - Support</th>\n",
       "      <td>2143.580000</td>\n",
       "    </tr>\n",
       "    <tr>\n",
       "      <th>IT Support</th>\n",
       "      <td>48646.718571</td>\n",
       "    </tr>\n",
       "    <tr>\n",
       "      <th>Network Engineer</th>\n",
       "      <td>35897.950000</td>\n",
       "    </tr>\n",
       "    <tr>\n",
       "      <th>President &amp; CEO</th>\n",
       "      <td>52633.500000</td>\n",
       "    </tr>\n",
       "    <tr>\n",
       "      <th>Principal Data Architect</th>\n",
       "      <td>24828.700000</td>\n",
       "    </tr>\n",
       "    <tr>\n",
       "      <th>Production Manager</th>\n",
       "      <td>51508.537692</td>\n",
       "    </tr>\n",
       "    <tr>\n",
       "      <th>Production Technician I</th>\n",
       "      <td>35136.340787</td>\n",
       "    </tr>\n",
       "    <tr>\n",
       "      <th>Production Technician II</th>\n",
       "      <td>33803.863333</td>\n",
       "    </tr>\n",
       "    <tr>\n",
       "      <th>Sales Manager</th>\n",
       "      <td>34093.246667</td>\n",
       "    </tr>\n",
       "    <tr>\n",
       "      <th>Senior BI Developer</th>\n",
       "      <td>71293.676667</td>\n",
       "    </tr>\n",
       "    <tr>\n",
       "      <th>Shared Services Manager</th>\n",
       "      <td>45262.975000</td>\n",
       "    </tr>\n",
       "    <tr>\n",
       "      <th>Software Engineer</th>\n",
       "      <td>39892.308889</td>\n",
       "    </tr>\n",
       "    <tr>\n",
       "      <th>Software Engineering Manager</th>\n",
       "      <td>40208.000000</td>\n",
       "    </tr>\n",
       "    <tr>\n",
       "      <th>Sr. Accountant</th>\n",
       "      <td>27349.755000</td>\n",
       "    </tr>\n",
       "    <tr>\n",
       "      <th>Sr. DBA</th>\n",
       "      <td>31954.975000</td>\n",
       "    </tr>\n",
       "    <tr>\n",
       "      <th>Sr. Network Engineer</th>\n",
       "      <td>28438.600000</td>\n",
       "    </tr>\n",
       "  </tbody>\n",
       "</table>\n",
       "</div>"
      ],
      "text/plain": [
       "                                  Salaries\n",
       "Position                                  \n",
       "Accountant I                    674.280000\n",
       "Administrative Assistant      46747.685000\n",
       "Area Sales Manager            42048.275769\n",
       "BI Developer                  37449.776667\n",
       "BI Director                    4160.000000\n",
       "CIO                           26418.010000\n",
       "Data Analyst                  37772.945714\n",
       "Data Analyst                  42304.750000\n",
       "Data Architect                90016.010000\n",
       "Database Administrator        33813.996000\n",
       "Director of Sales             27595.700000\n",
       "Enterprise Architect           5802.000000\n",
       "IT Director                   36741.000000\n",
       "IT Manager - DB               49791.240000\n",
       "IT Manager - Infra             8997.890000\n",
       "IT Manager - Support           2143.580000\n",
       "IT Support                    48646.718571\n",
       "Network Engineer              35897.950000\n",
       "President & CEO               52633.500000\n",
       "Principal Data Architect      24828.700000\n",
       "Production Manager            51508.537692\n",
       "Production Technician I       35136.340787\n",
       "Production Technician II      33803.863333\n",
       "Sales Manager                 34093.246667\n",
       "Senior BI Developer           71293.676667\n",
       "Shared Services Manager       45262.975000\n",
       "Software Engineer             39892.308889\n",
       "Software Engineering Manager  40208.000000\n",
       "Sr. Accountant                27349.755000\n",
       "Sr. DBA                       31954.975000\n",
       "Sr. Network Engineer          28438.600000"
      ]
     },
     "execution_count": 5,
     "metadata": {},
     "output_type": "execute_result"
    }
   ],
   "source": [
    "df.pivot_table(values = 'Salaries',index = 'Position',aggfunc = 'mean')"
   ]
  },
  {
   "cell_type": "code",
   "execution_count": null,
   "id": "a76da8fa",
   "metadata": {},
   "outputs": [],
   "source": []
  },
  {
   "cell_type": "markdown",
   "id": "5f4a2dd5",
   "metadata": {},
   "source": [
    "* C) Group the data using group by as per gender and average age."
   ]
  },
  {
   "cell_type": "code",
   "execution_count": 7,
   "id": "9c90cbaa",
   "metadata": {},
   "outputs": [
    {
     "data": {
      "text/plain": [
       "Gender\n",
       "F     38.738372\n",
       "M     38.732824\n",
       "Name: age, dtype: float64"
      ]
     },
     "execution_count": 7,
     "metadata": {},
     "output_type": "execute_result"
    }
   ],
   "source": [
    "df.groupby(by = 'Gender')['age'].mean()"
   ]
  },
  {
   "cell_type": "code",
   "execution_count": null,
   "id": "966a6f86",
   "metadata": {},
   "outputs": [],
   "source": []
  }
 ],
 "metadata": {
  "kernelspec": {
   "display_name": "Python 3 (ipykernel)",
   "language": "python",
   "name": "python3"
  },
  "language_info": {
   "codemirror_mode": {
    "name": "ipython",
    "version": 3
   },
   "file_extension": ".py",
   "mimetype": "text/x-python",
   "name": "python",
   "nbconvert_exporter": "python",
   "pygments_lexer": "ipython3",
   "version": "3.11.4"
  }
 },
 "nbformat": 4,
 "nbformat_minor": 5
}
