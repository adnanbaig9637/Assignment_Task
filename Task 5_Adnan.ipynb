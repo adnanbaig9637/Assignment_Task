{
 "cells": [
  {
   "cell_type": "markdown",
   "id": "f9cca2f0",
   "metadata": {},
   "source": [
    "**Task1: Append and Modify Elements**\n",
    "    \n",
    "* Create an empty list called numbers. Append the numbers 1, 2, and 3 to the list.\n",
    "* Modify the element at index 1 to be 4.\n",
    "* Print the updated list.\n",
    "\n",
    "**Task2: Slicing and Concatenation**\n",
    "\n",
    "* Create a list called fruits with elements 'apple', 'banana', 'orange', 'mango', and 'kiwi'. \n",
    "* Create a new list  by slicing fruits to include only the citrus fruits ('orange' and 'mango\"). * Create a new list called tropical by slicing fruits to include only the tropical fruits ('banana\" and \"kiwi'). \n",
    "* Concatenate citrus and tropical lists to create a new list called combined. Print combined.\n",
    "\n",
    "**Task3: Counting and Removing Elements**\n",
    "\n",
    "* Create a list called colors with repeated elements 'red', 'blue', 'red', 'green', 'red'. Print the number of occurrences of 'red' in the list. Remove all occurrences of 'red' from the list. Print the updated list.\n",
    "\n",
    "**Task 4: List Manipulation**\n",
    "\n",
    "* Add 'cheese' to the end of the list. Remove 'milk' from the list.\n",
    "* Create a list called groceries with initial items: 'bread', 'milk', 'eggs', 'butter'. Print the final list of groceries.\n",
    "* Insert 'yogurt' at index 1.\n",
    "\n"
   ]
  },
  {
   "cell_type": "markdown",
   "id": "303c5f51",
   "metadata": {},
   "source": [
    "**Task1: Append and Modify Elements**\n",
    "\n",
    "* Create an empty list called numbers. Append the numbers 1, 2, and 3 to the list.\n",
    "* Modify the element at index 1 to be 4.\n",
    "* Print the updated list."
   ]
  },
  {
   "cell_type": "code",
   "execution_count": 1,
   "id": "53782d07",
   "metadata": {},
   "outputs": [],
   "source": [
    "number = []"
   ]
  },
  {
   "cell_type": "code",
   "execution_count": 7,
   "id": "e0125b21",
   "metadata": {},
   "outputs": [],
   "source": [
    "number.append(1)"
   ]
  },
  {
   "cell_type": "code",
   "execution_count": 8,
   "id": "df6e2ca6",
   "metadata": {},
   "outputs": [
    {
     "data": {
      "text/plain": [
       "[1]"
      ]
     },
     "execution_count": 8,
     "metadata": {},
     "output_type": "execute_result"
    }
   ],
   "source": [
    "number"
   ]
  },
  {
   "cell_type": "code",
   "execution_count": 10,
   "id": "e4d591d9",
   "metadata": {},
   "outputs": [],
   "source": [
    "number.extend([2,3])"
   ]
  },
  {
   "cell_type": "code",
   "execution_count": 11,
   "id": "6a7bc400",
   "metadata": {},
   "outputs": [
    {
     "data": {
      "text/plain": [
       "[1, 2, 3]"
      ]
     },
     "execution_count": 11,
     "metadata": {},
     "output_type": "execute_result"
    }
   ],
   "source": [
    "number"
   ]
  },
  {
   "cell_type": "code",
   "execution_count": 13,
   "id": "efb78ab8",
   "metadata": {},
   "outputs": [],
   "source": [
    "number.insert(1,4)"
   ]
  },
  {
   "cell_type": "code",
   "execution_count": 14,
   "id": "828dcc49",
   "metadata": {},
   "outputs": [
    {
     "data": {
      "text/plain": [
       "[1, 4, 2, 3]"
      ]
     },
     "execution_count": 14,
     "metadata": {},
     "output_type": "execute_result"
    }
   ],
   "source": [
    "number"
   ]
  },
  {
   "cell_type": "code",
   "execution_count": null,
   "id": "64180560",
   "metadata": {},
   "outputs": [],
   "source": []
  },
  {
   "cell_type": "markdown",
   "id": "813ab269",
   "metadata": {},
   "source": [
    "**Task2: Slicing and Concatenation**\n",
    "\n",
    "* Create a list called fruits with elements 'apple', 'banana', 'orange', 'mango', and 'kiwi'.\n",
    "* Create a new list by slicing fruits to include only the citrus fruits ('orange' and 'mango\"). * Create a new list called tropical by slicing fruits to include only the tropical fruits ('banana\" and \"kiwi').\n",
    "* Concatenate citrus and tropical lists to create a new list called combined. Print combined."
   ]
  },
  {
   "cell_type": "code",
   "execution_count": 15,
   "id": "03b6eff5",
   "metadata": {},
   "outputs": [],
   "source": [
    "fruits = [\"apple\",\"banana\",\"orange\",\"mango\",\"kiwi\"]"
   ]
  },
  {
   "cell_type": "code",
   "execution_count": 16,
   "id": "bcfe7e0e",
   "metadata": {},
   "outputs": [],
   "source": [
    "cirtus = fruits[2:4]"
   ]
  },
  {
   "cell_type": "code",
   "execution_count": 17,
   "id": "88e49735",
   "metadata": {},
   "outputs": [
    {
     "data": {
      "text/plain": [
       "['orange', 'mango']"
      ]
     },
     "execution_count": 17,
     "metadata": {},
     "output_type": "execute_result"
    }
   ],
   "source": [
    "cirtus"
   ]
  },
  {
   "cell_type": "code",
   "execution_count": 32,
   "id": "2a48dd4d",
   "metadata": {},
   "outputs": [],
   "source": [
    "tropical = fruits[1::3]"
   ]
  },
  {
   "cell_type": "code",
   "execution_count": 33,
   "id": "ceca6adc",
   "metadata": {},
   "outputs": [
    {
     "data": {
      "text/plain": [
       "['banana', 'kiwi']"
      ]
     },
     "execution_count": 33,
     "metadata": {},
     "output_type": "execute_result"
    }
   ],
   "source": [
    "tropical"
   ]
  },
  {
   "cell_type": "code",
   "execution_count": null,
   "id": "ab56a301",
   "metadata": {},
   "outputs": [],
   "source": []
  },
  {
   "cell_type": "code",
   "execution_count": 36,
   "id": "cd8a11da",
   "metadata": {},
   "outputs": [],
   "source": [
    "combined = cirtus + tropical"
   ]
  },
  {
   "cell_type": "code",
   "execution_count": 37,
   "id": "aab0e81e",
   "metadata": {},
   "outputs": [
    {
     "data": {
      "text/plain": [
       "['orange', 'mango', 'banana', 'kiwi']"
      ]
     },
     "execution_count": 37,
     "metadata": {},
     "output_type": "execute_result"
    }
   ],
   "source": [
    "combined"
   ]
  },
  {
   "cell_type": "markdown",
   "id": "70000498",
   "metadata": {},
   "source": []
  },
  {
   "cell_type": "markdown",
   "id": "bdfa5089",
   "metadata": {},
   "source": [
    "**Task3: Counting and Removing Elements**\n",
    "\n",
    "* Create a list called colors with repeated elements 'red', 'blue', 'red', 'green', 'red'. Print the number of occurrences of 'red' in the list. Remove all occurrences of 'red' from the list. Print the updated list."
   ]
  },
  {
   "cell_type": "code",
   "execution_count": 46,
   "id": "df180982",
   "metadata": {},
   "outputs": [],
   "source": [
    "colors = [\"red\",\"blue\",\"red\",\"green\",\"red\"]"
   ]
  },
  {
   "cell_type": "code",
   "execution_count": 48,
   "id": "8fef3a0f",
   "metadata": {},
   "outputs": [
    {
     "data": {
      "text/plain": [
       "3"
      ]
     },
     "execution_count": 48,
     "metadata": {},
     "output_type": "execute_result"
    }
   ],
   "source": [
    "colors.count(\"red\")"
   ]
  },
  {
   "cell_type": "code",
   "execution_count": 52,
   "id": "63c41898",
   "metadata": {},
   "outputs": [],
   "source": [
    "colors.remove(\"red\")"
   ]
  },
  {
   "cell_type": "code",
   "execution_count": 53,
   "id": "a6c6a0c9",
   "metadata": {},
   "outputs": [],
   "source": [
    "colors.remove(\"red\")"
   ]
  },
  {
   "cell_type": "code",
   "execution_count": 54,
   "id": "d75f7e94",
   "metadata": {},
   "outputs": [],
   "source": [
    "colors.remove(\"red\")"
   ]
  },
  {
   "cell_type": "code",
   "execution_count": 55,
   "id": "5d4abb10",
   "metadata": {},
   "outputs": [
    {
     "data": {
      "text/plain": [
       "['blue', 'green']"
      ]
     },
     "execution_count": 55,
     "metadata": {},
     "output_type": "execute_result"
    }
   ],
   "source": [
    "colors"
   ]
  },
  {
   "cell_type": "code",
   "execution_count": null,
   "id": "d815bb66",
   "metadata": {},
   "outputs": [],
   "source": []
  },
  {
   "cell_type": "markdown",
   "id": "fcf0fe5d",
   "metadata": {},
   "source": [
    "**Task 4: List Manipulation**\n",
    "\n",
    "* Add 'cheese' to the end of the list. Remove 'milk' from the list.\n",
    "* Create a list called groceries with initial items: 'bread', 'milk', 'eggs', 'butter'. Print the final list of groceries.\n",
    "* Insert 'yogurt' at index 1."
   ]
  },
  {
   "cell_type": "code",
   "execution_count": 56,
   "id": "3afacd02",
   "metadata": {},
   "outputs": [],
   "source": [
    "groceries = [\"bread\",\"milk\",\"eggs\",\"butter\"]"
   ]
  },
  {
   "cell_type": "code",
   "execution_count": 57,
   "id": "9c8a68a9",
   "metadata": {},
   "outputs": [],
   "source": [
    "groceries.append(\"cheese\")"
   ]
  },
  {
   "cell_type": "code",
   "execution_count": 58,
   "id": "81c3e71b",
   "metadata": {},
   "outputs": [
    {
     "data": {
      "text/plain": [
       "['bread', 'milk', 'eggs', 'butter', 'cheese']"
      ]
     },
     "execution_count": 58,
     "metadata": {},
     "output_type": "execute_result"
    }
   ],
   "source": [
    "groceries"
   ]
  },
  {
   "cell_type": "code",
   "execution_count": 59,
   "id": "9447e431",
   "metadata": {},
   "outputs": [],
   "source": [
    "groceries.remove(\"milk\")"
   ]
  },
  {
   "cell_type": "code",
   "execution_count": 60,
   "id": "d636f64c",
   "metadata": {},
   "outputs": [
    {
     "data": {
      "text/plain": [
       "['bread', 'eggs', 'butter', 'cheese']"
      ]
     },
     "execution_count": 60,
     "metadata": {},
     "output_type": "execute_result"
    }
   ],
   "source": [
    "groceries"
   ]
  },
  {
   "cell_type": "code",
   "execution_count": 61,
   "id": "969cfbc4",
   "metadata": {},
   "outputs": [],
   "source": [
    "groceries.insert(1,\"yogurt\")"
   ]
  },
  {
   "cell_type": "code",
   "execution_count": 62,
   "id": "a637e937",
   "metadata": {},
   "outputs": [
    {
     "data": {
      "text/plain": [
       "['bread', 'yogurt', 'eggs', 'butter', 'cheese']"
      ]
     },
     "execution_count": 62,
     "metadata": {},
     "output_type": "execute_result"
    }
   ],
   "source": [
    "groceries"
   ]
  },
  {
   "cell_type": "code",
   "execution_count": null,
   "id": "d305e7a7",
   "metadata": {},
   "outputs": [],
   "source": []
  },
  {
   "cell_type": "markdown",
   "id": "1cb01808",
   "metadata": {},
   "source": [
    "**Task1: Append and Modify Elements**\n",
    "\n",
    "* Create an empty list called numbers. Append the numbers 1, 2, and 3 to the list.\n",
    "* Modify the element at index 1 to be 4.\n",
    "* Print the updated list."
   ]
  },
  {
   "cell_type": "code",
   "execution_count": 72,
   "id": "bf022c18",
   "metadata": {},
   "outputs": [],
   "source": [
    "number = []"
   ]
  },
  {
   "cell_type": "code",
   "execution_count": 73,
   "id": "39d95fcb",
   "metadata": {},
   "outputs": [
    {
     "data": {
      "text/plain": [
       "[]"
      ]
     },
     "execution_count": 73,
     "metadata": {},
     "output_type": "execute_result"
    }
   ],
   "source": [
    "number"
   ]
  },
  {
   "cell_type": "code",
   "execution_count": 74,
   "id": "bff84560",
   "metadata": {},
   "outputs": [],
   "source": [
    "number.append(1)"
   ]
  },
  {
   "cell_type": "code",
   "execution_count": 75,
   "id": "95c4e5cf",
   "metadata": {},
   "outputs": [],
   "source": [
    "number.append(2)"
   ]
  },
  {
   "cell_type": "code",
   "execution_count": 76,
   "id": "c51dbd3e",
   "metadata": {},
   "outputs": [],
   "source": [
    "number.append(3)"
   ]
  },
  {
   "cell_type": "code",
   "execution_count": 77,
   "id": "dc8b950e",
   "metadata": {},
   "outputs": [
    {
     "data": {
      "text/plain": [
       "[1, 2, 3]"
      ]
     },
     "execution_count": 77,
     "metadata": {},
     "output_type": "execute_result"
    }
   ],
   "source": [
    "number"
   ]
  },
  {
   "cell_type": "code",
   "execution_count": 78,
   "id": "2155a54a",
   "metadata": {},
   "outputs": [],
   "source": [
    "number.insert(1,4)"
   ]
  },
  {
   "cell_type": "code",
   "execution_count": 79,
   "id": "acb6234e",
   "metadata": {},
   "outputs": [
    {
     "data": {
      "text/plain": [
       "[1, 4, 2, 3]"
      ]
     },
     "execution_count": 79,
     "metadata": {},
     "output_type": "execute_result"
    }
   ],
   "source": [
    "number"
   ]
  },
  {
   "cell_type": "code",
   "execution_count": null,
   "id": "dad11208",
   "metadata": {},
   "outputs": [],
   "source": []
  }
 ],
 "metadata": {
  "kernelspec": {
   "display_name": "Python 3 (ipykernel)",
   "language": "python",
   "name": "python3"
  },
  "language_info": {
   "codemirror_mode": {
    "name": "ipython",
    "version": 3
   },
   "file_extension": ".py",
   "mimetype": "text/x-python",
   "name": "python",
   "nbconvert_exporter": "python",
   "pygments_lexer": "ipython3",
   "version": "3.11.4"
  }
 },
 "nbformat": 4,
 "nbformat_minor": 5
}
